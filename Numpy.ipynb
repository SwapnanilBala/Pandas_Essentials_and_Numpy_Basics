{
 "cells": [
  {
   "cell_type": "markdown",
   "id": "8540f309-183f-4491-848a-9b28b2335051",
   "metadata": {},
   "source": [
    "### Numpy Tutorial\n",
    "- it's a python library mainly used for vector type executions (all at once).\n",
    "- it's used for working with arrays.\n",
    "- it's short for Numerical Python."
   ]
  },
  {
   "cell_type": "code",
   "execution_count": 2,
   "id": "f8fcacd2-ff7e-470a-aaa9-eb61717b9d69",
   "metadata": {},
   "outputs": [
    {
     "name": "stdout",
     "output_type": "stream",
     "text": [
      "[1 2 3 4 5]\n",
      "<class 'numpy.ndarray'>\n"
     ]
    }
   ],
   "source": [
    "# importing the numpy module\n",
    "import numpy as np\n",
    "arr = np.array([1,2,3,4,5])\n",
    "print(arr)\n",
    "print(type(arr)) # see the type carefullt here"
   ]
  },
  {
   "cell_type": "markdown",
   "id": "77b66081-7fa4-4439-87b2-07e55734c298",
   "metadata": {},
   "source": [
    "#### So whats Numpy excactly in more details\n",
    "- It also has functions for working in domain of linear algebra, fourier transform, lots of workability with pandas for data manipulation mostly in datapases and matrices.\n",
    "- NumPy was created in 2005 by Travis Oliphant. It is an open source project and you can use it freely."
   ]
  },
  {
   "cell_type": "markdown",
   "id": "d72866f1-dc81-46b8-8263-bed41c33389a",
   "metadata": {},
   "source": [
    "#### Why even consider using numpy instead of normal list or tuple or anything like that?\n",
    "- NumPy aims to provide an array object that is up to 50x faster than traditional Python lists.\n",
    "- The array object in NumPy is called ndarray, it provides a lot of supporting functions that make working with ndarray very easy.\n",
    "- Arrays are quite frequently used in data science , where speed and resources are very important"
   ]
  },
  {
   "cell_type": "markdown",
   "id": "cf7d12a2-92bd-421f-923d-788dc35bdc07",
   "metadata": {},
   "source": [
    "#### Some more insights into numpy\n",
    "\n",
    "- Numpy arrays are stored at one `continuous place in memory` unlike lists\n",
    "- this behavior is called locality of reference computer science.\n",
    "- Also it's also optimized to work significantly faster with the latest CPU architectures."
   ]
  },
  {
   "cell_type": "code",
   "execution_count": 2,
   "id": "68cf1747-c49c-40b0-a205-9bfbdb4892ee",
   "metadata": {},
   "outputs": [],
   "source": [
    "# if you do not have the numpy instaled in your system, go to command prompt\n",
    "# and type pip install numpy and hit enter, this should install the numpy package into your path (where the python files are located)"
   ]
  },
  {
   "cell_type": "code",
   "execution_count": 3,
   "id": "56901790-5b4c-48c0-953d-ebec8ca4351b",
   "metadata": {},
   "outputs": [
    {
     "name": "stdout",
     "output_type": "stream",
     "text": [
      "2.2.0\n"
     ]
    }
   ],
   "source": [
    "# to check which versio of python you are using you can check like this\n",
    "print(np.__version__) # at the time of writing this, the version was 2.2.0"
   ]
  },
  {
   "cell_type": "code",
   "execution_count": 4,
   "id": "2e6db4c4-3958-4ef2-a47c-35100a73bd13",
   "metadata": {},
   "outputs": [
    {
     "name": "stdout",
     "output_type": "stream",
     "text": [
      "[1 2 3 4 5] [1 2 3 4 5]\n"
     ]
    }
   ],
   "source": [
    "# we can use both list or tuple to create a numpy array like this\n",
    "arr_tup = np.array((1,2,3,4,5))\n",
    "arr_lis = np.array([1,2,3,4,5])\n",
    "\n",
    "print(arr_tup, arr_lis) \n",
    "# see both the outputs are excactly the same \n",
    "# however when you look closer into the output you'll notice that\n",
    "# the elements withtin the array aren't seperated by anything like ','."
   ]
  },
  {
   "cell_type": "markdown",
   "id": "405544e6-5724-47f3-8cad-97b76bbb27b0",
   "metadata": {},
   "source": [
    "#### Dimensions in Arrays\n",
    "-  a dimension in arrrays is one level of array depth(nested arrays)\n",
    "- `nested arrays` means that they have arrays as their elements"
   ]
  },
  {
   "cell_type": "code",
   "execution_count": 5,
   "id": "64b50aa5-bac0-4f11-b97a-092ef2852fe1",
   "metadata": {},
   "outputs": [
    {
     "name": "stdout",
     "output_type": "stream",
     "text": [
      "34\n"
     ]
    }
   ],
   "source": [
    "# This is a 0-D array\n",
    "arr = np.array(34)\n",
    "print(arr) # no bracketts, nothing just one element"
   ]
  },
  {
   "cell_type": "code",
   "execution_count": 6,
   "id": "c1892f3d-5d35-4907-abed-7266454d48cb",
   "metadata": {},
   "outputs": [
    {
     "name": "stdout",
     "output_type": "stream",
     "text": [
      "[1 2 3 4 5]\n"
     ]
    }
   ],
   "source": [
    "# Time for 1-D array\n",
    "arr = np.array([1,2,3,4,5]) \n",
    "# for now we have passed a list inside the np.array argument,\n",
    "# we also could have used a tuple instead of a list\n",
    "print(arr) # see the values are inside first degree []"
   ]
  },
  {
   "cell_type": "code",
   "execution_count": 7,
   "id": "43e8a30f-a6d8-4936-b725-dc23657d4199",
   "metadata": {},
   "outputs": [
    {
     "name": "stdout",
     "output_type": "stream",
     "text": [
      "[[1 2 3]\n",
      " [4 5 6]]\n"
     ]
    }
   ],
   "source": [
    "# Time for 2-D array\n",
    "arr = np.array([[1,2,3],[4,5,6]])\n",
    "print(arr) \n",
    "# see this thing because now we have nested arrays within the main array as values\n",
    "# the degree becomes two and you can clearly see the [[]] - here double"
   ]
  },
  {
   "cell_type": "code",
   "execution_count": 8,
   "id": "c7789304-07af-42b3-ad48-e520e786d0b0",
   "metadata": {},
   "outputs": [
    {
     "name": "stdout",
     "output_type": "stream",
     "text": [
      "[[[1 2 3]\n",
      "  [4 5 6]]\n",
      "\n",
      " [[1 2 3]\n",
      "  [4 5 6]]]\n"
     ]
    }
   ],
   "source": [
    "# 3-D arrays are quite similar in ideology, difference is that \n",
    "# we will have multiple nested arrays as elements within nested arrays \n",
    "arr = np.array([[[1, 2, 3], [4, 5, 6]], [[1, 2, 3], [4, 5, 6]]])\n",
    "print(arr) # lookout for the [[[],[]],[[],[]]]"
   ]
  },
  {
   "cell_type": "markdown",
   "id": "f47180b8-f408-4362-940a-55c25f80986b",
   "metadata": {},
   "source": [
    "- if you wanted to check the dimensions if any array here is how you'd do it\n",
    "  `use the ndim`"
   ]
  },
  {
   "cell_type": "code",
   "execution_count": 10,
   "id": "f980eaf0-23c4-4b67-ba5e-9478532437c8",
   "metadata": {},
   "outputs": [
    {
     "name": "stdout",
     "output_type": "stream",
     "text": [
      "0\n",
      "1\n",
      "2\n",
      "3\n"
     ]
    }
   ],
   "source": [
    "a = np.array(42)\n",
    "b = np.array([1, 2, 3, 4, 5])\n",
    "c = np.array([[1, 2, 3], [4, 5, 6]])\n",
    "d = np.array([[[1, 2, 3], [4, 5, 6]], [[1, 2, 3], [4, 5, 6]]])\n",
    "\n",
    "print(a.ndim) # 0 degree\n",
    "print(b.ndim) # 1 degree\n",
    "print(c.ndim) # 2 degree\n",
    "print(d.ndim) # 3 degree"
   ]
  },
  {
   "cell_type": "markdown",
   "id": "5da31b90-c62b-49bc-a4c9-2d31f31f3b8c",
   "metadata": {},
   "source": [
    "### Higher Dimensional Arrays\n",
    "- An array can have any number of dimensions.\n",
    "- When the array is created, you can define the number of dimensions by using the ndmin\n",
    "argument"
   ]
  },
  {
   "cell_type": "code",
   "execution_count": 12,
   "id": "84067b7f-7547-43e7-93f2-68a0f4ed38df",
   "metadata": {},
   "outputs": [
    {
     "name": "stdout",
     "output_type": "stream",
     "text": [
      "[[[[[1 2 3 4 5]]]]]\n",
      "the number of dimensions are: 5\n"
     ]
    }
   ],
   "source": [
    "array = np.array([1,2,3,4,5], ndmin = 5)\n",
    "print(array)\n",
    "print(f'the number of dimensions are: {array.ndim}') \n",
    "# see the [[[[[]]]]] enclosing"
   ]
  },
  {
   "cell_type": "code",
   "execution_count": 13,
   "id": "ddf38e18-76dd-4392-99ed-f139d0c21203",
   "metadata": {},
   "outputs": [
    {
     "name": "stdout",
     "output_type": "stream",
     "text": [
      "1\n"
     ]
    }
   ],
   "source": [
    "# we can access numpy array elements just like how we would access \n",
    "# any element form a normal list \n",
    "arr = np.array([1,2,3,4])\n",
    "print(arr[0]) # Boo-yaa, you will get the first element as your output"
   ]
  },
  {
   "cell_type": "code",
   "execution_count": 14,
   "id": "b4b4a16e-2a74-4782-bc12-d04d8ca5f17b",
   "metadata": {},
   "outputs": [
    {
     "name": "stdout",
     "output_type": "stream",
     "text": [
      "10\n"
     ]
    }
   ],
   "source": [
    "# We can even perform some basic arithmetic operations with the elements in and array\n",
    "aray = np.array((2,1,3,5,4,6))\n",
    "print(aray[3] * aray[0]) # see we got 10"
   ]
  },
  {
   "cell_type": "markdown",
   "id": "0f7b6d8b-36a7-44de-b8b8-0e3428442916",
   "metadata": {},
   "source": [
    " Accessing elements form any `more than one dimensional` arrays can be a bit challenging\n",
    "\n",
    " - Now, to access elements from 2-D arrays we can use comma separated integers representing the dimension and the index of the element.\n",
    " - We need to think of 2-D arrays like a table with rows and columns, where the dimension represents the row and the index represents the column."
   ]
  },
  {
   "cell_type": "code",
   "execution_count": 16,
   "id": "8ea6034e-5a4c-46b1-a719-7dc728341dd8",
   "metadata": {},
   "outputs": [
    {
     "name": "stdout",
     "output_type": "stream",
     "text": [
      "2nd element on 1st row:  2\n",
      "5th element on 2nd row:  10\n"
     ]
    }
   ],
   "source": [
    "arr = np.array([[1,2,3,4,5], [6,7,8,9,10]])\n",
    "# the first 0 is for selecting the first nested array between the 2 nested within the main array and 1 for the 2nd item in that array\n",
    "print('2nd element on 1st row: ', arr[0, 1])\n",
    "\n",
    "# lets try another example\n",
    "arr = np.array([[1,2,3,4,5], [6,7,8,9,10]])\n",
    "\n",
    "print('5th element on 2nd row: ', arr[1, 4])\n"
   ]
  },
  {
   "cell_type": "code",
   "execution_count": 17,
   "id": "78b38515-4bf8-46b2-a1e9-a71b4cc4cc54",
   "metadata": {},
   "outputs": [
    {
     "name": "stdout",
     "output_type": "stream",
     "text": [
      "6\n"
     ]
    }
   ],
   "source": [
    "# Similarly with the 3-D Arrays\n",
    "arr = np.array([[[1, 2, 3], [4, 5, 6]], [[7, 8, 9], [10, 11, 12]]])\n",
    "# as you may have already guessed, the 0 \n",
    "# for the 1st among 2 of the multi nested array, \n",
    "# and then 1 for the 2nd one in the 1st group\n",
    "# and finally 2 means the 3rd item of that selected array\n",
    "print(arr[0, 1, 2])"
   ]
  },
  {
   "cell_type": "code",
   "execution_count": 18,
   "id": "29c39e81-c0a3-402a-ac54-2dc0c4a72a27",
   "metadata": {},
   "outputs": [
    {
     "name": "stdout",
     "output_type": "stream",
     "text": [
      "Last element from 2nd dim:  10\n"
     ]
    }
   ],
   "source": [
    "# interestingly numpy does support, negative indexing like this \n",
    "arr = np.array([[1,2,3,4,5], [6,7,8,9,10]])\n",
    "# outputs the last item of the 2nd array inside the nested array\n",
    "print('Last element from 2nd dim: ', arr[1, -1])"
   ]
  },
  {
   "cell_type": "markdown",
   "id": "b986c6a4-539e-4c45-99de-1c6d9020cf4b",
   "metadata": {},
   "source": [
    "#### Numpy Array Slicing\n",
    "`Some General Things to Keep in Mind`\n",
    "- Slicing in python means taking elements from one given index to another given index.\n",
    "- We pass slice instead of index like this: [start:end].\n",
    "- We can also define the step, like this: [start:end:step].\n",
    "- If we don't pass start its considered 0\n",
    "- If we don't pass end its considered length of array in that dimension\n",
    "- If we don't pass step its considered 1"
   ]
  },
  {
   "cell_type": "code",
   "execution_count": 21,
   "id": "546f5fde-c650-402e-a3f0-9d3fdbdab1a4",
   "metadata": {},
   "outputs": [
    {
     "name": "stdout",
     "output_type": "stream",
     "text": [
      "[2 3 4 5]\n",
      "[4 5 6 7]\n",
      "[1 2 3 4]\n"
     ]
    }
   ],
   "source": [
    "# Lets do our First Example\n",
    "arr = np.array([1, 2, 3, 4, 5, 6, 7])\n",
    "print(arr[1:5]) # returns elements from 2 to 5\n",
    "print(arr[3:]) # returns elements from 3 till the end\n",
    "print(arr[:4]) # returns elements from the beginning till the fourth item"
   ]
  },
  {
   "cell_type": "code",
   "execution_count": 23,
   "id": "a40030d5-1ce7-4859-8c38-ec43b30a22a4",
   "metadata": {},
   "outputs": [
    {
     "name": "stdout",
     "output_type": "stream",
     "text": [
      "[5 4 3 2 1]\n"
     ]
    }
   ],
   "source": [
    "# Lets have a look at the negative slicing \n",
    "arr = np.array([1, 2, 3, 4, 5, 6, 7])\n",
    "# starting from the 3rd last item all the way to the beginning\n",
    "print(arr[-3::-1]) # this time we have used the Step attribute as well, "
   ]
  },
  {
   "cell_type": "markdown",
   "id": "50d67662-970c-4841-9b89-a90dd6d677c7",
   "metadata": {},
   "source": [
    "# Splitting Multi-Dimensional Arrays\n",
    "arr = np.array([[1, 2, 3, 4, 5], [6, 7, 8, 9, 10]])\n",
    "# Takes the 2nd array from the original nested array and then does the slicing on that\n",
    "print(arr[1, 1:4])"
   ]
  },
  {
   "cell_type": "code",
   "execution_count": 28,
   "id": "137789cf-f47b-4114-85a3-91342e3de7be",
   "metadata": {},
   "outputs": [
    {
     "name": "stdout",
     "output_type": "stream",
     "text": [
      "[3 8]\n"
     ]
    }
   ],
   "source": [
    "arr = np.array([[1, 2, 3, 4, 5], [6, 7, 8, 9, 10]])\n",
    "# This will take both nested array and will output the 3rd item from both of them in the form of a new array\n",
    "print(arr[0:2, 2])"
   ]
  },
  {
   "cell_type": "code",
   "execution_count": 26,
   "id": "4a84c8d2-085c-42dc-92c4-2f3f73ebcc00",
   "metadata": {},
   "outputs": [
    {
     "name": "stdout",
     "output_type": "stream",
     "text": [
      "[[2 3 4]\n",
      " [7 8 9]]\n"
     ]
    }
   ],
   "source": [
    "arr = np.array([[1, 2, 3, 4, 5], [6, 7, 8, 9, 10]])\n",
    "# This takes both the arrays from this nested array and then\n",
    "# puts the 2nd to 4th item in both the arrays within a new 2-d array\n",
    "print(arr[0:2, 1:4])"
   ]
  },
  {
   "cell_type": "markdown",
   "id": "4bcd9695-a807-4c43-80d4-c8acf4df3368",
   "metadata": {},
   "source": [
    "#### Let's Talk a bit about data types in Numpy\n",
    "NumPy has some extra data types,\n",
    "and refer to data types with one character,\n",
    "like i for integers, u for unsigned integers etc.\n",
    "\n",
    "Below is a list of all the data types in Numpy\n",
    "- `i` - integer\n",
    "- `b` - boolean\n",
    "- `u` - unsigned integer\n",
    "- `f` - float\n",
    "- `c` - complex float\n",
    "- `m` - timedelta\n",
    "- `M` - datatime\n",
    "- `O` - object\n",
    "- `S` - string\n",
    "- `U` - unicode string\n",
    "- `V` - fixed chunk of memory for other type ( void )\n",
    "\n"
   ]
  },
  {
   "cell_type": "code",
   "execution_count": 32,
   "id": "eeef3f76-400f-4b16-a74d-00d61b1330cb",
   "metadata": {},
   "outputs": [
    {
     "name": "stdout",
     "output_type": "stream",
     "text": [
      "int64\n",
      "<U6\n"
     ]
    }
   ],
   "source": [
    "# To check the datatype of the elements present in the array,\n",
    "# this is something we can do\n",
    "\n",
    "arr = np.array([1, 2, 3, 4])\n",
    "print(arr.dtype)\n",
    "\n",
    "arr1 = np.array(['apple', 'banana', 'cherry'])\n",
    "print(arr1.dtype)"
   ]
  },
  {
   "cell_type": "code",
   "execution_count": 33,
   "id": "aefec349-a6af-4740-9dde-8ff020e48a22",
   "metadata": {},
   "outputs": [
    {
     "name": "stdout",
     "output_type": "stream",
     "text": [
      "[b'1' b'2' b'3' b'4']\n",
      "|S1\n"
     ]
    }
   ],
   "source": [
    "# we could also create arrays with defined data type\n",
    "arr = np.array([1,2,3,4],dtype = 'S')\n",
    "print(arr)\n",
    "print(arr.dtype) \n",
    "# we get a weird output after string conversion as there\n",
    "# - b'1' instead of '1' keep that in mind "
   ]
  },
  {
   "cell_type": "code",
   "execution_count": 34,
   "id": "d2eb1943-432c-4dbf-a9a6-6386569f4b70",
   "metadata": {},
   "outputs": [
    {
     "name": "stdout",
     "output_type": "stream",
     "text": [
      "[1 2 3 4]\n",
      "int32\n"
     ]
    }
   ],
   "source": [
    "arr = np.array([1, 2, 3, 4], dtype='i4')\n",
    "print(arr)\n",
    "print(arr.dtype) # returns int32  "
   ]
  },
  {
   "cell_type": "code",
   "execution_count": 35,
   "id": "99335cf2-f4d2-4c9b-bd4d-e42f8e03c234",
   "metadata": {},
   "outputs": [
    {
     "name": "stdout",
     "output_type": "stream",
     "text": [
      "Opposi PooPsi\n"
     ]
    }
   ],
   "source": [
    "try:\n",
    "    arr = np.array(['a', '2', '3'], dtype='i')\n",
    "    print(arr)\n",
    "    print(arr.dtype)\n",
    "except:\n",
    "    print('Opposi PooPsi')\n",
    "# the elements present within the numpy array aren't of the same type,\n",
    "# thats why it threw an error"
   ]
  },
  {
   "cell_type": "markdown",
   "id": "f4b8112e-0047-4933-a188-0dd56474056b",
   "metadata": {},
   "source": [
    "#### Converting Data Type on Existing Arrays\n",
    "\n",
    "- The best way to change the data type of an existing array, is to make a copy of the array with the `astype()` method.\n",
    "\n",
    "- The astype() function creates a copy of the array, and allows you to `specify the data type` as a parameter.\n",
    "\n",
    "- The data type can be specified using a `string`, like 'f' for `float`, 'i' for `integer` etc. or you can use the data type directly like float for float and int for integer."
   ]
  },
  {
   "cell_type": "code",
   "execution_count": 36,
   "id": "22cb7f19-552a-4086-bf2e-26e0d66f5990",
   "metadata": {},
   "outputs": [
    {
     "name": "stdout",
     "output_type": "stream",
     "text": [
      "[1 2 3]\n",
      "int32\n"
     ]
    }
   ],
   "source": [
    "arr = np.array([1.1, 2.1, 3.1]) # this ones a float\n",
    "\n",
    "newarr = arr.astype('i') # changes it to integer from float\n",
    "\n",
    "print(newarr)\n",
    "print(newarr.dtype) #int32"
   ]
  },
  {
   "cell_type": "code",
   "execution_count": 37,
   "id": "037ba524-fd41-43f4-a02e-f48c59e3319a",
   "metadata": {},
   "outputs": [
    {
     "name": "stdout",
     "output_type": "stream",
     "text": [
      "[ True False  True]\n",
      "bool\n"
     ]
    }
   ],
   "source": [
    "# This example is for boolean meaning that,\n",
    "# if the value is 0 then False otherwise True\n",
    "arr = np.array([1, 0, 3])\n",
    "newarr = arr.astype(bool)\n",
    "print(newarr)\n",
    "print(newarr.dtype)"
   ]
  },
  {
   "cell_type": "markdown",
   "id": "8e1b3f36-16b4-47b6-a572-96460e7e3641",
   "metadata": {},
   "source": [
    "### Numpy Array Copy vs View\n",
    "##### The Difference between Copy and View\n",
    "\n",
    "- The main difference between a copy and a view of an array is that the `copy is a new array`, and the view is just a `view of the original array`.\n",
    "\n",
    "- The copy owns the data and any changes made to the `copy will not affect original array`, and any changes made to the original array will not affect the copy.\n",
    "\n",
    "- The view does not own the data and any changes made to the view will affect the original array, and `any changes made to the original array will affect the view.`"
   ]
  },
  {
   "cell_type": "code",
   "execution_count": 3,
   "id": "2150f30c-1bbd-457b-b39f-fb88f05bc094",
   "metadata": {},
   "outputs": [
    {
     "name": "stdout",
     "output_type": "stream",
     "text": [
      "[1 2 3 2 5]\n",
      "[1 2 3 4 5]\n"
     ]
    }
   ],
   "source": [
    "# Copy\n",
    "import numpy as np\n",
    "arr = np.array([1,2,3,4,5])\n",
    "cpy_arr = arr.copy()\n",
    "\n",
    "arr[3] = 2\n",
    "print(arr)\n",
    "print(cpy_arr) # remains un-affected"
   ]
  },
  {
   "cell_type": "code",
   "execution_count": 5,
   "id": "714f6da7-7979-4697-aacb-9180055a47e3",
   "metadata": {},
   "outputs": [
    {
     "name": "stdout",
     "output_type": "stream",
     "text": [
      "[ 1 10  3  4  5]\n",
      "[ 1 10  3  4  5]\n"
     ]
    }
   ],
   "source": [
    "# as the original array changes the view shall change as well\n",
    "arr = np.array([1,2,3,4,5])\n",
    "x = arr.view()\n",
    "\n",
    "arr[1] = 10\n",
    "print(arr)\n",
    "print(x) # now the value has been updated here "
   ]
  },
  {
   "cell_type": "code",
   "execution_count": 6,
   "id": "dd8f81cf-ec76-4431-829b-80c18261c410",
   "metadata": {},
   "outputs": [
    {
     "name": "stdout",
     "output_type": "stream",
     "text": [
      "None\n",
      "[1 2 3 4 5]\n"
     ]
    }
   ],
   "source": [
    "# How to check if Array Owns its Data ?\n",
    "\n",
    "arr = np.array([1,2,3,4,5])\n",
    "\n",
    "x = arr.copy()\n",
    "y = arr.view()\n",
    "\n",
    "# this checks\n",
    "print(x.base) # this returns None meaning this doesn't own the data\n",
    "print(y.base)"
   ]
  },
  {
   "cell_type": "code",
   "execution_count": 8,
   "id": "efe48684-8db8-48e9-8eaf-dc86b0ee5b6e",
   "metadata": {},
   "outputs": [
    {
     "name": "stdout",
     "output_type": "stream",
     "text": [
      "(2, 4)\n"
     ]
    }
   ],
   "source": [
    "# Lets talk about shapes\n",
    "arr = np.array([[1,2,3,4],[5,6,7,8]])\n",
    "print(arr.shape) #returns the shape in this case we get (2,4) 2 elements each having 4 elements"
   ]
  },
  {
   "cell_type": "markdown",
   "id": "bb653774-ce67-4c85-bc7c-4f1cafcf7ca7",
   "metadata": {},
   "source": [
    "- Create an array with 5 dimensions using ndmin\n",
    "- using a vector with values 1,2,3,4 \n",
    "- and verify that last dimension has value 4"
   ]
  },
  {
   "cell_type": "code",
   "execution_count": 9,
   "id": "7f6d620f-6b6a-4251-b15e-a9097755976d",
   "metadata": {},
   "outputs": [
    {
     "name": "stdout",
     "output_type": "stream",
     "text": [
      "[[[[[1 2 3 4]]]]]\n",
      "shape of array : (1, 1, 1, 1, 4)\n"
     ]
    }
   ],
   "source": [
    "arr = np.array([1, 2, 3, 4], ndmin=5)\n",
    "\n",
    "print(arr)\n",
    "print('shape of array :', arr.shape) \n",
    "# try to understand the concept here the last dimenson\n",
    "# is where the elements of the original array is at core wise,\n",
    "# the other dimensons are cast onto then"
   ]
  },
  {
   "cell_type": "markdown",
   "id": "437766d8-38e0-45b5-aabb-fe0c00847a98",
   "metadata": {},
   "source": [
    "##### Numpy Array Reshaping\n",
    "- Reshaping means changing the `shape` of an array.\n",
    "- The shape of an array is the number of `elements` in each `dimension`.\n",
    "- By reshaping we can `add or remove dimensions` or `change number of elements in each dimension`."
   ]
  },
  {
   "cell_type": "code",
   "execution_count": 10,
   "id": "f5080bc0-66fd-4792-871b-519cac7551e7",
   "metadata": {},
   "outputs": [
    {
     "name": "stdout",
     "output_type": "stream",
     "text": [
      "[[1 2 3]\n",
      " [4 5 6]]\n"
     ]
    }
   ],
   "source": [
    "# From 1-D to 2-D\n",
    "array = np.array([1,2,3,4,5,6]) # total of 6 elements\n",
    "new_arr = array.reshape((2,3)) \n",
    "# must make sure that the multiplication of the digits matchs the number of elements of the array you wanted to convert \n",
    "print(new_arr)"
   ]
  },
  {
   "cell_type": "code",
   "execution_count": 11,
   "id": "5becac5a-67e5-41f8-8cd9-adb9b827a3f2",
   "metadata": {},
   "outputs": [
    {
     "name": "stdout",
     "output_type": "stream",
     "text": [
      "[[[ 1  2]\n",
      "  [ 3  4]\n",
      "  [ 5  6]]\n",
      "\n",
      " [[ 7  8]\n",
      "  [ 9 10]\n",
      "  [11 12]]]\n"
     ]
    }
   ],
   "source": [
    "# Similarly 1-D array to 3-D array\n",
    "arr = np.array([1, 2, 3, 4, 5, 6, 7, 8, 9, 10, 11, 12])\n",
    "newarr = arr.reshape(2, 3, 2) \n",
    "# same logic here 2*3*2 = 12 elements in total\n",
    "print(newarr)"
   ]
  },
  {
   "cell_type": "markdown",
   "id": "d36f14a7-9672-4326-9a91-835a6059beb6",
   "metadata": {},
   "source": [
    "If an array has `15 elements` and you want to reshape it to (3,3)- it wont work as `3*3 == 9` so it won't make sense for the rest of the elements to simply `disappear`"
   ]
  },
  {
   "cell_type": "markdown",
   "id": "78eb30f4-8019-4035-b113-255ce2c89a02",
   "metadata": {},
   "source": [
    "### Returns Copy or View\n"
   ]
  },
  {
   "cell_type": "code",
   "execution_count": 12,
   "id": "02a4e048-d937-40f8-84fb-74075b6e8311",
   "metadata": {},
   "outputs": [
    {
     "name": "stdout",
     "output_type": "stream",
     "text": [
      "[1 2 3 4 5 6 7 8]\n"
     ]
    }
   ],
   "source": [
    "arr = np.array([1, 2, 3, 4, 5, 6, 7, 8])\n",
    "print(arr.reshape(2, 4).base) \n",
    "# So the base will revert a reshaped array back to normal"
   ]
  },
  {
   "cell_type": "markdown",
   "id": "e4a62762-4681-486c-a886-c78361526811",
   "metadata": {},
   "source": [
    "#### Unknown Dimension\n",
    "\n",
    "- You are allowed to have one \"unknown\" dimension.\n",
    "- Meaning that you do not have to specify an exact number for one of the dimensions in the reshape method.\n",
    "- Pass -1 as the value, and NumPy will calculate this number for you."
   ]
  },
  {
   "cell_type": "code",
   "execution_count": 13,
   "id": "28bafcaa-42d0-4ab3-a4bf-cb58bcaeb1cf",
   "metadata": {},
   "outputs": [
    {
     "name": "stdout",
     "output_type": "stream",
     "text": [
      "[[[1 2]\n",
      "  [3 4]]\n",
      "\n",
      " [[5 6]\n",
      "  [7 8]]]\n"
     ]
    }
   ],
   "source": [
    "arr = np.array([1, 2, 3, 4, 5, 6, 7, 8])\n",
    "\n",
    "newarr = arr.reshape(2, 2, -1) \n",
    "# we use the -1 here so that the reshape automatically \n",
    "# adjusts everything itself\n",
    "\n",
    "print(newarr)"
   ]
  },
  {
   "cell_type": "code",
   "execution_count": 14,
   "id": "5dc5f9bd-1984-42ce-90a8-661cecedf83c",
   "metadata": {},
   "outputs": [
    {
     "name": "stdout",
     "output_type": "stream",
     "text": [
      "[1 2 3 4 5 6]\n"
     ]
    }
   ],
   "source": [
    "# Flattening array means converting a multidimensional array into a 1D array\n",
    "arr = np.array([[1,2,3],[4,5,6]])\n",
    "new_arr = arr.reshape(-1) \n",
    "print(new_arr)"
   ]
  },
  {
   "cell_type": "markdown",
   "id": "c9ee588e-958b-4a8a-8d5f-a5b60daaea3e",
   "metadata": {},
   "source": [
    "### Iterating Over Numpy Arrays\n"
   ]
  },
  {
   "cell_type": "code",
   "execution_count": 15,
   "id": "7f86e464-8a91-454f-bd3b-3bb2e15590b0",
   "metadata": {},
   "outputs": [
    {
     "name": "stdout",
     "output_type": "stream",
     "text": [
      "[1 2 3]\n",
      "[4 5 6]\n"
     ]
    }
   ],
   "source": [
    "arr = np.array([[1,2,3],[4,5,6]])\n",
    "for _ in arr:\n",
    "    print(_) # this returns the nested arrays"
   ]
  },
  {
   "cell_type": "code",
   "execution_count": 18,
   "id": "c47e7553-be22-43c2-a7da-432c10be8273",
   "metadata": {},
   "outputs": [
    {
     "name": "stdout",
     "output_type": "stream",
     "text": [
      "1 2 3 3 2 1 4 5 6 6 5 4 7 8 9 9 8 7 "
     ]
    }
   ],
   "source": [
    "# now what if we wanted to get all the items within the nested arrays\n",
    "array = np.array([[[1,2,3],[3,2,1]],[[4,5,6],[6,5,4]],[[7,8,9],[9,8,7]]])\n",
    "for x in array:\n",
    "    for y in x:\n",
    "        for z in y:\n",
    "            print(z, end = ' ')\n",
    "\n",
    "# Liked it, I knew you would"
   ]
  },
  {
   "cell_type": "code",
   "execution_count": 19,
   "id": "514b5ec8-25ff-427f-934b-001cf68e81f6",
   "metadata": {},
   "outputs": [
    {
     "name": "stdout",
     "output_type": "stream",
     "text": [
      "1\n",
      "2\n",
      "3\n",
      "4\n",
      "5\n",
      "6\n",
      "7\n",
      "8\n"
     ]
    }
   ],
   "source": [
    "arr = np.array([[[1, 2], [3, 4]], [[5, 6], [7, 8]]])\n",
    "\n",
    "for x in np.nditer(arr): \n",
    "  print(x)\n",
    "\n",
    "# this is basically the shortcut of the previous one"
   ]
  },
  {
   "cell_type": "markdown",
   "id": "bf2a7982-6e98-45fc-af7a-3522ba20dcf4",
   "metadata": {},
   "source": [
    "#### Iterating Array with Different Data Types\n",
    "\n",
    "We can use `op_dtypes` argument and pass it the expected datatype to change the datatype of elements while iterating.\n",
    "\n",
    "NumPy does not change the data type of the element in-place (where the element is in array) so it needs some other space to perform this action, that extra space is called buffer, and in order to enable it in nditer() we pass `flags=['buffered']`."
   ]
  },
  {
   "cell_type": "code",
   "execution_count": 1,
   "id": "f0ffbad4-931b-42cd-937c-ae818f4454a8",
   "metadata": {},
   "outputs": [
    {
     "name": "stdout",
     "output_type": "stream",
     "text": [
      "np.bytes_(b'1')\n",
      "np.bytes_(b'2')\n",
      "np.bytes_(b'3')\n"
     ]
    }
   ],
   "source": [
    "import numpy as np\n",
    "arr = np.array([1,2,3])\n",
    "# this one is a interesting output\n",
    "for x in np.nditer(arr,flags = ['buffered'], op_dtypes = ['S']):\n",
    "    print(x) "
   ]
  },
  {
   "cell_type": "code",
   "execution_count": 5,
   "id": "86b0fcb7-4b72-4aad-a438-f4f1d5cf8e01",
   "metadata": {},
   "outputs": [
    {
     "name": "stdout",
     "output_type": "stream",
     "text": [
      "5\n",
      "7\n"
     ]
    }
   ],
   "source": [
    "arr = np.array([[1,2,3,4],[5,6,7,8]])\n",
    "for x in np.nditer(arr[:,::2]): \n",
    "    # the first ':' means that all the nested arrays\n",
    "    # and the '::2' means that the include from start to end but step should be 2\n",
    "    print(x)"
   ]
  },
  {
   "cell_type": "markdown",
   "id": "4c1f0587-4dd2-4e02-9073-1ec25857cf50",
   "metadata": {},
   "source": [
    "#### Enumerated Iteration Using ndenumerate()\n",
    "\n",
    "Enumeration tells us that the sequence number of somethings one by one.\n",
    "\n",
    "Oftentimes we require corresponding index of the element while iterating, the `ndenumerate()` method can be used for those usecases."
   ]
  },
  {
   "cell_type": "code",
   "execution_count": 6,
   "id": "a7539da4-1e5c-42c4-8781-61c8c4ec1c1c",
   "metadata": {},
   "outputs": [
    {
     "name": "stdout",
     "output_type": "stream",
     "text": [
      "(0,) 1\n",
      "(1,) 2\n",
      "(2,) 3\n"
     ]
    }
   ],
   "source": [
    "arr = np.array([1, 2, 3])\n",
    "# its a bit similar to how we usually use \n",
    "for idx, x in np.ndenumerate(arr):\n",
    "  print(idx, x)\n",
    "# Look at the output carefully"
   ]
  },
  {
   "cell_type": "code",
   "execution_count": 7,
   "id": "92608aba-6860-4c77-a33d-a26c6b2a7d80",
   "metadata": {},
   "outputs": [
    {
     "name": "stdout",
     "output_type": "stream",
     "text": [
      "(0, 0) 1\n",
      "(0, 1) 2\n",
      "(0, 2) 3\n",
      "(0, 3) 4\n",
      "(1, 0) 5\n",
      "(1, 1) 6\n",
      "(1, 2) 7\n",
      "(1, 3) 8\n"
     ]
    }
   ],
   "source": [
    "# Enumerrate on 2D Array's elements\n",
    "arr = np.array([[1, 2, 3, 4], [5, 6, 7, 8]])\n",
    "# interesting output, take a look\n",
    "for idx, x in np.ndenumerate(arr):\n",
    "  print(idx, x)"
   ]
  },
  {
   "cell_type": "markdown",
   "id": "4352ea8e-a975-4f1b-9d44-5ea285ec019a",
   "metadata": {},
   "source": [
    "#### Numpy Joining Arrays\n",
    "\n",
    "Joining means putting contents of `two or more arrays in a single array`.\n",
    "\n",
    "In SQL we join tables based on a key, whereas in `NumPy we join arrays by axes`.\n",
    "\n",
    "We pass a sequence of arrays that we want to join to the `concatenate()` function, along with the axis. If axis is not explicitly passed, it is taken as 0.\n"
   ]
  },
  {
   "cell_type": "code",
   "execution_count": 9,
   "id": "443b7e50-225a-4ec2-a45a-4cbc2ca6de39",
   "metadata": {},
   "outputs": [
    {
     "name": "stdout",
     "output_type": "stream",
     "text": [
      "[1 2 3 4 5 6 7 8]\n"
     ]
    }
   ],
   "source": [
    "arr1 = np.array([1,2,3,4])\n",
    "arr2 = np.array([5,6,7,8])\n",
    "arr = np.concatenate((arr1,arr2))\n",
    "print(arr)"
   ]
  },
  {
   "cell_type": "code",
   "execution_count": 11,
   "id": "c33c40ac-6d24-465f-9dba-fe2b3c47d557",
   "metadata": {},
   "outputs": [
    {
     "name": "stdout",
     "output_type": "stream",
     "text": [
      "[[1 2 5 6]\n",
      " [3 4 7 8]]\n"
     ]
    }
   ],
   "source": [
    "# Join two 2-D arrays along rows(axis = 1)\n",
    "arr1 = np.array([[1,2],[3,4]])\n",
    "arr2 = np.array([[5,6],[7,8]])\n",
    "arr = np.concatenate((arr1,arr2), axis = 1)\n",
    "print(arr) # Interesting result"
   ]
  },
  {
   "cell_type": "code",
   "execution_count": 12,
   "id": "f0bd099a-7332-40ad-9aa9-ac719c9809e3",
   "metadata": {},
   "outputs": [
    {
     "name": "stdout",
     "output_type": "stream",
     "text": [
      "[[1 2]\n",
      " [3 4]\n",
      " [5 6]\n",
      " [7 8]]\n"
     ]
    }
   ],
   "source": [
    "# doing the same thing but this time we will use axis = 0\n",
    "arr_u = np.concatenate((arr1,arr2), axis = 0 )\n",
    "print(arr_u) # intersting result"
   ]
  },
  {
   "cell_type": "markdown",
   "id": "584d66e9-3fe4-470b-b4f2-7787d8f3ec03",
   "metadata": {},
   "source": [
    "#### Joining Arrays Using Stack Functions\n",
    "\n",
    "- Stacking is same as concatenation, the only difference is that stacking is `done along a new axis`.\n",
    "\n",
    "- `We can concatenate two 1-D arrays along the second axis which would result in putting them one over the other`, ie. stacking.\n",
    "\n",
    "- We pass a `sequence of arrays` that we want to `join to the stack() method along with the axis`. If axis is not explicitly passed it is taken as 0."
   ]
  },
  {
   "cell_type": "code",
   "execution_count": 13,
   "id": "3338bbbe-53b7-494a-8133-200cbc31dafb",
   "metadata": {},
   "outputs": [
    {
     "name": "stdout",
     "output_type": "stream",
     "text": [
      "[[1 4]\n",
      " [2 5]\n",
      " [3 6]]\n"
     ]
    }
   ],
   "source": [
    "arr1 = np.array([1, 2, 3])\n",
    "\n",
    "arr2 = np.array([4, 5, 6])\n",
    "\n",
    "arr = np.stack((arr1, arr2), axis=1)\n",
    "# Carefully Analyze the result\n",
    "print(arr)"
   ]
  },
  {
   "cell_type": "code",
   "execution_count": 14,
   "id": "ad1639e3-cb74-44ea-9e1d-9858b54081df",
   "metadata": {},
   "outputs": [
    {
     "name": "stdout",
     "output_type": "stream",
     "text": [
      "[1 2 3 4 5 6]\n"
     ]
    }
   ],
   "source": [
    "# Stacking Along Rows\n",
    "arr1 = np.array([1, 2, 3])\n",
    "\n",
    "arr2 = np.array([4, 5, 6])\n",
    "\n",
    "arr = np.hstack((arr1, arr2))\n",
    "# Notice that everyting is on the same plane\n",
    "print(arr)"
   ]
  },
  {
   "cell_type": "code",
   "execution_count": 15,
   "id": "30dca05e-d775-4d95-a9e0-d00c1aed94c3",
   "metadata": {},
   "outputs": [
    {
     "name": "stdout",
     "output_type": "stream",
     "text": [
      "[[1 2 3]\n",
      " [4 5 6]]\n"
     ]
    }
   ],
   "source": [
    "# Numpy provides a helper function vstack() to stack along columns\n",
    "arr1 = np.array([1, 2, 3])\n",
    "\n",
    "arr2 = np.array([4, 5, 6])\n",
    "\n",
    "arr = np.vstack((arr1, arr2))\n",
    "\n",
    "print(arr)"
   ]
  },
  {
   "cell_type": "code",
   "execution_count": 17,
   "id": "444bea5c-9073-41b9-a5e3-fa22ef4aa932",
   "metadata": {},
   "outputs": [
    {
     "name": "stdout",
     "output_type": "stream",
     "text": [
      "[[[1 4]\n",
      "  [2 5]\n",
      "  [3 6]]]\n"
     ]
    }
   ],
   "source": [
    "# Another stacking method is Stacking Along Height(depth)\n",
    "arr1 = np.array([1,2,3])\n",
    "arr2 = np.array([4,5,6])\n",
    "arr = np.dstack((arr1,arr2))\n",
    "print(arr) # same as the normal stacking"
   ]
  },
  {
   "cell_type": "markdown",
   "id": "d331acdb-6117-45a0-8e97-b21c6d27e813",
   "metadata": {},
   "source": [
    "#### Splitting NUmPy Arrays\n",
    "\n",
    "Splitting is the `converse operation` of Joining.\n",
    "\n",
    "Joining merges multiple arrays into one and Splitting breaks `one array` into `multiple arrays`.\n",
    "\n",
    "We use `array_split()` for splitting arrays, we pass it the array we want to split and the number of splits."
   ]
  },
  {
   "cell_type": "code",
   "execution_count": 23,
   "id": "90779229-a31b-4a12-8895-a5b8e8956d1b",
   "metadata": {},
   "outputs": [
    {
     "name": "stdout",
     "output_type": "stream",
     "text": [
      "[array([1, 2]), array([3, 4]), array([5, 6]), array([7, 8])]\n",
      "\n",
      "[1 2]\n",
      "[3 4]\n",
      "[5 6]\n",
      "[7 8]\n",
      "\n",
      "(0, 0) 1\n",
      "(0, 1) 2\n",
      "(1, 0) 3\n",
      "(1, 1) 4\n",
      "(2, 0) 5\n",
      "(2, 1) 6\n",
      "(3, 0) 7\n",
      "(3, 1) 8\n"
     ]
    }
   ],
   "source": [
    "arr = np.array([1,2,3,4,5,6,7,8])\n",
    "new_arr = np.array_split(arr,4)\n",
    "print(new_arr)\n",
    "print(\"\")\n",
    "for i in new_arr:\n",
    "    print(i) \n",
    "    # now this will show individual array which were being considered as nested arrays\n",
    "print(\"\")\n",
    "for index, _ in np.ndenumerate(new_arr):\n",
    "    print(index, _)"
   ]
  },
  {
   "cell_type": "code",
   "execution_count": 24,
   "id": "90cbcd90-270f-4a55-96c1-fe31cbb37601",
   "metadata": {},
   "outputs": [
    {
     "name": "stdout",
     "output_type": "stream",
     "text": [
      "[array([1, 2]), array([3, 4]), array([5]), array([6])]\n"
     ]
    }
   ],
   "source": [
    "arra = np.array((1,2,3,4,5,6))\n",
    "nu_arra = np.array_split(arra,4)\n",
    "print(nu_arra) \n",
    "# it doesn't matter if the arrays aren't containing the same number of elements"
   ]
  },
  {
   "cell_type": "markdown",
   "id": "46978aaa-0b57-4341-b9ec-9ef764116113",
   "metadata": {},
   "source": [
    "### Split Into Arrays\n",
    "- The return value of the `array_split()` method is an array containing each of the split as an array.\n",
    "\n",
    "- If you split an array into 3 arrays, you can access them from the result just like any array element:"
   ]
  },
  {
   "cell_type": "code",
   "execution_count": 25,
   "id": "82557128-7a4f-47fd-b9be-259b52d46970",
   "metadata": {},
   "outputs": [
    {
     "name": "stdout",
     "output_type": "stream",
     "text": [
      "[1 2]\n",
      "[3 4]\n",
      "[5 6]\n"
     ]
    }
   ],
   "source": [
    "arr = np.array([1, 2, 3, 4, 5, 6])\n",
    "\n",
    "newarr = np.array_split(arr, 3)\n",
    "\n",
    "print(newarr[0])\n",
    "print(newarr[1])\n",
    "print(newarr[2])"
   ]
  },
  {
   "cell_type": "markdown",
   "id": "fcad7237-7b46-4f54-938c-fe4f3a1e92a1",
   "metadata": {},
   "source": [
    "### Splitting 2-D Arrays\n",
    "\n",
    "Use the same syntax when splitting `2-D arrays`.\n",
    "\n",
    "Use the `array_split()` method, pass in the array you want to split and the number of splits you want to do."
   ]
  },
  {
   "cell_type": "code",
   "execution_count": 26,
   "id": "195cecbf-326e-407f-aabe-7cd08e7ef9b2",
   "metadata": {},
   "outputs": [
    {
     "name": "stdout",
     "output_type": "stream",
     "text": [
      "[array([[1, 2],\n",
      "       [3, 4]]), array([[5, 6],\n",
      "       [7, 8]]), array([[ 9, 10],\n",
      "       [11, 12]])]\n"
     ]
    }
   ],
   "source": [
    "arr = np.array([[1, 2], [3, 4], [5, 6], [7, 8], [9, 10], [11, 12]])\n",
    "\n",
    "newarr = np.array_split(arr, 3)\n",
    "\n",
    "print(newarr)\n",
    "\n",
    "# takes in fixed and optimized number of arrays to nest them into nested arrays \n",
    "# so that the total number is nested arrays or normal arrays accumulate to 3."
   ]
  },
  {
   "cell_type": "code",
   "execution_count": 27,
   "id": "f2350073-2d96-4bd7-89f3-c781c32f9ebf",
   "metadata": {},
   "outputs": [
    {
     "name": "stdout",
     "output_type": "stream",
     "text": [
      "[array([[1, 2, 3],\n",
      "       [4, 5, 6]]), array([[ 7,  8,  9],\n",
      "       [10, 11, 12]]), array([[13, 14, 15],\n",
      "       [16, 17, 18]])]\n"
     ]
    }
   ],
   "source": [
    "# Notice the output\n",
    "arr = np.array([[1, 2, 3], [4, 5, 6], [7, 8, 9], [10, 11, 12], [13, 14, 15], [16, 17, 18]])\n",
    "\n",
    "newarr = np.array_split(arr, 3)\n",
    "\n",
    "print(newarr)\n",
    "# Similar"
   ]
  },
  {
   "cell_type": "code",
   "execution_count": 28,
   "id": "565c4d48-d28f-4c62-b904-38ac5e306588",
   "metadata": {},
   "outputs": [
    {
     "name": "stdout",
     "output_type": "stream",
     "text": [
      "[array([[ 1],\n",
      "       [ 4],\n",
      "       [ 7],\n",
      "       [10],\n",
      "       [13],\n",
      "       [16]]), array([[ 2],\n",
      "       [ 5],\n",
      "       [ 8],\n",
      "       [11],\n",
      "       [14],\n",
      "       [17]]), array([[ 3],\n",
      "       [ 6],\n",
      "       [ 9],\n",
      "       [12],\n",
      "       [15],\n",
      "       [18]])]\n"
     ]
    }
   ],
   "source": [
    "# In Addition, you can specify which axis you want to do the split around.\n",
    "# The example below also returns three 2-D arrays, but they are split along the column\n",
    "# (axis = 1)\n",
    "\n",
    "arr = np.array([[1, 2, 3], [4, 5, 6], [7, 8, 9], [10, 11, 12], [13, 14, 15], [16, 17, 18]])\n",
    "newarr = np.array_split(arr, 3, axis=1)\n",
    "print(newarr) # Notice the splitting its crazy, right?"
   ]
  },
  {
   "cell_type": "code",
   "execution_count": 30,
   "id": "15094fb0-67c6-494c-8e0d-f925edb30856",
   "metadata": {},
   "outputs": [
    {
     "name": "stdout",
     "output_type": "stream",
     "text": [
      "[array([[ 1],\n",
      "       [ 4],\n",
      "       [ 7],\n",
      "       [10],\n",
      "       [13],\n",
      "       [16]]), array([[ 2],\n",
      "       [ 5],\n",
      "       [ 8],\n",
      "       [11],\n",
      "       [14],\n",
      "       [17]]), array([[ 3],\n",
      "       [ 6],\n",
      "       [ 9],\n",
      "       [12],\n",
      "       [15],\n",
      "       [18]])]\n"
     ]
    }
   ],
   "source": [
    "# Similarly here are some insight into whaT YOU  may have already guessed\n",
    "arr = np.array([[1, 2, 3], [4, 5, 6], [7, 8, 9], [10, 11, 12], [13, 14, 15], [16, 17, 18]])\n",
    "\n",
    "newarr = np.hsplit(arr, 3)\n",
    "\n",
    "print(newarr) # excact same out put"
   ]
  },
  {
   "cell_type": "markdown",
   "id": "81025895-86ad-478d-8baa-dc2ddba60152",
   "metadata": {},
   "source": [
    "#### NumPy Searching Arrays\n",
    "- You can search `an array for a certain value`, and return the `indexes` that get a match.\n",
    "\n",
    "- To search an array, use the `np.where()` method."
   ]
  },
  {
   "cell_type": "code",
   "execution_count": 31,
   "id": "e26816b1-2062-4fe0-bfd4-1a669be67fc0",
   "metadata": {},
   "outputs": [
    {
     "name": "stdout",
     "output_type": "stream",
     "text": [
      "(array([3, 5, 6]),)\n"
     ]
    }
   ],
   "source": [
    "arr = np.array([1, 2, 3, 4, 5, 4, 4])\n",
    "x = np.where(arr == 4)\n",
    "print(x) # meaning that the value 4 is present in the indexes 3rd 5th and 6th"
   ]
  },
  {
   "cell_type": "code",
   "execution_count": 33,
   "id": "f3e43740-f6c8-42fa-ad59-4efa1a632bd5",
   "metadata": {},
   "outputs": [
    {
     "name": "stdout",
     "output_type": "stream",
     "text": [
      "(array([1, 3, 5, 7]),)\n"
     ]
    }
   ],
   "source": [
    "arr = np.array([1, 2, 3, 4, 5, 6, 7, 8])\n",
    "x = np.where(arr%2 == 0) # checking whether the element is divisible by 2 or not\n",
    "print(x) # will return the index of the elements who meet the condition"
   ]
  },
  {
   "cell_type": "code",
   "execution_count": 34,
   "id": "74fc3174-5df2-4d61-984c-1b1120b0265b",
   "metadata": {},
   "outputs": [
    {
     "name": "stdout",
     "output_type": "stream",
     "text": [
      "(array([0, 2, 4, 6]),)\n"
     ]
    }
   ],
   "source": [
    "# Finding the indexes where the values are odd\n",
    "arr = np.array([1, 2, 3, 4, 5, 6, 7, 8])\n",
    "x = np.where(arr%2 == 1)\n",
    "print(x)"
   ]
  },
  {
   "cell_type": "markdown",
   "id": "3c177689-9a65-4b01-9c7f-bbb48cc58d48",
   "metadata": {},
   "source": [
    "#### Search Sorted\n",
    "There is a method called `searchsorted()` which performs a `binary search` in the array, and returns the index where the specified value would be inserted to maintain the search order."
   ]
  },
  {
   "cell_type": "code",
   "execution_count": 35,
   "id": "5f13aa52-31fb-49b3-94b6-7f92130479af",
   "metadata": {},
   "outputs": [
    {
     "name": "stdout",
     "output_type": "stream",
     "text": [
      "3\n"
     ]
    }
   ],
   "source": [
    "# Finding the indexes where the value should be inserted\n",
    "arr = np.array([4,5,6,7,8])\n",
    "x = np.searchsorted(arr,7)\n",
    "print(x) \n",
    "# simply printed the index of the array where the \n",
    "# value of the coressponding value was 7"
   ]
  },
  {
   "cell_type": "markdown",
   "id": "671213ae-ec53-466e-84e5-9f36edfc21d4",
   "metadata": {},
   "source": [
    "`np.searchsorted(array, value, side='right')` returns the index where value (in this case 6) should be inserted in the sorted array to `maintain order`, assuming duplicates are handled on the right."
   ]
  },
  {
   "cell_type": "code",
   "execution_count": 45,
   "id": "e3c861f8-ec79-401d-b887-eb66c8bb8a7a",
   "metadata": {},
   "outputs": [
    {
     "name": "stdout",
     "output_type": "stream",
     "text": [
      "3\n"
     ]
    }
   ],
   "source": [
    "# Read the prior statements \n",
    "array = np.array([4,5,6,7,8,9])\n",
    "y = np.searchsorted(array,6,side = 'right')\n",
    "print(y)"
   ]
  },
  {
   "cell_type": "markdown",
   "id": "72fd9df9-12a2-4637-b7d6-f84c44d9dda7",
   "metadata": {},
   "source": [
    "##### Multiple Values \n",
    "- To search for more than one value, use an array with the specified values."
   ]
  },
  {
   "cell_type": "code",
   "execution_count": 46,
   "id": "f52bc773-c226-4d97-95a5-b3f9951ae2a9",
   "metadata": {},
   "outputs": [
    {
     "name": "stdout",
     "output_type": "stream",
     "text": [
      "[1 2 3]\n"
     ]
    }
   ],
   "source": [
    "arr = np.array([1, 3, 5, 7])\n",
    "\n",
    "x = np.searchsorted(arr, [2, 4, 6])\n",
    "\n",
    "print(x)\n",
    "#The return value is an array: [1 2 3] containing the three indexes where 2, 4, 6 \n",
    "# would be inserted in the original array to maintain the order."
   ]
  },
  {
   "cell_type": "markdown",
   "id": "9440f768-009c-4bfe-84b0-8a109991be49",
   "metadata": {},
   "source": [
    "#### Numpy Sorting Arrays\n",
    "\n",
    "- Sorting means arranging elements in an ordered sequence\n",
    "- The NumPy `ndarray object` has a function called `sort()`, that will sort a specified array.\n",
    "- We use `np.sort('array_name')` and print it to get the sorted version of the array"
   ]
  },
  {
   "cell_type": "code",
   "execution_count": 3,
   "id": "dc45b3de-6339-47a7-8895-12a255f31032",
   "metadata": {},
   "outputs": [
    {
     "name": "stdout",
     "output_type": "stream",
     "text": [
      "[1 2 3 3 4 5 6 7]\n"
     ]
    }
   ],
   "source": [
    "arr = np.array((3,1,5,2,6,3,7,4))\n",
    "print(np.sort(arr)) # prints the sortred version of the arr"
   ]
  },
  {
   "cell_type": "code",
   "execution_count": 4,
   "id": "efb57f0e-aecf-4b01-8a16-c83cb7310b81",
   "metadata": {},
   "outputs": [
    {
     "name": "stdout",
     "output_type": "stream",
     "text": [
      "['banana' 'grapes' 'mango' 'papaya' 'raspberry']\n"
     ]
    }
   ],
   "source": [
    "# Also Sorts the arrays alphabetically\n",
    "arr = np.array(['mango','banana','papaya','grapes','raspberry'])\n",
    "print(np.sort(arr)) \n",
    "# targets the 0th index char for each elements inside the array"
   ]
  },
  {
   "cell_type": "code",
   "execution_count": 5,
   "id": "fb80343a-e263-4fb0-87c5-484af5556e97",
   "metadata": {},
   "outputs": [
    {
     "name": "stdout",
     "output_type": "stream",
     "text": [
      "[False False  True  True]\n"
     ]
    }
   ],
   "source": [
    "# How about if we wanted to sort boolean values\n",
    "arr = np.array([True,False,False,True])\n",
    "print(np.sort(arr))\n",
    "# Because F is ahead of T , False came first, otherwise we can think of it as \n",
    "# becuase False == 0 and True > 0, so that makes sense"
   ]
  },
  {
   "cell_type": "markdown",
   "id": "c4cfec7e-74a3-4dc8-a12e-e292ec3539fc",
   "metadata": {},
   "source": [
    "#### Sorting 2-D arrays\n",
    "- if we use the `np.sort()` method both the nested arrays will be sorted as well"
   ]
  },
  {
   "cell_type": "code",
   "execution_count": 8,
   "id": "2747a4b3-8663-423a-b7bb-b4f631178e1f",
   "metadata": {},
   "outputs": [
    {
     "name": "stdout",
     "output_type": "stream",
     "text": [
      "[[1 1 2 3 4 5 6 7]\n",
      " [1 2 3 5 5 6 7 8]]\n"
     ]
    }
   ],
   "source": [
    "arr = np.array([[1,5,2,4,1,3,6,7],[7,3,5,2,8,5,6,1]]) \n",
    "# make sure that the nested arrays have the same number of elements\n",
    "print(np.sort(arr))"
   ]
  },
  {
   "cell_type": "markdown",
   "id": "672490f1-429e-4a26-979a-c135ea4ff936",
   "metadata": {},
   "source": [
    "#### Filtering Arrays\n",
    "\n",
    "- Getting some elements out of an `existing array and creating a `new array` out of them is called filtering.\n",
    "\n",
    "- In NumPy, you `filter an array` using a `boolean index list`.\n",
    "\n",
    "- A boolean index list is a list of booleans corresponding to indexes in the array."
   ]
  },
  {
   "cell_type": "code",
   "execution_count": 9,
   "id": "80fcea5e-1094-40b1-a271-28c281a76397",
   "metadata": {},
   "outputs": [
    {
     "name": "stdout",
     "output_type": "stream",
     "text": [
      "[41 43]\n"
     ]
    }
   ],
   "source": [
    "# An example of Boolean Masking\n",
    "\n",
    "arr = np.array([41, 42, 43, 44]) \n",
    "# original array\n",
    "x = [True, False, True, False] \n",
    "# the masking will take place according to this \n",
    "newarr = arr[x]\n",
    "# The values have been updated according to the masking\n",
    "print(newarr) \n",
    "# as on the 1st and 3rd index had False in them the making removed the coressponding values,e.g - 42 and 44"
   ]
  },
  {
   "cell_type": "code",
   "execution_count": 10,
   "id": "a65f5f27-77b8-4ce9-9e1a-aa95bf7d55a1",
   "metadata": {},
   "outputs": [
    {
     "name": "stdout",
     "output_type": "stream",
     "text": [
      "[False, False, True, True]\n",
      "[43 44]\n"
     ]
    }
   ],
   "source": [
    "# Now you could do this by yourself, but I am still going to put it here\n",
    "\n",
    "arr = np.array([41, 42, 43, 44])\n",
    "# Creating an empty list\n",
    "filter_arr = []\n",
    "\n",
    "# going through each element in arr\n",
    "for element in arr:\n",
    "  # if the element is higher than 42, setting the value to True, otherwise False:\n",
    "  if element > 42:\n",
    "    filter_arr.append(True)\n",
    "  else:\n",
    "    filter_arr.append(False)\n",
    "\n",
    "newarr = arr[filter_arr]\n",
    "\n",
    "print(filter_arr)\n",
    "print(newarr)"
   ]
  },
  {
   "cell_type": "code",
   "execution_count": 11,
   "id": "649ddf7b-0111-4de8-8782-2bd7fb10c270",
   "metadata": {},
   "outputs": [
    {
     "name": "stdout",
     "output_type": "stream",
     "text": [
      "[ 2  4  6  8 10]\n"
     ]
    }
   ],
   "source": [
    "# Creating a filter That Will keep the even elements in an array\n",
    "arr = np.array([1,2,3,4,5,6,7,8,9,10])\n",
    "mask = []\n",
    "for _ in arr:\n",
    "    if _%2 != 0:\n",
    "        mask.append(False)\n",
    "    else:\n",
    "        mask.append(True)\n",
    "new_arr = arr[mask]\n",
    "print(new_arr) # See the results"
   ]
  },
  {
   "cell_type": "markdown",
   "id": "c985aa44-f07b-4560-b9b8-09b8ffbe2a02",
   "metadata": {},
   "source": [
    "#### Creating Filter Directly From Array\n",
    "\n",
    "- The above example is quite a common task in NumPy and NumPy provides a nice way to tackle it.\n",
    "\n",
    "- We can directly substitute the array instead of the iterable variable in our condition and it will work just as we expect it to."
   ]
  },
  {
   "cell_type": "code",
   "execution_count": 12,
   "id": "2da0fcee-4b08-4325-8a41-fe1aba7d87b8",
   "metadata": {},
   "outputs": [
    {
     "name": "stdout",
     "output_type": "stream",
     "text": [
      "[False False  True  True]\n",
      "[43 44]\n"
     ]
    }
   ],
   "source": [
    "# This method is the fastest as numpy does the vector comparision\n",
    "arr = np.array([41,42,43,44])\n",
    "filter_arr = arr > 42\n",
    "new_arr = arr[filter_arr]\n",
    "\n",
    "print(filter_arr)\n",
    "print(new_arr)"
   ]
  },
  {
   "cell_type": "code",
   "execution_count": 14,
   "id": "52656f27-984e-4ad3-b594-77e44f5ff1aa",
   "metadata": {},
   "outputs": [
    {
     "name": "stdout",
     "output_type": "stream",
     "text": [
      "[ 2  4  8 10 12 14]\n"
     ]
    }
   ],
   "source": [
    "# Creating a filter array that will return only even elements from the original array\n",
    "\n",
    "arr = np.array([2,3,4,5,7,8,10,12,11,14])\n",
    "filter_arr = ((arr%2) == 0)\n",
    "print(arr[filter_arr]) # See This"
   ]
  },
  {
   "cell_type": "markdown",
   "id": "2ae84c12-51e7-4fab-9050-172c19481ab1",
   "metadata": {},
   "source": [
    "#### Random Numbers in NumPy\n",
    "- What is a `Random Number`?\n",
    "\n",
    "\n",
    "Random number does not mean a different number every time. \n",
    "\n",
    "Random means something that can not be predicted logically."
   ]
  },
  {
   "cell_type": "markdown",
   "id": "e493d0bc-8189-4cd8-8ae5-215979c9195b",
   "metadata": {},
   "source": [
    "### Pseudo Random and True Random \n",
    "\n",
    "- Computers work on programs, and programs are `definitive set of instructions`. So it means there must be `some algorithm` to generate a random number as well.\n",
    "\n",
    "- If there is a `program to generate random number` it can be predicted, thus it is not `truly random`.\n",
    "\n",
    "- Random numbers generated through a `generation algorithm` are called `pseudo random`.\n",
    "\n",
    "- Can we make truly random numbers?\n",
    "\n",
    "- Yes. In order to generate a truly random number on our computers we need to get the random data from some outside source. This outside source is `generally our keystrokes, mouse movements, data on network` etc.\n",
    "\n",
    "- We do not need truly random numbers, unless it is related to security (e.g. encryption keys) or the basis of application is the randomness (e.g. Digital roulette wheels).\n",
    "\n",
    "- In this tutorial we will be using pseudo random numbers.\n"
   ]
  },
  {
   "cell_type": "code",
   "execution_count": 17,
   "id": "6b77acf9-588e-4a7b-a40a-12e40c1e96a4",
   "metadata": {},
   "outputs": [
    {
     "name": "stdout",
     "output_type": "stream",
     "text": [
      "62\n"
     ]
    }
   ],
   "source": [
    "# This random is especially made with numpy and its not the generic random module\n",
    "from numpy import random\n",
    "\n",
    "x = random.randint(1,123)\n",
    "print(x) \n",
    "# With each iteration of running this cell we will get a new value of x "
   ]
  },
  {
   "cell_type": "code",
   "execution_count": 19,
   "id": "f16bf5d8-b2b5-4e03-a7b6-5c1402b15853",
   "metadata": {},
   "outputs": [
    {
     "name": "stdout",
     "output_type": "stream",
     "text": [
      "0.42320481058117676\n"
     ]
    }
   ],
   "source": [
    "# Generates a random float between 0 and 1\n",
    "y = random.rand()\n",
    "print(y)"
   ]
  },
  {
   "cell_type": "markdown",
   "id": "a54ab37a-feac-44fc-8c33-f5bd005032f0",
   "metadata": {},
   "source": [
    "#### Generating a Random Array\n",
    "- In NumPy we work with arrays, and you can use the two methods from the above examples to make random arrays."
   ]
  },
  {
   "cell_type": "markdown",
   "id": "1c5f1cab-51ec-4193-b582-b2a2dcd6c06d",
   "metadata": {},
   "source": [
    "#### Integers\n",
    "- The `randint()` method takes a `size` parameter where you can specify the shape of an array."
   ]
  },
  {
   "cell_type": "code",
   "execution_count": 24,
   "id": "965ea74c-4a27-4c4b-88f9-2c247f894320",
   "metadata": {},
   "outputs": [
    {
     "name": "stdout",
     "output_type": "stream",
     "text": [
      "[62 21 44 22 60 66 98 89 46  9]\n"
     ]
    }
   ],
   "source": [
    "# Generating a 1-D array containing 5 random integers from 0 to 100\n",
    "z = random.randint(100,size=(10))\n",
    "print(z)"
   ]
  },
  {
   "cell_type": "code",
   "execution_count": 26,
   "id": "5569b1f8-f471-4f15-8a44-802c3dd17aee",
   "metadata": {},
   "outputs": [
    {
     "name": "stdout",
     "output_type": "stream",
     "text": [
      "[[11 91 95 13 85 21]\n",
      " [86 10 89 14 25 41]\n",
      " [16 84  7 12  2 90]\n",
      " [84 59 49 79 84 69]\n",
      " [57 48 94 52 48 46]]\n"
     ]
    }
   ],
   "source": [
    "# Generating a 2-D array with 5 rows and 6 columns and the elements will be from 0 to 100:\n",
    "x = random.randint(100,size = (5,6))\n",
    "print(x)"
   ]
  },
  {
   "cell_type": "code",
   "execution_count": 27,
   "id": "6a94c4c5-654b-4198-b1df-c82c12c038e1",
   "metadata": {},
   "outputs": [
    {
     "name": "stdout",
     "output_type": "stream",
     "text": [
      "[0.98926462 0.53799305 0.02082887 0.98168637 0.84410571]\n"
     ]
    }
   ],
   "source": [
    "# Generating a 1-D array containing 5 random floats\n",
    "x = random.rand(5)\n",
    "print(x)"
   ]
  },
  {
   "cell_type": "code",
   "execution_count": 29,
   "id": "1b3d0e27-3695-459e-b9d7-bbfbc9e6127a",
   "metadata": {},
   "outputs": [
    {
     "name": "stdout",
     "output_type": "stream",
     "text": [
      "[[0.64974743 0.41512793 0.3534098  0.51597465 0.28988394]\n",
      " [0.90549457 0.53310085 0.47054268 0.48944466 0.9124446 ]\n",
      " [0.95222779 0.73095918 0.43737882 0.50910008 0.94983435]]\n"
     ]
    }
   ],
   "source": [
    "# Generating a 2-D array with 3 rows, each row containing 5 random numbers:\n",
    "x = random.rand(3,5)\n",
    "print(x)"
   ]
  },
  {
   "cell_type": "code",
   "execution_count": 31,
   "id": "bc11f7b5-e5ae-4039-ae18-c67a8db9934d",
   "metadata": {},
   "outputs": [
    {
     "name": "stdout",
     "output_type": "stream",
     "text": [
      "3\n"
     ]
    }
   ],
   "source": [
    "# Generating Random Number From Array\n",
    "x = random.choice([3,5,7,9,2,4,6,8])\n",
    "print(x) "
   ]
  },
  {
   "cell_type": "markdown",
   "id": "453f9463-8b31-4fde-8e1d-64c8f8ab8abb",
   "metadata": {},
   "source": [
    "- The `choice()` method also allows you to return an array of values.\n",
    "- Add a `size` parameter to specify the shape of the array."
   ]
  },
  {
   "cell_type": "code",
   "execution_count": 32,
   "id": "4bbdbb1a-0134-4da9-8fec-ee8519476ac6",
   "metadata": {},
   "outputs": [
    {
     "name": "stdout",
     "output_type": "stream",
     "text": [
      "[[7 6 7 5 7]\n",
      " [9 4 9 7 5]\n",
      " [8 4 9 4 8]\n",
      " [3 4 5 7 3]\n",
      " [8 3 2 5 4]]\n"
     ]
    }
   ],
   "source": [
    "# Generating a 2-D array that consists of values in the array parameters\n",
    "x = random.choice([2,4,6,8,3,5,7,9], size = (5,5))\n",
    "print(x) # try to understand the 2-D array"
   ]
  },
  {
   "cell_type": "markdown",
   "id": "3ba8497b-af52-4e20-a1d8-6fb7129171a0",
   "metadata": {},
   "source": [
    "### Random Data Distribution\n",
    "- Data Distribution is a `list of all possible values`, and `how often each value occurs`.\n",
    "\n",
    "- Such lists are important when working with `statistics and data science`.\n",
    "\n",
    "- The random module offer methods that returns randomly `generated data distributions`."
   ]
  },
  {
   "cell_type": "markdown",
   "id": "2f963cdf-8a14-4b6c-abde-09b212b3cfc3",
   "metadata": {},
   "source": [
    "##### Random Distribution \n",
    "- A random distribution is a `set of random numbers` that follow a certain `probability density function`.\n",
    "##### Probability Density Function\n",
    "-  A function that describes a `continuous probability`. i.e. probability of all values in an array."
   ]
  },
  {
   "cell_type": "markdown",
   "id": "7008997d-6dcb-46c7-bc81-732e67db2137",
   "metadata": {},
   "source": [
    "We can generate `random numbers` based on `defined probabilities` using the `random.choice()` method of the random module.\n",
    "\n",
    "The `random.choice()` method allows us to `specify the probability for each value`.\n",
    "\n",
    "The probability is set by a number `between 0 and 1`, where 0 means that the value will never occur and 1 means that the value will always occur."
   ]
  },
  {
   "cell_type": "code",
   "execution_count": 33,
   "id": "9df73562-4694-4f3c-828e-00e0f4fa96e3",
   "metadata": {},
   "outputs": [
    {
     "name": "stdout",
     "output_type": "stream",
     "text": [
      "[7 3 7 7 7 7 7 7 7 7 7 7 5 7 7 7 5 7 5 5 5 7 3 7 7]\n"
     ]
    }
   ],
   "source": [
    "x = random.choice([3,5,7,9], p = [0.1,0.3,0.6,0.0], size = (25))\n",
    "print(x) \n",
    "# the corresponding probability of 3 was 0.1 , very less\n",
    "# the corresponding probability of 5 was 0.3, appeared quite less\n",
    "# the corresponding probability of 7 was 0.6, the highest thats why it appeared the most\n",
    "# the corresponding probability of 9 was 0.0, so it never appeared"
   ]
  },
  {
   "cell_type": "code",
   "execution_count": 36,
   "id": "c858a2ca-e2c2-4e82-8811-d01221d76ef2",
   "metadata": {},
   "outputs": [
    {
     "name": "stdout",
     "output_type": "stream",
     "text": [
      "[[7 7 7 7 3]\n",
      " [5 7 5 7 5]\n",
      " [5 5 7 7 7]]\n"
     ]
    }
   ],
   "source": [
    "# 2-D array with 3 rows, each containing 5 values\n",
    "x = random.choice([3,5,7,9], p=[0.2,0.2,0.6,0.0], size = (3,5))\n",
    "print(x)"
   ]
  },
  {
   "cell_type": "markdown",
   "id": "6cd33a94-813d-4fc7-a337-3eae2fe9b154",
   "metadata": {},
   "source": [
    "#### Random Permutations\n",
    "- A permutation refers to an arrangement of elements. e.g. [3, 2, 1] is a permutation of [1, 2, 3] and vice-versa.\n",
    "\n",
    "- The NumPy Random module provides two methods for this: `shuffle()` and `permutation()`."
   ]
  },
  {
   "cell_type": "markdown",
   "id": "00ef3895-0b7f-4373-b4af-eb46cc46a4a9",
   "metadata": {},
   "source": [
    "#### Shuffling Arrays\n",
    "Shuffle means changing `arrangement of elements in-place`. i.e. in the array itself.\n",
    "- The `shuffle()` method makes changes to the original array."
   ]
  },
  {
   "cell_type": "code",
   "execution_count": 38,
   "id": "5c37c475-eff1-40df-ae30-5e9cbdb646c6",
   "metadata": {},
   "outputs": [
    {
     "name": "stdout",
     "output_type": "stream",
     "text": [
      "[3 5 4 2 1]\n"
     ]
    }
   ],
   "source": [
    "arr = np.array([1, 2, 3, 4, 5])\n",
    "random.shuffle(arr)\n",
    "print(arr)\n",
    "# makes changes after each iterations on the main array"
   ]
  },
  {
   "cell_type": "markdown",
   "id": "b7e33c57-a819-4c2a-92e6-4b5315bbf66f",
   "metadata": {},
   "source": [
    "- The `permutation()` method returns a `re-arranged array` (and leaves the original array un-changed)."
   ]
  },
  {
   "cell_type": "code",
   "execution_count": 41,
   "id": "a3e7da68-b86e-4ba3-a7a1-24a9f8e5811c",
   "metadata": {},
   "outputs": [
    {
     "name": "stdout",
     "output_type": "stream",
     "text": [
      "[3 2 1 5 4]\n"
     ]
    }
   ],
   "source": [
    "# Generating Permutation of Arrays\n",
    "arr = np.array([1,2,3,4,5])\n",
    "print(random.permutation(arr))"
   ]
  },
  {
   "cell_type": "markdown",
   "id": "3853239f-29c4-4890-970f-5d1a28fbd648",
   "metadata": {},
   "source": [
    "#### Seaborn and Matplotlib\n",
    "\n",
    "- For the advanced Visuallization we need to install the `seaborn` and `matplotlib.pyplot` packages "
   ]
  },
  {
   "cell_type": "code",
   "execution_count": 1,
   "id": "1d4cdab5-e797-48d8-bff1-312f093b1a36",
   "metadata": {},
   "outputs": [],
   "source": [
    "import seaborn as sns\n",
    "import matplotlib.pyplot as plt"
   ]
  },
  {
   "cell_type": "code",
   "execution_count": 45,
   "id": "88167d32-18b9-4622-8c44-a791753328da",
   "metadata": {},
   "outputs": [
    {
     "data": {
      "image/png": "[encoded data removed]",
      "text/plain": [
       "<Figure size 640x480 with 1 Axes>"
      ]
     },
     "metadata": {},
     "output_type": "display_data"
    }
   ],
   "source": [
    "# we can do sns.distplot([..]) \n",
    "# sns.distplot() - is not widely used and will be replaced with something new\n",
    "sns.histplot([0,1,2,3,4,5,6,7])\n",
    "plt.show()"
   ]
  },
  {
   "cell_type": "code",
   "execution_count": 6,
   "id": "e5068520-3b64-4226-9f09-b6cf761585d1",
   "metadata": {},
   "outputs": [
    {
     "data": {
      "image/png": "[encoded data removed]",
      "text/plain": [
       "<Figure size 500x500 with 1 Axes>"
      ]
     },
     "metadata": {},
     "output_type": "display_data"
    }
   ],
   "source": [
    "sns.displot([0,1,2,3,4,5], kind = \"kde\")\n",
    "plt.show() \n",
    "# see THE  Curve is at it peak in the mean value area"
   ]
  },
  {
   "cell_type": "markdown",
   "id": "018db9bf-fcb3-477c-81e4-602383a57b53",
   "metadata": {},
   "source": [
    "### Normal (Gaussian) Distribution\n",
    "\n",
    "- The Normal Distribution is one of the most important distributions.\n",
    "\n",
    "- It's also called the Gaussian Distribution after the German mathematician Carl Friedrich Gauss.\n",
    "\n",
    "- This fits the probability distribution of many events, eg. IQ Scores, Heartbeat etc.\n",
    "\n",
    "- We Use the random.normal() method to get a Normal Data Distribution."
   ]
  },
  {
   "cell_type": "markdown",
   "id": "e015b044-c17a-43ed-bc5b-b01ea2f7be56",
   "metadata": {},
   "source": [
    "This Distribution has three parameters:\n",
    "\n",
    "`loc` - (Mean) where the peak of the bell exists.\n",
    "\n",
    "\n",
    "`scale` - (Standard Deviation) how flat the graph distribution should be.\n",
    "\n",
    "\n",
    "`size` - The Shape of the returned array.\n",
    "\n"
   ]
  },
  {
   "cell_type": "code",
   "execution_count": 7,
   "id": "744907a2-e399-4ab8-9048-e4f648231db8",
   "metadata": {},
   "outputs": [
    {
     "name": "stdout",
     "output_type": "stream",
     "text": [
      "[[-0.56450773  0.44372665  0.38574325]\n",
      " [ 0.50840058  2.70720563  0.06052395]]\n"
     ]
    }
   ],
   "source": [
    "from numpy import random\n",
    "x = random.normal(size = (2,3))\n",
    "print(x)"
   ]
  },
  {
   "cell_type": "code",
   "execution_count": 9,
   "id": "f6861e9c-e2ef-4235-886c-9dfa5fd706c2",
   "metadata": {},
   "outputs": [
    {
     "name": "stdout",
     "output_type": "stream",
     "text": [
      "[[ 8.40670632 12.15785392 10.8409684   8.02027347]\n",
      " [ 8.31771915 10.93264537  9.69529746  9.99478214]]\n"
     ]
    }
   ],
   "source": [
    "x = random.normal(loc=10, scale=1, size=(2, 4))\n",
    "print(x)\n",
    "# See that now the values are centered around 10 and the scale is the standard deviation\n",
    "# meaning if we set the scale to say 5 or 6 the values will drastically change"
   ]
  },
  {
   "cell_type": "markdown",
   "id": "db746fed-bf00-4990-80a1-3b2ba84e973f",
   "metadata": {},
   "source": [
    "`scale` = 1, if this is the case then: \n",
    "- ~68% will be between -1 and +1  \n",
    "- ~95% will be between -2 and +2  \n",
    "- ~99.7% will be between -3 and +3  "
   ]
  },
  {
   "cell_type": "code",
   "execution_count": 11,
   "id": "eb14eb71-4599-436c-86c1-68622e9e8dfc",
   "metadata": {},
   "outputs": [
    {
     "data": {
      "image/png": "[encoded data removed]",
      "text/plain": [
       "<Figure size 500x500 with 1 Axes>"
      ]
     },
     "metadata": {},
     "output_type": "display_data"
    }
   ],
   "source": [
    "#### Visualization of Normal Distribution\n",
    "sns.displot(random.normal(size = 500), kind = 'kde')\n",
    "plt.show()"
   ]
  },
  {
   "cell_type": "markdown",
   "id": "361f22e4-fbb1-4305-8ce1-93b9c4f66961",
   "metadata": {},
   "source": [
    "### Binomial Distribution\n",
    "- This is a Discrete Distribution\n",
    "- It describes the outcome of binary scenarios, e.g. toss of a coin, it will either be head or tails."
   ]
  },
  {
   "cell_type": "markdown",
   "id": "c27f05d5-c208-4896-bcbd-c54e17280314",
   "metadata": {},
   "source": [
    "#### Binomial Distribution has three parameters:\n",
    "`n` - number of trails\n",
    "\n",
    "`p` - probability of occurence of each trail \n",
    "\n",
    "`size` - The shape of the returned array"
   ]
  },
  {
   "cell_type": "code",
   "execution_count": 13,
   "id": "d4e05065-7ee2-4f20-8faa-c5f200270249",
   "metadata": {},
   "outputs": [
    {
     "name": "stdout",
     "output_type": "stream",
     "text": [
      "[5 5 5 2 7 6 2 7 7 5]\n"
     ]
    }
   ],
   "source": [
    "# Given 10 trails for coin toss generate 10 data points:\n",
    "x = random.binomial(n = 10, p = 0.5, size = 10)\n",
    "print(x)"
   ]
  },
  {
   "cell_type": "code",
   "execution_count": 22,
   "id": "5bc138e9-19ab-4e89-bd9a-fb9ca2fb2326",
   "metadata": {},
   "outputs": [
    {
     "data": {
      "text/plain": [
       "<Figure size 300x300 with 0 Axes>"
      ]
     },
     "metadata": {},
     "output_type": "display_data"
    },
    {
     "data": {
      "image/png": "[encoded data removed]",
      "text/plain": [
       "<Figure size 500x600 with 1 Axes>"
      ]
     },
     "metadata": {},
     "output_type": "display_data"
    }
   ],
   "source": [
    "### Visualization of Binomial Distribution\n",
    "plt.figure(figsize=(3, 3))  # Optional: only works with plt-based plots\n",
    "\n",
    "# Plotting a histogram of 1000 binomial samples\n",
    "sns.displot(random.binomial(n=10, p=0.5, size=1000), height=6, aspect=5/6)\n",
    "\n",
    "plt.show() "
   ]
  },
  {
   "cell_type": "markdown",
   "id": "0e516a46-3cea-4706-a7f6-7046e7dfc1c6",
   "metadata": {},
   "source": [
    "### Difference Between Normal and Binomial Distribution\n",
    "\n",
    "- The main difference is that normal distribution is continous whereas binomial is discrete, but if there are enough data points it will be quite similar to normal distribution with certain loc and scale\n",
    "- Kernel Density Estimate (KDE), make sure to remember this"
   ]
  },
  {
   "cell_type": "code",
   "execution_count": 23,
   "id": "acf822b9-aa2b-4cd0-a30b-080a7be69640",
   "metadata": {},
   "outputs": [
    {
     "data": {
      "image/png": "[encoded data removed]",
      "text/plain": [
       "<Figure size 609.875x500 with 1 Axes>"
      ]
     },
     "metadata": {},
     "output_type": "display_data"
    }
   ],
   "source": [
    "# Dict Form \n",
    "\n",
    "data = {\n",
    "  \"normal\": random.normal(loc=50, scale=5, size=1000),\n",
    "  \"binomial\": random.binomial(n=100, p=0.5, size=1000)\n",
    "}\n",
    "\n",
    "sns.displot(data, kind=\"kde\")\n",
    "\n",
    "plt.show()"
   ]
  },
  {
   "cell_type": "markdown",
   "id": "d913ae99-f38e-4fbb-a5fb-d473fe1474ac",
   "metadata": {},
   "source": [
    "### Poisson Distribution\n",
    "- Poisson Distribution is a Discrete Distribution.\n",
    "\n",
    "- It estimates how many times an event can happen in a specified time. e.g. If someone eats twice a day what is the probability he will eat thrice?"
   ]
  },
  {
   "cell_type": "markdown",
   "id": "ca49f7a8-a222-4324-82ee-ae19a9318a2a",
   "metadata": {},
   "source": [
    "- This has two parameters:\n",
    " \n",
    "`lam` - rate or known number of occurrences.\n",
    "\n",
    "`size` - The shape of the returned array."
   ]
  },
  {
   "cell_type": "code",
   "execution_count": 24,
   "id": "43ba1ff2-85a9-42f8-9add-442a2177ca2a",
   "metadata": {},
   "outputs": [
    {
     "name": "stdout",
     "output_type": "stream",
     "text": [
      "[1 0 2 2 1 2 3 1 2 6]\n"
     ]
    }
   ],
   "source": [
    "# Generating a random 1X10 distribution for occurence 2:\n",
    "x = random.poisson(lam = 2, size = 10)\n",
    "print(x)"
   ]
  },
  {
   "cell_type": "code",
   "execution_count": 30,
   "id": "8ffd4865-edb4-4f9d-ab50-393dcc42658f",
   "metadata": {},
   "outputs": [
    {
     "data": {
      "image/png": "[encoded data removed]",
      "text/plain": [
       "<Figure size 500x500 with 1 Axes>"
      ]
     },
     "metadata": {},
     "output_type": "display_data"
    }
   ],
   "source": [
    "### Visuallization of the Poisson Distribution\n",
    "\n",
    "sns.displot(random.poisson(lam = 2, size = 1000))\n",
    "plt.title(\"Confusing Visualization\")\n",
    "plt.ylabel('Occurences')\n",
    "plt.show()"
   ]
  },
  {
   "cell_type": "code",
   "execution_count": 32,
   "id": "3870125c-5f30-43a1-a328-27e5903eb2b6",
   "metadata": {},
   "outputs": [
    {
     "data": {
      "image/png": "[encoded data removed]",
      "text/plain": [
       "<Figure size 602.75x500 with 1 Axes>"
      ]
     },
     "metadata": {},
     "output_type": "display_data"
    }
   ],
   "source": [
    "# Difference Between Normal and Poisson Distribution\n",
    "\n",
    "# Normal distribution is continuous whereas poisson is discrete.\n",
    "\n",
    "#But we can see that similar to binomial for a large enough poisson distribution it will become \n",
    "#similar to normal distribution with certain std dev and mean.\n",
    "\n",
    "data = {\n",
    "    \"normal\" : random.normal(loc = 50, scale = 5, size = 1500),\n",
    "    \"poisson\" : random.poisson(lam = 50, size = 1500)\n",
    "}\n",
    "\n",
    "sns.displot(data, kind = 'kde')\n",
    "plt.show()"
   ]
  },
  {
   "cell_type": "code",
   "execution_count": 42,
   "id": "db8fc099-25dc-4d75-8cbd-c27e1d690df6",
   "metadata": {},
   "outputs": [
    {
     "data": {
      "image/png": "[encoded data removed]",
      "text/plain": [
       "<Figure size 609.875x500 with 1 Axes>"
      ]
     },
     "metadata": {},
     "output_type": "display_data"
    }
   ],
   "source": [
    "# Lets compare the three diferent types of Distributions on one go\n",
    "\n",
    "Comparision = {\n",
    "    \"normal\" : random.normal(loc = 100, scale = 1, size = 300),\n",
    "    \"poisson\" : random.poisson(lam = 100, size = 300),\n",
    "    \"binomial\" : random.binomial(n = 100, p = 0.9, size = 300)\n",
    "}\n",
    "\n",
    "sns.displot(Comparision, kind = 'kde')\n",
    "\n",
    "plt.title(\"Comaprisions between the Different Distributions\")\n",
    "plt.show()"
   ]
  },
  {
   "cell_type": "markdown",
   "id": "a484496d-11d9-42bb-ab7a-8fd6f6c09967",
   "metadata": {},
   "source": [
    "### Difference Between Binomial and Poisson Distribution\n",
    "\n",
    "- Binomial distribution only has `two possible outcomes`, whereas poisson distribution can have `unlimited possible outcomes`.\n",
    "\n",
    "- But for `very large n and near-zero p binomial distribution is near identical to poisson distribution` such that n * p is nearly equal to lam."
   ]
  },
  {
   "cell_type": "code",
   "execution_count": 45,
   "id": "ca5e6b5e-df3e-4cc9-93b6-f8503a32e1ef",
   "metadata": {},
   "outputs": [
    {
     "data": {
      "image/png": "[encoded data removed]",
      "text/plain": [
       "<Figure size 609.875x500 with 1 Axes>"
      ]
     },
     "metadata": {},
     "output_type": "display_data"
    }
   ],
   "source": [
    "Bi_and_Pos = {\n",
    "    \"binomial\": random.binomial(n = 10000, p = 0.001, size = 1500),\n",
    "    \"poisson\" : random.poisson(lam = 10, size = 1500)\n",
    "}\n",
    "\n",
    "sns.displot(Bi_and_Pos, kind = \"kde\")\n",
    "plt.show()"
   ]
  },
  {
   "cell_type": "markdown",
   "id": "1f5c53af-7160-4c3e-9624-3c7161093f7c",
   "metadata": {},
   "source": [
    "### Uniform Distribution\n",
    "- Used to describe probability where every event has equal chances of occuring.\n",
    "- Like Generation of Random Numbers"
   ]
  },
  {
   "cell_type": "markdown",
   "id": "fea97c83-4a2d-4335-bfd2-fb51981e8fea",
   "metadata": {},
   "source": [
    "This has three Parameters:\n",
    "\n",
    "`low` - lower bound - default 0 .0.\n",
    "\n",
    "`high` - upper bound - default 1.0.\n",
    "\n",
    "`size` -  The shape of the returned array."
   ]
  },
  {
   "cell_type": "code",
   "execution_count": 46,
   "id": "bd4f1bee-c525-431d-a207-70ddb66d6115",
   "metadata": {},
   "outputs": [
    {
     "data": {
      "image/png": "[encoded data removed]",
      "text/plain": [
       "<Figure size 500x500 with 1 Axes>"
      ]
     },
     "metadata": {},
     "output_type": "display_data"
    }
   ],
   "source": [
    "# Visualization of The Uniform Distribution\n",
    "\n",
    "sns.displot(random.uniform(size = 1000),kind = 'kde')\n",
    "plt.show()"
   ]
  },
  {
   "cell_type": "code",
   "execution_count": null,
   "id": "64b64e93-1b49-43c4-9de2-cfda77778a51",
   "metadata": {},
   "outputs": [],
   "source": []
  },
  {
   "cell_type": "markdown",
   "id": "ce103a90-7c5e-49a2-9e0b-70c70173ce7a",
   "metadata": {},
   "source": [
    "#### What are ufuncs?\n",
    "\n",
    "- ufuncs stands for \"Universal Functions\" and\n",
    "- they are NumPy functions that operate on the ndarray object.\n",
    "\n",
    "#### Why use ufuncs?\n",
    "\n",
    "- ufuncs are used to implement vectorization in NumPy which is way faster than iterating over elements.\n",
    "- They also provide broadcasting and additional methods like reduce, accumulate etc. that are very helpful for computation."
   ]
  },
  {
   "cell_type": "markdown",
   "id": "c3304cb3-611d-4861-ab2b-6c1b8870af81",
   "metadata": {},
   "source": [
    "- ufuncs also take additional arguments, like:\n",
    "\n",
    "`where` - boolean array or condition defining where the operations should take place.\n",
    "\n",
    "`dtype` - defining the return type of elements.\n",
    "\n",
    "`out` - output array where the return value should be copied."
   ]
  },
  {
   "cell_type": "code",
   "execution_count": 1,
   "id": "a554363a-a801-4a92-b29b-24db229092ad",
   "metadata": {},
   "outputs": [
    {
     "name": "stdout",
     "output_type": "stream",
     "text": [
      "[6, 8, 10, 12]\n"
     ]
    }
   ],
   "source": [
    "# Now without the ufunc, we could use Python's built-in zip() method:\n",
    "x = [1,2,3,4]\n",
    "y = [5,6,7,8]\n",
    "z = []\n",
    "for i,j in zip(x,y):\n",
    "    z.append(i+j)\n",
    "\n",
    "print(z) # the generic way of adding elements"
   ]
  },
  {
   "cell_type": "code",
   "execution_count": 3,
   "id": "9f8381ce-e8bb-4cb4-a413-de6994d679a7",
   "metadata": {},
   "outputs": [
    {
     "name": "stdout",
     "output_type": "stream",
     "text": [
      "[5 7 9]\n"
     ]
    }
   ],
   "source": [
    "# now with ufuncs, this gets really smooth and fast - add(x,y)\n",
    "import numpy as np\n",
    "\n",
    "x = [1,2,3]\n",
    "y = [4,5,6]\n",
    "z = np.add(x,y)\n",
    "print(z) \n",
    "# automatically understands that the required argument will be the addition of the lists passed"
   ]
  },
  {
   "cell_type": "markdown",
   "id": "e950a30d-a5ea-4a76-a2b5-e6d1cd9623d8",
   "metadata": {},
   "source": [
    "##### Lets cranck this difficulty up a notch\n",
    "\n",
    "### Creating your Own ufunc\n",
    "\n",
    "The `frompyfunc()` method takes the following arguments:\n",
    "\n",
    "1. `funtion` - the name of the function.\n",
    "2. `inputs` - the number of input arguments (arrays).\n",
    "3. `outputs` - the number of output arrays.\n"
   ]
  },
  {
   "cell_type": "code",
   "execution_count": 1,
   "id": "d1bf69bb-552a-423d-8d19-7efa109b3779",
   "metadata": {},
   "outputs": [
    {
     "name": "stdout",
     "output_type": "stream",
     "text": [
      "[5 7 9]\n"
     ]
    }
   ],
   "source": [
    "import numpy as np\n",
    "\n",
    "def myadd(x,y):\n",
    "    return x+y\n",
    "\n",
    "myadd = np.frompyfunc(myadd,2,1) # observe this line\n",
    "# (function_name,number of inputs,number of outputs)\n",
    "\n",
    "print(myadd([1,2,3],[4,5,6]))"
   ]
  },
  {
   "cell_type": "code",
   "execution_count": 2,
   "id": "3b69e726-007d-48fb-8ce1-d088179a2889",
   "metadata": {},
   "outputs": [
    {
     "name": "stdout",
     "output_type": "stream",
     "text": [
      "[12 15 18]\n"
     ]
    }
   ],
   "source": [
    "def triple_addition(x,y,z):\n",
    "    return x+y+z\n",
    "\n",
    "triple = np.frompyfunc(triple_addition,3,1) \n",
    "# this one takes 3 inputs each from the first, second and third list and returns the addition\n",
    "\n",
    "print(triple([1,2,3],[4,5,6],[7,8,9]))"
   ]
  },
  {
   "cell_type": "markdown",
   "id": "38bd8667-854a-49a2-bb20-bf51e7d67afa",
   "metadata": {},
   "source": [
    "#### How to check if a function is a ufunc ?\n",
    "\n",
    "A ufunc should return <class 'numpy.ufunc'>."
   ]
  },
  {
   "cell_type": "code",
   "execution_count": 10,
   "id": "3074f2b1-7dc8-4c6e-9d90-350fe09ea860",
   "metadata": {},
   "outputs": [
    {
     "name": "stdout",
     "output_type": "stream",
     "text": [
      " <class 'numpy.ufunc'> \n",
      " <class 'numpy._ArrayFunctionDispatcher'>\n"
     ]
    }
   ],
   "source": [
    "print('',type(np.add),'\\n',type(np.concatenate))\n"
   ]
  },
  {
   "cell_type": "code",
   "execution_count": 11,
   "id": "cfde6a59-0ab4-4d76-af37-5e6691a0c8d2",
   "metadata": {},
   "outputs": [
    {
     "name": "stdout",
     "output_type": "stream",
     "text": [
      "add is ufunc\n"
     ]
    }
   ],
   "source": [
    "# Here is a quick way to check \n",
    "if type(np.add) == np.ufunc: # this np.ufunc is the real OG\n",
    "  print('add is ufunc')\n",
    "else:\n",
    "  print('add is not ufunc')"
   ]
  },
  {
   "cell_type": "markdown",
   "id": "c8cd5f45-3046-4e80-99b3-d2f4aa2ffc1b",
   "metadata": {},
   "source": [
    "#### Simple Arithmetic\n",
    "- The `add()` function sums the content of two arrays, and return the results in a new array.\n",
    "\n",
    "- The `substract()` function substracts the contents of two arrays, and returns the ramaining results within a new array.\n",
    "\n",
    "- The `multiply()` function multiplies the values from one array with the values fro another array, and return the results in a new array.\n",
    "\n",
    "- The `divide()` function divides the values from one array with the values from another array, and returns the results in a new array.\n",
    "\n",
    "- The `power()` function rises the values from the first array to the power of the values of the second array, and returns the results in a new array.\n",
    "\n",
    "- Both the `mod()` and `remainder()` function returns the remainder of the values in the first array corresponding to the values in the second array, and returns the results in a new array\n",
    "\n",
    "- The `divmod()` function returns both the quotient and the mod. The return value is two arrays, the first array contains the quotient and the second array contains the mod.\n",
    "\n",
    "- Both the `absolute()` and the `abs()` functions do the same absolute operation element-wise but we should use `absolute()` to avoid confusion with python's inbuilt `math.abs()`"
   ]
  },
  {
   "cell_type": "code",
   "execution_count": 12,
   "id": "3471ac85-dfb9-4051-99d1-374fbe27969a",
   "metadata": {},
   "outputs": [
    {
     "name": "stdout",
     "output_type": "stream",
     "text": [
      "[ 8  5  8  8 13]\n"
     ]
    }
   ],
   "source": [
    "arr_1 = np.array([1,2,4,3,5])\n",
    "arr_2 = np.array([7,3,4,5,8])\n",
    "\n",
    "newarr = np.add(arr_1,arr_2)\n",
    "print(newarr) # clean example of how the add function works"
   ]
  },
  {
   "cell_type": "code",
   "execution_count": 14,
   "id": "5ff8ab59-af8a-4bd1-93d9-1db486a510b8",
   "metadata": {},
   "outputs": [
    {
     "name": "stdout",
     "output_type": "stream",
     "text": [
      "[1 1 1 1 1]\n"
     ]
    }
   ],
   "source": [
    "# The Subtract function\n",
    "arr_1 = np.array([1,2,3,4,5])\n",
    "arr_2 = np.array([0,1,2,3,4])\n",
    "\n",
    "new_arr = np.subtract(arr_1,arr_2)\n",
    "print(new_arr)"
   ]
  },
  {
   "cell_type": "code",
   "execution_count": 15,
   "id": "00620a34-47e5-4d6e-a7f3-5ed5046545a2",
   "metadata": {},
   "outputs": [
    {
     "name": "stdout",
     "output_type": "stream",
     "text": [
      "[3 4 3]\n"
     ]
    }
   ],
   "source": [
    "# The multiply function\n",
    "arr1 = np.array([1,2,3])\n",
    "arr2 = np.array([3,2,1])\n",
    "\n",
    "newarr = np.multiply(arr1,arr2)\n",
    "print(newarr)"
   ]
  },
  {
   "cell_type": "code",
   "execution_count": 16,
   "id": "dcb4f3ee-dcf4-4458-bc2e-5522bff9e76f",
   "metadata": {},
   "outputs": [
    {
     "name": "stdout",
     "output_type": "stream",
     "text": [
      "[1. 1. 1. 1.]\n"
     ]
    }
   ],
   "source": [
    "# The divide function \n",
    "arr1 = np.array([4,2,3,1])\n",
    "arr2 = np.array([4,2,3,1])\n",
    "\n",
    "newarr = np.divide(arr1,arr2)\n",
    "print(newarr)"
   ]
  },
  {
   "cell_type": "code",
   "execution_count": 17,
   "id": "73a59300-178e-4583-a28f-77c2067bd038",
   "metadata": {},
   "outputs": [
    {
     "name": "stdout",
     "output_type": "stream",
     "text": [
      "[3 4 1]\n"
     ]
    }
   ],
   "source": [
    "# the power function\n",
    "arr1 = np.array([3,2,1])\n",
    "arr2 = np.array([1,2,3])\n",
    "newarr = np.power(arr1,arr2)\n",
    "print(newarr)"
   ]
  },
  {
   "cell_type": "code",
   "execution_count": 18,
   "id": "5953c70a-4ca3-4e4d-86a9-b6c3d96a15df",
   "metadata": {},
   "outputs": [
    {
     "name": "stdout",
     "output_type": "stream",
     "text": [
      "[5 6 7]\n"
     ]
    }
   ],
   "source": [
    "# the remainder function \n",
    "arr1 = np.array([7,8,9])\n",
    "arr2 = np.array([5,6,7])\n",
    "newarr = np.remainder(arr2,arr1)\n",
    "print(newarr) # becuase none could be divided"
   ]
  },
  {
   "cell_type": "code",
   "execution_count": 19,
   "id": "1c95cb5b-a230-411c-8784-9ee5fb4f614d",
   "metadata": {},
   "outputs": [
    {
     "name": "stdout",
     "output_type": "stream",
     "text": [
      "(array([ 3,  2,  3,  5, 25,  1]), array([ 1,  6,  3,  0,  0, 27]))\n"
     ]
    }
   ],
   "source": [
    "# The quotient method\n",
    "arr1 = np.array([10, 20, 30, 40, 50, 60])\n",
    "arr2 = np.array([3, 7, 9, 8, 2, 33])\n",
    "\n",
    "newarr = np.divmod(arr1, arr2)\n",
    "\n",
    "print(newarr)"
   ]
  },
  {
   "cell_type": "code",
   "execution_count": 20,
   "id": "ee572c83-d256-41b0-b6da-9dd1c612c202",
   "metadata": {},
   "outputs": [
    {
     "name": "stdout",
     "output_type": "stream",
     "text": [
      "[1 2 1 2 3 4]\n"
     ]
    }
   ],
   "source": [
    "# To return the absolute values, this is how we do it\n",
    "\n",
    "arr = np.array([-1, -2, 1, 2, 3, -4])\n",
    "\n",
    "newarr = np.absolute(arr)\n",
    "\n",
    "print(newarr)"
   ]
  },
  {
   "cell_type": "markdown",
   "id": "3dc1d0e4-9182-41f9-a865-8dbb4038157a",
   "metadata": {},
   "source": [
    "#### Rounding Decimals\n",
    "There are primarily five ways of rounding off decimals in Numpy\n",
    "- truncation\n",
    "- fix\n",
    "- rounding\n",
    "- floor\n",
    "- ceil\n",
    "  "
   ]
  },
  {
   "cell_type": "markdown",
   "id": "47f4f16c-a0a2-4458-9229-543045a13eac",
   "metadata": {},
   "source": [
    "### Truncation \n",
    "\n",
    "Removing the `decimals`, and return the `float` number closest to `zero`.\n",
    "Using the `trunc()` and `fix()` functions."
   ]
  },
  {
   "cell_type": "code",
   "execution_count": 1,
   "id": "74076c16-119f-457c-abea-96d9b52d980a",
   "metadata": {},
   "outputs": [
    {
     "name": "stdout",
     "output_type": "stream",
     "text": [
      "[-3.  3.]\n"
     ]
    }
   ],
   "source": [
    "import numpy as np\n",
    "\n",
    "arr = np.trunc([-3.1666, 3.6667])\n",
    " \n",
    "print(arr) # does return the float number"
   ]
  },
  {
   "cell_type": "code",
   "execution_count": 2,
   "id": "5022d74c-523d-4024-b45b-fd9a80f02f8d",
   "metadata": {},
   "outputs": [
    {
     "name": "stdout",
     "output_type": "stream",
     "text": [
      "[-3.  3.]\n"
     ]
    }
   ],
   "source": [
    "import numpy as np\n",
    "\n",
    "arr = np.fix([-3.1666, 3.6667])\n",
    "\n",
    "print(arr) # Likewise the fix() does the exact same thing"
   ]
  },
  {
   "cell_type": "markdown",
   "id": "cfc8c4fa-b55c-4289-ab7c-806f0e0c9d6a",
   "metadata": {},
   "source": [
    "### Rounding\n",
    "\n",
    "The `around()` function increments preceding `digit or decimal` by 1 if >=5 else do nothing."
   ]
  },
  {
   "cell_type": "code",
   "execution_count": 3,
   "id": "b4b3de83-573f-466d-ae30-57e1454668af",
   "metadata": {},
   "outputs": [
    {
     "name": "stdout",
     "output_type": "stream",
     "text": [
      "3.17\n"
     ]
    }
   ],
   "source": [
    "import numpy as np\n",
    "\n",
    "arr = np.around(3.1666, 2)\n",
    "\n",
    "print(arr)"
   ]
  },
  {
   "cell_type": "markdown",
   "id": "cd8876d2-216b-4926-8d7a-77f1b0bd0935",
   "metadata": {},
   "source": [
    "### Floor \n",
    "\n",
    "The `floor()` function rounds off decimal to nearest `lower integer`.\n"
   ]
  },
  {
   "cell_type": "code",
   "execution_count": 4,
   "id": "f040da6c-a5ac-4c85-8bff-3923dae01ee7",
   "metadata": {},
   "outputs": [
    {
     "name": "stdout",
     "output_type": "stream",
     "text": [
      "[-4.  3.]\n"
     ]
    }
   ],
   "source": [
    "import numpy as np\n",
    "\n",
    "arr = np.floor([-3.1666, 3.6667])\n",
    "\n",
    "print(arr) # still floats in there"
   ]
  },
  {
   "cell_type": "markdown",
   "id": "f873280f-0b11-47ec-bcb1-c7ae1756224a",
   "metadata": {},
   "source": [
    "### Ceil\n",
    "\n",
    "The ceil() is pretty much the same as the base python ceil function"
   ]
  },
  {
   "cell_type": "code",
   "execution_count": 6,
   "id": "06c7c827-b20c-46d6-9c18-b8f3e091676b",
   "metadata": {},
   "outputs": [
    {
     "name": "stdout",
     "output_type": "stream",
     "text": [
      "[-3.  4.]\n"
     ]
    }
   ],
   "source": [
    "import numpy as np\n",
    "\n",
    "arr = np.ceil([-3.1666, 3.6667])\n",
    "\n",
    "print(arr) # see the valus will be -3 and 4, still float though"
   ]
  },
  {
   "cell_type": "markdown",
   "id": "0db6d304-f925-43a5-b510-a15875ab83b6",
   "metadata": {},
   "source": [
    "#### Numpy Logs\n",
    "\n",
    "- Logs:\n",
    "\n",
    "  NumPy provides functions to perform log at the base 2, e and 10.\n",
    "\n",
    "    We will also explore how we can take log for any base by creating a   custom ufunc.\n",
    "\n",
    "   All of the log functions will place -inf or inf in the elements if the log can not be computed."
   ]
  },
  {
   "cell_type": "code",
   "execution_count": 7,
   "id": "b0b5a6c1-7273-4cab-ae59-a1efbe7f5848",
   "metadata": {},
   "outputs": [
    {
     "name": "stdout",
     "output_type": "stream",
     "text": [
      "[0.         1.         1.5849625  2.         2.32192809 2.5849625\n",
      " 2.80735492 3.         3.169925  ]\n"
     ]
    }
   ],
   "source": [
    "import numpy as np\n",
    "\n",
    "arr = np.arange(1, 10) \n",
    "# creates an array of ints starting with 1 and ending with 9\n",
    "\n",
    "print(np.log2(arr)) # Notice the output, the base here is 2"
   ]
  },
  {
   "cell_type": "code",
   "execution_count": 9,
   "id": "c63334b1-f550-42f0-b09c-72cb3a1154ed",
   "metadata": {},
   "outputs": [
    {
     "name": "stdout",
     "output_type": "stream",
     "text": [
      "[0.         0.30103    0.47712125 0.60205999 0.69897    0.77815125\n",
      " 0.84509804 0.90308999 0.95424251]\n"
     ]
    }
   ],
   "source": [
    "import numpy as np\n",
    "\n",
    "arr = np.arange(1, 10)\n",
    "\n",
    "print(np.log10(arr)) # The base in this case is 10"
   ]
  },
  {
   "cell_type": "markdown",
   "id": "7ae64beb-2542-4b75-b00f-9c653e6bdc6b",
   "metadata": {},
   "source": [
    "#### Log at Any Base\n",
    "\n",
    "Numpy does not provide any function to take log at any base, so we can use the `frompyfunc()` function along with inbuilt function `math.log()` with two input parameters and one output parameter."
   ]
  },
  {
   "cell_type": "code",
   "execution_count": 10,
   "id": "bb9f8871-5a86-4ad6-ade0-ba9ff4739b47",
   "metadata": {},
   "outputs": [
    {
     "name": "stdout",
     "output_type": "stream",
     "text": [
      "1.7005483074552052\n"
     ]
    }
   ],
   "source": [
    "from math import log\n",
    "import numpy as np\n",
    "\n",
    "nplog = np.frompyfunc(log, 2, 1)\n",
    "\n",
    "print(nplog(100, 15)) # this is our log base 15 of 100"
   ]
  },
  {
   "cell_type": "markdown",
   "id": "5ecd5165-ec2a-4969-b7f0-16bebfb125f9",
   "metadata": {},
   "source": [
    "#### Summations\n",
    "\n",
    "Addition is done between `two arguments` whereas summation happens over `n elements`"
   ]
  },
  {
   "cell_type": "code",
   "execution_count": 11,
   "id": "efe7e48b-7fa0-452c-831e-e640323df5ad",
   "metadata": {},
   "outputs": [
    {
     "name": "stdout",
     "output_type": "stream",
     "text": [
      "[2 4 6]\n"
     ]
    }
   ],
   "source": [
    "# lets say if we wanted to add the elements within 2 different arrays\n",
    "import numpy as np\n",
    "\n",
    "arr1 = np.array([1, 2, 3])\n",
    "arr2 = np.array([1, 2, 3])\n",
    "\n",
    "newarr = np.add(arr1, arr2)\n",
    "\n",
    "print(newarr) # this is addition"
   ]
  },
  {
   "cell_type": "code",
   "execution_count": 12,
   "id": "1db668d4-c4b1-42a9-9730-fd1fc8ce2eae",
   "metadata": {},
   "outputs": [
    {
     "name": "stdout",
     "output_type": "stream",
     "text": [
      "12\n"
     ]
    }
   ],
   "source": [
    "# now for the summation \n",
    "import numpy as np\n",
    "\n",
    "arr1 = np.array([1, 2, 3])\n",
    "arr2 = np.array([1, 2, 3])\n",
    "\n",
    "newarr = np.sum([arr1, arr2])\n",
    "\n",
    "print(newarr) \n",
    "# this returns 12, the summation of every element in both the arrays"
   ]
  },
  {
   "cell_type": "markdown",
   "id": "455b89ad-35e3-47cd-a0fc-1ce503d7d912",
   "metadata": {},
   "source": [
    "### Summation Over an Axis\n",
    "if you specify `axis=1`, Numpy will sum the numbers in each array"
   ]
  },
  {
   "cell_type": "code",
   "execution_count": 13,
   "id": "5b42b8d6-c017-4eac-8e44-a76dbf4b3c93",
   "metadata": {},
   "outputs": [
    {
     "name": "stdout",
     "output_type": "stream",
     "text": [
      "[6 6]\n"
     ]
    }
   ],
   "source": [
    "import numpy as np\n",
    "\n",
    "arr1 = np.array([1, 2, 3])\n",
    "arr2 = np.array([1, 2, 3])\n",
    "\n",
    "newarr = np.sum([arr1, arr2], axis=1)\n",
    "\n",
    "print(newarr) \n",
    "# what this does it add like axis = 1 means horizontal column-wise, so 1+2+3"
   ]
  },
  {
   "cell_type": "markdown",
   "id": "743d0281-87cc-4d5c-a3cd-a689a028b273",
   "metadata": {},
   "source": [
    "### Cummulative Sum\n",
    "\n",
    "Cummulative sum means partially adding the elements in array\n",
    "for example - The partial sum of `[1, 2, 3, 4]`would be `[1, 1+2, 1+2+3, 1+2+3+4]` = `[1, 3, 6, 10]`.\n",
    "\n",
    "Perfom partial sum with the `cumsum()` function."
   ]
  },
  {
   "cell_type": "code",
   "execution_count": 14,
   "id": "f1ab11be-2305-466c-b5dc-c53b224fa4b4",
   "metadata": {},
   "outputs": [
    {
     "name": "stdout",
     "output_type": "stream",
     "text": [
      "[1 3 6]\n"
     ]
    }
   ],
   "source": [
    "# Almost like the fibonacci algorithm\n",
    "import numpy as np\n",
    "\n",
    "arr = np.array([1, 2, 3])\n",
    "\n",
    "newarr = np.cumsum(arr)\n",
    "\n",
    "print(newarr)"
   ]
  },
  {
   "cell_type": "markdown",
   "id": "9265dde1-f0f3-49a2-86ea-7aab15ea07b4",
   "metadata": {},
   "source": [
    "### Numpy Products\n",
    "\n",
    "To find the product of the elements in an array, use the `prod()` function.\n"
   ]
  },
  {
   "cell_type": "code",
   "execution_count": 16,
   "id": "8c979da2-ff65-4d39-a958-28741b646ea3",
   "metadata": {},
   "outputs": [
    {
     "name": "stdout",
     "output_type": "stream",
     "text": [
      "24\n"
     ]
    }
   ],
   "source": [
    "import numpy as np\n",
    "\n",
    "arr = np.array([1, 2, 3, 4])\n",
    "x = np.prod(arr)\n",
    "print(x) # it worked like (1*2*3*4)"
   ]
  },
  {
   "cell_type": "code",
   "execution_count": 17,
   "id": "38baa4de-8891-4aca-a3f3-5ce916006363",
   "metadata": {},
   "outputs": [
    {
     "name": "stdout",
     "output_type": "stream",
     "text": [
      "40320\n"
     ]
    }
   ],
   "source": [
    "# if we were to find the product of the elements of two arrays\n",
    "\n",
    "import numpy as np\n",
    "\n",
    "arr1 = np.array([1, 2, 3, 4])\n",
    "arr2 = np.array([5, 6, 7, 8])\n",
    "\n",
    "x = np.prod([arr1, arr2])\n",
    "\n",
    "print(x) # what is basically did was (1*2*3*4*5*6*7*8)"
   ]
  },
  {
   "cell_type": "markdown",
   "id": "38366e8c-4a6d-4b6f-b2fc-1c3fff70f468",
   "metadata": {},
   "source": [
    "#### Product Over an Axis\n",
    "\n",
    "If we specify `axis=1`, NumPy will return the product of each array."
   ]
  },
  {
   "cell_type": "code",
   "execution_count": 18,
   "id": "06bd4cee-68e8-4f4a-930c-bbec5849c7fa",
   "metadata": {},
   "outputs": [
    {
     "name": "stdout",
     "output_type": "stream",
     "text": [
      "[  24 1680]\n"
     ]
    }
   ],
   "source": [
    "# Here is a breakdown\n",
    "arr1 = np.array([1, 2, 3, 4])\n",
    "arr2 = np.array([5, 6, 7, 8])\n",
    "\n",
    "newarr = np.prod([arr1, arr2], axis=1)\n",
    "\n",
    "print(newarr) # we get an array with two ints, first is the prod(arr1) and second is the prod(arr2)"
   ]
  },
  {
   "cell_type": "markdown",
   "id": "b1283402-411d-410d-a321-cfc897619a87",
   "metadata": {},
   "source": [
    "### Cummulative Product\n",
    "Cummulative product means taking the product partially. \n",
    "\n",
    "The partial product of [1,2,3] is [1,1*2,1*2*3] = [1,2,6]\n"
   ]
  },
  {
   "cell_type": "code",
   "execution_count": 19,
   "id": "9126b5f6-1e4b-4a11-b759-0d1e15a6006a",
   "metadata": {},
   "outputs": [
    {
     "name": "stdout",
     "output_type": "stream",
     "text": [
      "[ 3 12 60]\n"
     ]
    }
   ],
   "source": [
    "arr = np.array([3,4,5])\n",
    "newarr = np.cumprod(arr)\n",
    "print(newarr) # tend to the upper statement for better understanding"
   ]
  },
  {
   "cell_type": "markdown",
   "id": "91115a20-da28-4160-93d9-2f3eb3557146",
   "metadata": {},
   "source": [
    "### NumPy Differences \n",
    "\n",
    "#### Differences\n",
    "A discrete difference means substracting two successive elements.\n",
    "\n",
    "E.g. for [1,2,3,4], the discrete difference would be [2-1,3-2,4-3] = [1,1,1]\n",
    "To find the discrete difference, use the diff() function."
   ]
  },
  {
   "cell_type": "code",
   "execution_count": 20,
   "id": "341ae2c6-527d-4cea-8d6e-0b4bcf1f685b",
   "metadata": {},
   "outputs": [
    {
     "name": "stdout",
     "output_type": "stream",
     "text": [
      "[  5  10 -20]\n"
     ]
    }
   ],
   "source": [
    "arr = np.array([10, 15, 25, 5])\n",
    "newarr = np.diff(arr)\n",
    "print(newarr)"
   ]
  },
  {
   "cell_type": "markdown",
   "id": "8c00c0f8-f096-4f89-92a6-8fe978c4fd23",
   "metadata": {},
   "source": [
    "We can perform this operation repeatedly by giving parameter n.\n",
    "\n",
    "E.g. \n",
    "for [1, 2, 3, 4], the discrete difference \n",
    "with n = 2 would be [2-1, 3-2, 4-3] = [1, 1, 1] ,\n",
    "\n",
    "then, since n=2, we will do it once more,\n",
    "with the new result: [1-1, 1-1] = [0, 0]"
   ]
  },
  {
   "cell_type": "code",
   "execution_count": 21,
   "id": "29393625-b3d7-4250-9b25-9880b027491a",
   "metadata": {},
   "outputs": [
    {
     "name": "stdout",
     "output_type": "stream",
     "text": [
      "[  5 -30]\n"
     ]
    }
   ],
   "source": [
    "\n",
    "arr = np.array([10, 15, 25, 5])\n",
    "\n",
    "newarr = np.diff(arr, n=2)\n",
    "\n",
    "print(newarr)\n",
    "# because: 15-10=5, 25-15=10, and 5-25=-20 AND 10-5=5 and -20-10=-30"
   ]
  },
  {
   "cell_type": "code",
   "execution_count": 25,
   "id": "a47c1bea-d593-42eb-a1ae-8febf0adea64",
   "metadata": {},
   "outputs": [
    {
     "name": "stdout",
     "output_type": "stream",
     "text": [
      "[0]\n"
     ]
    }
   ],
   "source": [
    "arr = np.array((1,2,3,4,5,6))\n",
    "nuar = np.diff(arr, n = 5) \n",
    "# the diff was reapplied a total of 5 times first time inclusive\n",
    "print(nuar)"
   ]
  },
  {
   "cell_type": "code",
   "execution_count": null,
   "id": "f2dce008-bd64-4a38-825c-8f974f997bef",
   "metadata": {},
   "outputs": [],
   "source": []
  },
  {
   "cell_type": "code",
   "execution_count": null,
   "id": "9e54358a-02d0-4b6d-b3f3-f925c11ffaf3",
   "metadata": {},
   "outputs": [],
   "source": []
  }
 ],
 "metadata": {
  "kernelspec": {
   "display_name": "Python 3 (ipykernel)",
   "language": "python",
   "name": "python3"
  },
  "language_info": {
   "codemirror_mode": {
    "name": "ipython",
    "version": 3
   },
   "file_extension": ".py",
   "mimetype": "text/x-python",
   "name": "python",
   "nbconvert_exporter": "python",
   "pygments_lexer": "ipython3",
   "version": "3.13.1"
  }
 },
 "nbformat": 4,
 "nbformat_minor": 5
}

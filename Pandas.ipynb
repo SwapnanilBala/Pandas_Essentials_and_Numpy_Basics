{
 "cells": [
  {
   "cell_type": "markdown",
   "id": "7adf769d-57f2-4a1d-9bec-0ce254bd9c2d",
   "metadata": {},
   "source": [
    "   ## Welcome Fellow Wanderer  \n",
    "   - This is the intro to the  \n",
    "   - Pandas Basics "
   ]
  },
  {
   "cell_type": "markdown",
   "id": "77a96998-55bd-42b7-ac30-39a41b0bf143",
   "metadata": {},
   "source": [
    "### First and formost Pandas is a special package wihtin the vast realm of python libraries, it's one of the essintials if your plans incorporate Data Manipulation. \n",
    "\n",
    "##### With that  being said lets learn a few things about it.\n",
    "\n",
    "\n"
   ]
  },
  {
   "cell_type": "code",
   "execution_count": 1,
   "id": "e43752fe-4068-4a0f-9e1c-55dd4fd5a0a2",
   "metadata": {},
   "outputs": [],
   "source": [
    "# To import pandas we type - 'import pandas as pd' (don't use the '' and you can name it anything but pd is recommended)\n",
    "# Pandas works superfast with numpy arrays thats why its also recommended to know some basics of numpy beforehand\n",
    "\n",
    "import numpy as np \n",
    "import pandas as pd"
   ]
  },
  {
   "cell_type": "markdown",
   "id": "55ed5ffd-990b-44dd-9fc2-03407a292f27",
   "metadata": {},
   "source": [
    "### Series\n",
    "\n",
    "##### A series is a one-dimensional array-like object containing a sequence of values(of similar types (like numpy)) of the same type and an associated array of data labels called index.\n",
    "\n"
   ]
  },
  {
   "cell_type": "code",
   "execution_count": 2,
   "id": "a5d97e90-8ef4-464d-b693-595ce5d31d67",
   "metadata": {},
   "outputs": [
    {
     "name": "stdout",
     "output_type": "stream",
     "text": [
      "0    2\n",
      "1    4\n",
      "2    1\n",
      "3    3\n",
      "4    5\n",
      "5    7\n",
      "6    8\n",
      "dtype: int64\n"
     ]
    }
   ],
   "source": [
    "# The Simplest Series is formed from only an array of Data.\n",
    "obj = pd.Series([2,4,1,3,5,7,8]) # Keep in mind that python is case sensitive so use -- > 'pd.Series'\n",
    "print(obj)"
   ]
  },
  {
   "cell_type": "code",
   "execution_count": 3,
   "id": "d5d6a1ad-8293-47ac-95c7-89e0a4b56821",
   "metadata": {},
   "outputs": [
    {
     "name": "stdout",
     "output_type": "stream",
     "text": [
      "KKR     0\n",
      "CSK     1\n",
      "RCB     2\n",
      "KXIP    3\n",
      "MI      4\n",
      "dtype: int64\n",
      " \n",
      "Teams\n",
      "KKR    0\n",
      "CSK    1\n",
      "RCB    2\n",
      "Name: Scores, dtype: int64\n"
     ]
    }
   ],
   "source": [
    "# now the previous one looks ugly we can alos do this to make it look interesting\n",
    "IPL_Teams = ['KKR','CSK','RCB','KXIP','MI']\n",
    "# Because there are 5 teams we need an array that has 5 values\n",
    "Scores = np.arange(5) # builds an array having values array([0 1 2 3 4 ])\n",
    "# Lets now make it a bit more interesting\n",
    "Data_Series = pd.Series(Scores, index = IPL_Teams)\n",
    "print(Data_Series)\n",
    "print(\" \")\n",
    "# Now this looks a bit unpolished, lets add some mopre detailing to it\n",
    "Data_Series.name ='Scores'\n",
    "Data_Series.index.name = 'Teams'\n",
    "\n",
    "print(Data_Series.head(3)) # We can also use the head() function to start from the beginning and alos add a limiter in this case its 3\n",
    "# in the end you could see that because its a series, so the only column stands for Scores"
   ]
  },
  {
   "cell_type": "code",
   "execution_count": 4,
   "id": "d0e83abe-3b5e-4ef0-b781-73525df48348",
   "metadata": {},
   "outputs": [
    {
     "name": "stdout",
     "output_type": "stream",
     "text": [
      "RangeIndex(start=0, stop=5, step=1)\n"
     ]
    }
   ],
   "source": [
    "# Miscsellaneous\n",
    "arr = pd.Series([-1, 5, -3, 6, 2])\n",
    "print(arr.index) # this prints out some details of the Series"
   ]
  },
  {
   "cell_type": "markdown",
   "id": "14b30ad6-e64d-47d9-a428-f721d99dbab5",
   "metadata": {},
   "source": [
    "####   Series Manipulation "
   ]
  },
  {
   "cell_type": "code",
   "execution_count": 5,
   "id": "2a1635ba-e3d2-4309-88fa-849c3353433e",
   "metadata": {},
   "outputs": [
    {
     "name": "stdout",
     "output_type": "stream",
     "text": [
      "o0    0\n",
      "o1    1\n",
      "o2    2\n",
      "o3    3\n",
      "o4    4\n",
      "o5    5\n",
      "o6    6\n",
      "o7    7\n",
      "o8    8\n",
      "dtype: int64\n"
     ]
    }
   ],
   "source": [
    "unique_name = 'o'\n",
    "list_u = sorted([5,2,6,3,4,1,8,7,0]) # putting some random values that we will add to the index_builder\n",
    "\n",
    "index_builder = [unique_name+str(x) for x in list_u] \n",
    "# see this is quite interesting we are takinf the values from list_u one by one and then adding it to the unique_name (generator object)\n",
    "\n",
    "obj1 = pd.Series(list_u, index = index_builder)\n",
    "print(obj1)\n"
   ]
  },
  {
   "cell_type": "code",
   "execution_count": 6,
   "id": "42804851-f874-4489-952a-9cd75d3b6b35",
   "metadata": {},
   "outputs": [
    {
     "name": "stdout",
     "output_type": "stream",
     "text": [
      "1\n"
     ]
    }
   ],
   "source": [
    "type(obj1['o4']) # this is a numpy.int64 type file\n",
    "# now pandas sort of works like a dictionary, see below\n",
    "print(obj1['o1']) # if you execute only obj1['ossi_1'] without the print statement it will return a numpy.int64 thing \n",
    "# you will get the relevant value"
   ]
  },
  {
   "cell_type": "markdown",
   "id": "6627d094-707a-44cd-b4e4-0935ba7bcf28",
   "metadata": {},
   "source": [
    "#### Similarity in Dictionary ( Hash - Tables )"
   ]
  },
  {
   "cell_type": "code",
   "execution_count": 7,
   "id": "d0b0af94-df68-4197-a01f-f8537b6ecd97",
   "metadata": {},
   "outputs": [
    {
     "data": {
      "text/plain": [
       "5"
      ]
     },
     "execution_count": 7,
     "metadata": {},
     "output_type": "execute_result"
    }
   ],
   "source": [
    "# Just for example\n",
    "new_dict = dict()\n",
    "new_dict['Gogol'] = 0\n",
    "new_dict['Guddu'] = 0\n",
    "penalty_scores = [1,1,1,1,0,1,1,0,1,0,0,0,1,1,0,1]\n",
    "# print(len(penalty_scores))\n",
    "for i in range(0,len(penalty_scores)-1,2):\n",
    "    new_dict['Gogol'] += penalty_scores[i]\n",
    "    new_dict['Guddu'] += penalty_scores[i+1]\n",
    "\n",
    "# print(new_dict)\n",
    "\n",
    "#similar to the pandas method\n",
    "\n",
    "new_dict['Guddu'] # this returns the relevant value, like what we saw in pd.Series "
   ]
  },
  {
   "cell_type": "code",
   "execution_count": 8,
   "id": "6da071e8-fc3a-40cb-94ab-3ea8507276d1",
   "metadata": {},
   "outputs": [
    {
     "name": "stdout",
     "output_type": "stream",
     "text": [
      "\n",
      "<class 'pandas.core.series.Series'>\n"
     ]
    }
   ],
   "source": [
    "# Another interesting thing is -->\n",
    "obj1[['o1','o3','o5']] \n",
    "# This returns the values in a table format only the ones you put within the brackeets, not putting the bracketts will throw an error\n",
    "# because check this out\n",
    "\n",
    "print(\"\")\n",
    "print(type(obj1[['o1','o3','o5']]))  # remove the type to get the values\n",
    "# <class 'pandas.core.series.Series'>\n",
    "\n",
    "# print(type(obj1['o4','o6'])) # don't run\n",
    "# 'key of type tuple not found and not a MultiIndex' this is the problem, the pandas thinks that its an single object but we gave it multiplew so it could not process properly"
   ]
  },
  {
   "cell_type": "code",
   "execution_count": 9,
   "id": "380dd5f6-6ae8-4500-99e1-e9dc06a4f1e7",
   "metadata": {},
   "outputs": [
    {
     "data": {
      "text/plain": [
       "o4    4\n",
       "o5    5\n",
       "o6    6\n",
       "o7    7\n",
       "o8    8\n",
       "dtype: int64"
      ]
     },
     "execution_count": 9,
     "metadata": {},
     "output_type": "execute_result"
    }
   ],
   "source": [
    "obj1[obj1>3] # This will output the details of the objects whose values are more than 3 (in a tabular Structure)"
   ]
  },
  {
   "cell_type": "code",
   "execution_count": 10,
   "id": "09e63081-6f55-4cbf-a4d9-cedd4553765f",
   "metadata": {},
   "outputs": [
    {
     "name": "stdout",
     "output_type": "stream",
     "text": [
      "o0       1.000000\n",
      "o1       2.718282\n",
      "o2       7.389056\n",
      "o3      20.085537\n",
      "o4      54.598150\n",
      "o5     148.413159\n",
      "o6     403.428793\n",
      "o7    1096.633158\n",
      "o8    2980.957987\n",
      "dtype: float64\n"
     ]
    }
   ],
   "source": [
    "# now we will apply the exponential function on the pandas series to see what we get\n",
    "print(np.exp(obj1)) # Still we get the key pair values in a tabular structure (more like a dict)"
   ]
  },
  {
   "cell_type": "code",
   "execution_count": 11,
   "id": "89ed7348-d8de-43db-aa75-0a97def90025",
   "metadata": {},
   "outputs": [
    {
     "name": "stdout",
     "output_type": "stream",
     "text": [
      "True\n"
     ]
    }
   ],
   "source": [
    "# we can also search for particular keys to get their corresponding values\n",
    "print('o6' in obj1) # as the item is present in the form of a key in the obj1 this will return True"
   ]
  },
  {
   "cell_type": "code",
   "execution_count": 12,
   "id": "11efda51-c02d-4e9d-867b-839891cfd26a",
   "metadata": {},
   "outputs": [
    {
     "name": "stdout",
     "output_type": "stream",
     "text": [
      "Richard      5\n",
      "Solemon      7\n",
      "Richardo    15\n",
      "dtype: int64\n",
      "<class 'dict'>\n"
     ]
    }
   ],
   "source": [
    "# Lets say we have a dictionary that looks like this\n",
    "Pool_Records = {'Richard': 5,\n",
    "                'Solemon': 7,\n",
    "                'Richardo': 15} \n",
    "# Assuming the keys are the names of the clients and the numbers represent the total number logins they have performed\n",
    "# We can easily transfor the dictionary to a pandas series, for that we have to do: \n",
    "pandas_series = pd.Series(data = Pool_Records) \n",
    "print(pandas_series)\n",
    "# we could convert this pandas series back to the dictionary by using the .to_dict() function\n",
    "\n",
    "new_dict = pandas_series.to_dict()\n",
    "print(type(new_dict)) # Now this acts as a dictionary\n"
   ]
  },
  {
   "cell_type": "code",
   "execution_count": 13,
   "id": "bba2101f-81ca-4a29-b8f7-b6cae88dfcec",
   "metadata": {},
   "outputs": [
    {
     "name": "stdout",
     "output_type": "stream",
     "text": [
      "Rohit       162\n",
      "Gill        184\n",
      "Virat       185\n",
      "KL Rahul     13\n",
      "Hardik      120\n",
      "Jadeja      183\n",
      "Surya       123\n",
      "Panti       186\n",
      "dtype: int64\n"
     ]
    }
   ],
   "source": [
    "import random\n",
    "players = ['Rohit', 'Gill', 'Virat', 'KL Rahul', 'Hardik', 'Jadeja', 'Surya', 'Panti', 'Shami', 'Bumrah', 'Kuldeep'] # name of some players\n",
    "Scores_Dict = {player: random.randint(0,200) for player in players}\n",
    "# print(Scores_Dict)\n",
    "# Assigning to 0 values\n",
    "Scores_Dict['Raidu'] = 0 \n",
    "Scores_Dict['Rahane'] = 0\n",
    "\n",
    "series_1 = pd.Series(data = Scores_Dict)\n",
    "print(series_1.head(8))"
   ]
  },
  {
   "cell_type": "markdown",
   "id": "8c40c6b8-16fb-4ac6-88ff-e65845a187e3",
   "metadata": {},
   "source": [
    "#### Thing is with methods such as .isna , .notna etc you need not to write print all the time "
   ]
  },
  {
   "cell_type": "code",
   "execution_count": 14,
   "id": "c255b617-f44e-45bf-9667-a9e5d95befda",
   "metadata": {},
   "outputs": [
    {
     "data": {
      "text/plain": [
       "Rohit       False\n",
       "Gill        False\n",
       "Virat       False\n",
       "KL Rahul    False\n",
       "Hardik      False\n",
       "Jadeja      False\n",
       "Surya       False\n",
       "Panti       False\n",
       "Shami       False\n",
       "Bumrah      False\n",
       "Kuldeep     False\n",
       "Raidu       False\n",
       "Rahane      False\n",
       "dtype: bool"
      ]
     },
     "execution_count": 14,
     "metadata": {},
     "output_type": "execute_result"
    }
   ],
   "source": [
    "pd.isna(series_1) # This Checks whether the corresponding value is 0 or not\n",
    "pd.notna(series_1) # Does quite the opposite of the previous one\n",
    "# you could also do this instead\n",
    "series_1.isna() # Litrerally does the same thing as the first one"
   ]
  },
  {
   "cell_type": "code",
   "execution_count": 15,
   "id": "d114a53c-3e41-4160-90aa-d3998933d7d7",
   "metadata": {},
   "outputs": [
    {
     "name": "stdout",
     "output_type": "stream",
     "text": [
      "City: Las Vegas Rating: *****\n",
      "\n",
      "City: Boston Rating: ****\n",
      "\n",
      "City: New York Rating: ***\n",
      "\n",
      "City: Torronto Rating: *\n",
      "\n",
      "City: New Orleans Rating: ***\n",
      "\n",
      "Las Vegas     *****\n",
      "Torronto          *\n",
      "New Jersey      NaN\n",
      "California      NaN\n",
      "New York        ***\n",
      "Boston         ****\n",
      "dtype: object\n"
     ]
    }
   ],
   "source": [
    "# Just a random Dictionary\n",
    "\n",
    "lang = {'Las Vegas':'*****',\n",
    "        'Boston':'****',\n",
    "        'New York':'***',\n",
    "        'Torronto':'*',\n",
    "        'New Orleans':'***'}\n",
    "for key, values in lang.items():\n",
    "    print(f'City: {key} Rating: {values}\\n')\n",
    "\n",
    "# now we create another series obj on the converted version of this dict\n",
    "\n",
    "series2 = pd.Series(lang)\n",
    "cities = ['Las Vegas','Torronto','New Jersey','California','New York','Boston']\n",
    "series3 = pd.Series(lang, index = cities)\n",
    "print(series3) # This will keep the previous values but the new keys that we had put as index will be empty\n",
    "    "
   ]
  },
  {
   "cell_type": "markdown",
   "id": "23ee51c0-a98b-45c9-b919-9163485f3ba8",
   "metadata": {},
   "source": [
    "### DataFrame\n",
    "\n",
    "##### DataFrame represents a rectangular table of data and contains an ordered, named collection of columns,each of which can be a different value type(numeric, string, boolean).\n",
    "\n",
    "##### The DataFrame has both a row and column index; it can be thought of as a dictionary of Series all sharing the same index"
   ]
  },
  {
   "cell_type": "code",
   "execution_count": 16,
   "id": "08f47f70-91db-4cdb-90ed-39b178a34be8",
   "metadata": {},
   "outputs": [
    {
     "data": {
      "text/html": [
       "<div>\n",
       "<style scoped>\n",
       "    .dataframe tbody tr th:only-of-type {\n",
       "        vertical-align: middle;\n",
       "    }\n",
       "\n",
       "    .dataframe tbody tr th {\n",
       "        vertical-align: top;\n",
       "    }\n",
       "\n",
       "    .dataframe thead th {\n",
       "        text-align: right;\n",
       "    }\n",
       "</style>\n",
       "<table border=\"1\" class=\"dataframe\">\n",
       "  <thead>\n",
       "    <tr style=\"text-align: right;\">\n",
       "      <th></th>\n",
       "      <th>state</th>\n",
       "      <th>year</th>\n",
       "      <th>population</th>\n",
       "    </tr>\n",
       "  </thead>\n",
       "  <tbody>\n",
       "    <tr>\n",
       "      <th>0</th>\n",
       "      <td>California</td>\n",
       "      <td>2001</td>\n",
       "      <td>130000</td>\n",
       "    </tr>\n",
       "    <tr>\n",
       "      <th>1</th>\n",
       "      <td>Massachuttes</td>\n",
       "      <td>2001</td>\n",
       "      <td>140000</td>\n",
       "    </tr>\n",
       "    <tr>\n",
       "      <th>2</th>\n",
       "      <td>Washington</td>\n",
       "      <td>2003</td>\n",
       "      <td>90000</td>\n",
       "    </tr>\n",
       "    <tr>\n",
       "      <th>3</th>\n",
       "      <td>New York</td>\n",
       "      <td>2003</td>\n",
       "      <td>250000</td>\n",
       "    </tr>\n",
       "    <tr>\n",
       "      <th>4</th>\n",
       "      <td>New Orleans</td>\n",
       "      <td>2002</td>\n",
       "      <td>80000</td>\n",
       "    </tr>\n",
       "    <tr>\n",
       "      <th>5</th>\n",
       "      <td>Nevada</td>\n",
       "      <td>2004</td>\n",
       "      <td>56000</td>\n",
       "    </tr>\n",
       "  </tbody>\n",
       "</table>\n",
       "</div>"
      ],
      "text/plain": [
       "          state  year  population\n",
       "0    California  2001      130000\n",
       "1  Massachuttes  2001      140000\n",
       "2    Washington  2003       90000\n",
       "3      New York  2003      250000\n",
       "4   New Orleans  2002       80000\n",
       "5        Nevada  2004       56000"
      ]
     },
     "execution_count": 16,
     "metadata": {},
     "output_type": "execute_result"
    }
   ],
   "source": [
    "# This is what a typical tabular data structure looks like which is ready for transformation into a pandas DataFrame\n",
    "data = {'state':['California','Massachuttes','Washington','New York','New Orleans','Nevada'],\n",
    "        'year': [2001,2001,2003,2003,2002,2004],\n",
    "        'population': [130000,140000,90000,250000,80000,56000]}\n",
    "\n",
    "df = pd.DataFrame(data = data)\n",
    "df.head(6) # will only show the first 6 records"
   ]
  },
  {
   "cell_type": "code",
   "execution_count": 17,
   "id": "f9f3ea1c-2adb-4751-8679-507d4b72d8d9",
   "metadata": {},
   "outputs": [
    {
     "data": {
      "text/html": [
       "<div>\n",
       "<style scoped>\n",
       "    .dataframe tbody tr th:only-of-type {\n",
       "        vertical-align: middle;\n",
       "    }\n",
       "\n",
       "    .dataframe tbody tr th {\n",
       "        vertical-align: top;\n",
       "    }\n",
       "\n",
       "    .dataframe thead th {\n",
       "        text-align: right;\n",
       "    }\n",
       "</style>\n",
       "<table border=\"1\" class=\"dataframe\">\n",
       "  <thead>\n",
       "    <tr style=\"text-align: right;\">\n",
       "      <th></th>\n",
       "      <th>state</th>\n",
       "      <th>year</th>\n",
       "      <th>population</th>\n",
       "    </tr>\n",
       "  </thead>\n",
       "  <tbody>\n",
       "    <tr>\n",
       "      <th>1</th>\n",
       "      <td>Massachuttes</td>\n",
       "      <td>2001</td>\n",
       "      <td>140000</td>\n",
       "    </tr>\n",
       "    <tr>\n",
       "      <th>2</th>\n",
       "      <td>Washington</td>\n",
       "      <td>2003</td>\n",
       "      <td>90000</td>\n",
       "    </tr>\n",
       "    <tr>\n",
       "      <th>3</th>\n",
       "      <td>New York</td>\n",
       "      <td>2003</td>\n",
       "      <td>250000</td>\n",
       "    </tr>\n",
       "    <tr>\n",
       "      <th>4</th>\n",
       "      <td>New Orleans</td>\n",
       "      <td>2002</td>\n",
       "      <td>80000</td>\n",
       "    </tr>\n",
       "    <tr>\n",
       "      <th>5</th>\n",
       "      <td>Nevada</td>\n",
       "      <td>2004</td>\n",
       "      <td>56000</td>\n",
       "    </tr>\n",
       "  </tbody>\n",
       "</table>\n",
       "</div>"
      ],
      "text/plain": [
       "          state  year  population\n",
       "1  Massachuttes  2001      140000\n",
       "2    Washington  2003       90000\n",
       "3      New York  2003      250000\n",
       "4   New Orleans  2002       80000\n",
       "5        Nevada  2004       56000"
      ]
     },
     "execution_count": 17,
     "metadata": {},
     "output_type": "execute_result"
    }
   ],
   "source": [
    "df.tail() # will show the last 5 records"
   ]
  },
  {
   "cell_type": "code",
   "execution_count": 18,
   "id": "b58b08b9-448e-4262-ba37-16758e91c383",
   "metadata": {},
   "outputs": [
    {
     "data": {
      "text/html": [
       "<div>\n",
       "<style scoped>\n",
       "    .dataframe tbody tr th:only-of-type {\n",
       "        vertical-align: middle;\n",
       "    }\n",
       "\n",
       "    .dataframe tbody tr th {\n",
       "        vertical-align: top;\n",
       "    }\n",
       "\n",
       "    .dataframe thead th {\n",
       "        text-align: right;\n",
       "    }\n",
       "</style>\n",
       "<table border=\"1\" class=\"dataframe\">\n",
       "  <thead>\n",
       "    <tr style=\"text-align: right;\">\n",
       "      <th></th>\n",
       "      <th>States</th>\n",
       "      <th>Year</th>\n",
       "      <th>Population</th>\n",
       "    </tr>\n",
       "  </thead>\n",
       "  <tbody>\n",
       "    <tr>\n",
       "      <th>0</th>\n",
       "      <td>California</td>\n",
       "      <td>2001</td>\n",
       "      <td>130000</td>\n",
       "    </tr>\n",
       "    <tr>\n",
       "      <th>1</th>\n",
       "      <td>Massachuttes</td>\n",
       "      <td>2001</td>\n",
       "      <td>140000</td>\n",
       "    </tr>\n",
       "    <tr>\n",
       "      <th>2</th>\n",
       "      <td>Washington</td>\n",
       "      <td>2003</td>\n",
       "      <td>90000</td>\n",
       "    </tr>\n",
       "    <tr>\n",
       "      <th>3</th>\n",
       "      <td>New York</td>\n",
       "      <td>2003</td>\n",
       "      <td>250000</td>\n",
       "    </tr>\n",
       "    <tr>\n",
       "      <th>4</th>\n",
       "      <td>New Orleans</td>\n",
       "      <td>2002</td>\n",
       "      <td>80000</td>\n",
       "    </tr>\n",
       "  </tbody>\n",
       "</table>\n",
       "</div>"
      ],
      "text/plain": [
       "         States  Year  Population\n",
       "0    California  2001      130000\n",
       "1  Massachuttes  2001      140000\n",
       "2    Washington  2003       90000\n",
       "3      New York  2003      250000\n",
       "4   New Orleans  2002       80000"
      ]
     },
     "execution_count": 18,
     "metadata": {},
     "output_type": "execute_result"
    }
   ],
   "source": [
    "# You can also rename the columns\n",
    "df = df.rename(columns = {'state' : 'States','year' : 'Year', 'population' : 'Population'})\n",
    "df.head() # usually returns the top 5 rows in this case the name of the rows have been changed\n"
   ]
  },
  {
   "cell_type": "code",
   "execution_count": 19,
   "id": "76b0058e-54de-4e0a-98c4-74a897c27851",
   "metadata": {},
   "outputs": [
    {
     "name": "stdout",
     "output_type": "stream",
     "text": [
      "0      California\n",
      "1    Massachuttes\n",
      "2      Washington\n",
      "3        New York\n",
      "4     New Orleans\n",
      "5          Nevada\n",
      "Name: States, dtype: object\n",
      "\n",
      "\n"
     ]
    },
    {
     "data": {
      "text/plain": [
       "0    130000\n",
       "1    140000\n",
       "2     90000\n",
       "3    250000\n",
       "4     80000\n",
       "5     56000\n",
       "Name: Population, dtype: int64"
      ]
     },
     "execution_count": 19,
     "metadata": {},
     "output_type": "execute_result"
    }
   ],
   "source": [
    "# You can also extract out the values in specific columns\n",
    "print(df['States']) # Because we will need 2 out puts therefore before the last one we will have to use the print statement\n",
    "print(\"\\n\")\n",
    "df['Population']"
   ]
  },
  {
   "cell_type": "code",
   "execution_count": 20,
   "id": "dc05e672-041c-4984-8426-4b7ca62b00cf",
   "metadata": {},
   "outputs": [
    {
     "name": "stdout",
     "output_type": "stream",
     "text": [
      "<class 'pandas.core.series.Series'>\n"
     ]
    },
    {
     "data": {
      "text/plain": [
       "0    130000\n",
       "1    140000\n",
       "2     90000\n",
       "3    250000\n",
       "4     80000\n",
       "5     56000\n",
       "Name: Population, dtype: int64"
      ]
     },
     "execution_count": 20,
     "metadata": {},
     "output_type": "execute_result"
    }
   ],
   "source": [
    "print(type(df.Population)) # Just this is a series, combined with all of the others, it forms a True DataFrame\n",
    "df.Population"
   ]
  },
  {
   "cell_type": "code",
   "execution_count": 21,
   "id": "d60d295e-2b9f-4856-af9b-52a2406a331f",
   "metadata": {},
   "outputs": [
    {
     "name": "stdout",
     "output_type": "stream",
     "text": [
      "         States  Year  Population  Aqi  Crimes\n",
      "0    California  2001      130000  460      33\n",
      "1  Massachuttes  2001      140000  504      24\n",
      "2    Washington  2003       90000  452      29\n",
      "3      New York  2003      250000  549      15\n",
      "4   New Orleans  2002       80000   59      18\n",
      "5        Nevada  2004       56000  549      18\n"
     ]
    }
   ],
   "source": [
    "# now lets say your data has 3 columns but you wanted to add a new column, how wiil you do that and what will be stored in there?\n",
    "import random\n",
    "data = {'States':['California','Massachuttes','Washington','New York','New Orleans','Nevada'],\n",
    "        'Year': [2001,2001,2003,2003,2002,2004],\n",
    "        'Population': [130000,140000,90000,250000,80000,56000]}\n",
    "frame = pd.DataFrame(data = data, columns = ['States','Year','Population','Aqi','Crimes'])\n",
    "\n",
    "# This will drop thew empty columns\n",
    "# frame = frame.drop(columns = ['Aqi','Crimes'])\n",
    "\n",
    "# in case you mistakenly added the extra columns , here is away to change their datatypes\n",
    "\n",
    "frame['Aqi'] = pd.to_numeric(frame['Aqi'],errors = 'coerce')\n",
    "frame['Crimes'] = pd.to_numeric(frame['Crimes'],errors = 'coerce')\n",
    "\n",
    "# now we can fill in the Nans\n",
    "frame['Aqi'] = np.random.randint(50,600,size = len(frame))\n",
    "frame['Crimes'] = np.random.randint(10,50,size = len(frame))\n",
    "\n",
    "print(frame)"
   ]
  },
  {
   "cell_type": "code",
   "execution_count": 22,
   "id": "a578f517-2b02-4ed0-878c-afb2cc261ce0",
   "metadata": {},
   "outputs": [
    {
     "name": "stdout",
     "output_type": "stream",
     "text": [
      "         States  Year  Population  Aqi  Crimes  Eastern\n",
      "0    California  2001      130000  460      33     True\n",
      "1  Massachuttes  2001      140000  504      24     True\n",
      "2    Washington  2003       90000  452      29     True\n",
      "3      New York  2003      250000  549      15     True\n",
      "4   New Orleans  2002       80000   59      18    False\n",
      "5        Nevada  2004       56000  549      18     True\n",
      "\n",
      "         States  Year  Population  Aqi  Crimes\n",
      "0    California  2001      130000  460      33\n",
      "1  Massachuttes  2001      140000  504      24\n",
      "2    Washington  2003       90000  452      29\n",
      "3      New York  2003      250000  549      15\n",
      "4   New Orleans  2002       80000   59      18\n",
      "5        Nevada  2004       56000  549      18\n"
     ]
    }
   ],
   "source": [
    "# Lets talk about the del keyword, which will delete columns like with a dictionary. e.g - \n",
    "\n",
    "frame['Eastern'] = frame['Aqi'] > 200\n",
    "print(frame) # Will output an extra column, Eastern as its Header with Boolean values as its values\n",
    "\n",
    "del frame['Eastern']\n",
    "print(\"\")\n",
    "print(frame) # we have now deleted the extra boolean column"
   ]
  },
  {
   "cell_type": "code",
   "execution_count": 23,
   "id": "fc5f1373-d946-4e71-92dd-26ff7adb04a8",
   "metadata": {},
   "outputs": [
    {
     "data": {
      "text/html": [
       "<div>\n",
       "<style scoped>\n",
       "    .dataframe tbody tr th:only-of-type {\n",
       "        vertical-align: middle;\n",
       "    }\n",
       "\n",
       "    .dataframe tbody tr th {\n",
       "        vertical-align: top;\n",
       "    }\n",
       "\n",
       "    .dataframe thead th {\n",
       "        text-align: right;\n",
       "    }\n",
       "</style>\n",
       "<table border=\"1\" class=\"dataframe\">\n",
       "  <thead>\n",
       "    <tr style=\"text-align: right;\">\n",
       "      <th></th>\n",
       "      <th>one</th>\n",
       "      <th>two</th>\n",
       "    </tr>\n",
       "  </thead>\n",
       "  <tbody>\n",
       "    <tr>\n",
       "      <th>Ohio</th>\n",
       "      <td>0</td>\n",
       "      <td>1</td>\n",
       "    </tr>\n",
       "    <tr>\n",
       "      <th>Cincinati</th>\n",
       "      <td>2</td>\n",
       "      <td>3</td>\n",
       "    </tr>\n",
       "    <tr>\n",
       "      <th>New York</th>\n",
       "      <td>4</td>\n",
       "      <td>5</td>\n",
       "    </tr>\n",
       "    <tr>\n",
       "      <th>California</th>\n",
       "      <td>6</td>\n",
       "      <td>7</td>\n",
       "    </tr>\n",
       "    <tr>\n",
       "      <th>Kolkata</th>\n",
       "      <td>8</td>\n",
       "      <td>9</td>\n",
       "    </tr>\n",
       "    <tr>\n",
       "      <th>Delhi</th>\n",
       "      <td>10</td>\n",
       "      <td>11</td>\n",
       "    </tr>\n",
       "    <tr>\n",
       "      <th>Boston</th>\n",
       "      <td>12</td>\n",
       "      <td>13</td>\n",
       "    </tr>\n",
       "    <tr>\n",
       "      <th>Toronto</th>\n",
       "      <td>14</td>\n",
       "      <td>15</td>\n",
       "    </tr>\n",
       "  </tbody>\n",
       "</table>\n",
       "</div>"
      ],
      "text/plain": [
       "            one  two\n",
       "Ohio          0    1\n",
       "Cincinati     2    3\n",
       "New York      4    5\n",
       "California    6    7\n",
       "Kolkata       8    9\n",
       "Delhi        10   11\n",
       "Boston       12   13\n",
       "Toronto      14   15"
      ]
     },
     "execution_count": 23,
     "metadata": {},
     "output_type": "execute_result"
    }
   ],
   "source": [
    "# Here is a way to create a dataframe with some data taht you may find interesting\n",
    "data = pd.DataFrame(np.arange(16).reshape(8,2), index = ['Ohio','Cincinati','New York','California','Kolkata','Delhi','Boston','Toronto'],columns = ['one','two'])\n",
    "data # in the reshape the first one stands for the numbner of rows and the second one stands for the number of columns"
   ]
  },
  {
   "cell_type": "code",
   "execution_count": 24,
   "id": "955a707d-f436-40a0-b434-d1870b43a2fb",
   "metadata": {},
   "outputs": [
    {
     "data": {
      "text/html": [
       "<div>\n",
       "<style scoped>\n",
       "    .dataframe tbody tr th:only-of-type {\n",
       "        vertical-align: middle;\n",
       "    }\n",
       "\n",
       "    .dataframe tbody tr th {\n",
       "        vertical-align: top;\n",
       "    }\n",
       "\n",
       "    .dataframe thead th {\n",
       "        text-align: right;\n",
       "    }\n",
       "</style>\n",
       "<table border=\"1\" class=\"dataframe\">\n",
       "  <thead>\n",
       "    <tr style=\"text-align: right;\">\n",
       "      <th></th>\n",
       "      <th>one</th>\n",
       "    </tr>\n",
       "  </thead>\n",
       "  <tbody>\n",
       "    <tr>\n",
       "      <th>Cincinati</th>\n",
       "      <td>2</td>\n",
       "    </tr>\n",
       "    <tr>\n",
       "      <th>New York</th>\n",
       "      <td>4</td>\n",
       "    </tr>\n",
       "    <tr>\n",
       "      <th>California</th>\n",
       "      <td>6</td>\n",
       "    </tr>\n",
       "    <tr>\n",
       "      <th>Kolkata</th>\n",
       "      <td>8</td>\n",
       "    </tr>\n",
       "    <tr>\n",
       "      <th>Delhi</th>\n",
       "      <td>10</td>\n",
       "    </tr>\n",
       "    <tr>\n",
       "      <th>Toronto</th>\n",
       "      <td>14</td>\n",
       "    </tr>\n",
       "  </tbody>\n",
       "</table>\n",
       "</div>"
      ],
      "text/plain": [
       "            one\n",
       "Cincinati     2\n",
       "New York      4\n",
       "California    6\n",
       "Kolkata       8\n",
       "Delhi        10\n",
       "Toronto      14"
      ]
     },
     "execution_count": 24,
     "metadata": {},
     "output_type": "execute_result"
    }
   ],
   "source": [
    "new_data = data.drop(['Boston','Ohio'])\n",
    "deta = new_data.drop(columns = ['two'])\n",
    "deta"
   ]
  },
  {
   "cell_type": "markdown",
   "id": "ef13f072-0693-4643-ac45-3a7841111c5b",
   "metadata": {},
   "source": [
    "### Indexing , Selection, Filtering"
   ]
  },
  {
   "cell_type": "code",
   "execution_count": 25,
   "id": "dfec389f-a93c-4be2-8efe-9e2c8a9375ad",
   "metadata": {},
   "outputs": [
    {
     "name": "stdout",
     "output_type": "stream",
     "text": [
      "1.0 \n",
      "\n",
      "1.0 \n",
      "\n",
      "c    2.0\n",
      "d    3.0\n",
      "dtype: float64 \n",
      "\n",
      "a    0.0\n",
      "b    1.0\n",
      "c    2.0\n",
      "dtype: float64 \n",
      "\n",
      "a    0.0\n",
      "b    1.0\n",
      "dtype: float64\n"
     ]
    },
    {
     "name": "stderr",
     "output_type": "stream",
     "text": [
      "C:\\Users\\GOGOL\\AppData\\Local\\Temp\\ipykernel_11876\\1566361573.py:4: FutureWarning: Series.__getitem__ treating keys as positions is deprecated. In a future version, integer keys will always be treated as labels (consistent with DataFrame behavior). To access a value by position, use `ser.iloc[pos]`\n",
      "  print(obj[1],'\\n') # will return the same thing\n"
     ]
    }
   ],
   "source": [
    "# Follow Along the results\n",
    "obj = pd.Series(np.arange(4.),index = ['a','b','c','d'])\n",
    "print(obj['b'],'\\n') # this returns only b's value\n",
    "print(obj[1],'\\n') # will return the same thing\n",
    "\n",
    "# now let us do some slicing\n",
    "print(obj[2:4],'\\n') # will returned a sliced Series starting from c and ending at d as you could have already guessed\n",
    "# now if you want to return the mentioned columns\n",
    "print(obj[['a','b','c']],'\\n')\n",
    "# you could do the same by replacing [['a','b','c']] with [[0,3]] - this woulda done the same thing\n",
    "# interestingly we can also put a condition on the returnable output, like this\n",
    "\n",
    "print(obj[obj<2]) #  this scans through the values from the series and returns the ones that meet the condition\n"
   ]
  },
  {
   "cell_type": "markdown",
   "id": "a5e2b3ea-5e17-4bca-b447-a3359018f51a",
   "metadata": {},
   "source": [
    "### loc and iloc"
   ]
  },
  {
   "cell_type": "code",
   "execution_count": 26,
   "id": "e029d2f0-55df-4331-8013-bc6291bec666",
   "metadata": {},
   "outputs": [
    {
     "name": "stdout",
     "output_type": "stream",
     "text": [
      "0    2\n",
      "2    1\n",
      "dtype: int64\n",
      "a    1\n",
      "c    3\n",
      "dtype: int64\n"
     ]
    }
   ],
   "source": [
    "# let us create a fresh series\n",
    "obj1 = pd.Series([1,2,3], index = [2,0,1])\n",
    "obj2 = pd.Series([1,2,3], index = ['a','b','c'])\n",
    "# when using loc, the expression obj.loc[[0,1,2]] will fail when the index does not contain integers \n",
    "# like obj2.loc[[0,1]] - because with this one the index were a/b/c so \n",
    "# lets try with obj1\n",
    "print(obj1.loc[[0,2]]) # this returned the corresponding indexed values\n",
    "# similarly\n",
    "print(obj2.loc[['a','c']]) # here we have specified the column names so, we get the corresponding values"
   ]
  },
  {
   "cell_type": "code",
   "execution_count": 27,
   "id": "ef2a37f1-2157-4b77-92c8-f0d477267843",
   "metadata": {},
   "outputs": [
    {
     "name": "stdout",
     "output_type": "stream",
     "text": [
      "a    1\n",
      "b    2\n",
      "dtype: int64\n"
     ]
    }
   ],
   "source": [
    "# now iloc is quite catchy because with its help even if the index doesn't contain integer values,\n",
    "# you'll still be able to return them as needed with ints\n",
    "\n",
    "print(obj2.iloc[[0,1]]) # see we got the a and b"
   ]
  },
  {
   "cell_type": "code",
   "execution_count": 28,
   "id": "a5bbceb1-80ae-43f7-ae32-547c52604635",
   "metadata": {},
   "outputs": [
    {
     "name": "stdout",
     "output_type": "stream",
     "text": [
      "a    1\n",
      "b    2\n",
      "c    3\n",
      "dtype: int64\n"
     ]
    }
   ],
   "source": [
    "# We can Also Slice with labels, however it works a bit differently from normal python slicing,\n",
    "# (the endpoint of the slicing is actually included in the results which is usually not the case in python)\n",
    "\n",
    "print(obj2.loc['a':'c']) # this returns everything"
   ]
  },
  {
   "cell_type": "code",
   "execution_count": 29,
   "id": "9b494d2b-db2d-49bf-b7a3-e1c3f1e0fe7c",
   "metadata": {},
   "outputs": [
    {
     "name": "stdout",
     "output_type": "stream",
     "text": [
      "              TW3WH  MGSVPP   TFFXIV      FH5  RoadRash\n",
      "Copies Sold  535245  654550  1154103  4882177    989656\n"
     ]
    }
   ],
   "source": [
    "# lets do some real examples\n",
    "Games = ['TW3WH','MGSVPP','TFFXIV','FH5','RoadRash']\n",
    "copies_sold = np.random.randint(100000,5000000, size=len(Games))\n",
    "\n",
    "frame = pd.DataFrame(data = [copies_sold],\n",
    "                     index = ['Copies Sold'],\n",
    "                     columns = [items for items in Games])\n",
    "\n",
    "print(frame)\n",
    "\n",
    "# Understand this creation\n"
   ]
  },
  {
   "cell_type": "code",
   "execution_count": 30,
   "id": "a1920b2e-0d47-4716-97e9-1aa027bbe0a7",
   "metadata": {},
   "outputs": [
    {
     "name": "stdout",
     "output_type": "stream",
     "text": [
      "     one  two  three  four  five\n",
      "Kol    0    1      2     3     4\n",
      "Del    5    6      7     8     9\n",
      "Hyd   10   11     12    13    14\n",
      "Ban   15   16     17    18    19\n",
      "Koc   20   21     22    23    24 \n",
      "\n",
      "Kol     2\n",
      "Del     7\n",
      "Hyd    12\n",
      "Ban    17\n",
      "Koc    22\n",
      "Name: three, dtype: int64 \n",
      "\n"
     ]
    }
   ],
   "source": [
    "# Next DataFrame\n",
    "\n",
    "data = pd.DataFrame(np.arange(25).reshape((5,5)),\n",
    "index = ['Kol','Del','Hyd','Ban','Koc'],\n",
    "columns = ['one','two','three','four','five'])\n",
    "\n",
    "print(data,'\\n') # Full Dataframe formation\n",
    "print(data['three'],'\\n') # this only slices the column 'three'"
   ]
  },
  {
   "cell_type": "code",
   "execution_count": 31,
   "id": "774f9952-e75d-406c-ba95-856dcfe5c882",
   "metadata": {},
   "outputs": [
    {
     "name": "stdout",
     "output_type": "stream",
     "text": [
      "     one  four\n",
      "Kol    0     3\n",
      "Del    5     8\n",
      "Hyd   10    13\n",
      "Ban   15    18\n",
      "Koc   20    23 \n",
      "\n",
      "      one   two  three  four  five\n",
      "Kol   0.0   1.0    2.0   3.0   4.0\n",
      "Del   5.0   6.0    7.0   8.0   9.0\n",
      "Hyd  10.0  11.0   12.0  13.0   NaN\n",
      "Ban   NaN   NaN    NaN   NaN   NaN\n",
      "Koc   NaN   NaN    NaN   NaN   NaN \n",
      "\n",
      "       one    two  three   four   five\n",
      "Kol  False  False  False  False  False\n",
      "Del  False  False   True   True   True\n",
      "Hyd   True   True   True   True   True\n",
      "Ban   True   True   True   True   True\n",
      "Koc   True   True   True   True   True\n",
      "\n",
      "     one  two  three  four  five\n",
      "Kol   69   69     69    69    69\n",
      "Del   69   69     69    69    69\n",
      "Hyd   10   11     12    13    14\n",
      "Ban   15   16     17    18    19\n",
      "Koc   20   21     22    23    24\n"
     ]
    }
   ],
   "source": [
    "# lets play around with the dataframe a bit,\n",
    "print(data[['one','four']],'\\n')\n",
    "print(data[data<14],'\\n') # the values that have not met the condition, they will be replaced with NaN\n",
    "# interestingly if you just print(data>5) - this will return the dataframe with booleans that meet the condition and otherwise\n",
    "print(data>6) # Good, Right?\n",
    "# now lets say you want all the values to be greater than 10,\n",
    "data[data < 10] = np.random.randint(11,100) # this changes all those values to what ever this random function generates\n",
    "print(\"\")\n",
    "print(data) # because numpy is a vector type meaning all the operation are going to happen at once,"
   ]
  },
  {
   "cell_type": "code",
   "execution_count": 32,
   "id": "029db421-72a8-4e19-843f-ccab1d033df5",
   "metadata": {},
   "outputs": [
    {
     "name": "stdout",
     "output_type": "stream",
     "text": [
      "one      69\n",
      "two      69\n",
      "three    69\n",
      "four     69\n",
      "five     69\n",
      "Name: Kol, dtype: int64\n",
      "Kol    69\n",
      "Del    69\n",
      "Hyd    10\n",
      "Ban    15\n",
      "Koc    20\n",
      "Name: one, dtype: int64\n"
     ]
    }
   ],
   "source": [
    "# lets say we want to return a particular details of a row\n",
    "print(data.loc['Kol'])\n",
    "# we can also do this with the column\n",
    "print(data['one']) # however becuase normally loc is required to manipulate indexes, we need not use the loc function"
   ]
  },
  {
   "cell_type": "code",
   "execution_count": 33,
   "id": "727ebad1-8c4b-4cea-8346-3b6757e3d652",
   "metadata": {},
   "outputs": [
    {
     "name": "stdout",
     "output_type": "stream",
     "text": [
      "     one  two  three  four  five\n",
      "Del   69   69     69    69    69\n",
      "Ban   15   16     17    18    19\n",
      "Kol   69   69     69    69    69\n"
     ]
    }
   ],
   "source": [
    "# lets try to get some values from different cities\n",
    "print(data.loc[['Del','Ban','Kol']])"
   ]
  },
  {
   "cell_type": "code",
   "execution_count": 34,
   "id": "a8b990a5-a11f-4888-8a9a-9440f6011eaa",
   "metadata": {},
   "outputs": [
    {
     "data": {
      "text/plain": [
       "two     69\n",
       "four    69\n",
       "Name: Kol, dtype: int64"
      ]
     },
     "execution_count": 34,
     "metadata": {},
     "output_type": "execute_result"
    }
   ],
   "source": [
    "# Lets say we need to combine bith row and column selection in loc by seperating the selections with a comma,\n",
    "# this is how we'll do it\n",
    "data.loc['Kol',['two','four']] # take a closer look, the name of the frame is kol, meaning the two and four data columns are of city kol"
   ]
  },
  {
   "cell_type": "code",
   "execution_count": 35,
   "id": "bd529ac9-b21f-4cd1-8014-23552c58705b",
   "metadata": {},
   "outputs": [
    {
     "name": "stdout",
     "output_type": "stream",
     "text": [
      "one      20\n",
      "two      21\n",
      "three    22\n",
      "four     23\n",
      "five     24\n",
      "Name: Koc, dtype: int64\n"
     ]
    }
   ],
   "source": [
    "# lets asssume we needcity Koc's details, we do know that its in the 4th index so\n",
    "print(data.iloc[4]) # this returns all the relevant values stored for city koch in the dataframe"
   ]
  },
  {
   "cell_type": "code",
   "execution_count": 36,
   "id": "5388099d-ab66-4e07-86d1-8a1876c2efd4",
   "metadata": {},
   "outputs": [
    {
     "name": "stdout",
     "output_type": "stream",
     "text": [
      "     one  two  three  four  five\n",
      "Ban   15   16     17    18    19\n",
      "Del   69   69     69    69    69\n"
     ]
    }
   ],
   "source": [
    "# similarly how about we put two values in the bracketts?\n",
    "print(data.iloc[[3,1]]) # we used iloc because indexs are not int64\n",
    "# this returns the co-resspomding values of these two cities which were in the 3rd and 1st index"
   ]
  },
  {
   "cell_type": "code",
   "execution_count": 37,
   "id": "5a66d9bf-b6f2-404b-85ba-eceb28ad088b",
   "metadata": {},
   "outputs": [
    {
     "name": "stdout",
     "output_type": "stream",
     "text": [
      "Kol    69\n",
      "Del    69\n",
      "Hyd    14\n",
      "Ban    19\n",
      "Koc    24\n",
      "Name: five, dtype: int64 \n",
      "\n",
      "     one  two  three  four  five\n",
      "Kol   69   69     69    69    69\n",
      "Del   69   69     69    69    69\n",
      "Hyd   10   11     12    13    14\n",
      "Ban   15   16     17    18    19\n",
      "Koc   20   21     22    23    24\n"
     ]
    }
   ],
   "source": [
    "# lets say we have to Slice the indexes with the help of iloc staring from the beginning to the end\n",
    "print(data.iloc[:,4],'\\n') \n",
    "# see this returns the last column of all the cities, the name says five\n",
    "# now if you wanted to return everything\n",
    "print(data.iloc[:,:])"
   ]
  },
  {
   "cell_type": "code",
   "execution_count": 38,
   "id": "5b1c9ca8-cc12-4bc0-b3ab-91b92b938a2b",
   "metadata": {},
   "outputs": [
    {
     "data": {
      "text/html": [
       "<div>\n",
       "<style scoped>\n",
       "    .dataframe tbody tr th:only-of-type {\n",
       "        vertical-align: middle;\n",
       "    }\n",
       "\n",
       "    .dataframe tbody tr th {\n",
       "        vertical-align: top;\n",
       "    }\n",
       "\n",
       "    .dataframe thead th {\n",
       "        text-align: right;\n",
       "    }\n",
       "</style>\n",
       "<table border=\"1\" class=\"dataframe\">\n",
       "  <thead>\n",
       "    <tr style=\"text-align: right;\">\n",
       "      <th></th>\n",
       "      <th>one</th>\n",
       "      <th>two</th>\n",
       "      <th>three</th>\n",
       "      <th>four</th>\n",
       "      <th>five</th>\n",
       "    </tr>\n",
       "  </thead>\n",
       "  <tbody>\n",
       "    <tr>\n",
       "      <th>Hyd</th>\n",
       "      <td>10</td>\n",
       "      <td>11</td>\n",
       "      <td>12</td>\n",
       "      <td>13</td>\n",
       "      <td>14</td>\n",
       "    </tr>\n",
       "    <tr>\n",
       "      <th>Ban</th>\n",
       "      <td>15</td>\n",
       "      <td>16</td>\n",
       "      <td>17</td>\n",
       "      <td>18</td>\n",
       "      <td>19</td>\n",
       "    </tr>\n",
       "    <tr>\n",
       "      <th>Koc</th>\n",
       "      <td>20</td>\n",
       "      <td>21</td>\n",
       "      <td>22</td>\n",
       "      <td>23</td>\n",
       "      <td>24</td>\n",
       "    </tr>\n",
       "  </tbody>\n",
       "</table>\n",
       "</div>"
      ],
      "text/plain": [
       "     one  two  three  four  five\n",
       "Hyd   10   11     12    13    14\n",
       "Ban   15   16     17    18    19\n",
       "Koc   20   21     22    23    24"
      ]
     },
     "execution_count": 38,
     "metadata": {},
     "output_type": "execute_result"
    }
   ],
   "source": [
    "# now lets say on top of filtering these values, you want to put a condition\n",
    "# here is how you will do it\n",
    "data.iloc[:,:][ data.one < 30]\n",
    "# this returned the matching records the .iloc[:,:] - this is all \n",
    "# and the data.one meaning the cities which had their one column values higher than 10"
   ]
  },
  {
   "cell_type": "code",
   "execution_count": 39,
   "id": "ff0ed5ec-f4f9-409a-9458-672079806f3d",
   "metadata": {},
   "outputs": [],
   "source": [
    "# lets say you use the someseries[-1], what will happen?\n",
    "\n",
    "# A_Series = pd.Series(np.arange(24))\n",
    "# print(A_Series)\n",
    "# try:\n",
    "#     print(A_Series[-1])\n",
    "# except IndexError as e:\n",
    "#     print(f'This is the issue {e}')\n",
    "# throws an error because pandas Series dont work like tuples or lists"
   ]
  },
  {
   "cell_type": "code",
   "execution_count": 40,
   "id": "4ce5fa30-1d1a-4dc9-b63c-c307900b0a4b",
   "metadata": {},
   "outputs": [
    {
     "name": "stdout",
     "output_type": "stream",
     "text": [
      "a    0.0\n",
      "b    1.0\n",
      "c    2.0\n",
      "dtype: float64 \n",
      "\n",
      "1.0\n",
      "a    0.0\n",
      "b    1.0\n",
      "dtype: float64\n"
     ]
    },
    {
     "name": "stderr",
     "output_type": "stream",
     "text": [
      "C:\\Users\\GOGOL\\AppData\\Local\\Temp\\ipykernel_11876\\1805340392.py:3: FutureWarning: Series.__getitem__ treating keys as positions is deprecated. In a future version, integer keys will always be treated as labels (consistent with DataFrame behavior). To access a value by position, use `ser.iloc[pos]`\n",
      "  print(ser2[-2])\n"
     ]
    }
   ],
   "source": [
    "ser2 = pd.Series(np.arange(3.), index = ['a','b','c'])\n",
    "print(ser2,'\\n')\n",
    "print(ser2[-2])\n",
    "# this will return b's value because its in the second position\n",
    "print(ser2[:2])"
   ]
  },
  {
   "cell_type": "code",
   "execution_count": 41,
   "id": "6f1d4888-bc54-413d-a32c-d2ddb4f294eb",
   "metadata": {},
   "outputs": [
    {
     "name": "stdout",
     "output_type": "stream",
     "text": [
      "     one  two  three  four  five\n",
      "Kol    1   69     69    69    69\n",
      "Del    1   69     69    69    69\n",
      "Hyd    1   11     12    13    14\n",
      "Ban    1   16     17    18    19\n",
      "Koc    1   21     22    23    24\n"
     ]
    }
   ],
   "source": [
    "# lets say we need to replace all the values of a column\n",
    "data.loc[:,\"one\"] = 1 # this will replace all the values of the one column for a,b,c\n",
    "print(data)"
   ]
  },
  {
   "cell_type": "code",
   "execution_count": 42,
   "id": "0da1f8c2-070c-4b06-bfea-3796a2d08e35",
   "metadata": {},
   "outputs": [
    {
     "name": "stdout",
     "output_type": "stream",
     "text": [
      "     one  two  three  four  five\n",
      "Kol    3    3      3     3     3\n",
      "Del    3    3      3     3     3\n",
      "Hyd    1   11     12    13    14\n",
      "Ban    3    3      3     3     3\n",
      "Koc    3    3      3     3     3\n"
     ]
    }
   ],
   "source": [
    "# if you wanted to replace with condition, this is what you will have to do\n",
    "data.loc[data['three'] > 15] = 3\n",
    "print(data)\n",
    "# the affected cells are the ones which had values higher than 15"
   ]
  },
  {
   "cell_type": "markdown",
   "id": "5eae0e87-8ab9-4c49-84a4-a4cd3425dc95",
   "metadata": {},
   "source": [
    "### Arithmetic and Data Alignment"
   ]
  },
  {
   "cell_type": "code",
   "execution_count": 43,
   "id": "4774ba88-4ad2-4fc0-8486-e38a9d488a79",
   "metadata": {},
   "outputs": [
    {
     "name": "stdout",
     "output_type": "stream",
     "text": [
      "a    7.3\n",
      "c   -2.5\n",
      "d    3.4\n",
      "e    1.5\n",
      "dtype: float64 \n",
      "\n",
      "a   -2.1\n",
      "c    2.0\n",
      "e    3.6\n",
      "f    4.0\n",
      "g    3.1\n",
      "dtype: float64 \n",
      "\n",
      "a    5.2\n",
      "c   -0.5\n",
      "d    NaN\n",
      "e    5.1\n",
      "f    NaN\n",
      "g    NaN\n",
      "dtype: float64 \n",
      "\n"
     ]
    }
   ],
   "source": [
    "s1 = pd.Series([7.3,-2.5,3.4,1.5], index = ['a','c','d','e'])\n",
    "s2 = pd.Series([-2.1,2.0,3.6,4.0,3.1], index = ['a','c','e','f','g'])\n",
    "\n",
    "print(s1,'\\n')\n",
    "print(s2,'\\n')\n",
    "\n",
    "print(s1+s2,'\\n') # the rows that don't match between these two series won't connect and will return NaN inplace"
   ]
  },
  {
   "cell_type": "code",
   "execution_count": 44,
   "id": "3bcfd3d9-b575-4d81-bad8-043d5f6f0f08",
   "metadata": {},
   "outputs": [
    {
     "name": "stdout",
     "output_type": "stream",
     "text": [
      "   omega  alpha  beta\n",
      "a    NaN    NaN   NaN\n",
      "b    NaN    NaN   NaN\n",
      "c    NaN    NaN   NaN\n",
      "d    NaN    NaN   NaN\n",
      "e    NaN    NaN   NaN\n",
      "f    NaN    NaN   NaN \n",
      "\n"
     ]
    }
   ],
   "source": [
    "# This will follow onto the DataFrames similarly, so I won't be showing that or you know what maybe I will\n",
    "df1 = pd.DataFrame(np.arange(9).reshape(3,3),index = ['a','c','e'], columns = ['omega','alpha','beta'])\n",
    "df2 = pd.DataFrame(np.arange(9).reshape(3,3), index = ['b','d','f'], columns = ['omega','alpha','beta'])\n",
    "\n",
    "print(df1+df2,'\\n') # as you could have already guesses, yes because there were no matching rows everything will be null"
   ]
  },
  {
   "cell_type": "code",
   "execution_count": 45,
   "id": "d3705c92-e6ce-4557-8df6-7197fce80c8f",
   "metadata": {},
   "outputs": [
    {
     "name": "stdout",
     "output_type": "stream",
     "text": [
      "   omega  alpha  beta\n",
      "a    0.0    1.0   2.0\n",
      "b    0.0    1.0   2.0\n",
      "c    3.0    4.0   5.0\n",
      "d    3.0    4.0   5.0\n",
      "e    6.0    7.0   8.0\n",
      "f    6.0    7.0   8.0\n"
     ]
    }
   ],
   "source": [
    "# however, there is a way to prevent this from happening and actually replacing the missing values with 0\n",
    "# lets try it\n",
    "print(df1.add(df2,fill_value = 0)) # see the magic, the non-present values were replaced by 0"
   ]
  },
  {
   "cell_type": "code",
   "execution_count": 46,
   "id": "b515d7ba-d880-40f5-88e8-41a3bbc3fd7c",
   "metadata": {},
   "outputs": [
    {
     "name": "stdout",
     "output_type": "stream",
     "text": [
      "      omega     alpha   beta\n",
      "a       inf  1.000000  0.500\n",
      "b       inf  1.000000  0.500\n",
      "c  0.333333  0.250000  0.200\n",
      "d  0.333333  0.250000  0.200\n",
      "e  0.166667  0.142857  0.125\n",
      "f  0.166667  0.142857  0.125\n"
     ]
    }
   ],
   "source": [
    "# lets now see how the pandas dataframe handles infinity values, for that we can do this\n",
    "print(1/df1.add(df2,fill_value = 0)) # as we can see, the infinities are represented as inf\n",
    "# and remember Pandas is a vectorized thing, so all the operations are operated on all of them at once if not specified "
   ]
  },
  {
   "cell_type": "code",
   "execution_count": 47,
   "id": "b5e6f9d2-91fd-4b38-a74b-5f9082ab1b40",
   "metadata": {},
   "outputs": [
    {
     "name": "stdout",
     "output_type": "stream",
     "text": [
      "[[ 0.  0.  0.  0.]\n",
      " [ 4.  4.  4.  4.]\n",
      " [ 8.  8.  8.  8.]\n",
      " [12. 12. 12. 12.]]\n"
     ]
    }
   ],
   "source": [
    "# let me show you a sort of interesting thing, say\n",
    "array = np.arange(16.).reshape(4,4)\n",
    "print(array - array[0]) # so much symmetry, right?"
   ]
  },
  {
   "cell_type": "markdown",
   "id": "3c0acf07-5664-47fc-9123-fd235ef32c82",
   "metadata": {},
   "source": [
    "### Functions and Mapping"
   ]
  },
  {
   "cell_type": "code",
   "execution_count": 48,
   "id": "b3075189-1839-4d40-b03c-d2664bafda0a",
   "metadata": {},
   "outputs": [
    {
     "name": "stdout",
     "output_type": "stream",
     "text": [
      "                  a         b         c         d\n",
      "Kolkata    0.714239 -0.650867 -1.136870  0.211169\n",
      "Mumbai    -0.473777 -0.832302 -0.526599 -1.058064\n",
      "Bangalore  0.232687  0.096265 -0.491450  1.045755\n",
      "Delhi     -0.402157  0.304995  0.580721 -1.715713 \n",
      "\n",
      "                  a         b         c         d\n",
      "Kolkata    0.714239  0.650867  1.136870  0.211169\n",
      "Mumbai     0.473777  0.832302  0.526599  1.058064\n",
      "Bangalore  0.232687  0.096265  0.491450  1.045755\n",
      "Delhi      0.402157  0.304995  0.580721  1.715713\n"
     ]
    }
   ],
   "source": [
    "frame = pd.DataFrame(np.random.standard_normal((4,4)), columns = list('abcd'), index = ['Kolkata','Mumbai','Bangalore','Delhi'])\n",
    "\n",
    "print(frame,'\\n') \n",
    "\n",
    "print(np.abs(frame)) # as some of you may have already guessed, this will remove the '-' signs from the values within the the dataframe"
   ]
  },
  {
   "cell_type": "code",
   "execution_count": 49,
   "id": "b51d65cc-36b9-4e80-9754-f47126387af6",
   "metadata": {},
   "outputs": [
    {
     "name": "stdout",
     "output_type": "stream",
     "text": [
      "a    1.188016\n",
      "b    1.137297\n",
      "c    1.717591\n",
      "d    2.761469\n",
      "dtype: float64\n"
     ]
    }
   ],
   "source": [
    "# lets make a function and then apply it on the DataFrame\n",
    "def f1(x):\n",
    "    return x.max() - x.min()\n",
    "\n",
    "\n",
    "print(frame.apply(f1)) # per column this returns the (max - min) value\n",
    "# ^\n",
    "# |\n",
    "# |\n",
    "# |\n",
    "# ^"
   ]
  },
  {
   "cell_type": "code",
   "execution_count": 50,
   "id": "0e3c40f8-d85d-47b3-b9a2-06b861aa8213",
   "metadata": {},
   "outputs": [
    {
     "name": "stdout",
     "output_type": "stream",
     "text": [
      "Kolkata      1.851109\n",
      "Mumbai       0.584288\n",
      "Bangalore    1.537205\n",
      "Delhi        2.296434\n",
      "dtype: float64\n"
     ]
    }
   ],
   "source": [
    "# Now lets say we want to apply this through the rows\n",
    "\n",
    "print(frame.apply(f1, axis = 'columns'))\n",
    "# see now this returns the row wise, which might be a bit confusing now lets visualize it \n",
    "# <------->"
   ]
  },
  {
   "cell_type": "code",
   "execution_count": 51,
   "id": "817171c9-3c6c-4b6c-b77f-7e7f14868d51",
   "metadata": {},
   "outputs": [
    {
     "name": "stdout",
     "output_type": "stream",
     "text": [
      "                a       b       c       d\n",
      "Kolkata     0.714  -0.651  -1.137   0.211\n",
      "Mumbai     -0.474  -0.832  -0.527  -1.058\n",
      "Bangalore   0.233   0.096  -0.491   1.046\n",
      "Delhi      -0.402   0.305   0.581  -1.716\n"
     ]
    }
   ],
   "source": [
    "# We can also apply some formatting according to our needs, e.g\n",
    "def my_format(x):\n",
    "    return f'{x:.3f}'\n",
    "\n",
    "print(frame.map(my_format)) # this does the thing"
   ]
  },
  {
   "cell_type": "markdown",
   "id": "b8d0835b-e572-40f4-9e58-0429d3a81274",
   "metadata": {},
   "source": [
    "### Sorting and Ranking"
   ]
  },
  {
   "cell_type": "code",
   "execution_count": 52,
   "id": "860b2401-dc91-4f5d-9ccf-d85765fc7d66",
   "metadata": {},
   "outputs": [
    {
     "name": "stdout",
     "output_type": "stream",
     "text": [
      "d    0\n",
      "c    1\n",
      "b    2\n",
      "a    3\n",
      "dtype: int64\n",
      "a    3\n",
      "b    2\n",
      "c    1\n",
      "d    0\n",
      "dtype: int64\n"
     ]
    }
   ],
   "source": [
    "# Sorting a dataset by some crieterion is another important built-in operation. To sort lexicographically by row or column label, \n",
    "# use the sort_index method, which returns a new sorted object\n",
    "\n",
    "# obj = pd.DataFrame(np.arange(4),index = ['a','b','c','d'],columns = ['values'])\n",
    "# print(obj)\n",
    "\n",
    "obj = pd.Series(np.arange(4), index = ['d','c','b','a'])\n",
    "print(obj)\n",
    "\n",
    "print(obj.sort_index()) # this sorts the series indexwise"
   ]
  },
  {
   "cell_type": "code",
   "execution_count": 53,
   "id": "43352681-3c7b-4798-8cdb-20ef8a85a9c6",
   "metadata": {},
   "outputs": [
    {
     "name": "stdout",
     "output_type": "stream",
     "text": [
      "        a   d   b   c\n",
      "four    0   1   2   3\n",
      "six     4   5   6   7\n",
      "one     8   9  10  11\n",
      "three  12  13  14  15\n",
      "two    16  17  18  19\n",
      "five   20  21  22  23\n",
      "        a   b   c   d\n",
      "four    0   2   3   1\n",
      "six     4   6   7   5\n",
      "one     8  10  11   9\n",
      "three  12  14  15  13\n",
      "two    16  18  19  17\n",
      "five   20  22  23  21\n"
     ]
    }
   ],
   "source": [
    "# with a DataFrame, you can sort by index on either axis\n",
    "\n",
    "frame = pd.DataFrame(np.arange(24).reshape((6,4)),index = ['four','six','one','three','two','five'],columns = ['a','d','b','c'])\n",
    "print(frame)\n",
    "\n",
    "# lets first sort the frame by column\n",
    "print(frame.sort_index(axis = 'columns'))\n",
    "# lets now assign this one a pointer \n",
    "column_sorted_frame = frame.sort_index(axis = 'columns') # in here if you add ascending = False\n",
    "\n",
    "                     "
   ]
  },
  {
   "cell_type": "code",
   "execution_count": 54,
   "id": "6ff023e5-f5e7-4229-a6d2-da2689ba0c0b",
   "metadata": {},
   "outputs": [
    {
     "name": "stdout",
     "output_type": "stream",
     "text": [
      "4     1\n",
      "1     2\n",
      "3     3\n",
      "0     6\n",
      "5     6\n",
      "2     9\n",
      "6    10\n",
      "dtype: int64\n"
     ]
    }
   ],
   "source": [
    "# we can also sort series by values like this in here\n",
    "obj = pd.Series([6,2,9,3,1,6,10])\n",
    "print(obj.sort_values()) # on the left side you can see the indexes"
   ]
  },
  {
   "cell_type": "code",
   "execution_count": 55,
   "id": "df846aa4-599a-470e-8797-da65df70465a",
   "metadata": {},
   "outputs": [
    {
     "name": "stdout",
     "output_type": "stream",
     "text": [
      "5   -6.0\n",
      "4   -1.0\n",
      "0    4.0\n",
      "2    5.0\n",
      "1    NaN\n",
      "3    NaN\n",
      "dtype: float64\n",
      "\n",
      "1    NaN\n",
      "3    NaN\n",
      "5   -6.0\n",
      "4   -1.0\n",
      "0    4.0\n",
      "2    5.0\n",
      "dtype: float64\n"
     ]
    }
   ],
   "source": [
    "# in case you want to pass some NaN values\n",
    "obj = pd.Series([4,np.nan,5,np.nan,-1,-6])\n",
    "print(obj.sort_values())\n",
    "print(\"\")\n",
    "# now interestingly you can pu the nan values first by using this feature\n",
    "print(obj.sort_values(na_position = 'first'))"
   ]
  },
  {
   "cell_type": "code",
   "execution_count": 56,
   "id": "79d86ebb-129f-43af-a61e-dbfb8a954643",
   "metadata": {},
   "outputs": [
    {
     "name": "stdout",
     "output_type": "stream",
     "text": [
      "   b  a\n",
      "1  2  2\n",
      "3  1  3\n",
      "0  4  5\n",
      "2  3  6\n"
     ]
    }
   ],
   "source": [
    "new_frame = pd.DataFrame({'b':[4,2,3,1],\n",
    "                          'a':[5,2,6,3]})\n",
    "\n",
    "# lets sort this frame by values present in the two columns , one by one\n",
    "print(new_frame.sort_values(['a','b'])) # first by the values in a and then keeping them in-tact,\n",
    "# b rearranges itself as much as possible (don;t get the literal meaning see it for yourself first) \n",
    "# see the index position in the first non-named column, thats where you find the trick"
   ]
  },
  {
   "cell_type": "code",
   "execution_count": 57,
   "id": "37eb8e76-d87d-4c2b-99e9-ce762951ec4d",
   "metadata": {},
   "outputs": [
    {
     "name": "stdout",
     "output_type": "stream",
     "text": [
      "0    7.0\n",
      "1    4.5\n",
      "2    9.0\n",
      "3    6.0\n",
      "4    3.0\n",
      "5    8.0\n",
      "6    4.5\n",
      "7    2.0\n",
      "8    1.0\n",
      "dtype: float64\n"
     ]
    }
   ],
   "source": [
    "# Lets Learn about Rank method\n",
    "# Ranking assings ranks from one through the number of valid data points in an array starting from the lowest value\n",
    "obj = pd.Series([6,2,34,3,1,7,2,-2,-78])\n",
    "print(obj.rank()) # see the last element which is -78 got rank 1.0 followed by 2.0 for -2, because that was bigger than it and rest follows"
   ]
  },
  {
   "cell_type": "code",
   "execution_count": 58,
   "id": "905f563d-3625-4ce8-a2f5-5e747d88d72f",
   "metadata": {},
   "outputs": [
    {
     "name": "stdout",
     "output_type": "stream",
     "text": [
      "0    7.0\n",
      "1    4.0\n",
      "2    9.0\n",
      "3    6.0\n",
      "4    3.0\n",
      "5    8.0\n",
      "6    5.0\n",
      "7    2.0\n",
      "8    1.0\n",
      "dtype: float64\n"
     ]
    }
   ],
   "source": [
    "# ranks can also be assigned according to the order in which they're observed in the data\n",
    "# lets try that again \n",
    "print(obj.rank(method = 'first')) # the main difference you will notice\n",
    "# that on the main series the values in index 1 and 6 were the same but as the first 2 was discovered earlier so it became 4.0 and the latter one became 5.0\n"
   ]
  },
  {
   "cell_type": "code",
   "execution_count": 59,
   "id": "193cdbc7-d5b0-4d12-87c3-51afaff2a598",
   "metadata": {},
   "outputs": [
    {
     "name": "stdout",
     "output_type": "stream",
     "text": [
      "     B    A    C\n",
      "0  1.0  2.0  3.0\n",
      "1  1.5  1.5  3.0\n",
      "2  1.0  2.0  3.0\n",
      "3  1.5  1.5  3.0\n",
      "4  3.0  1.0  2.0\n",
      "     B    A    C\n",
      "0  1.0  2.0  3.0\n",
      "1  1.0  2.0  3.0\n",
      "2  1.0  2.0  3.0\n",
      "3  1.0  2.0  3.0\n",
      "4  3.0  1.0  2.0\n"
     ]
    }
   ],
   "source": [
    "# let us try thr rank method with a dataframe now\n",
    "frame = pd.DataFrame({'B':[6,2,3,1,9],'A':[8,2,5,1,4],'C':[10,3,7,2,6]})\n",
    "print(frame.rank(axis = 1)) # the scanner scans through like hoeizontally < ---- >\n",
    "# lets try the other ranking method\n",
    "print(frame.rank(axis=1, method = 'first')) # thing is if we don;t use the first thing, the values that are the same will have same rank like 1.5 and 1.5 \n",
    "# but with this the rank will change 1.0, 2.0, 3.0 like this"
   ]
  },
  {
   "cell_type": "code",
   "execution_count": 60,
   "id": "d3a8e34e-1547-46ae-b551-b24a435e660c",
   "metadata": {},
   "outputs": [
    {
     "name": "stdout",
     "output_type": "stream",
     "text": [
      "c    0\n",
      "a    1\n",
      "c    2\n",
      "c    3\n",
      "b    4\n",
      "dtype: int64\n"
     ]
    },
    {
     "data": {
      "text/plain": [
       "False"
      ]
     },
     "execution_count": 60,
     "metadata": {},
     "output_type": "execute_result"
    }
   ],
   "source": [
    "# lets say you have a data frame or series that has a lot of indexes and you want to find out if there are duplictes or not\n",
    "non_unique_frame = pd.Series(np.arange(5),index = ['c','a','c','c','b'])\n",
    "print(non_unique_frame)\n",
    "non_unique_frame.index.is_unique # as usual returns false"
   ]
  },
  {
   "cell_type": "code",
   "execution_count": 61,
   "id": "a6c71c1c-16b7-4509-952b-805dff392806",
   "metadata": {},
   "outputs": [
    {
     "name": "stdout",
     "output_type": "stream",
     "text": [
      "        STR  SPEED  DEF  END\n",
      "Broly    13     72   51    8\n",
      "Goku     18      5   34   68\n",
      "Vegeta   31     76    5   90\n",
      "Gohan    17     73   49   42\n"
     ]
    }
   ],
   "source": [
    "# random frame creation\n",
    "frame_randiom = pd.DataFrame(np.random.randint(1,100,size = 16).reshape((4,4)),\n",
    "                             index = ['Broly','Goku','Vegeta','Gohan'],\n",
    "                             columns = ['STR','SPEED','DEF','END'])\n",
    "print(frame_randiom)"
   ]
  },
  {
   "cell_type": "markdown",
   "id": "4452f7ec-67dd-4c8d-acd5-b2f638b6a800",
   "metadata": {},
   "source": [
    "### Data Loading, Storage, and File Formats"
   ]
  },
  {
   "cell_type": "markdown",
   "id": "7f304fb3-1d86-4b11-aa6d-8871dada0368",
   "metadata": {},
   "source": [
    "#### read_csv -->\n",
    "###### Load delimited data from a file, URL, or file-like object; use comma as a default delimiter\n",
    "#### read_fwf -->\n",
    "###### Read data \n",
    "#### read_clipboard -->\n",
    "###### variation of read_csv that reads data from the cilpboard; useful for converting tables from web pages\n",
    "#### read_excel -->\n",
    "###### Read tabular data from a Excel XLS or XLSX file\n",
    "#### read_hdf -->\n",
    "###### Read HDF5 files written by pandas \n",
    "#### read_html -->\n",
    "###### Read all tabes found in the given HTML document"
   ]
  },
  {
   "cell_type": "markdown",
   "id": "0cf4a2b3-db7a-4753-8208-1d4acc5860e1",
   "metadata": {},
   "source": [
    "#### read_json -->\n",
    "###### Read data from a JSON string representation, file, ULR, or file-like object\n",
    "#### read_feather -->\n",
    "###### Read the Feather binary format\n",
    "#### read_orc -->\n",
    "###### Read the Apache ORC binary file format\n",
    "#### read_parquet -->\n",
    "###### Read the Apache Paquet binary file format\n",
    "#### read_pickle -->\n",
    "###### Read an object stored by pandas using the python pickle format\n"
   ]
  },
  {
   "cell_type": "markdown",
   "id": "0c3d8cad-e925-458d-998b-311badb3e373",
   "metadata": {},
   "source": [
    "#### read_sas -->\n",
    "###### Read a SAS dataset stored byb pandas using the Python pickle format\n",
    "#### read_spss -->\n",
    "###### Read a data file created by SPSS\n",
    "#### read_sql -->\n",
    "###### Read the results of a SQL query(using SQLAlchemy)\n",
    "#### read_sql_table -->\n",
    "###### Read a whole SQL table(using SQL ALchemy); equivalent to using a query that selects everything in that table using read_sql\n",
    "#### read_stata -->\n",
    "###### Read a dataset from Stata file format\n",
    "#### read_xml --> \n",
    "###### Read a table of data from an XML file"
   ]
  },
  {
   "cell_type": "code",
   "execution_count": 62,
   "id": "66b1033e-b9bb-4fbf-9cc2-c92ea9d5acf5",
   "metadata": {},
   "outputs": [
    {
     "name": "stdout",
     "output_type": "stream",
     "text": [
      "                 Name  Age     Sax  Height(cm)\n",
      "Serial No                                     \n",
      "0           Swapnanil   25    Male         176\n",
      "1            Anshuman   27    Male         162\n",
      "2              Sunavo   24    Male         163\n",
      "3          Saptarsshi   25    Male         168\n",
      "4               Ritom   29    Male         157\n",
      "5             Syudney   32  Female         165\n",
      "6              Rafael   22    Male         181\n",
      "7               Sofia   25  Female         175\n",
      "8            Anveeksh   29    Male         182\n",
      "9              Soumik   27    Male         161\n",
      "10          Debosmita   29  Female         177\n",
      "11          Ritoborti   32  Female         161\n"
     ]
    }
   ],
   "source": [
    "# using the pd.read_csv to use a pointer to the newly_initiated dataframe\n",
    "df = pd.read_csv('C:\\\\Users\\\\GOGOL\\\\Downloads\\\\Python_Readable_csvs.csv') \n",
    "df.index.name = 'Serial No'\n",
    "print(df)"
   ]
  },
  {
   "cell_type": "code",
   "execution_count": 63,
   "id": "fbbf1552-aa96-48f9-a1b7-fed785d172cb",
   "metadata": {},
   "outputs": [],
   "source": [
    "# lets say we want to not use the headers in that case,\n",
    "# ('path',header = None) this will change the headers to 0 1 2 3 4"
   ]
  },
  {
   "cell_type": "code",
   "execution_count": 64,
   "id": "f7a1b886-52ca-4760-bcb6-fb286449db5f",
   "metadata": {},
   "outputs": [
    {
     "name": "stdout",
     "output_type": "stream",
     "text": [
      "                   Nam Boyos     Sux     Ucchata\n",
      "Serial No.                                      \n",
      "0                 Name   Age     Sax  Height(cm)\n",
      "1            Swapnanil    25    Male         176\n",
      "2             Anshuman    27    Male         162\n",
      "3               Sunavo    24    Male         163\n",
      "4           Saptarsshi    25    Male         168\n",
      "5                Ritom    29    Male         157\n",
      "6              Syudney    32  Female         165\n",
      "7               Rafael    22    Male         181\n",
      "8                Sofia    25  Female         175\n",
      "9             Anveeksh    29    Male         182\n",
      "10              Soumik    27    Male         161\n",
      "11           Debosmita    29  Female         177\n",
      "12           Ritoborti    32  Female         161\n"
     ]
    }
   ],
   "source": [
    "# if you wish to customize the headers then use this \n",
    "df2 = pd.read_csv('C:\\\\Users\\\\GOGOL\\\\Downloads\\\\Python_Readable_csvs.csv',names = ['Nam','Boyos','Sux','Ucchata'])\n",
    "df2.index.name = 'Serial No.'\n",
    "print(df2) # see the magik here"
   ]
  },
  {
   "cell_type": "code",
   "execution_count": 65,
   "id": "6bb322e0-892e-430f-9fb2-593115bb699b",
   "metadata": {},
   "outputs": [
    {
     "name": "stdout",
     "output_type": "stream",
     "text": [
      "                     Name  Age     Sex      Height\n",
      "Surnames             Name  Age     Sax  Height(cm)\n",
      "Bala            Swapnanil   25    Male         176\n",
      "Shingh           Anshuman   27    Male         162\n",
      "Roy Chowdhury      Sunavo   24    Male         163\n",
      "Biswas         Saptarsshi   25    Male         168\n",
      "Chakrobarty         Ritom   29    Male         157\n",
      "Sins              Syudney   32  Female         165\n",
      "Nizte              Rafael   22    Male         181\n",
      "Afreen              Sofia   25  Female         175\n",
      "Mahesh Rao       Anveeksh   29    Male         182\n",
      "Das Gupta          Soumik   27    Male         161\n",
      "Roy             Debosmita   29  Female         177\n",
      "Chakrobarti     Ritoborti   32  Female         161\n"
     ]
    }
   ],
   "source": [
    "# interestingly we can name the columns per our needs\n",
    "column_names = ['Name', 'Age', 'Sex', 'Height']\n",
    "index_names = ['Surnames','Bala','Shingh','Roy Chowdhury','Biswas','Chakrobarty','Sins','Nizte','Afreen','Mahesh Rao','Das Gupta','Roy','Chakrobarti']\n",
    "df3 = pd.read_csv('C:\\\\Users\\\\GOGOL\\\\Downloads\\\\Python_Readable_csvs.csv', names = column_names)\n",
    "df3.index = index_names\n",
    "print(df3) # because our csv file already had a header, we got duplicate entries \n"
   ]
  },
  {
   "cell_type": "code",
   "execution_count": 66,
   "id": "124342e7-d71c-4754-a323-797b11accb18",
   "metadata": {},
   "outputs": [
    {
     "data": {
      "text/html": [
       "<div>\n",
       "<style scoped>\n",
       "    .dataframe tbody tr th:only-of-type {\n",
       "        vertical-align: middle;\n",
       "    }\n",
       "\n",
       "    .dataframe tbody tr th {\n",
       "        vertical-align: top;\n",
       "    }\n",
       "\n",
       "    .dataframe thead th {\n",
       "        text-align: right;\n",
       "    }\n",
       "</style>\n",
       "<table border=\"1\" class=\"dataframe\">\n",
       "  <thead>\n",
       "    <tr style=\"text-align: right;\">\n",
       "      <th></th>\n",
       "      <th>Name,Age,Sax,Height(cm)</th>\n",
       "    </tr>\n",
       "  </thead>\n",
       "  <tbody>\n",
       "    <tr>\n",
       "      <th>0</th>\n",
       "      <td>Swapnanil,25,Male,176</td>\n",
       "    </tr>\n",
       "    <tr>\n",
       "      <th>1</th>\n",
       "      <td>Anshuman,27,Male,162</td>\n",
       "    </tr>\n",
       "    <tr>\n",
       "      <th>2</th>\n",
       "      <td>Sunavo,24,Male,163</td>\n",
       "    </tr>\n",
       "    <tr>\n",
       "      <th>3</th>\n",
       "      <td>Saptarsshi,25,Male,168</td>\n",
       "    </tr>\n",
       "    <tr>\n",
       "      <th>4</th>\n",
       "      <td>Ritom,29,Male,157</td>\n",
       "    </tr>\n",
       "    <tr>\n",
       "      <th>5</th>\n",
       "      <td>Syudney,32,Female,165</td>\n",
       "    </tr>\n",
       "    <tr>\n",
       "      <th>6</th>\n",
       "      <td>Rafael,22,Male,181</td>\n",
       "    </tr>\n",
       "    <tr>\n",
       "      <th>7</th>\n",
       "      <td>Sofia,25,Female,175</td>\n",
       "    </tr>\n",
       "    <tr>\n",
       "      <th>8</th>\n",
       "      <td>Anveeksh,29,Male,182</td>\n",
       "    </tr>\n",
       "    <tr>\n",
       "      <th>9</th>\n",
       "      <td>Soumik,27,Male,161</td>\n",
       "    </tr>\n",
       "    <tr>\n",
       "      <th>10</th>\n",
       "      <td>Debosmita,29,Female,177</td>\n",
       "    </tr>\n",
       "    <tr>\n",
       "      <th>11</th>\n",
       "      <td>Ritoborti,32,Female,161</td>\n",
       "    </tr>\n",
       "  </tbody>\n",
       "</table>\n",
       "</div>"
      ],
      "text/plain": [
       "    Name,Age,Sax,Height(cm)\n",
       "0     Swapnanil,25,Male,176\n",
       "1      Anshuman,27,Male,162\n",
       "2        Sunavo,24,Male,163\n",
       "3    Saptarsshi,25,Male,168\n",
       "4         Ritom,29,Male,157\n",
       "5     Syudney,32,Female,165\n",
       "6        Rafael,22,Male,181\n",
       "7       Sofia,25,Female,175\n",
       "8      Anveeksh,29,Male,182\n",
       "9        Soumik,27,Male,161\n",
       "10  Debosmita,29,Female,177\n",
       "11  Ritoborti,32,Female,161"
      ]
     },
     "execution_count": 66,
     "metadata": {},
     "output_type": "execute_result"
    }
   ],
   "source": [
    "# Some times the columns and the data in them might need re-aligning for that we use this\n",
    "data = pd.read_csv('C:\\\\Users\\\\GOGOL\\\\Downloads\\\\Python_Readable_csvs.csv', sep = '\\\\s+')\n",
    "data # This returns the dataframe in a completely new way"
   ]
  },
  {
   "cell_type": "code",
   "execution_count": 67,
   "id": "f4e4c7ce-3007-420b-8aa3-3fcec7622392",
   "metadata": {},
   "outputs": [],
   "source": [
    "# if you want to skip particular rows you could use this method -- > pd.read_csv('path',skiprows = [0,2,5]) like this"
   ]
  },
  {
   "cell_type": "code",
   "execution_count": 68,
   "id": "6dffaa12-b2a7-47cb-b7ec-e9b436f28fe0",
   "metadata": {},
   "outputs": [
    {
     "data": {
      "text/html": [
       "<div>\n",
       "<style scoped>\n",
       "    .dataframe tbody tr th:only-of-type {\n",
       "        vertical-align: middle;\n",
       "    }\n",
       "\n",
       "    .dataframe tbody tr th {\n",
       "        vertical-align: top;\n",
       "    }\n",
       "\n",
       "    .dataframe thead th {\n",
       "        text-align: right;\n",
       "    }\n",
       "</style>\n",
       "<table border=\"1\" class=\"dataframe\">\n",
       "  <thead>\n",
       "    <tr style=\"text-align: right;\">\n",
       "      <th></th>\n",
       "      <th>Name</th>\n",
       "      <th>Age</th>\n",
       "      <th>Sax</th>\n",
       "      <th>Height(cm)</th>\n",
       "    </tr>\n",
       "    <tr>\n",
       "      <th>Serial No</th>\n",
       "      <th></th>\n",
       "      <th></th>\n",
       "      <th></th>\n",
       "      <th></th>\n",
       "    </tr>\n",
       "  </thead>\n",
       "  <tbody>\n",
       "    <tr>\n",
       "      <th>0</th>\n",
       "      <td>False</td>\n",
       "      <td>False</td>\n",
       "      <td>False</td>\n",
       "      <td>False</td>\n",
       "    </tr>\n",
       "    <tr>\n",
       "      <th>1</th>\n",
       "      <td>False</td>\n",
       "      <td>False</td>\n",
       "      <td>False</td>\n",
       "      <td>False</td>\n",
       "    </tr>\n",
       "    <tr>\n",
       "      <th>2</th>\n",
       "      <td>False</td>\n",
       "      <td>False</td>\n",
       "      <td>False</td>\n",
       "      <td>False</td>\n",
       "    </tr>\n",
       "    <tr>\n",
       "      <th>3</th>\n",
       "      <td>False</td>\n",
       "      <td>False</td>\n",
       "      <td>False</td>\n",
       "      <td>False</td>\n",
       "    </tr>\n",
       "    <tr>\n",
       "      <th>4</th>\n",
       "      <td>False</td>\n",
       "      <td>False</td>\n",
       "      <td>False</td>\n",
       "      <td>False</td>\n",
       "    </tr>\n",
       "    <tr>\n",
       "      <th>5</th>\n",
       "      <td>False</td>\n",
       "      <td>False</td>\n",
       "      <td>False</td>\n",
       "      <td>False</td>\n",
       "    </tr>\n",
       "    <tr>\n",
       "      <th>6</th>\n",
       "      <td>False</td>\n",
       "      <td>False</td>\n",
       "      <td>False</td>\n",
       "      <td>False</td>\n",
       "    </tr>\n",
       "    <tr>\n",
       "      <th>7</th>\n",
       "      <td>False</td>\n",
       "      <td>False</td>\n",
       "      <td>False</td>\n",
       "      <td>False</td>\n",
       "    </tr>\n",
       "    <tr>\n",
       "      <th>8</th>\n",
       "      <td>False</td>\n",
       "      <td>False</td>\n",
       "      <td>False</td>\n",
       "      <td>False</td>\n",
       "    </tr>\n",
       "    <tr>\n",
       "      <th>9</th>\n",
       "      <td>False</td>\n",
       "      <td>False</td>\n",
       "      <td>False</td>\n",
       "      <td>False</td>\n",
       "    </tr>\n",
       "    <tr>\n",
       "      <th>10</th>\n",
       "      <td>False</td>\n",
       "      <td>False</td>\n",
       "      <td>False</td>\n",
       "      <td>False</td>\n",
       "    </tr>\n",
       "    <tr>\n",
       "      <th>11</th>\n",
       "      <td>False</td>\n",
       "      <td>False</td>\n",
       "      <td>False</td>\n",
       "      <td>False</td>\n",
       "    </tr>\n",
       "  </tbody>\n",
       "</table>\n",
       "</div>"
      ],
      "text/plain": [
       "            Name    Age    Sax  Height(cm)\n",
       "Serial No                                 \n",
       "0          False  False  False       False\n",
       "1          False  False  False       False\n",
       "2          False  False  False       False\n",
       "3          False  False  False       False\n",
       "4          False  False  False       False\n",
       "5          False  False  False       False\n",
       "6          False  False  False       False\n",
       "7          False  False  False       False\n",
       "8          False  False  False       False\n",
       "9          False  False  False       False\n",
       "10         False  False  False       False\n",
       "11         False  False  False       False"
      ]
     },
     "execution_count": 68,
     "metadata": {},
     "output_type": "execute_result"
    }
   ],
   "source": [
    "pd.isna(df) # this will return the dataframe but masking the data with the isna filter and return booleans inplace"
   ]
  },
  {
   "cell_type": "code",
   "execution_count": 69,
   "id": "ab3806e9-cddf-4922-938f-ee6e19f74cf0",
   "metadata": {},
   "outputs": [],
   "source": [
    "# I am skipping the sentibels regarding pandas, because I,myself am not sure how it functions"
   ]
  },
  {
   "cell_type": "code",
   "execution_count": 70,
   "id": "777b729f-8434-4c3d-b0e5-2929958bab23",
   "metadata": {},
   "outputs": [],
   "source": [
    "# Now I am going to write some important arguments, you may keep them in mind\n",
    "\n",
    "# 1. path - string indicating filesystem location , URL, or file-like object.\n",
    "\n",
    "# 2. sep or delimiter - character sequence or regualr expression to use to split fields in each row.\n",
    "\n",
    "# 3. header - Row number to use as column names; default to 0 (first row), but should be None if there is no header row.\n",
    "\n",
    "# 4. index_col - Column numbers or names to use as the row index in the result; can be a single name/number or a list of them for a hieraechical index.\n",
    "\n",
    "# 5. names - list of column names for result.\n",
    "\n",
    "# 6. skiprows - number of rows at beginning of file to ignore or list of row numbers(starting from 0) to skip.\n",
    "\n",
    "# 7. na_values - sequence of values to replace with NA . They are added to the default list unless.\n",
    "\n",
    "# 8. keep_default_na - Whether to use the default NA valuelist or not(True by default)\n",
    "\n",
    "# 9. parse_dates -  attempts to parse data to datetime; False by default . if True, will attempt to parse all columns. Otherwise, can specify a list of column numbers or names to parse.\n",
    "                    # if clement of list is a tuple or list, will combine multiple columns together and parse to date.   \n",
    "\n",
    "# 10. keep_data_col - if joining columns to parse data, keep the joined columns; False by default.\n",
    "\n",
    "# 11. converters - Dictionary containing column number or name mapping to functions (e.g{'foo':f} would apply the function f to all values \n",
    "                    # in the 'foo' column\n",
    "# 12. dayfirst - when parsing potertially ambigious dates, treat as international format (e.g., 07/06/2034 June 7, 2034)\n",
    "\n",
    "# 13. date_parser - function to use to parse dates\n",
    "\n",
    "# 14. nrows - Number of rows to read from the beginning of file(not counting the header)\n",
    "\n",
    "# 15. iterator - Return a TextFileReader object for reading the file piecemeal. This object can also be used with the with statement.\n",
    "\n",
    "# 16. chunksize - For iteration, size of the file chunks\n",
    "\n",
    "# 17. skip_footer - Number of Lines to ignore at end of file.\n",
    "\n",
    "# 18. verbose - print various parsing information, like the time spent in each stage of the file conversion and memory use information.\n",
    "\n",
    "# 19. encoding - text encoding (e.g., 'UTF-8','UTF-16' etc)\n",
    "\n",
    "# 20. squeeze - if the parsed data contains only one columns, return Series\n",
    "\n",
    "# 21. thousands - seperator for thousands (e.g., ',' or '.'), default is None.\n",
    "\n",
    "# 22. decimal - Decimal seperators in numbers default is '.'\n",
    "\n",
    "# 23. engine CSV parsing parsing and conversion engine to use. "
   ]
  },
  {
   "cell_type": "markdown",
   "id": "d83df17e-0ad7-4325-aaa8-fd4892d15c88",
   "metadata": {},
   "source": [
    "##### Reading Text Files in Pieces"
   ]
  },
  {
   "cell_type": "code",
   "execution_count": 71,
   "id": "cf3a8d29-91f4-45b0-8283-35a6ec8b0db3",
   "metadata": {},
   "outputs": [
    {
     "name": "stdout",
     "output_type": "stream",
     "text": [
      "          Name  Age     Sax  Height(cm)\n",
      "0    Swapnanil   25    Male         176\n",
      "1     Anshuman   27    Male         162\n",
      "2       Sunavo   24    Male         163\n",
      "3   Saptarsshi   25    Male         168\n",
      "4        Ritom   29    Male         157\n",
      "..         ...  ...     ...         ...\n",
      "7        Sofia   25  Female         175\n",
      "8     Anveeksh   29    Male         182\n",
      "9       Soumik   27    Male         161\n",
      "10   Debosmita   29  Female         177\n",
      "11   Ritoborti   32  Female         161\n",
      "\n",
      "[12 rows x 4 columns]\n"
     ]
    }
   ],
   "source": [
    "pd.options.display.max_rows = 10 # you can set it to something else, what this will do is that this will make sure next time you load and show a dataset,\n",
    "# it will limit the return amount the what you set this function to e.g, in this case 10\n",
    "data = pd.read_csv('C:\\\\Users\\\\GOGOL\\\\Downloads\\\\Python_Readable_csvs.csv')\n",
    "print(data) # see this has returned 10 visible rows"
   ]
  },
  {
   "cell_type": "code",
   "execution_count": 72,
   "id": "c311d5c3-685c-45e2-9cd8-852faf04a222",
   "metadata": {},
   "outputs": [
    {
     "name": "stdout",
     "output_type": "stream",
     "text": [
      "         Name  Age     Sax  Height(cm)\n",
      "0   Swapnanil   25    Male         176\n",
      "1    Anshuman   27    Male         162\n",
      "2      Sunavo   24    Male         163\n",
      "3  Saptarsshi   25    Male         168\n",
      "4       Ritom   29    Male         157\n",
      "5     Syudney   32  Female         165\n",
      "6      Rafael   22    Male         181\n",
      "7       Sofia   25  Female         175\n"
     ]
    }
   ],
   "source": [
    "# an alternate method is this\n",
    "display_n_rows = data = pd.read_csv('C:\\\\Users\\\\GOGOL\\\\Downloads\\\\Python_Readable_csvs.csv',nrows = 8)\n",
    "print(display_n_rows)"
   ]
  },
  {
   "cell_type": "code",
   "execution_count": 73,
   "id": "877d13b3-d91b-4f68-92d2-a410e8b6c8ce",
   "metadata": {},
   "outputs": [
    {
     "name": "stdout",
     "output_type": "stream",
     "text": [
      "         Name  Age     Sax  Height(cm)\n",
      "4       Ritom   29    Male         157\n",
      "1    Anshuman   27    Male         162\n",
      "2      Sunavo   24    Male         163\n",
      "5     Syudney   32  Female         165\n",
      "3  Saptarsshi   25    Male         168\n",
      "7       Sofia   25  Female         175\n",
      "0   Swapnanil   25    Male         176\n",
      "6      Rafael   22    Male         181\n"
     ]
    }
   ],
   "source": [
    "new = data.sort_values(by = ['Height(cm)','Age'], ascending = True)\n",
    "print(new)"
   ]
  },
  {
   "cell_type": "markdown",
   "id": "df595ba8-312a-4b32-9fc0-73c58541711a",
   "metadata": {},
   "source": [
    "### lets say you have modified a file in some way to save it with the same name or a new name use this \n",
    "data.to_csv('path') # this will end in soimething like 'C://File_1//File_2...//name.csv' example\n",
    "### interestingly other delimiters can be used\n",
    "import sys\n",
    "data.to_csv(sys.stdout, sep =\"|\")\n",
    "### Missing value appear as empty strings in the output. You might want to denote them by some other sentinel value\n",
    "data.to_csv(sys.stdout, na_rep = 'NULL')\n",
    "### Other ways\n",
    "data.to_csv(sys.stdout,index = False, header = False)\n",
    "data.to_csv(sys.stdout, index = False, columns = ['a','b','c'])"
   ]
  },
  {
   "cell_type": "code",
   "execution_count": 74,
   "id": "06032ff2-1573-41ce-a5cf-ddd375f209ae",
   "metadata": {},
   "outputs": [
    {
     "name": "stdout",
     "output_type": "stream",
     "text": [
      "['Name', 'Age', 'Sax', 'Height(cm)']\n",
      "['Swapnanil', '25', 'Male', '176']\n",
      "['Anshuman', '27', 'Male', '162']\n",
      "['Sunavo', '24', 'Male', '163']\n",
      "['Saptarsshi', '25', 'Male', '168']\n",
      "['Ritom', '29', 'Male', '157']\n",
      "['Syudney', '32', 'Female', '165']\n",
      "['Rafael', '22', 'Male', '181']\n",
      "['Sofia', '25', 'Female', '175']\n",
      "['Anveeksh', '29', 'Male', '182']\n",
      "['Soumik', '27', 'Male', '161']\n",
      "['Debosmita', '29', 'Female', '177']\n",
      "['Ritoborti', '32', 'Female', '161']\n"
     ]
    }
   ],
   "source": [
    "### Working with other Delimited Formats\n",
    "import csv\n",
    "f = open('C:\\\\Users\\\\GOGOL\\\\Downloads\\\\Python_Readable_csvs.csv') # a file like this doesn't exist \n",
    "reader = csv.reader(f)\n",
    "\n",
    "for line in reader:\n",
    "    print(line)\n",
    "\n",
    "f.close() # always make sure to close the f when the job is done, its simply great practice"
   ]
  },
  {
   "cell_type": "code",
   "execution_count": 75,
   "id": "902cef3d-1ab4-4b8e-99ee-c90288696bbb",
   "metadata": {},
   "outputs": [
    {
     "name": "stdout",
     "output_type": "stream",
     "text": [
      "['Name', 'Age', 'Sax', 'Height(cm)']  \n",
      "\n",
      "['Swapnanil', '25', 'Male', '176']  \n",
      "\n",
      "['Anshuman', '27', 'Male', '162']  \n",
      "\n",
      "['Sunavo', '24', 'Male', '163']  \n",
      "\n",
      "['Saptarsshi', '25', 'Male', '168']  \n",
      "\n",
      "['Ritom', '29', 'Male', '157']  \n",
      "\n",
      "['Syudney', '32', 'Female', '165']  \n",
      "\n",
      "['Rafael', '22', 'Male', '181']  \n",
      "\n",
      "['Sofia', '25', 'Female', '175']  \n",
      "\n",
      "['Anveeksh', '29', 'Male', '182']  \n",
      "\n",
      "['Soumik', '27', 'Male', '161']  \n",
      "\n",
      "['Debosmita', '29', 'Female', '177']  \n",
      "\n",
      "['Ritoborti', '32', 'Female', '161']  \n",
      "\n"
     ]
    }
   ],
   "source": [
    "# Another way of putting this same thing is\n",
    "with open('C:\\\\Users\\\\GOGOL\\\\Downloads\\\\Python_Readable_csvs.csv') as G:\n",
    "    lines = list(csv.reader(G))\n",
    "    for items in lines:\n",
    "        print(items,' \\n')\n",
    "\n",
    "G.close()"
   ]
  },
  {
   "cell_type": "code",
   "execution_count": 76,
   "id": "74e2b82d-dd05-4b3d-9423-437dc098b9ac",
   "metadata": {},
   "outputs": [
    {
     "name": "stdout",
     "output_type": "stream",
     "text": [
      "[['Name,Age,Sax,Height(cm)'], ['Swapnanil,25,Male,176'], ['Anshuman,27,Male,162'], ['Sunavo,24,Male,163'], ['Saptarsshi,25,Male,168'], ['Ritom,29,Male,157'], ['Syudney,32,Female,165'], ['Rafael,22,Male,181'], ['Sofia,25,Female,175'], ['Anveeksh,29,Male,182'], ['Soumik,27,Male,161'], ['Debosmita,29,Female,177'], ['Ritoborti,32,Female,161']]\n"
     ]
    }
   ],
   "source": [
    "class my_dialect(csv.Dialect):\n",
    "    lineterminator = \"\\n\"\n",
    "    delimiter = \";\"\n",
    "    quotechar = '\"'\n",
    "    quoting = csv.QUOTE_MINIMAL\n",
    "\n",
    "with open('C:\\\\Users\\\\GOGOL\\\\Downloads\\\\Python_Readable_csvs.csv') as G:\n",
    "    reader = csv.reader(G, dialect = my_dialect)\n",
    "    reader = csv.reader(G, delimiter = '|')\n",
    "    print([(stuff) for stuff in reader]) # see the out put yourself quite interesting\n",
    "    G.close()\n",
    "\n",
    "\n",
    "# Now lets learn about some Arguments and what they basically do\n"
   ]
  },
  {
   "cell_type": "markdown",
   "id": "d8e362e7-6219-4760-b9a0-f3c1ff25e2dc",
   "metadata": {},
   "source": [
    "#### delimiter\n",
    "One-character string to seperate fields; defaults to \",\"\n",
    "#### lineterminator\n",
    "line terminaotor for writting defaults to \"\\r\\n\". Reader ignores this and recognizes cross-platform line terminators\n",
    "#### quotechar\n",
    "Quote character for fields with special characters(like a delimiter); default is '\"'.\n",
    "#### quoting\n",
    "Quoting convention. Options include csv.QUOTE_ALL, csv.QUOTE_MINIMAL(only fields with special characters like the delimiter), csv.QUOTE_NONNUMERIC, and csv.QUOTE_NONE(no quoting).See Python's documentation for full details. Defaults to  QUOTE_MINIMAL.\n",
    "#### skipinitialspace\n",
    "Ignore whitespace after each delimiter, default is False.\n",
    "#### doublequote\n",
    "How to handle quoting character inside a field; if True, it is doubled\n",
    "#### escapechar\n",
    "String to escape the delimiter if quote is set to csv.QUOTE_NONE; disabled by default."
   ]
  },
  {
   "cell_type": "markdown",
   "id": "1d9220f1-6227-4c62-801c-77e9e35a78d3",
   "metadata": {},
   "source": [
    "### JSON Data\n",
    "\n",
    "JSON (javascript object notation) has become one of the standard formats for sending data by HTTP request between web Browsers and Other applications. It is much more free-form data format than a tabular text form like CSV\n",
    "\n",
    "\n",
    "e.g., see below"
   ]
  },
  {
   "cell_type": "code",
   "execution_count": 77,
   "id": "d5e2b3c7-081e-47fb-82c2-3ae246b5dad6",
   "metadata": {},
   "outputs": [],
   "source": [
    "obj = \"\"\" \n",
    "            { \"name\" : \"Wes\",\n",
    "              \"cities_visited\" : ['Kolkata','Delhi','Bangalore','Mumbai','Hydrabad'],\n",
    "              'pet' : null,\n",
    "              'siblings' : [{'name' : 'Scott', 'age' : 34, 'hobbies' : ['guitars','soccer']},\n",
    "                            {'name' : 'Hailey', 'age' : 27,'hobbies' : ['UFC','Chess'] }]\n",
    "            }\n",
    "            \"\"\"\n",
    "\n",
    "obj = obj.replace(\"'\",'\"')\n",
    "# JSON is very nearly valid Python code with the exception of its null value and some other nuances (such as disallowing trailing commas at the end of lists.)\n",
    "# The nulls. All of the keys in an object must be strings. There are several Python libraries for reading and writing JSON data. We'll use json here,\n",
    "# as it is built into the Python standard library."
   ]
  },
  {
   "cell_type": "code",
   "execution_count": 78,
   "id": "4ad78ab9-561c-44a5-a6d1-b8b708b6dbbc",
   "metadata": {},
   "outputs": [
    {
     "data": {
      "text/plain": [
       "{'name': 'Wes',\n",
       " 'cities_visited': ['Kolkata', 'Delhi', 'Bangalore', 'Mumbai', 'Hydrabad'],\n",
       " 'pet': None,\n",
       " 'siblings': [{'name': 'Scott', 'age': 34, 'hobbies': ['guitars', 'soccer']},\n",
       "  {'name': 'Hailey', 'age': 27, 'hobbies': ['UFC', 'Chess']}]}"
      ]
     },
     "execution_count": 78,
     "metadata": {},
     "output_type": "execute_result"
    }
   ],
   "source": [
    "# To convert a JSON string to Python form, use -- > json.loads\n",
    "import json\n",
    "\n",
    "result = json.loads(obj)\n",
    "\n",
    "result"
   ]
  },
  {
   "cell_type": "code",
   "execution_count": 79,
   "id": "54d6ed92-6858-4805-8526-1a95291109df",
   "metadata": {},
   "outputs": [
    {
     "name": "stdout",
     "output_type": "stream",
     "text": [
      "{\"name\": \"Wes\", \"cities_visited\": [\"Kolkata\", \"Delhi\", \"Bangalore\", \"Mumbai\", \"Hydrabad\"], \"pet\": null, \"siblings\": [{\"name\": \"Scott\", \"age\": 34, \"hobbies\": [\"guitars\", \"soccer\"]}, {\"name\": \"Hailey\", \"age\": 27, \"hobbies\": [\"UFC\", \"Chess\"]}]}\n"
     ]
    }
   ],
   "source": [
    "# json.dumps on the other hand, converts a python object back to JSON:\n",
    "asjson = json.dumps(result)\n",
    "\n",
    "print(asjson) # see the JSON output and the converted dataset look quite different "
   ]
  },
  {
   "cell_type": "code",
   "execution_count": 80,
   "id": "930d3549-530a-448c-9128-23ded687cc38",
   "metadata": {},
   "outputs": [
    {
     "name": "stdout",
     "output_type": "stream",
     "text": [
      "     name  age            hobbies\n",
      "0   Scott   34  [guitars, soccer]\n",
      "1  Hailey   27       [UFC, Chess]\n"
     ]
    }
   ],
   "source": [
    "# Lets now convert parts of the JSON file into DataFrames\n",
    "siblings = pd.DataFrame(result['siblings'], columns = ['name','age','hobbies'])\n",
    "print(siblings) # we could have returned one, two or three columns and look at the last column, it has values within []"
   ]
  },
  {
   "cell_type": "markdown",
   "id": "b5852c8c-074c-4756-bf4b-62181f58a7dd",
   "metadata": {},
   "source": [
    "#### I don't have a JSON file but anyways the pandas.read_json can automatically convert JSON datasets in specific arrange-ments into a Series\n",
    "#### or DataFrame. For example - "
   ]
  },
  {
   "cell_type": "code",
   "execution_count": 81,
   "id": "b2408616-5d70-476a-bf01-ec66741992db",
   "metadata": {},
   "outputs": [],
   "source": [
    "import sys\n",
    "# data = pd.read_json('C://...//something.json')\n",
    "\n",
    "# another way of exporting data from pandas to JSON is -\n",
    "\n",
    "# data.to_json(sys.stdout)   # it just shows the data in the JSON format it doesn't store or anything"
   ]
  },
  {
   "cell_type": "markdown",
   "id": "b203add9-b3bc-4f30-b1c9-1c2ece7b0ba5",
   "metadata": {},
   "source": [
    "#### XML and HTML: Web Scraping\n",
    "\n",
    "Python has many libraries for reading and writing data in the ubiquitious HTML and XML formats.\n",
    "Examples include lxml, Beautiful Soup, and html5lib. \n",
    "While lxml is comparatively much faster in general, the other libraries can be better handle malformed HTML or XML files.\n",
    "\n",
    "Pandas has a built-in function pandas.read_html, which uses all these libraries to automatically parse tables out of HTML files as DataFrame\n",
    "objects. "
   ]
  },
  {
   "cell_type": "code",
   "execution_count": 82,
   "id": "3f49eefa-dabc-4984-b54f-7c9c18ea27db",
   "metadata": {},
   "outputs": [],
   "source": [
    "# it looks something like this pretty similar to the previous ones - \n",
    "# tables = pd.read_html(\"origin/something.html)"
   ]
  },
  {
   "cell_type": "markdown",
   "id": "5c732e26-71e9-42c2-bccf-fb09c3a4acb8",
   "metadata": {},
   "source": [
    "#### Parsing XML with lxml.objectify\n",
    "\n",
    "XML is another common structured data supported hierarchical, nested data with metadata. "
   ]
  },
  {
   "cell_type": "markdown",
   "id": "b929b5b7-dcb7-4e3e-bbd9-e7d0a46c2651",
   "metadata": {},
   "source": [
    "### from lxml import objectify\n",
    "\n",
    "##### path = 'datasets/mta_perf/../something.xml'\n",
    "\n",
    "with open(path) as f:\n",
    "    parsed = objectify.parse(f)\n",
    "\n",
    "##### root = parsed.getroot()\n",
    "\n",
    "root.INDICATOE returns a generator yielding each <INDICATOR> XML element. For each record, we can populate a dictionary if tag names(like YTD_ACTUAL)\n",
    "to data values(excluding a few tags) by running the following code\n",
    "\n"
   ]
  },
  {
   "cell_type": "markdown",
   "id": "865c5acb-6105-4f29-b01f-da1a8575aa84",
   "metadata": {},
   "source": [
    "#### Binary Data Formats"
   ]
  },
  {
   "cell_type": "markdown",
   "id": "f047b3bd-e853-4d08-93e2-5d7433a5780e",
   "metadata": {},
   "source": [
    "One Simple way to store (or serialize) data in binary format is using Pythons' built-in pickle module.\n",
    "pandas objects all have a to_pickle method that writes the data to disk in pickle format"
   ]
  },
  {
   "cell_type": "code",
   "execution_count": 83,
   "id": "a4dbc98c-507c-4dde-801a-4987b8ba2578",
   "metadata": {},
   "outputs": [
    {
     "data": {
      "text/html": [
       "<div>\n",
       "<style scoped>\n",
       "    .dataframe tbody tr th:only-of-type {\n",
       "        vertical-align: middle;\n",
       "    }\n",
       "\n",
       "    .dataframe tbody tr th {\n",
       "        vertical-align: top;\n",
       "    }\n",
       "\n",
       "    .dataframe thead th {\n",
       "        text-align: right;\n",
       "    }\n",
       "</style>\n",
       "<table border=\"1\" class=\"dataframe\">\n",
       "  <thead>\n",
       "    <tr style=\"text-align: right;\">\n",
       "      <th></th>\n",
       "      <th>Country</th>\n",
       "      <th>City</th>\n",
       "      <th>University</th>\n",
       "      <th>Program</th>\n",
       "      <th>Level</th>\n",
       "      <th>Duration_Years</th>\n",
       "      <th>Tuition_USD</th>\n",
       "      <th>Living_Cost_Index</th>\n",
       "      <th>Rent_USD</th>\n",
       "      <th>Visa_Fee_USD</th>\n",
       "      <th>Insurance_USD</th>\n",
       "      <th>Exchange_Rate</th>\n",
       "    </tr>\n",
       "  </thead>\n",
       "  <tbody>\n",
       "    <tr>\n",
       "      <th>0</th>\n",
       "      <td>USA</td>\n",
       "      <td>Cambridge</td>\n",
       "      <td>Harvard University</td>\n",
       "      <td>Computer Science</td>\n",
       "      <td>Master</td>\n",
       "      <td>2.0</td>\n",
       "      <td>55400</td>\n",
       "      <td>83.5</td>\n",
       "      <td>2200</td>\n",
       "      <td>160</td>\n",
       "      <td>1500</td>\n",
       "      <td>1.00</td>\n",
       "    </tr>\n",
       "    <tr>\n",
       "      <th>1</th>\n",
       "      <td>UK</td>\n",
       "      <td>London</td>\n",
       "      <td>Imperial College London</td>\n",
       "      <td>Data Science</td>\n",
       "      <td>Master</td>\n",
       "      <td>1.0</td>\n",
       "      <td>41200</td>\n",
       "      <td>75.8</td>\n",
       "      <td>1800</td>\n",
       "      <td>485</td>\n",
       "      <td>800</td>\n",
       "      <td>0.79</td>\n",
       "    </tr>\n",
       "    <tr>\n",
       "      <th>2</th>\n",
       "      <td>Canada</td>\n",
       "      <td>Toronto</td>\n",
       "      <td>University of Toronto</td>\n",
       "      <td>Business Analytics</td>\n",
       "      <td>Master</td>\n",
       "      <td>2.0</td>\n",
       "      <td>38500</td>\n",
       "      <td>72.5</td>\n",
       "      <td>1600</td>\n",
       "      <td>235</td>\n",
       "      <td>900</td>\n",
       "      <td>1.35</td>\n",
       "    </tr>\n",
       "    <tr>\n",
       "      <th>3</th>\n",
       "      <td>Australia</td>\n",
       "      <td>Melbourne</td>\n",
       "      <td>University of Melbourne</td>\n",
       "      <td>Engineering</td>\n",
       "      <td>Master</td>\n",
       "      <td>2.0</td>\n",
       "      <td>42000</td>\n",
       "      <td>71.2</td>\n",
       "      <td>1400</td>\n",
       "      <td>450</td>\n",
       "      <td>650</td>\n",
       "      <td>1.52</td>\n",
       "    </tr>\n",
       "    <tr>\n",
       "      <th>4</th>\n",
       "      <td>Germany</td>\n",
       "      <td>Munich</td>\n",
       "      <td>Technical University of Munich</td>\n",
       "      <td>Mechanical Engineering</td>\n",
       "      <td>Master</td>\n",
       "      <td>2.0</td>\n",
       "      <td>500</td>\n",
       "      <td>70.5</td>\n",
       "      <td>1100</td>\n",
       "      <td>75</td>\n",
       "      <td>550</td>\n",
       "      <td>0.92</td>\n",
       "    </tr>\n",
       "    <tr>\n",
       "      <th>5</th>\n",
       "      <td>Japan</td>\n",
       "      <td>Tokyo</td>\n",
       "      <td>University of Tokyo</td>\n",
       "      <td>Information Science</td>\n",
       "      <td>Master</td>\n",
       "      <td>2.0</td>\n",
       "      <td>8900</td>\n",
       "      <td>76.4</td>\n",
       "      <td>1300</td>\n",
       "      <td>220</td>\n",
       "      <td>750</td>\n",
       "      <td>145.80</td>\n",
       "    </tr>\n",
       "    <tr>\n",
       "      <th>6</th>\n",
       "      <td>Netherlands</td>\n",
       "      <td>Amsterdam</td>\n",
       "      <td>University of Amsterdam</td>\n",
       "      <td>Artificial Intelligence</td>\n",
       "      <td>Master</td>\n",
       "      <td>1.0</td>\n",
       "      <td>15800</td>\n",
       "      <td>73.2</td>\n",
       "      <td>1500</td>\n",
       "      <td>180</td>\n",
       "      <td>720</td>\n",
       "      <td>0.92</td>\n",
       "    </tr>\n",
       "    <tr>\n",
       "      <th>7</th>\n",
       "      <td>Singapore</td>\n",
       "      <td>Singapore</td>\n",
       "      <td>National University of Singapore</td>\n",
       "      <td>Finance</td>\n",
       "      <td>Master</td>\n",
       "      <td>1.5</td>\n",
       "      <td>35000</td>\n",
       "      <td>81.1</td>\n",
       "      <td>1900</td>\n",
       "      <td>90</td>\n",
       "      <td>800</td>\n",
       "      <td>1.34</td>\n",
       "    </tr>\n",
       "    <tr>\n",
       "      <th>8</th>\n",
       "      <td>France</td>\n",
       "      <td>Paris</td>\n",
       "      <td>Sorbonne University</td>\n",
       "      <td>International Relations</td>\n",
       "      <td>Master</td>\n",
       "      <td>2.0</td>\n",
       "      <td>4500</td>\n",
       "      <td>74.6</td>\n",
       "      <td>1400</td>\n",
       "      <td>99</td>\n",
       "      <td>650</td>\n",
       "      <td>0.92</td>\n",
       "    </tr>\n",
       "    <tr>\n",
       "      <th>9</th>\n",
       "      <td>Switzerland</td>\n",
       "      <td>Zurich</td>\n",
       "      <td>ETH Zurich</td>\n",
       "      <td>Physics</td>\n",
       "      <td>Master</td>\n",
       "      <td>2.0</td>\n",
       "      <td>1460</td>\n",
       "      <td>91.5</td>\n",
       "      <td>2100</td>\n",
       "      <td>88</td>\n",
       "      <td>1200</td>\n",
       "      <td>0.89</td>\n",
       "    </tr>\n",
       "  </tbody>\n",
       "</table>\n",
       "</div>"
      ],
      "text/plain": [
       "       Country       City                        University  \\\n",
       "0          USA  Cambridge                Harvard University   \n",
       "1           UK     London           Imperial College London   \n",
       "2       Canada    Toronto             University of Toronto   \n",
       "3    Australia  Melbourne           University of Melbourne   \n",
       "4      Germany     Munich    Technical University of Munich   \n",
       "5        Japan      Tokyo               University of Tokyo   \n",
       "6  Netherlands  Amsterdam           University of Amsterdam   \n",
       "7    Singapore  Singapore  National University of Singapore   \n",
       "8       France      Paris               Sorbonne University   \n",
       "9  Switzerland     Zurich                        ETH Zurich   \n",
       "\n",
       "                   Program   Level  Duration_Years  Tuition_USD  \\\n",
       "0         Computer Science  Master             2.0        55400   \n",
       "1             Data Science  Master             1.0        41200   \n",
       "2       Business Analytics  Master             2.0        38500   \n",
       "3              Engineering  Master             2.0        42000   \n",
       "4   Mechanical Engineering  Master             2.0          500   \n",
       "5      Information Science  Master             2.0         8900   \n",
       "6  Artificial Intelligence  Master             1.0        15800   \n",
       "7                  Finance  Master             1.5        35000   \n",
       "8  International Relations  Master             2.0         4500   \n",
       "9                  Physics  Master             2.0         1460   \n",
       "\n",
       "   Living_Cost_Index  Rent_USD  Visa_Fee_USD  Insurance_USD  Exchange_Rate  \n",
       "0               83.5      2200           160           1500           1.00  \n",
       "1               75.8      1800           485            800           0.79  \n",
       "2               72.5      1600           235            900           1.35  \n",
       "3               71.2      1400           450            650           1.52  \n",
       "4               70.5      1100            75            550           0.92  \n",
       "5               76.4      1300           220            750         145.80  \n",
       "6               73.2      1500           180            720           0.92  \n",
       "7               81.1      1900            90            800           1.34  \n",
       "8               74.6      1400            99            650           0.92  \n",
       "9               91.5      2100            88           1200           0.89  "
      ]
     },
     "execution_count": 83,
     "metadata": {},
     "output_type": "execute_result"
    }
   ],
   "source": [
    "data = pd.read_csv(\"C:\\\\Users\\\\GOGOL\\\\Documents\\\\My Projects\\\\Pandas\\\\International_Education_Costs.csv\")\n",
    "data.head(10)"
   ]
  },
  {
   "cell_type": "markdown",
   "id": "e89bf2e3-a014-4ba1-ae87-3205be1725ca",
   "metadata": {},
   "source": [
    "### Reading Microsoft Excel Files"
   ]
  },
  {
   "cell_type": "code",
   "execution_count": 84,
   "id": "1072d03f-8d60-4a4c-8a44-1f4ae15d3a5a",
   "metadata": {},
   "outputs": [
    {
     "name": "stdout",
     "output_type": "stream",
     "text": [
      "<pandas.io.excel._base.ExcelFile object at 0x000001A1F1CDF380>\n"
     ]
    },
    {
     "data": {
      "text/plain": [
       "['Orders']"
      ]
     },
     "execution_count": 84,
     "metadata": {},
     "output_type": "execute_result"
    }
   ],
   "source": [
    "# !pip install openpyxl xlrd # this will install the required package within the root directory\n",
    "\n",
    "xlsx = pd.ExcelFile(\"C:\\\\Users\\\\GOGOL\\\\Downloads\\\\wtf_is_this.xlsx\") # loads the file into the memory pointer being the xlsx\n",
    "print(xlsx) # returns a generator object for the data inside the xlsx file\n",
    "xlsx.sheet_names # this shows the sheet name"
   ]
  },
  {
   "cell_type": "markdown",
   "id": "edb6f200-8711-4e6d-9669-97d1dfe0227d",
   "metadata": {},
   "source": [
    "Data Stored in a sheet can then be read into DataFrame with Parse"
   ]
  },
  {
   "cell_type": "code",
   "execution_count": 85,
   "id": "b1050c4e-11d2-48d7-8d5b-bfaac3b78d10",
   "metadata": {},
   "outputs": [
    {
     "data": {
      "text/html": [
       "<div>\n",
       "<style scoped>\n",
       "    .dataframe tbody tr th:only-of-type {\n",
       "        vertical-align: middle;\n",
       "    }\n",
       "\n",
       "    .dataframe tbody tr th {\n",
       "        vertical-align: top;\n",
       "    }\n",
       "\n",
       "    .dataframe thead th {\n",
       "        text-align: right;\n",
       "    }\n",
       "</style>\n",
       "<table border=\"1\" class=\"dataframe\">\n",
       "  <thead>\n",
       "    <tr style=\"text-align: right;\">\n",
       "      <th></th>\n",
       "      <th>Order ID</th>\n",
       "      <th>Order Date</th>\n",
       "      <th>Delivery Date</th>\n",
       "      <th>Customer ID</th>\n",
       "      <th>Customer Name</th>\n",
       "      <th>City</th>\n",
       "      <th>Country</th>\n",
       "      <th>Postal Code</th>\n",
       "      <th>Country Code</th>\n",
       "      <th>Cost</th>\n",
       "      <th>Sales</th>\n",
       "      <th>Quantity</th>\n",
       "      <th>Discount</th>\n",
       "      <th>Delivery Cost</th>\n",
       "      <th>Course Name</th>\n",
       "      <th>Cuisine Name</th>\n",
       "      <th>Starter Name</th>\n",
       "      <th>Desert Name</th>\n",
       "      <th>Drink</th>\n",
       "      <th>Sides</th>\n",
       "    </tr>\n",
       "  </thead>\n",
       "  <tbody>\n",
       "    <tr>\n",
       "      <th>0</th>\n",
       "      <td>54-366-6861</td>\n",
       "      <td>2020-06-15</td>\n",
       "      <td>2020-03-26</td>\n",
       "      <td>72-055-7985</td>\n",
       "      <td>Laney Fadden</td>\n",
       "      <td>Daruoyan</td>\n",
       "      <td>China</td>\n",
       "      <td>993-0031</td>\n",
       "      <td>CN</td>\n",
       "      <td>125</td>\n",
       "      <td>187.5</td>\n",
       "      <td>2</td>\n",
       "      <td>20.00</td>\n",
       "      <td>60.51</td>\n",
       "      <td>Greek salad</td>\n",
       "      <td>Greek</td>\n",
       "      <td>Olives</td>\n",
       "      <td>Greek yoghurt</td>\n",
       "      <td>Athens White wine</td>\n",
       "      <td>Tapas</td>\n",
       "    </tr>\n",
       "    <tr>\n",
       "      <th>1</th>\n",
       "      <td>63-761-3686</td>\n",
       "      <td>2020-08-25</td>\n",
       "      <td>2020-07-17</td>\n",
       "      <td>65-353-0657</td>\n",
       "      <td>Giacopo Bramich</td>\n",
       "      <td>Ongjin</td>\n",
       "      <td>North Korea</td>\n",
       "      <td>216282</td>\n",
       "      <td>KP</td>\n",
       "      <td>235</td>\n",
       "      <td>352.5</td>\n",
       "      <td>1</td>\n",
       "      <td>15.00</td>\n",
       "      <td>96.75</td>\n",
       "      <td>Bean soup</td>\n",
       "      <td>Italian</td>\n",
       "      <td>Flatbread</td>\n",
       "      <td>Ice cream</td>\n",
       "      <td>Corfu Red Wine</td>\n",
       "      <td>Potato salad</td>\n",
       "    </tr>\n",
       "    <tr>\n",
       "      <th>2</th>\n",
       "      <td>65-351-6434</td>\n",
       "      <td>2021-08-17</td>\n",
       "      <td>2020-04-24</td>\n",
       "      <td>90-876-6799</td>\n",
       "      <td>Lia Bonar</td>\n",
       "      <td>Quince Mil</td>\n",
       "      <td>Peru</td>\n",
       "      <td>663246</td>\n",
       "      <td>PE</td>\n",
       "      <td>75</td>\n",
       "      <td>112.5</td>\n",
       "      <td>3</td>\n",
       "      <td>10.52</td>\n",
       "      <td>36.37</td>\n",
       "      <td>Pizza</td>\n",
       "      <td>Italian</td>\n",
       "      <td>Minestrone</td>\n",
       "      <td>Cheesecake</td>\n",
       "      <td>Italian Coffee</td>\n",
       "      <td>Bruschetta</td>\n",
       "    </tr>\n",
       "    <tr>\n",
       "      <th>3</th>\n",
       "      <td>36-917-2834</td>\n",
       "      <td>2021-08-14</td>\n",
       "      <td>2020-04-13</td>\n",
       "      <td>73-873-4827</td>\n",
       "      <td>Merrill Baudon</td>\n",
       "      <td>Susaki</td>\n",
       "      <td>Japan</td>\n",
       "      <td>987-0352</td>\n",
       "      <td>JP</td>\n",
       "      <td>220</td>\n",
       "      <td>330.0</td>\n",
       "      <td>3</td>\n",
       "      <td>11.23</td>\n",
       "      <td>5.49</td>\n",
       "      <td>Carbonara</td>\n",
       "      <td>Turkish</td>\n",
       "      <td>Tomato bread</td>\n",
       "      <td>Affogato</td>\n",
       "      <td>Roma Red wine</td>\n",
       "      <td>Focaccia</td>\n",
       "    </tr>\n",
       "  </tbody>\n",
       "</table>\n",
       "</div>"
      ],
      "text/plain": [
       "      Order ID Order Date Delivery Date  Customer ID    Customer Name  \\\n",
       "0  54-366-6861 2020-06-15    2020-03-26  72-055-7985     Laney Fadden   \n",
       "1  63-761-3686 2020-08-25    2020-07-17  65-353-0657  Giacopo Bramich   \n",
       "2  65-351-6434 2021-08-17    2020-04-24  90-876-6799        Lia Bonar   \n",
       "3  36-917-2834 2021-08-14    2020-04-13  73-873-4827   Merrill Baudon   \n",
       "\n",
       "         City      Country Postal Code Country Code   Cost  Sales  Quantity  \\\n",
       "0    Daruoyan        China    993-0031           CN    125  187.5         2   \n",
       "1      Ongjin  North Korea      216282           KP    235  352.5         1   \n",
       "2  Quince Mil         Peru      663246           PE     75  112.5         3   \n",
       "3      Susaki        Japan    987-0352           JP    220  330.0         3   \n",
       "\n",
       "   Discount  Delivery Cost  Course Name Cuisine Name  Starter Name  \\\n",
       "0     20.00          60.51  Greek salad        Greek        Olives   \n",
       "1     15.00          96.75    Bean soup      Italian     Flatbread   \n",
       "2     10.52          36.37        Pizza      Italian    Minestrone   \n",
       "3     11.23           5.49    Carbonara      Turkish  Tomato bread   \n",
       "\n",
       "     Desert Name              Drink         Sides  \n",
       "0  Greek yoghurt  Athens White wine         Tapas  \n",
       "1      Ice cream     Corfu Red Wine  Potato salad  \n",
       "2     Cheesecake     Italian Coffee    Bruschetta  \n",
       "3       Affogato      Roma Red wine      Focaccia  "
      ]
     },
     "execution_count": 85,
     "metadata": {},
     "output_type": "execute_result"
    }
   ],
   "source": [
    "xlsx.parse(sheet_name = \"Orders\", nrows = 4) # this returns 4 rows from the parsed sheet"
   ]
  },
  {
   "cell_type": "code",
   "execution_count": 86,
   "id": "946ec3f9-da8c-438f-80a8-0714442e08de",
   "metadata": {},
   "outputs": [
    {
     "data": {
      "text/html": [
       "<div>\n",
       "<style scoped>\n",
       "    .dataframe tbody tr th:only-of-type {\n",
       "        vertical-align: middle;\n",
       "    }\n",
       "\n",
       "    .dataframe tbody tr th {\n",
       "        vertical-align: top;\n",
       "    }\n",
       "\n",
       "    .dataframe thead th {\n",
       "        text-align: right;\n",
       "    }\n",
       "</style>\n",
       "<table border=\"1\" class=\"dataframe\">\n",
       "  <thead>\n",
       "    <tr style=\"text-align: right;\">\n",
       "      <th></th>\n",
       "      <th>Order Date</th>\n",
       "      <th>Delivery Date</th>\n",
       "      <th>Customer ID</th>\n",
       "      <th>Customer Name</th>\n",
       "      <th>City</th>\n",
       "      <th>Country</th>\n",
       "      <th>Postal Code</th>\n",
       "      <th>Country Code</th>\n",
       "      <th>Cost</th>\n",
       "      <th>Sales</th>\n",
       "      <th>Quantity</th>\n",
       "      <th>Discount</th>\n",
       "      <th>Delivery Cost</th>\n",
       "      <th>Course Name</th>\n",
       "      <th>Cuisine Name</th>\n",
       "      <th>Starter Name</th>\n",
       "      <th>Desert Name</th>\n",
       "      <th>Drink</th>\n",
       "      <th>Sides</th>\n",
       "    </tr>\n",
       "    <tr>\n",
       "      <th>Order ID</th>\n",
       "      <th></th>\n",
       "      <th></th>\n",
       "      <th></th>\n",
       "      <th></th>\n",
       "      <th></th>\n",
       "      <th></th>\n",
       "      <th></th>\n",
       "      <th></th>\n",
       "      <th></th>\n",
       "      <th></th>\n",
       "      <th></th>\n",
       "      <th></th>\n",
       "      <th></th>\n",
       "      <th></th>\n",
       "      <th></th>\n",
       "      <th></th>\n",
       "      <th></th>\n",
       "      <th></th>\n",
       "      <th></th>\n",
       "    </tr>\n",
       "  </thead>\n",
       "  <tbody>\n",
       "    <tr>\n",
       "      <th>54-366-6861</th>\n",
       "      <td>2020-06-15</td>\n",
       "      <td>2020-03-26</td>\n",
       "      <td>72-055-7985</td>\n",
       "      <td>Laney Fadden</td>\n",
       "      <td>Daruoyan</td>\n",
       "      <td>China</td>\n",
       "      <td>993-0031</td>\n",
       "      <td>CN</td>\n",
       "      <td>125</td>\n",
       "      <td>187.5</td>\n",
       "      <td>2</td>\n",
       "      <td>20.00</td>\n",
       "      <td>60.51</td>\n",
       "      <td>Greek salad</td>\n",
       "      <td>Greek</td>\n",
       "      <td>Olives</td>\n",
       "      <td>Greek yoghurt</td>\n",
       "      <td>Athens White wine</td>\n",
       "      <td>Tapas</td>\n",
       "    </tr>\n",
       "    <tr>\n",
       "      <th>63-761-3686</th>\n",
       "      <td>2020-08-25</td>\n",
       "      <td>2020-07-17</td>\n",
       "      <td>65-353-0657</td>\n",
       "      <td>Giacopo Bramich</td>\n",
       "      <td>Ongjin</td>\n",
       "      <td>North Korea</td>\n",
       "      <td>216282</td>\n",
       "      <td>KP</td>\n",
       "      <td>235</td>\n",
       "      <td>352.5</td>\n",
       "      <td>1</td>\n",
       "      <td>15.00</td>\n",
       "      <td>96.75</td>\n",
       "      <td>Bean soup</td>\n",
       "      <td>Italian</td>\n",
       "      <td>Flatbread</td>\n",
       "      <td>Ice cream</td>\n",
       "      <td>Corfu Red Wine</td>\n",
       "      <td>Potato salad</td>\n",
       "    </tr>\n",
       "    <tr>\n",
       "      <th>65-351-6434</th>\n",
       "      <td>2021-08-17</td>\n",
       "      <td>2020-04-24</td>\n",
       "      <td>90-876-6799</td>\n",
       "      <td>Lia Bonar</td>\n",
       "      <td>Quince Mil</td>\n",
       "      <td>Peru</td>\n",
       "      <td>663246</td>\n",
       "      <td>PE</td>\n",
       "      <td>75</td>\n",
       "      <td>112.5</td>\n",
       "      <td>3</td>\n",
       "      <td>10.52</td>\n",
       "      <td>36.37</td>\n",
       "      <td>Pizza</td>\n",
       "      <td>Italian</td>\n",
       "      <td>Minestrone</td>\n",
       "      <td>Cheesecake</td>\n",
       "      <td>Italian Coffee</td>\n",
       "      <td>Bruschetta</td>\n",
       "    </tr>\n",
       "    <tr>\n",
       "      <th>36-917-2834</th>\n",
       "      <td>2021-08-14</td>\n",
       "      <td>2020-04-13</td>\n",
       "      <td>73-873-4827</td>\n",
       "      <td>Merrill Baudon</td>\n",
       "      <td>Susaki</td>\n",
       "      <td>Japan</td>\n",
       "      <td>987-0352</td>\n",
       "      <td>JP</td>\n",
       "      <td>220</td>\n",
       "      <td>330.0</td>\n",
       "      <td>3</td>\n",
       "      <td>11.23</td>\n",
       "      <td>5.49</td>\n",
       "      <td>Carbonara</td>\n",
       "      <td>Turkish</td>\n",
       "      <td>Tomato bread</td>\n",
       "      <td>Affogato</td>\n",
       "      <td>Roma Red wine</td>\n",
       "      <td>Focaccia</td>\n",
       "    </tr>\n",
       "    <tr>\n",
       "      <th>86-114-9232</th>\n",
       "      <td>2020-12-20</td>\n",
       "      <td>2021-02-02</td>\n",
       "      <td>80-927-5246</td>\n",
       "      <td>Tasia Fautly</td>\n",
       "      <td>Tobruk</td>\n",
       "      <td>Libya</td>\n",
       "      <td>351 01</td>\n",
       "      <td>LY</td>\n",
       "      <td>320</td>\n",
       "      <td>480.0</td>\n",
       "      <td>2</td>\n",
       "      <td>51.05</td>\n",
       "      <td>63.64</td>\n",
       "      <td>Kabasa</td>\n",
       "      <td>Greek</td>\n",
       "      <td>Falafel</td>\n",
       "      <td>Turkish yoghurt</td>\n",
       "      <td>Ankara White Wine</td>\n",
       "      <td>Meatballs</td>\n",
       "    </tr>\n",
       "  </tbody>\n",
       "</table>\n",
       "</div>"
      ],
      "text/plain": [
       "            Order Date Delivery Date  Customer ID    Customer Name  \\\n",
       "Order ID                                                             \n",
       "54-366-6861 2020-06-15    2020-03-26  72-055-7985     Laney Fadden   \n",
       "63-761-3686 2020-08-25    2020-07-17  65-353-0657  Giacopo Bramich   \n",
       "65-351-6434 2021-08-17    2020-04-24  90-876-6799        Lia Bonar   \n",
       "36-917-2834 2021-08-14    2020-04-13  73-873-4827   Merrill Baudon   \n",
       "86-114-9232 2020-12-20    2021-02-02  80-927-5246     Tasia Fautly   \n",
       "\n",
       "                   City      Country Postal Code Country Code   Cost  Sales  \\\n",
       "Order ID                                                                      \n",
       "54-366-6861    Daruoyan        China    993-0031           CN    125  187.5   \n",
       "63-761-3686      Ongjin  North Korea      216282           KP    235  352.5   \n",
       "65-351-6434  Quince Mil         Peru      663246           PE     75  112.5   \n",
       "36-917-2834      Susaki        Japan    987-0352           JP    220  330.0   \n",
       "86-114-9232      Tobruk        Libya      351 01           LY    320  480.0   \n",
       "\n",
       "             Quantity  Discount  Delivery Cost  Course Name Cuisine Name  \\\n",
       "Order ID                                                                   \n",
       "54-366-6861         2     20.00          60.51  Greek salad        Greek   \n",
       "63-761-3686         1     15.00          96.75    Bean soup      Italian   \n",
       "65-351-6434         3     10.52          36.37        Pizza      Italian   \n",
       "36-917-2834         3     11.23           5.49    Carbonara      Turkish   \n",
       "86-114-9232         2     51.05          63.64       Kabasa        Greek   \n",
       "\n",
       "             Starter Name      Desert Name              Drink         Sides  \n",
       "Order ID                                                                     \n",
       "54-366-6861        Olives    Greek yoghurt  Athens White wine         Tapas  \n",
       "63-761-3686     Flatbread        Ice cream     Corfu Red Wine  Potato salad  \n",
       "65-351-6434    Minestrone       Cheesecake     Italian Coffee    Bruschetta  \n",
       "36-917-2834  Tomato bread         Affogato      Roma Red wine      Focaccia  \n",
       "86-114-9232       Falafel  Turkish yoghurt  Ankara White Wine     Meatballs  "
      ]
     },
     "execution_count": 86,
     "metadata": {},
     "output_type": "execute_result"
    }
   ],
   "source": [
    "xlsx.parse(sheet_name = 'Orders', index_col = 0, nrows = 5) # removes the primary index column"
   ]
  },
  {
   "cell_type": "markdown",
   "id": "dd7c83e6-c6c2-4c5b-8751-ee4da47085ed",
   "metadata": {},
   "source": [
    "Now Lets Say we want to read_excel files and like in previous cases, we would like to assign a pointer to the memory where this will be stored"
   ]
  },
  {
   "cell_type": "code",
   "execution_count": 87,
   "id": "31894948-f015-48e2-913e-6f3fafa06098",
   "metadata": {},
   "outputs": [
    {
     "name": "stdout",
     "output_type": "stream",
     "text": [
      "          Order ID Order Date Delivery Date  Customer ID  \\\n",
      "0      54-366-6861 2020-06-15    2020-03-26  72-055-7985   \n",
      "1      63-761-3686 2020-08-25    2020-07-17  65-353-0657   \n",
      "2      65-351-6434 2021-08-17    2020-04-24  90-876-6799   \n",
      "3      36-917-2834 2021-08-14    2020-04-13  73-873-4827   \n",
      "4      86-114-9232 2020-12-20    2021-02-02  80-927-5246   \n",
      "...            ...        ...           ...          ...   \n",
      "20995  32-698-1958 2021-11-02    2020-10-12  79-834-1150   \n",
      "20996  66-068-8313 2021-10-12    2021-10-20  91-484-8549   \n",
      "20997  02-311-4674 2022-06-30    2022-11-04  58-358-2956   \n",
      "20998  85-569-0097 2020-12-21    2020-10-05  40-946-4285   \n",
      "20999  33-294-7116 2020-11-09    2020-08-17  22-719-1060   \n",
      "\n",
      "              Customer Name                        City      Country  \\\n",
      "0              Laney Fadden                    Daruoyan        China   \n",
      "1           Giacopo Bramich                      Ongjin  North Korea   \n",
      "2                 Lia Bonar                  Quince Mil         Peru   \n",
      "3            Merrill Baudon                      Susaki        Japan   \n",
      "4              Tasia Fautly                      Tobruk        Libya   \n",
      "...                     ...                         ...          ...   \n",
      "20995         Paton Fritzer             Nowe Grocholice       Poland   \n",
      "20996       Kelbee Illesley                 Sete Lagoas       Brazil   \n",
      "20997  Christabella Coathup                      Bangil    Indonesia   \n",
      "20998         Ephrem Steers        Saint-AndrÃ©-Avellin       Canada   \n",
      "20999        Melesa Halahan  Fernando Gutierrez Barrios       Mexico   \n",
      "\n",
      "      Postal Code Country Code    Cost    Sales  Quantity  Discount  \\\n",
      "0        993-0031           CN  125.00  187.500         2     20.00   \n",
      "1          216282           KP  235.00  352.500         1     15.00   \n",
      "2          663246           PE   75.00  112.500         3     10.52   \n",
      "3        987-0352           JP  220.00  330.000         3     11.23   \n",
      "4          351 01           LY  320.00  480.000         2     51.05   \n",
      "...           ...          ...     ...      ...       ...       ...   \n",
      "20995    993-1266           PL  124.62  186.930         3      9.71   \n",
      "20996  1104217362           BR  144.09  216.135         2     80.34   \n",
      "20997  1104664326           ID  101.60  152.400         1     54.08   \n",
      "20998    987-1587           CA   93.13  139.695         2     98.01   \n",
      "20999     1586 01           MX   44.57   66.855         3     99.24   \n",
      "\n",
      "       Delivery Cost  Course Name Cuisine Name  Starter Name      Desert Name  \\\n",
      "0              60.51  Greek salad        Greek        Olives    Greek yoghurt   \n",
      "1              96.75    Bean soup      Italian     Flatbread        Ice cream   \n",
      "2              36.37        Pizza      Italian    Minestrone       Cheesecake   \n",
      "3               5.49    Carbonara      Turkish  Tomato bread         Affogato   \n",
      "4              63.64       Kabasa        Greek       Falafel  Turkish yoghurt   \n",
      "...              ...          ...          ...           ...              ...   \n",
      "20995          49.46      Shwarma      Turkish     Flatbread          Baklava   \n",
      "20996          28.02  Greek salad        Greek    Minestrone    Greek yoghurt   \n",
      "20997           9.48    Bean soup      Italian  Tomato bread        Ice cream   \n",
      "20998          43.62        Pizza      Italian       Falafel       Cheesecake   \n",
      "20999          55.72    Carbonara      Turkish        Hummus         Affogato   \n",
      "\n",
      "                   Drink         Sides  \n",
      "0      Athens White wine         Tapas  \n",
      "1         Corfu Red Wine  Potato salad  \n",
      "2         Italian Coffee    Bruschetta  \n",
      "3          Roma Red wine      Focaccia  \n",
      "4      Ankara White Wine     Meatballs  \n",
      "...                  ...           ...  \n",
      "20995     Turkish Coffee         Fries  \n",
      "20996  Athens White wine         Tapas  \n",
      "20997     Corfu Red Wine  Potato salad  \n",
      "20998     Italian Coffee    Bruschetta  \n",
      "20999      Roma Red wine      Focaccia  \n",
      "\n",
      "[21000 rows x 20 columns]\n"
     ]
    }
   ],
   "source": [
    "frame = pd.read_excel(\"C:\\\\Users\\\\GOGOL\\\\Downloads\\\\wtf_is_this.xlsx\", sheet_name = 'Orders') # because this is a xlsx file, you must mention sheet name\n",
    "print(frame) # returns a lots of data basically all the data\n",
    "# you will notice as there are toom many columns, the output looks a bit odd, but thats alright"
   ]
  },
  {
   "cell_type": "markdown",
   "id": "5d5f6b60-d72f-4916-8011-fc6bbe0fc659",
   "metadata": {},
   "source": [
    " To write pandas data to excel format, you must first create an ExcelWriter, then write data to it using the pandas object's to_excel method\n",
    " here are the following methods\n",
    "\n",
    "#### writer = pd.ExcelWriter(\"C:\\\\Users\\\\GOGOL\\\\Downloads\\\\wtf_is_this.xlsx\") \n",
    " this has to be something else that we will be merging with our original xlsx file (Sheet)\n",
    "#### frame.to_excel(writer, \"Sheet1\")\n",
    "#### writer.save()\n",
    "\n",
    " We can also passs a file path to to_excel and avoid the ExcelWriter\n",
    "#### frame.to_excel(\"exampls/ex2.xlsx\")"
   ]
  },
  {
   "cell_type": "markdown",
   "id": "8286b33b-4e92-4a9d-9cc6-ea31787fbb7a",
   "metadata": {},
   "source": [
    "#### Using HDF5 Format\n",
    "\n",
    "HDF5 is a respected file format intended for storing large quantities of scientific array data.\n",
    "It is available as a C library, and it has interfaces available in many other languages, including Java, Julia, MATLAB, and Python.\n",
    "\n",
    "HDF = Hierarchical Data Format"
   ]
  },
  {
   "cell_type": "code",
   "execution_count": 88,
   "id": "50a3fb78-8ebf-4e1c-abe6-dc9cced43317",
   "metadata": {},
   "outputs": [],
   "source": [
    "# !pip install tables\n",
    "\n"
   ]
  },
  {
   "cell_type": "code",
   "execution_count": 89,
   "id": "c09a5469-1abd-4326-b284-3c65864d1ce8",
   "metadata": {},
   "outputs": [
    {
     "name": "stdout",
     "output_type": "stream",
     "text": [
      "<class 'pandas.io.pytables.HDFStore'>\n",
      "File path: C:\\Users\\GOGOL\\OneDrive\\Desktop\\mydata.h5\n",
      "\n",
      "0     1.117378\n",
      "1    -0.993002\n",
      "2    -0.071838\n",
      "3     0.657061\n",
      "4     0.898668\n",
      "        ...   \n",
      "28   -0.915563\n",
      "29   -0.612758\n",
      "30    0.676510\n",
      "31   -0.743977\n",
      "32    1.789432\n",
      "Name: a, Length: 33, dtype: float64\n"
     ]
    }
   ],
   "source": [
    "new_frame = pd.DataFrame({\"a\": np.random.standard_normal(33)})\n",
    "store = pd.HDFStore(\"C:\\\\Users\\\\GOGOL\\\\OneDrive\\\\Desktop\\\\mydata.h5\")\n",
    "\n",
    "store[\"obj1\"] = new_frame[\"a\"]\n",
    "\n",
    "print(store) # this returns the class value\n",
    "# if you wanted to print the HDF5 values\n",
    "print(store['obj1'])\n",
    "store.close()"
   ]
  },
  {
   "cell_type": "markdown",
   "id": "0634d533-c9db-4d5a-a537-f5a23d09a7d1",
   "metadata": {},
   "source": [
    "The special thing with HDF5 type of data is that we can also use query language like this:\n",
    "\n",
    "#### the next block of code won't work directly as I have not passed in data "
   ]
  },
  {
   "cell_type": "code",
   "execution_count": 90,
   "id": "a31d2b7f-0a54-433b-a4f4-bca8d9f725be",
   "metadata": {},
   "outputs": [],
   "source": [
    "# store.put(\"obj2\",new_frame, format = \"table\")\n",
    "# store.select(\"obj2\", where=[\"index>= 10 and index <= 15\"]) \n",
    "# # this is how you can use restrictions on the data that you'll get as your output\n",
    "# store.close()"
   ]
  },
  {
   "cell_type": "markdown",
   "id": "b1fd4c57-19cd-49d4-a138-28983cd9567d",
   "metadata": {},
   "source": [
    "The pandas.read_hdf function gives you a shortcut to these tools:\n",
    "\n",
    "anyways same case with this one as  well as the file path is not mentioned -- > "
   ]
  },
  {
   "cell_type": "code",
   "execution_count": 91,
   "id": "ec7c729e-52ce-4cf3-a744-4e01cede4fe6",
   "metadata": {},
   "outputs": [],
   "source": [
    "# frame.to_hdf(\"path\", 'obj3', format = \"table\")\n",
    "# # and to read it \n",
    "# pd.read_hdf(\"path\",'obj3', where = [\"index < 5\"])\n"
   ]
  },
  {
   "cell_type": "code",
   "execution_count": 92,
   "id": "86da51e0-01a9-4fe5-886f-fe363c2719b4",
   "metadata": {},
   "outputs": [],
   "source": [
    "# if you would like to remove the HDF5 file from your OS\n",
    "# do this - \n",
    "import os \n",
    "os.remove(\"C:\\\\Users\\\\GOGOL\\\\OneDrive\\\\Desktop\\\\mydata.h5\") # this will most certainly remove the file (unless its open or is being used )"
   ]
  },
  {
   "cell_type": "markdown",
   "id": "41c4bee0-46b8-4a96-8281-20d10b22c192",
   "metadata": {},
   "source": [
    "#### Intereacting with Web APIs"
   ]
  },
  {
   "cell_type": "code",
   "execution_count": 93,
   "id": "479e590a-0de7-4cb9-a36b-24baac342550",
   "metadata": {},
   "outputs": [
    {
     "name": "stdout",
     "output_type": "stream",
     "text": [
      "BUG: pandas.pivot_table margins, dropna and observed parameters not producing expected result\n",
      "   number                                              title  \\\n",
      "0   61469  BUG: pandas.pivot_table margins, dropna and ob...   \n",
      "1   61468                             ENH: Implement PDEP-17   \n",
      "2   61467  ENH: Support third-party execution engines in ...   \n",
      "3   61466  BUG: Series.str.isdigit with pyarrow dtype doe...   \n",
      "4   61465  BUG: Raise ValueError on integer indexers cont...   \n",
      "\n",
      "                                              labels state  \n",
      "0  [{'id': 76811, 'node_id': 'MDU6TGFiZWw3NjgxMQ=...  open  \n",
      "1  [{'id': 76812, 'node_id': 'MDU6TGFiZWw3NjgxMg=...  open  \n",
      "2  [{'id': 697792067, 'node_id': 'MDU6TGFiZWw2OTc...  open  \n",
      "3  [{'id': 76811, 'node_id': 'MDU6TGFiZWw3NjgxMQ=...  open  \n",
      "4                                                 []  open  \n"
     ]
    }
   ],
   "source": [
    "import requests # we need to import this module\n",
    "# import pandas as pd\n",
    "\n",
    "# Get issues from a GitHub repo\n",
    "resp = requests.get(\"https://api.github.com/repos/pandas-dev/pandas/issues\")\n",
    "resp.raise_for_status()  # good practice!\n",
    "\n",
    "# Now this will work because GitHub returns JSON\n",
    "data = resp.json()\n",
    "\n",
    "# Peek at the first item\n",
    "print(data[0]['title'])  # this works\n",
    "\n",
    "# Create DataFrame with selected fields\n",
    "issues = pd.DataFrame(data, columns=['number', 'title', 'labels', 'state'])\n",
    "\n",
    "print(issues.head()) # see it for your self\n"
   ]
  },
  {
   "cell_type": "markdown",
   "id": "58c6f1b1-ee93-4d32-a1ee-e802b151a940",
   "metadata": {},
   "source": [
    "###  **Intereacting with Databases**  \n",
    "\n",
    "We had already executed the queries, running again will cause error"
   ]
  },
  {
   "cell_type": "code",
   "execution_count": 94,
   "id": "e302029c-c4f6-4996-b8d7-0bd3f5338b76",
   "metadata": {},
   "outputs": [],
   "source": [
    "# Already Executed no need to run again\n",
    "\n",
    "# lets first import a few things\n",
    "# import sqlite3\n",
    "\n",
    "# statement_1 = \"\"\" CREATE TABLE IF NOT EXISTS Asiz (key int primary key,\n",
    "#                                      value int );\"\"\"\n",
    "\n",
    "# conn = sqlite3.connect(\"mydata.sqlite\") # this is the built-in database for sq3lite\n",
    "# conn.execute(statement_1)\n",
    "# statement_2 = \"\"\" INSERT INTO Asiz(key,value) VALUES (1,3),\n",
    "#                                                      (2,2),\n",
    "#                                                      (3,1); \"\"\"\n",
    "# conn.execute(statement_2)\n",
    "# # after this we need to commit so that the changes made are saved\n",
    "# conn.commit()"
   ]
  },
  {
   "cell_type": "markdown",
   "id": "728fa9a1-f04e-48f1-9aae-b5d2eedf34dd",
   "metadata": {},
   "source": [
    "#### ***This is how we do it, making connections and actually executing the queries***"
   ]
  },
  {
   "cell_type": "code",
   "execution_count": 95,
   "id": "8db1ab29-eaf8-4fbf-9e49-34a285c09804",
   "metadata": {},
   "outputs": [],
   "source": [
    "# in python there is also a method to use MySQL function as well\n",
    "# we have to import \n",
    "# import mysql.connector\n",
    "# import Error as e\n",
    "\n",
    "# try:\n",
    "#     conn = mysql.connector.conmnect (\n",
    "#     host = '127.0.0.1',\n",
    "#     user = 'root',\n",
    "#     password = 'something', # change it accordingly\n",
    "#     database = 'LLDB' # change it accordingly as well\n",
    "#     )\n",
    "\n",
    "#     cursor = conn.cursor() # you could also use (buffered = True) within the parenthesis, like this\n",
    "#     cursor.execute(statement_1)\n",
    "#     rows = cursor.fetchall() # this fetches the data where the cursor is pointing\n",
    "\n",
    "#     for row in rows:\n",
    "#         print(row)\n",
    "\n",
    "# except Error as e:\n",
    "#     print(f'The problem that we have ran onto is {e}')\n",
    "\n",
    "# finally:\n",
    "#     cursor.close() # safely stops the cursor and stops any trailing thing\n",
    "#     conn.close() # closes the connection\n",
    "\n",
    "\n"
   ]
  },
  {
   "cell_type": "markdown",
   "id": "5a80aada-feff-43c8-a52a-273326194c43",
   "metadata": {},
   "source": [
    "####    **SQLAlchemy**"
   ]
  },
  {
   "cell_type": "markdown",
   "id": "12b2bbc3-ec07-4ba3-8ce8-867f6fdba558",
   "metadata": {},
   "source": [
    "The SQLALchemy project is a popular python SQL tooklit that abstracts away many of the common differences between SQL databases.\n",
    "pandas has a read_sql function that enables you to read data easily from a general SQLAlchemy connection."
   ]
  },
  {
   "cell_type": "code",
   "execution_count": 96,
   "id": "29d4c79a-4ce0-4bbd-8649-9c2c37d03127",
   "metadata": {},
   "outputs": [],
   "source": [
    "# Here is how you install SQLAlchemy with pip\n",
    "# !pip install sqlalchemy"
   ]
  },
  {
   "cell_type": "code",
   "execution_count": 97,
   "id": "7b12a1d7-95e3-4711-a4fe-f9ddfc104683",
   "metadata": {},
   "outputs": [],
   "source": [
    "# import sqlalchemy as sqla\n",
    "\n",
    "# database = sqla.create_engine(\"sqlite//mydata.sqlite\") # this might change depending on what you had used previously for the\n",
    "\n",
    "# pd.read_sql(\"SELECT * FROM Asiz\", database) # for me this is glitching, try to run by  yourself at your PC"
   ]
  },
  {
   "cell_type": "markdown",
   "id": "e45ac63d-4725-4abc-9570-6cd82018caa5",
   "metadata": {},
   "source": [
    "### **Data Cleaning and PreparatioN**"
   ]
  },
  {
   "cell_type": "code",
   "execution_count": 98,
   "id": "566d5830-5501-4021-b241-42619aa9eaeb",
   "metadata": {},
   "outputs": [],
   "source": [
    "import pandas as pd\n",
    "import numpy as np"
   ]
  },
  {
   "cell_type": "markdown",
   "id": "ed25ca5d-d889-4904-ad0e-264ef7db6014",
   "metadata": {},
   "source": [
    "**Handling Missing Data**\n",
    "\n",
    "The way that missing data is represented in pandas objects is somewhat imperfect, but it is sufficient for most real-world use. For data with float64 dtype, pandas uses the floating-point value NaN(Not a Number) to represent missing data.\n",
    "\n",
    "The missing data is otherwise called as ***Sentinel***"
   ]
  },
  {
   "cell_type": "code",
   "execution_count": 99,
   "id": "8aea7e59-5040-4a65-93b1-0c93d296835c",
   "metadata": {},
   "outputs": [
    {
     "name": "stdout",
     "output_type": "stream",
     "text": [
      "0    1.2\n",
      "1   -5.3\n",
      "2    NaN\n",
      "3    0.0\n",
      "dtype: float64\n",
      "\n",
      "0    False\n",
      "1    False\n",
      "2     True\n",
      "3    False\n",
      "dtype: bool\n"
     ]
    }
   ],
   "source": [
    "float_data = pd.Series([1.2,-5.3,np.nan,0])\n",
    "print(float_data)\n",
    "\n",
    "# The we have the .isna() method \n",
    "print(\"\")\n",
    "print(float_data.isna()) # this will output the masked data\n"
   ]
  },
  {
   "cell_type": "code",
   "execution_count": 100,
   "id": "9b85fbbc-24f5-419e-9bc0-18ccdf3d7378",
   "metadata": {},
   "outputs": [
    {
     "name": "stdout",
     "output_type": "stream",
     "text": [
      "0    1.00\n",
      "1    2.40\n",
      "2   -3.56\n",
      "3     NaN\n",
      "4     NaN\n",
      "5    0.00\n",
      "dtype: float64\n"
     ]
    }
   ],
   "source": [
    "# The build in python value None is considered equivalent to the NaN value in pandas or NA in R programming language\n",
    "\n",
    "new_series = pd.Series([1,2.4,-3.56,np.nan,None,0])\n",
    "print(new_series) # See the None changed to NaN"
   ]
  },
  {
   "cell_type": "code",
   "execution_count": 101,
   "id": "6136a71f-deb4-4fa8-a326-e53d8d3f24c6",
   "metadata": {},
   "outputs": [
    {
     "name": "stdout",
     "output_type": "stream",
     "text": [
      "0    1.0\n",
      "1    2.0\n",
      "2    3.0\n",
      "3    4.0\n",
      "4    NaN\n",
      "dtype: float64\n"
     ]
    }
   ],
   "source": [
    "# We can also alter data types within the series like this:\n",
    "deta = pd.Series([1,2,3,4,None], dtype = 'float64')\n",
    "print(deta) # see even though we passed ints and None values in the series, we got the dtype changed with the dtype function"
   ]
  },
  {
   "cell_type": "markdown",
   "id": "467ca0a1-2e49-4758-bf5a-d71520b6ef02",
   "metadata": {},
   "source": [
    "**dropna** --> Filter axis labels based on whether values for each label have missing data, with varying threshold for how much missing data to tolerate\n",
    "\n",
    "**fillna** --> Fill in missing data with some value or using an interpolation method such as 'ffill' or 'bfill'.\n",
    "\n",
    "**isna** --> Return Boolean values indicating which values are missing/NA\n",
    "\n",
    "**notna** --> Negation of isna, returns True for non-NA values and false for NA values"
   ]
  },
  {
   "cell_type": "markdown",
   "id": "26c8082b-044f-4c05-97ba-1dddfaa06ba9",
   "metadata": {},
   "source": [
    "#### **Filtering out Missing Data**"
   ]
  },
  {
   "cell_type": "code",
   "execution_count": 102,
   "id": "f56a6ada-7f60-4d18-bd81-6d8092eb68ca",
   "metadata": {},
   "outputs": [
    {
     "name": "stdout",
     "output_type": "stream",
     "text": [
      "0    1.0\n",
      "1    5.0\n",
      "2    NaN\n",
      "3    NaN\n",
      "4    0.0\n",
      "5    NaN\n",
      "6    2.0\n",
      "7    3.0\n",
      "dtype: float64\n",
      "\n",
      "0    1.0\n",
      "1    5.0\n",
      "4    0.0\n",
      "6    2.0\n",
      "7    3.0\n",
      "dtype: float64\n"
     ]
    }
   ],
   "source": [
    "data = pd.Series([1,5,np.nan,None,0,np.nan,2,3])\n",
    "print(data)\n",
    "print(\"\")\n",
    "print(data.dropna()) # See this thing completely flushed out the not a number values"
   ]
  },
  {
   "cell_type": "markdown",
   "id": "c818f02c-b4ce-462f-aad9-c82f1c9d5b96",
   "metadata": {},
   "source": [
    "##### **The other way of doing it is**"
   ]
  },
  {
   "cell_type": "code",
   "execution_count": 103,
   "id": "4c327a2d-9831-4dfa-ab1c-8713b2e1d4c8",
   "metadata": {},
   "outputs": [
    {
     "data": {
      "text/plain": [
       "0    1.0\n",
       "1    5.0\n",
       "4    0.0\n",
       "6    2.0\n",
       "7    3.0\n",
       "dtype: float64"
      ]
     },
     "execution_count": 103,
     "metadata": {},
     "output_type": "execute_result"
    }
   ],
   "source": [
    "data[data.notna()] # this first inspects the and masks the required rows and then another data[] --> returns the rows based on the mask"
   ]
  },
  {
   "cell_type": "markdown",
   "id": "9c7ac9d1-2064-4a23-aedc-cdfa7c1daf73",
   "metadata": {},
   "source": [
    "**Let's apply similar tactics in a pandasDataFrame**"
   ]
  },
  {
   "cell_type": "code",
   "execution_count": 104,
   "id": "d8f37212-10e6-46d6-a299-d335aac57df9",
   "metadata": {},
   "outputs": [
    {
     "name": "stdout",
     "output_type": "stream",
     "text": [
      "     0    1    2\n",
      "0  1.0  0.0  NaN\n",
      "1  2.0  3.0  2.1\n",
      "2  NaN  3.2  NaN\n"
     ]
    }
   ],
   "source": [
    "df = pd.DataFrame([[1,0,None],[2,3,2.1],[np.nan,3.2,None]])\n",
    "print(df) # this is out (3X3 df)"
   ]
  },
  {
   "cell_type": "code",
   "execution_count": 105,
   "id": "261c7bc9-9c72-40a0-8f9c-b92c4bb3983c",
   "metadata": {},
   "outputs": [
    {
     "name": "stdout",
     "output_type": "stream",
     "text": [
      "     0    1    2\n",
      "1  2.0  3.0  2.1\n"
     ]
    }
   ],
   "source": [
    "# Lets apply the dropna function here\n",
    "print(df.dropna()) # because the second and third row contained NaN values it dropped them"
   ]
  },
  {
   "cell_type": "code",
   "execution_count": 106,
   "id": "2d4d2290-1052-4770-964b-a8183228168d",
   "metadata": {},
   "outputs": [
    {
     "name": "stdout",
     "output_type": "stream",
     "text": [
      "     1\n",
      "0  0.0\n",
      "1  3.0\n",
      "2  3.2\n"
     ]
    }
   ],
   "source": [
    "# Now what if we wanted to perform the same operation columnwise\n",
    "print(df.dropna(axis = 1)) # See because the first and the third column had NaN values in them it dropped them (column wise)"
   ]
  },
  {
   "cell_type": "markdown",
   "id": "70fb4e06-ee1e-4965-bdd1-47ce4b02f364",
   "metadata": {},
   "source": [
    "**Let's say you want to drop both by column as well as rows the use this**"
   ]
  },
  {
   "cell_type": "code",
   "execution_count": 107,
   "id": "723687c7-314b-4ae6-84ce-fd119cf7d3c7",
   "metadata": {},
   "outputs": [
    {
     "name": "stdout",
     "output_type": "stream",
     "text": [
      "     0    1    2\n",
      "1  2.0  3.0  2.1\n"
     ]
    }
   ],
   "source": [
    "print(df.dropna(axis = 0).dropna(axis=1)) # yes this is how we do the thing"
   ]
  },
  {
   "cell_type": "markdown",
   "id": "bd123e24-1dc9-4bac-928b-51bb4c288383",
   "metadata": {},
   "source": [
    "**The (how =\"all\") Method**"
   ]
  },
  {
   "cell_type": "code",
   "execution_count": 108,
   "id": "646697d5-1ce8-4123-bf2c-b4581c5831e0",
   "metadata": {},
   "outputs": [
    {
     "name": "stdout",
     "output_type": "stream",
     "text": [
      "     0    1    2\n",
      "0  1.0  2.0  3.0\n",
      "1  NaN  NaN  3.0\n",
      "2  NaN  NaN  NaN\n",
      "3  5.0  7.0  0.0\n",
      "     0    1    2\n",
      "0  1.0  2.0  3.0\n",
      "1  NaN  NaN  3.0\n",
      "3  5.0  7.0  0.0\n"
     ]
    }
   ],
   "source": [
    "# Say our DataFrame is like this:\n",
    "df2 = pd.DataFrame([[1,2,3],[np.nan,np.nan,3],[None,None,None],[5,7,0]])\n",
    "print(df2)\n",
    "\n",
    "# Now what we will do it that as we can see that the third row has all NaN values in each of the cells, and we want to remove that \n",
    "print(df2.dropna(how=\"all\")) # see this will erradicate the 3rd row becuase every single value in that row was 0\n",
    "# now as a result we get index 0,1 and 3"
   ]
  },
  {
   "cell_type": "code",
   "execution_count": 109,
   "id": "cab53adc-3e46-4184-9c9c-e9fd735d2002",
   "metadata": {},
   "outputs": [
    {
     "name": "stdout",
     "output_type": "stream",
     "text": [
      "     0    1   2\n",
      "0  1.0  2.0 NaN\n",
      "1  NaN  NaN NaN\n",
      "2  NaN  NaN NaN\n",
      "3  5.0  7.0 NaN\n"
     ]
    }
   ],
   "source": [
    "# lets say we want to modify a particular column wihtin the data frame and want to set all the values of that row to say NaN\n",
    "df2[2] = np.nan\n",
    "print(df2) # see this changed the values of 2nd indexed or 3rd column to np.nan\n"
   ]
  },
  {
   "cell_type": "markdown",
   "id": "2576f846-c482-4726-bd69-80df31232f7e",
   "metadata": {},
   "source": [
    "**Suppose we want to keep only rows containing at most a certain number of missing observations. You can indicate this with the thresh argument**"
   ]
  },
  {
   "cell_type": "code",
   "execution_count": 110,
   "id": "be77fd9b-0e05-4b3a-925e-0401471fe620",
   "metadata": {},
   "outputs": [
    {
     "data": {
      "text/html": [
       "<div>\n",
       "<style scoped>\n",
       "    .dataframe tbody tr th:only-of-type {\n",
       "        vertical-align: middle;\n",
       "    }\n",
       "\n",
       "    .dataframe tbody tr th {\n",
       "        vertical-align: top;\n",
       "    }\n",
       "\n",
       "    .dataframe thead th {\n",
       "        text-align: right;\n",
       "    }\n",
       "</style>\n",
       "<table border=\"1\" class=\"dataframe\">\n",
       "  <thead>\n",
       "    <tr style=\"text-align: right;\">\n",
       "      <th></th>\n",
       "      <th>0</th>\n",
       "      <th>1</th>\n",
       "      <th>2</th>\n",
       "    </tr>\n",
       "  </thead>\n",
       "  <tbody>\n",
       "    <tr>\n",
       "      <th>0</th>\n",
       "      <td>-1.054981</td>\n",
       "      <td>NaN</td>\n",
       "      <td>NaN</td>\n",
       "    </tr>\n",
       "    <tr>\n",
       "      <th>1</th>\n",
       "      <td>0.764347</td>\n",
       "      <td>NaN</td>\n",
       "      <td>NaN</td>\n",
       "    </tr>\n",
       "    <tr>\n",
       "      <th>2</th>\n",
       "      <td>0.976446</td>\n",
       "      <td>NaN</td>\n",
       "      <td>-0.941988</td>\n",
       "    </tr>\n",
       "    <tr>\n",
       "      <th>3</th>\n",
       "      <td>0.945798</td>\n",
       "      <td>NaN</td>\n",
       "      <td>0.217149</td>\n",
       "    </tr>\n",
       "    <tr>\n",
       "      <th>4</th>\n",
       "      <td>2.273452</td>\n",
       "      <td>0.245737</td>\n",
       "      <td>-0.811601</td>\n",
       "    </tr>\n",
       "    <tr>\n",
       "      <th>5</th>\n",
       "      <td>1.520893</td>\n",
       "      <td>-0.539340</td>\n",
       "      <td>0.134886</td>\n",
       "    </tr>\n",
       "    <tr>\n",
       "      <th>6</th>\n",
       "      <td>0.345088</td>\n",
       "      <td>0.600324</td>\n",
       "      <td>0.280047</td>\n",
       "    </tr>\n",
       "  </tbody>\n",
       "</table>\n",
       "</div>"
      ],
      "text/plain": [
       "          0         1         2\n",
       "0 -1.054981       NaN       NaN\n",
       "1  0.764347       NaN       NaN\n",
       "2  0.976446       NaN -0.941988\n",
       "3  0.945798       NaN  0.217149\n",
       "4  2.273452  0.245737 -0.811601\n",
       "5  1.520893 -0.539340  0.134886\n",
       "6  0.345088  0.600324  0.280047"
      ]
     },
     "execution_count": 110,
     "metadata": {},
     "output_type": "execute_result"
    }
   ],
   "source": [
    "df = pd.DataFrame(np.random.standard_normal((7,3)))\n",
    "df.iloc[:4,1] = np.nan # for the 1st indexed column(1st) from index 0 to 3 the values have changed to NaN\n",
    "df.iloc[:2,2] = np.nan # in here for the 2nd index column(2nd) from index 0 and 1 the values have changed to NaN\n",
    "\n",
    "df"
   ]
  },
  {
   "cell_type": "code",
   "execution_count": 111,
   "id": "461c813f-d009-485e-a06b-25cfbfd271dd",
   "metadata": {},
   "outputs": [
    {
     "data": {
      "text/html": [
       "<div>\n",
       "<style scoped>\n",
       "    .dataframe tbody tr th:only-of-type {\n",
       "        vertical-align: middle;\n",
       "    }\n",
       "\n",
       "    .dataframe tbody tr th {\n",
       "        vertical-align: top;\n",
       "    }\n",
       "\n",
       "    .dataframe thead th {\n",
       "        text-align: right;\n",
       "    }\n",
       "</style>\n",
       "<table border=\"1\" class=\"dataframe\">\n",
       "  <thead>\n",
       "    <tr style=\"text-align: right;\">\n",
       "      <th></th>\n",
       "      <th>0</th>\n",
       "      <th>1</th>\n",
       "      <th>2</th>\n",
       "    </tr>\n",
       "  </thead>\n",
       "  <tbody>\n",
       "    <tr>\n",
       "      <th>4</th>\n",
       "      <td>2.273452</td>\n",
       "      <td>0.245737</td>\n",
       "      <td>-0.811601</td>\n",
       "    </tr>\n",
       "    <tr>\n",
       "      <th>5</th>\n",
       "      <td>1.520893</td>\n",
       "      <td>-0.539340</td>\n",
       "      <td>0.134886</td>\n",
       "    </tr>\n",
       "    <tr>\n",
       "      <th>6</th>\n",
       "      <td>0.345088</td>\n",
       "      <td>0.600324</td>\n",
       "      <td>0.280047</td>\n",
       "    </tr>\n",
       "  </tbody>\n",
       "</table>\n",
       "</div>"
      ],
      "text/plain": [
       "          0         1         2\n",
       "4  2.273452  0.245737 -0.811601\n",
       "5  1.520893 -0.539340  0.134886\n",
       "6  0.345088  0.600324  0.280047"
      ]
     },
     "execution_count": 111,
     "metadata": {},
     "output_type": "execute_result"
    }
   ],
   "source": [
    "df.dropna() # drops the rows filled with any number of NaN"
   ]
  },
  {
   "cell_type": "code",
   "execution_count": 112,
   "id": "52b86167-71a4-4b2f-a04a-a5e0968568d9",
   "metadata": {},
   "outputs": [
    {
     "data": {
      "text/html": [
       "<div>\n",
       "<style scoped>\n",
       "    .dataframe tbody tr th:only-of-type {\n",
       "        vertical-align: middle;\n",
       "    }\n",
       "\n",
       "    .dataframe tbody tr th {\n",
       "        vertical-align: top;\n",
       "    }\n",
       "\n",
       "    .dataframe thead th {\n",
       "        text-align: right;\n",
       "    }\n",
       "</style>\n",
       "<table border=\"1\" class=\"dataframe\">\n",
       "  <thead>\n",
       "    <tr style=\"text-align: right;\">\n",
       "      <th></th>\n",
       "      <th>0</th>\n",
       "      <th>1</th>\n",
       "      <th>2</th>\n",
       "    </tr>\n",
       "  </thead>\n",
       "  <tbody>\n",
       "    <tr>\n",
       "      <th>2</th>\n",
       "      <td>0.976446</td>\n",
       "      <td>NaN</td>\n",
       "      <td>-0.941988</td>\n",
       "    </tr>\n",
       "    <tr>\n",
       "      <th>3</th>\n",
       "      <td>0.945798</td>\n",
       "      <td>NaN</td>\n",
       "      <td>0.217149</td>\n",
       "    </tr>\n",
       "    <tr>\n",
       "      <th>4</th>\n",
       "      <td>2.273452</td>\n",
       "      <td>0.245737</td>\n",
       "      <td>-0.811601</td>\n",
       "    </tr>\n",
       "    <tr>\n",
       "      <th>5</th>\n",
       "      <td>1.520893</td>\n",
       "      <td>-0.539340</td>\n",
       "      <td>0.134886</td>\n",
       "    </tr>\n",
       "    <tr>\n",
       "      <th>6</th>\n",
       "      <td>0.345088</td>\n",
       "      <td>0.600324</td>\n",
       "      <td>0.280047</td>\n",
       "    </tr>\n",
       "  </tbody>\n",
       "</table>\n",
       "</div>"
      ],
      "text/plain": [
       "          0         1         2\n",
       "2  0.976446       NaN -0.941988\n",
       "3  0.945798       NaN  0.217149\n",
       "4  2.273452  0.245737 -0.811601\n",
       "5  1.520893 -0.539340  0.134886\n",
       "6  0.345088  0.600324  0.280047"
      ]
     },
     "execution_count": 112,
     "metadata": {},
     "output_type": "execute_result"
    }
   ],
   "source": [
    "df.dropna(thresh = 2) # if the value within a row touches the thres value then that row will be dropped"
   ]
  },
  {
   "cell_type": "markdown",
   "id": "98ed8e00-3264-4dd5-9681-f097e1bae686",
   "metadata": {},
   "source": [
    "**Filling out the Missing Data**\n",
    "\n",
    "Calling fillna with a constant replaces missing values with that value."
   ]
  },
  {
   "cell_type": "code",
   "execution_count": 113,
   "id": "0756d698-5a82-422f-a2d0-d2f7ec92733d",
   "metadata": {},
   "outputs": [
    {
     "data": {
      "text/html": [
       "<div>\n",
       "<style scoped>\n",
       "    .dataframe tbody tr th:only-of-type {\n",
       "        vertical-align: middle;\n",
       "    }\n",
       "\n",
       "    .dataframe tbody tr th {\n",
       "        vertical-align: top;\n",
       "    }\n",
       "\n",
       "    .dataframe thead th {\n",
       "        text-align: right;\n",
       "    }\n",
       "</style>\n",
       "<table border=\"1\" class=\"dataframe\">\n",
       "  <thead>\n",
       "    <tr style=\"text-align: right;\">\n",
       "      <th></th>\n",
       "      <th>0</th>\n",
       "      <th>1</th>\n",
       "      <th>2</th>\n",
       "    </tr>\n",
       "  </thead>\n",
       "  <tbody>\n",
       "    <tr>\n",
       "      <th>0</th>\n",
       "      <td>-1.054981</td>\n",
       "      <td>1.342350</td>\n",
       "      <td>1.342350</td>\n",
       "    </tr>\n",
       "    <tr>\n",
       "      <th>1</th>\n",
       "      <td>0.764347</td>\n",
       "      <td>1.342350</td>\n",
       "      <td>1.342350</td>\n",
       "    </tr>\n",
       "    <tr>\n",
       "      <th>2</th>\n",
       "      <td>0.976446</td>\n",
       "      <td>1.342350</td>\n",
       "      <td>-0.941988</td>\n",
       "    </tr>\n",
       "    <tr>\n",
       "      <th>3</th>\n",
       "      <td>0.945798</td>\n",
       "      <td>1.342350</td>\n",
       "      <td>0.217149</td>\n",
       "    </tr>\n",
       "    <tr>\n",
       "      <th>4</th>\n",
       "      <td>2.273452</td>\n",
       "      <td>0.245737</td>\n",
       "      <td>-0.811601</td>\n",
       "    </tr>\n",
       "    <tr>\n",
       "      <th>5</th>\n",
       "      <td>1.520893</td>\n",
       "      <td>-0.539340</td>\n",
       "      <td>0.134886</td>\n",
       "    </tr>\n",
       "    <tr>\n",
       "      <th>6</th>\n",
       "      <td>0.345088</td>\n",
       "      <td>0.600324</td>\n",
       "      <td>0.280047</td>\n",
       "    </tr>\n",
       "  </tbody>\n",
       "</table>\n",
       "</div>"
      ],
      "text/plain": [
       "          0         1         2\n",
       "0 -1.054981  1.342350  1.342350\n",
       "1  0.764347  1.342350  1.342350\n",
       "2  0.976446  1.342350 -0.941988\n",
       "3  0.945798  1.342350  0.217149\n",
       "4  2.273452  0.245737 -0.811601\n",
       "5  1.520893 -0.539340  0.134886\n",
       "6  0.345088  0.600324  0.280047"
      ]
     },
     "execution_count": 113,
     "metadata": {},
     "output_type": "execute_result"
    }
   ],
   "source": [
    "df.fillna(1.34235) # see this replaces the NaN Values with 1.34235"
   ]
  },
  {
   "cell_type": "markdown",
   "id": "51577e95-8fdd-4fcf-b7ef-205adde09c22",
   "metadata": {},
   "source": [
    "**Calling fillna with a dictionary, we can use a different fill value for each column**"
   ]
  },
  {
   "cell_type": "code",
   "execution_count": 114,
   "id": "f0f503b6-7019-4a7f-ab0f-fc36665fb550",
   "metadata": {},
   "outputs": [
    {
     "data": {
      "text/html": [
       "<div>\n",
       "<style scoped>\n",
       "    .dataframe tbody tr th:only-of-type {\n",
       "        vertical-align: middle;\n",
       "    }\n",
       "\n",
       "    .dataframe tbody tr th {\n",
       "        vertical-align: top;\n",
       "    }\n",
       "\n",
       "    .dataframe thead th {\n",
       "        text-align: right;\n",
       "    }\n",
       "</style>\n",
       "<table border=\"1\" class=\"dataframe\">\n",
       "  <thead>\n",
       "    <tr style=\"text-align: right;\">\n",
       "      <th></th>\n",
       "      <th>0</th>\n",
       "      <th>1</th>\n",
       "      <th>2</th>\n",
       "    </tr>\n",
       "  </thead>\n",
       "  <tbody>\n",
       "    <tr>\n",
       "      <th>0</th>\n",
       "      <td>-1.054981</td>\n",
       "      <td>0.500000</td>\n",
       "      <td>0.000000</td>\n",
       "    </tr>\n",
       "    <tr>\n",
       "      <th>1</th>\n",
       "      <td>0.764347</td>\n",
       "      <td>0.500000</td>\n",
       "      <td>0.000000</td>\n",
       "    </tr>\n",
       "    <tr>\n",
       "      <th>2</th>\n",
       "      <td>0.976446</td>\n",
       "      <td>0.500000</td>\n",
       "      <td>-0.941988</td>\n",
       "    </tr>\n",
       "    <tr>\n",
       "      <th>3</th>\n",
       "      <td>0.945798</td>\n",
       "      <td>0.500000</td>\n",
       "      <td>0.217149</td>\n",
       "    </tr>\n",
       "    <tr>\n",
       "      <th>4</th>\n",
       "      <td>2.273452</td>\n",
       "      <td>0.245737</td>\n",
       "      <td>-0.811601</td>\n",
       "    </tr>\n",
       "    <tr>\n",
       "      <th>5</th>\n",
       "      <td>1.520893</td>\n",
       "      <td>-0.539340</td>\n",
       "      <td>0.134886</td>\n",
       "    </tr>\n",
       "    <tr>\n",
       "      <th>6</th>\n",
       "      <td>0.345088</td>\n",
       "      <td>0.600324</td>\n",
       "      <td>0.280047</td>\n",
       "    </tr>\n",
       "  </tbody>\n",
       "</table>\n",
       "</div>"
      ],
      "text/plain": [
       "          0         1         2\n",
       "0 -1.054981  0.500000  0.000000\n",
       "1  0.764347  0.500000  0.000000\n",
       "2  0.976446  0.500000 -0.941988\n",
       "3  0.945798  0.500000  0.217149\n",
       "4  2.273452  0.245737 -0.811601\n",
       "5  1.520893 -0.539340  0.134886\n",
       "6  0.345088  0.600324  0.280047"
      ]
     },
     "execution_count": 114,
     "metadata": {},
     "output_type": "execute_result"
    }
   ],
   "source": [
    "df.fillna({1:0.5,2:0})\n",
    "# what this did was basically\n",
    "# 1. the NaN values on the 1st indexed column got replaced with 0.5,\n",
    "# 2. similar thing happend to the 2nd indexed column but instead getting replaced with 0.5 it became 0.0"
   ]
  },
  {
   "cell_type": "markdown",
   "id": "7af03210-78a3-4552-8185-6747e930b758",
   "metadata": {},
   "source": [
    "##### The same interpolation methods available for reindexing can be used with fillna:"
   ]
  },
  {
   "cell_type": "code",
   "execution_count": 115,
   "id": "edf2bc95-f767-416a-8ec2-223dee2b0560",
   "metadata": {},
   "outputs": [
    {
     "data": {
      "text/html": [
       "<div>\n",
       "<style scoped>\n",
       "    .dataframe tbody tr th:only-of-type {\n",
       "        vertical-align: middle;\n",
       "    }\n",
       "\n",
       "    .dataframe tbody tr th {\n",
       "        vertical-align: top;\n",
       "    }\n",
       "\n",
       "    .dataframe thead th {\n",
       "        text-align: right;\n",
       "    }\n",
       "</style>\n",
       "<table border=\"1\" class=\"dataframe\">\n",
       "  <thead>\n",
       "    <tr style=\"text-align: right;\">\n",
       "      <th></th>\n",
       "      <th>0</th>\n",
       "      <th>1</th>\n",
       "      <th>2</th>\n",
       "    </tr>\n",
       "  </thead>\n",
       "  <tbody>\n",
       "    <tr>\n",
       "      <th>0</th>\n",
       "      <td>0.816988</td>\n",
       "      <td>-0.435048</td>\n",
       "      <td>-0.032846</td>\n",
       "    </tr>\n",
       "    <tr>\n",
       "      <th>1</th>\n",
       "      <td>0.311871</td>\n",
       "      <td>-0.621186</td>\n",
       "      <td>1.914266</td>\n",
       "    </tr>\n",
       "    <tr>\n",
       "      <th>2</th>\n",
       "      <td>0.242042</td>\n",
       "      <td>NaN</td>\n",
       "      <td>0.910929</td>\n",
       "    </tr>\n",
       "    <tr>\n",
       "      <th>3</th>\n",
       "      <td>1.523400</td>\n",
       "      <td>NaN</td>\n",
       "      <td>1.183014</td>\n",
       "    </tr>\n",
       "    <tr>\n",
       "      <th>4</th>\n",
       "      <td>1.523400</td>\n",
       "      <td>NaN</td>\n",
       "      <td>NaN</td>\n",
       "    </tr>\n",
       "    <tr>\n",
       "      <th>5</th>\n",
       "      <td>1.523400</td>\n",
       "      <td>NaN</td>\n",
       "      <td>NaN</td>\n",
       "    </tr>\n",
       "  </tbody>\n",
       "</table>\n",
       "</div>"
      ],
      "text/plain": [
       "          0         1         2\n",
       "0  0.816988 -0.435048 -0.032846\n",
       "1  0.311871 -0.621186  1.914266\n",
       "2  0.242042       NaN  0.910929\n",
       "3  1.523400       NaN  1.183014\n",
       "4  1.523400       NaN       NaN\n",
       "5  1.523400       NaN       NaN"
      ]
     },
     "execution_count": 115,
     "metadata": {},
     "output_type": "execute_result"
    }
   ],
   "source": [
    "df = pd.DataFrame(np.random.standard_normal((6,3)))\n",
    "df.iloc[3:6,0] = 1.5234 # guess what happened here\n",
    "df.iloc[2:,1] = np.nan # starting from index 2 till the end the values of the 1st indexed column will be replaced with np.nan\n",
    "df.iloc[4:,2] = np.nan # starting from index 4 till ...\n",
    "\n",
    "df\n"
   ]
  },
  {
   "cell_type": "markdown",
   "id": "ad52acd0-1235-454d-8c0a-89a19992c278",
   "metadata": {},
   "source": [
    "#### *The ffill method*\n",
    "\n",
    "**DataFrame.fillna(method=\"ffill\") is used in Pandas to fill missing values by forward filling — meaning it fills each NaN with the last known non-null value above it in the same column.**"
   ]
  },
  {
   "cell_type": "code",
   "execution_count": 116,
   "id": "a931e5da-3b91-45a1-b36e-e3ddf5cf1cf0",
   "metadata": {},
   "outputs": [
    {
     "name": "stderr",
     "output_type": "stream",
     "text": [
      "C:\\Users\\GOGOL\\AppData\\Local\\Temp\\ipykernel_11876\\347088102.py:1: FutureWarning: DataFrame.fillna with 'method' is deprecated and will raise in a future version. Use obj.ffill() or obj.bfill() instead.\n",
      "  df.fillna(method=\"ffill\") # This method is older\n"
     ]
    },
    {
     "data": {
      "text/html": [
       "<div>\n",
       "<style scoped>\n",
       "    .dataframe tbody tr th:only-of-type {\n",
       "        vertical-align: middle;\n",
       "    }\n",
       "\n",
       "    .dataframe tbody tr th {\n",
       "        vertical-align: top;\n",
       "    }\n",
       "\n",
       "    .dataframe thead th {\n",
       "        text-align: right;\n",
       "    }\n",
       "</style>\n",
       "<table border=\"1\" class=\"dataframe\">\n",
       "  <thead>\n",
       "    <tr style=\"text-align: right;\">\n",
       "      <th></th>\n",
       "      <th>0</th>\n",
       "      <th>1</th>\n",
       "      <th>2</th>\n",
       "    </tr>\n",
       "  </thead>\n",
       "  <tbody>\n",
       "    <tr>\n",
       "      <th>0</th>\n",
       "      <td>0.816988</td>\n",
       "      <td>-0.435048</td>\n",
       "      <td>-0.032846</td>\n",
       "    </tr>\n",
       "    <tr>\n",
       "      <th>1</th>\n",
       "      <td>0.311871</td>\n",
       "      <td>-0.621186</td>\n",
       "      <td>1.914266</td>\n",
       "    </tr>\n",
       "    <tr>\n",
       "      <th>2</th>\n",
       "      <td>0.242042</td>\n",
       "      <td>-0.621186</td>\n",
       "      <td>0.910929</td>\n",
       "    </tr>\n",
       "    <tr>\n",
       "      <th>3</th>\n",
       "      <td>1.523400</td>\n",
       "      <td>-0.621186</td>\n",
       "      <td>1.183014</td>\n",
       "    </tr>\n",
       "    <tr>\n",
       "      <th>4</th>\n",
       "      <td>1.523400</td>\n",
       "      <td>-0.621186</td>\n",
       "      <td>1.183014</td>\n",
       "    </tr>\n",
       "    <tr>\n",
       "      <th>5</th>\n",
       "      <td>1.523400</td>\n",
       "      <td>-0.621186</td>\n",
       "      <td>1.183014</td>\n",
       "    </tr>\n",
       "  </tbody>\n",
       "</table>\n",
       "</div>"
      ],
      "text/plain": [
       "          0         1         2\n",
       "0  0.816988 -0.435048 -0.032846\n",
       "1  0.311871 -0.621186  1.914266\n",
       "2  0.242042 -0.621186  0.910929\n",
       "3  1.523400 -0.621186  1.183014\n",
       "4  1.523400 -0.621186  1.183014\n",
       "5  1.523400 -0.621186  1.183014"
      ]
     },
     "execution_count": 116,
     "metadata": {},
     "output_type": "execute_result"
    }
   ],
   "source": [
    "df.fillna(method=\"ffill\") # This method is older"
   ]
  },
  {
   "cell_type": "code",
   "execution_count": 117,
   "id": "da2c4384-1a39-4484-8f7d-bf6d282d268e",
   "metadata": {},
   "outputs": [
    {
     "name": "stderr",
     "output_type": "stream",
     "text": [
      "C:\\Users\\GOGOL\\AppData\\Local\\Temp\\ipykernel_11876\\3967884139.py:1: FutureWarning: DataFrame.fillna with 'method' is deprecated and will raise in a future version. Use obj.ffill() or obj.bfill() instead.\n",
      "  df.fillna(method = \"ffill\", limit = 2) # in the first indexed column this filled values for 2 cells with the value of r1c1\n"
     ]
    },
    {
     "data": {
      "text/html": [
       "<div>\n",
       "<style scoped>\n",
       "    .dataframe tbody tr th:only-of-type {\n",
       "        vertical-align: middle;\n",
       "    }\n",
       "\n",
       "    .dataframe tbody tr th {\n",
       "        vertical-align: top;\n",
       "    }\n",
       "\n",
       "    .dataframe thead th {\n",
       "        text-align: right;\n",
       "    }\n",
       "</style>\n",
       "<table border=\"1\" class=\"dataframe\">\n",
       "  <thead>\n",
       "    <tr style=\"text-align: right;\">\n",
       "      <th></th>\n",
       "      <th>0</th>\n",
       "      <th>1</th>\n",
       "      <th>2</th>\n",
       "    </tr>\n",
       "  </thead>\n",
       "  <tbody>\n",
       "    <tr>\n",
       "      <th>0</th>\n",
       "      <td>0.816988</td>\n",
       "      <td>-0.435048</td>\n",
       "      <td>-0.032846</td>\n",
       "    </tr>\n",
       "    <tr>\n",
       "      <th>1</th>\n",
       "      <td>0.311871</td>\n",
       "      <td>-0.621186</td>\n",
       "      <td>1.914266</td>\n",
       "    </tr>\n",
       "    <tr>\n",
       "      <th>2</th>\n",
       "      <td>0.242042</td>\n",
       "      <td>-0.621186</td>\n",
       "      <td>0.910929</td>\n",
       "    </tr>\n",
       "    <tr>\n",
       "      <th>3</th>\n",
       "      <td>1.523400</td>\n",
       "      <td>-0.621186</td>\n",
       "      <td>1.183014</td>\n",
       "    </tr>\n",
       "    <tr>\n",
       "      <th>4</th>\n",
       "      <td>1.523400</td>\n",
       "      <td>NaN</td>\n",
       "      <td>1.183014</td>\n",
       "    </tr>\n",
       "    <tr>\n",
       "      <th>5</th>\n",
       "      <td>1.523400</td>\n",
       "      <td>NaN</td>\n",
       "      <td>1.183014</td>\n",
       "    </tr>\n",
       "  </tbody>\n",
       "</table>\n",
       "</div>"
      ],
      "text/plain": [
       "          0         1         2\n",
       "0  0.816988 -0.435048 -0.032846\n",
       "1  0.311871 -0.621186  1.914266\n",
       "2  0.242042 -0.621186  0.910929\n",
       "3  1.523400 -0.621186  1.183014\n",
       "4  1.523400       NaN  1.183014\n",
       "5  1.523400       NaN  1.183014"
      ]
     },
     "execution_count": 117,
     "metadata": {},
     "output_type": "execute_result"
    }
   ],
   "source": [
    "df.fillna(method = \"ffill\", limit = 2) # in the first indexed column this filled values for 2 cells with the value of r1c1"
   ]
  },
  {
   "cell_type": "markdown",
   "id": "0e9f0b6e-cdfd-4230-9572-da744397eeb3",
   "metadata": {},
   "source": [
    "**With fillna you can do lots of other things such as simple data imputation using the median or mean statistics**"
   ]
  },
  {
   "cell_type": "code",
   "execution_count": 118,
   "id": "b34e9ae5-cf38-43e8-befc-0431b20759d3",
   "metadata": {},
   "outputs": [
    {
     "name": "stdout",
     "output_type": "stream",
     "text": [
      "0     1.000000\n",
      "1     4.000000\n",
      "2     2.000000\n",
      "3     5.000000\n",
      "4     5.142857\n",
      "5     6.000000\n",
      "6     8.000000\n",
      "7     5.142857\n",
      "8    10.000000\n",
      "dtype: float64\n"
     ]
    }
   ],
   "source": [
    "data = pd.Series([1,4,2,5,None,6,8,np.nan,10])\n",
    "print(data.fillna(data.mean())) # this has replaced the nan values with the mean() of all the values inside the Series\n"
   ]
  },
  {
   "cell_type": "markdown",
   "id": "593dab8c-e645-4f19-9dbe-7d2b76f84402",
   "metadata": {},
   "source": [
    "#### **Data Transformation**"
   ]
  },
  {
   "cell_type": "markdown",
   "id": "7bddeeb2-9553-43b1-9174-6e0a8f3d29fe",
   "metadata": {},
   "source": [
    "**Removing Duplicates**"
   ]
  },
  {
   "cell_type": "code",
   "execution_count": 119,
   "id": "0a4afafa-2723-427b-aa4a-276838db0ff9",
   "metadata": {},
   "outputs": [
    {
     "data": {
      "text/html": [
       "<div>\n",
       "<style scoped>\n",
       "    .dataframe tbody tr th:only-of-type {\n",
       "        vertical-align: middle;\n",
       "    }\n",
       "\n",
       "    .dataframe tbody tr th {\n",
       "        vertical-align: top;\n",
       "    }\n",
       "\n",
       "    .dataframe thead th {\n",
       "        text-align: right;\n",
       "    }\n",
       "</style>\n",
       "<table border=\"1\" class=\"dataframe\">\n",
       "  <thead>\n",
       "    <tr style=\"text-align: right;\">\n",
       "      <th></th>\n",
       "      <th>k1</th>\n",
       "      <th>k2</th>\n",
       "    </tr>\n",
       "  </thead>\n",
       "  <tbody>\n",
       "    <tr>\n",
       "      <th>0</th>\n",
       "      <td>one</td>\n",
       "      <td>1</td>\n",
       "    </tr>\n",
       "    <tr>\n",
       "      <th>1</th>\n",
       "      <td>two</td>\n",
       "      <td>2</td>\n",
       "    </tr>\n",
       "    <tr>\n",
       "      <th>2</th>\n",
       "      <td>one</td>\n",
       "      <td>3</td>\n",
       "    </tr>\n",
       "    <tr>\n",
       "      <th>3</th>\n",
       "      <td>two</td>\n",
       "      <td>3</td>\n",
       "    </tr>\n",
       "    <tr>\n",
       "      <th>4</th>\n",
       "      <td>one</td>\n",
       "      <td>4</td>\n",
       "    </tr>\n",
       "    <tr>\n",
       "      <th>5</th>\n",
       "      <td>two</td>\n",
       "      <td>4</td>\n",
       "    </tr>\n",
       "    <tr>\n",
       "      <th>6</th>\n",
       "      <td>two</td>\n",
       "      <td>5</td>\n",
       "    </tr>\n",
       "  </tbody>\n",
       "</table>\n",
       "</div>"
      ],
      "text/plain": [
       "    k1  k2\n",
       "0  one   1\n",
       "1  two   2\n",
       "2  one   3\n",
       "3  two   3\n",
       "4  one   4\n",
       "5  two   4\n",
       "6  two   5"
      ]
     },
     "execution_count": 119,
     "metadata": {},
     "output_type": "execute_result"
    }
   ],
   "source": [
    "data = pd.DataFrame({\"k1\":[\"one\",\"two\"] * 3 + [\"two\"],\n",
    "                     \"k2\": [1,2,3,3,4,4,5]}) # formed a dataframe from a weird dictionary like this \n",
    "\n",
    "data"
   ]
  },
  {
   "cell_type": "code",
   "execution_count": 120,
   "id": "2c959a0f-c4a3-4e6d-b641-944653e2fa64",
   "metadata": {},
   "outputs": [
    {
     "data": {
      "text/plain": [
       "0    False\n",
       "1    False\n",
       "2    False\n",
       "3    False\n",
       "4    False\n",
       "5    False\n",
       "6    False\n",
       "dtype: bool"
      ]
     },
     "execution_count": 120,
     "metadata": {},
     "output_type": "execute_result"
    }
   ],
   "source": [
    "data.duplicated() # this will return a Boolean Series indicating whether each row is a duplicate or not"
   ]
  },
  {
   "cell_type": "code",
   "execution_count": 121,
   "id": "bca578d4-0743-4dc9-8d11-caf152105449",
   "metadata": {},
   "outputs": [
    {
     "data": {
      "text/html": [
       "<div>\n",
       "<style scoped>\n",
       "    .dataframe tbody tr th:only-of-type {\n",
       "        vertical-align: middle;\n",
       "    }\n",
       "\n",
       "    .dataframe tbody tr th {\n",
       "        vertical-align: top;\n",
       "    }\n",
       "\n",
       "    .dataframe thead th {\n",
       "        text-align: right;\n",
       "    }\n",
       "</style>\n",
       "<table border=\"1\" class=\"dataframe\">\n",
       "  <thead>\n",
       "    <tr style=\"text-align: right;\">\n",
       "      <th></th>\n",
       "      <th>k1</th>\n",
       "      <th>k2</th>\n",
       "    </tr>\n",
       "  </thead>\n",
       "  <tbody>\n",
       "    <tr>\n",
       "      <th>0</th>\n",
       "      <td>one</td>\n",
       "      <td>1</td>\n",
       "    </tr>\n",
       "    <tr>\n",
       "      <th>1</th>\n",
       "      <td>two</td>\n",
       "      <td>2</td>\n",
       "    </tr>\n",
       "    <tr>\n",
       "      <th>2</th>\n",
       "      <td>one</td>\n",
       "      <td>3</td>\n",
       "    </tr>\n",
       "    <tr>\n",
       "      <th>3</th>\n",
       "      <td>two</td>\n",
       "      <td>3</td>\n",
       "    </tr>\n",
       "    <tr>\n",
       "      <th>4</th>\n",
       "      <td>one</td>\n",
       "      <td>4</td>\n",
       "    </tr>\n",
       "    <tr>\n",
       "      <th>5</th>\n",
       "      <td>two</td>\n",
       "      <td>4</td>\n",
       "    </tr>\n",
       "    <tr>\n",
       "      <th>6</th>\n",
       "      <td>two</td>\n",
       "      <td>5</td>\n",
       "    </tr>\n",
       "  </tbody>\n",
       "</table>\n",
       "</div>"
      ],
      "text/plain": [
       "    k1  k2\n",
       "0  one   1\n",
       "1  two   2\n",
       "2  one   3\n",
       "3  two   3\n",
       "4  one   4\n",
       "5  two   4\n",
       "6  two   5"
      ]
     },
     "execution_count": 121,
     "metadata": {},
     "output_type": "execute_result"
    }
   ],
   "source": [
    "# The function dataframe.drop_duplicates() will remove any dupliucate row from the dataframe\n",
    "data.drop_duplicates()\n",
    "# no changes were noticed as no two rows had the same value,\n",
    "# interestingly"
   ]
  },
  {
   "cell_type": "markdown",
   "id": "94c7fca2-bf2e-4f85-88d6-cdc494c27732",
   "metadata": {},
   "source": [
    "**DataFrame.drop_duplicates([\"a\",\"b\"],keep = 'first')** \n",
    "\n",
    "In here the 'a' and 'b' are the name of the columns and the keep option --> 'first' or 'last' will wither keep the first or the last duplicate and erase the others"
   ]
  },
  {
   "cell_type": "code",
   "execution_count": 122,
   "id": "533face6-187d-46a0-bcc8-e7005b27c8ca",
   "metadata": {},
   "outputs": [
    {
     "data": {
      "text/html": [
       "<div>\n",
       "<style scoped>\n",
       "    .dataframe tbody tr th:only-of-type {\n",
       "        vertical-align: middle;\n",
       "    }\n",
       "\n",
       "    .dataframe tbody tr th {\n",
       "        vertical-align: top;\n",
       "    }\n",
       "\n",
       "    .dataframe thead th {\n",
       "        text-align: right;\n",
       "    }\n",
       "</style>\n",
       "<table border=\"1\" class=\"dataframe\">\n",
       "  <thead>\n",
       "    <tr style=\"text-align: right;\">\n",
       "      <th></th>\n",
       "      <th>k1</th>\n",
       "      <th>k2</th>\n",
       "      <th>v1</th>\n",
       "    </tr>\n",
       "  </thead>\n",
       "  <tbody>\n",
       "    <tr>\n",
       "      <th>0</th>\n",
       "      <td>one</td>\n",
       "      <td>1</td>\n",
       "      <td>0</td>\n",
       "    </tr>\n",
       "    <tr>\n",
       "      <th>1</th>\n",
       "      <td>two</td>\n",
       "      <td>2</td>\n",
       "      <td>1</td>\n",
       "    </tr>\n",
       "    <tr>\n",
       "      <th>2</th>\n",
       "      <td>one</td>\n",
       "      <td>3</td>\n",
       "      <td>2</td>\n",
       "    </tr>\n",
       "    <tr>\n",
       "      <th>3</th>\n",
       "      <td>two</td>\n",
       "      <td>3</td>\n",
       "      <td>3</td>\n",
       "    </tr>\n",
       "    <tr>\n",
       "      <th>4</th>\n",
       "      <td>one</td>\n",
       "      <td>4</td>\n",
       "      <td>4</td>\n",
       "    </tr>\n",
       "    <tr>\n",
       "      <th>5</th>\n",
       "      <td>two</td>\n",
       "      <td>4</td>\n",
       "      <td>5</td>\n",
       "    </tr>\n",
       "    <tr>\n",
       "      <th>6</th>\n",
       "      <td>two</td>\n",
       "      <td>5</td>\n",
       "      <td>6</td>\n",
       "    </tr>\n",
       "  </tbody>\n",
       "</table>\n",
       "</div>"
      ],
      "text/plain": [
       "    k1  k2  v1\n",
       "0  one   1   0\n",
       "1  two   2   1\n",
       "2  one   3   2\n",
       "3  two   3   3\n",
       "4  one   4   4\n",
       "5  two   4   5\n",
       "6  two   5   6"
      ]
     },
     "execution_count": 122,
     "metadata": {},
     "output_type": "execute_result"
    }
   ],
   "source": [
    "data[\"v1\"] = range(7)\n",
    "data"
   ]
  },
  {
   "cell_type": "code",
   "execution_count": 123,
   "id": "273c28da-ea23-4993-80ae-d182d66f6df6",
   "metadata": {},
   "outputs": [
    {
     "data": {
      "text/html": [
       "<div>\n",
       "<style scoped>\n",
       "    .dataframe tbody tr th:only-of-type {\n",
       "        vertical-align: middle;\n",
       "    }\n",
       "\n",
       "    .dataframe tbody tr th {\n",
       "        vertical-align: top;\n",
       "    }\n",
       "\n",
       "    .dataframe thead th {\n",
       "        text-align: right;\n",
       "    }\n",
       "</style>\n",
       "<table border=\"1\" class=\"dataframe\">\n",
       "  <thead>\n",
       "    <tr style=\"text-align: right;\">\n",
       "      <th></th>\n",
       "      <th>k1</th>\n",
       "      <th>k2</th>\n",
       "      <th>v1</th>\n",
       "    </tr>\n",
       "  </thead>\n",
       "  <tbody>\n",
       "    <tr>\n",
       "      <th>0</th>\n",
       "      <td>one</td>\n",
       "      <td>1</td>\n",
       "      <td>0</td>\n",
       "    </tr>\n",
       "    <tr>\n",
       "      <th>1</th>\n",
       "      <td>two</td>\n",
       "      <td>2</td>\n",
       "      <td>1</td>\n",
       "    </tr>\n",
       "  </tbody>\n",
       "</table>\n",
       "</div>"
      ],
      "text/plain": [
       "    k1  k2  v1\n",
       "0  one   1   0\n",
       "1  two   2   1"
      ]
     },
     "execution_count": 123,
     "metadata": {},
     "output_type": "execute_result"
    }
   ],
   "source": [
    "data.drop_duplicates(subset=[\"k1\"]) \n",
    "# this removed all the records that matched the records within the k1 column, thats why we only have the first two records"
   ]
  },
  {
   "cell_type": "code",
   "execution_count": 124,
   "id": "5d91eea4-6aba-403b-adac-b39adba2914c",
   "metadata": {},
   "outputs": [
    {
     "data": {
      "text/html": [
       "<div>\n",
       "<style scoped>\n",
       "    .dataframe tbody tr th:only-of-type {\n",
       "        vertical-align: middle;\n",
       "    }\n",
       "\n",
       "    .dataframe tbody tr th {\n",
       "        vertical-align: top;\n",
       "    }\n",
       "\n",
       "    .dataframe thead th {\n",
       "        text-align: right;\n",
       "    }\n",
       "</style>\n",
       "<table border=\"1\" class=\"dataframe\">\n",
       "  <thead>\n",
       "    <tr style=\"text-align: right;\">\n",
       "      <th></th>\n",
       "      <th>k1</th>\n",
       "      <th>k2</th>\n",
       "      <th>v1</th>\n",
       "    </tr>\n",
       "  </thead>\n",
       "  <tbody>\n",
       "    <tr>\n",
       "      <th>4</th>\n",
       "      <td>one</td>\n",
       "      <td>4</td>\n",
       "      <td>4</td>\n",
       "    </tr>\n",
       "    <tr>\n",
       "      <th>6</th>\n",
       "      <td>two</td>\n",
       "      <td>5</td>\n",
       "      <td>6</td>\n",
       "    </tr>\n",
       "  </tbody>\n",
       "</table>\n",
       "</div>"
      ],
      "text/plain": [
       "    k1  k2  v1\n",
       "4  one   4   4\n",
       "6  two   5   6"
      ]
     },
     "execution_count": 124,
     "metadata": {},
     "output_type": "execute_result"
    }
   ],
   "source": [
    "# Lets try the keep = 'last' method \n",
    "data.drop_duplicates(subset = ['k1'], keep = 'last') # as expected only the last records are still remaining"
   ]
  },
  {
   "cell_type": "markdown",
   "id": "7e41844f-1289-478d-b5b8-8195aa48a593",
   "metadata": {},
   "source": [
    "#### **Transforming Data Using a Function or Mapping** "
   ]
  },
  {
   "cell_type": "code",
   "execution_count": 125,
   "id": "6a876616-8448-401f-a1ec-271b8b616d79",
   "metadata": {},
   "outputs": [
    {
     "data": {
      "text/html": [
       "<div>\n",
       "<style scoped>\n",
       "    .dataframe tbody tr th:only-of-type {\n",
       "        vertical-align: middle;\n",
       "    }\n",
       "\n",
       "    .dataframe tbody tr th {\n",
       "        vertical-align: top;\n",
       "    }\n",
       "\n",
       "    .dataframe thead th {\n",
       "        text-align: right;\n",
       "    }\n",
       "</style>\n",
       "<table border=\"1\" class=\"dataframe\">\n",
       "  <thead>\n",
       "    <tr style=\"text-align: right;\">\n",
       "      <th></th>\n",
       "      <th>Food</th>\n",
       "      <th>Amounts</th>\n",
       "    </tr>\n",
       "  </thead>\n",
       "  <tbody>\n",
       "    <tr>\n",
       "      <th>0</th>\n",
       "      <td>Rice</td>\n",
       "      <td>9</td>\n",
       "    </tr>\n",
       "    <tr>\n",
       "      <th>1</th>\n",
       "      <td>Roti</td>\n",
       "      <td>9</td>\n",
       "    </tr>\n",
       "    <tr>\n",
       "      <th>2</th>\n",
       "      <td>Paratha</td>\n",
       "      <td>6</td>\n",
       "    </tr>\n",
       "    <tr>\n",
       "      <th>3</th>\n",
       "      <td>Mughlai</td>\n",
       "      <td>9</td>\n",
       "    </tr>\n",
       "    <tr>\n",
       "      <th>4</th>\n",
       "      <td>Pizza</td>\n",
       "      <td>5</td>\n",
       "    </tr>\n",
       "    <tr>\n",
       "      <th>5</th>\n",
       "      <td>Burger</td>\n",
       "      <td>6</td>\n",
       "    </tr>\n",
       "    <tr>\n",
       "      <th>6</th>\n",
       "      <td>Pulao</td>\n",
       "      <td>6</td>\n",
       "    </tr>\n",
       "    <tr>\n",
       "      <th>7</th>\n",
       "      <td>Fried Rice</td>\n",
       "      <td>11</td>\n",
       "    </tr>\n",
       "    <tr>\n",
       "      <th>8</th>\n",
       "      <td>Biryani</td>\n",
       "      <td>6</td>\n",
       "    </tr>\n",
       "    <tr>\n",
       "      <th>9</th>\n",
       "      <td>Donut</td>\n",
       "      <td>8</td>\n",
       "    </tr>\n",
       "  </tbody>\n",
       "</table>\n",
       "</div>"
      ],
      "text/plain": [
       "         Food  Amounts\n",
       "0        Rice        9\n",
       "1        Roti        9\n",
       "2     Paratha        6\n",
       "3     Mughlai        9\n",
       "4       Pizza        5\n",
       "5      Burger        6\n",
       "6       Pulao        6\n",
       "7  Fried Rice       11\n",
       "8     Biryani        6\n",
       "9       Donut        8"
      ]
     },
     "execution_count": 125,
     "metadata": {},
     "output_type": "execute_result"
    }
   ],
   "source": [
    "foods = ['Rice','Roti','Paratha','Mughlai','Pizza','Burger','Pulao','Fried Rice','Biryani','Donut']\n",
    "prices = [np.random.randint(3,13) for i in range(10)]\n",
    "\n",
    "a_data = pd.DataFrame({\"Food\": [x for x in foods],\n",
    "                       \"Amounts\": prices})\n",
    "\n",
    "a_data"
   ]
  },
  {
   "cell_type": "code",
   "execution_count": 126,
   "id": "1d0edfeb-de2d-4d65-9b62-1b88e4894a06",
   "metadata": {},
   "outputs": [],
   "source": [
    "a_data['Amounts'] = a_data['Amounts'].astype(float)"
   ]
  },
  {
   "cell_type": "markdown",
   "id": "d4148f61-32ad-4b81-841b-cec1364a27d3",
   "metadata": {},
   "source": [
    "#### **Extremely Important mapping**"
   ]
  },
  {
   "cell_type": "code",
   "execution_count": 127,
   "id": "46e2371c-e882-4da2-80c0-e6a545020261",
   "metadata": {},
   "outputs": [
    {
     "data": {
      "text/html": [
       "<div>\n",
       "<style scoped>\n",
       "    .dataframe tbody tr th:only-of-type {\n",
       "        vertical-align: middle;\n",
       "    }\n",
       "\n",
       "    .dataframe tbody tr th {\n",
       "        vertical-align: top;\n",
       "    }\n",
       "\n",
       "    .dataframe thead th {\n",
       "        text-align: right;\n",
       "    }\n",
       "</style>\n",
       "<table border=\"1\" class=\"dataframe\">\n",
       "  <thead>\n",
       "    <tr style=\"text-align: right;\">\n",
       "      <th></th>\n",
       "      <th>Food</th>\n",
       "      <th>Amounts</th>\n",
       "      <th>ralated</th>\n",
       "    </tr>\n",
       "  </thead>\n",
       "  <tbody>\n",
       "    <tr>\n",
       "      <th>0</th>\n",
       "      <td>Rice</td>\n",
       "      <td>9.0</td>\n",
       "      <td>NaN</td>\n",
       "    </tr>\n",
       "    <tr>\n",
       "      <th>1</th>\n",
       "      <td>Roti</td>\n",
       "      <td>9.0</td>\n",
       "      <td>NaN</td>\n",
       "    </tr>\n",
       "    <tr>\n",
       "      <th>2</th>\n",
       "      <td>Paratha</td>\n",
       "      <td>6.0</td>\n",
       "      <td>NaN</td>\n",
       "    </tr>\n",
       "    <tr>\n",
       "      <th>3</th>\n",
       "      <td>Mughlai</td>\n",
       "      <td>9.0</td>\n",
       "      <td>Dog</td>\n",
       "    </tr>\n",
       "    <tr>\n",
       "      <th>4</th>\n",
       "      <td>Pizza</td>\n",
       "      <td>5.0</td>\n",
       "      <td>Lamb</td>\n",
       "    </tr>\n",
       "    <tr>\n",
       "      <th>5</th>\n",
       "      <td>Burger</td>\n",
       "      <td>6.0</td>\n",
       "      <td>Chicken</td>\n",
       "    </tr>\n",
       "    <tr>\n",
       "      <th>6</th>\n",
       "      <td>Pulao</td>\n",
       "      <td>6.0</td>\n",
       "      <td>NaN</td>\n",
       "    </tr>\n",
       "    <tr>\n",
       "      <th>7</th>\n",
       "      <td>Fried Rice</td>\n",
       "      <td>11.0</td>\n",
       "      <td>NaN</td>\n",
       "    </tr>\n",
       "    <tr>\n",
       "      <th>8</th>\n",
       "      <td>Biryani</td>\n",
       "      <td>6.0</td>\n",
       "      <td>Goat</td>\n",
       "    </tr>\n",
       "    <tr>\n",
       "      <th>9</th>\n",
       "      <td>Donut</td>\n",
       "      <td>8.0</td>\n",
       "      <td>Cow</td>\n",
       "    </tr>\n",
       "  </tbody>\n",
       "</table>\n",
       "</div>"
      ],
      "text/plain": [
       "         Food  Amounts  ralated\n",
       "0        Rice      9.0      NaN\n",
       "1        Roti      9.0      NaN\n",
       "2     Paratha      6.0      NaN\n",
       "3     Mughlai      9.0      Dog\n",
       "4       Pizza      5.0     Lamb\n",
       "5      Burger      6.0  Chicken\n",
       "6       Pulao      6.0      NaN\n",
       "7  Fried Rice     11.0      NaN\n",
       "8     Biryani      6.0     Goat\n",
       "9       Donut      8.0      Cow"
      ]
     },
     "execution_count": 127,
     "metadata": {},
     "output_type": "execute_result"
    }
   ],
   "source": [
    "meat_to_animal = {\n",
    "    \"Donut\":\"Cow\",\n",
    "    \"Biryani\":\"Goat\",\n",
    "    \"Burger\":\"Chicken\",\n",
    "    \"Pizza\":\"Lamb\",\n",
    "    \"Mughlai\":\"Dog\",\n",
    "    \"Fried Rice\": np.nan,\n",
    "    \"Pulao\": np.nan,\n",
    "    \"Roti\": np.nan,\n",
    "    \"Paratha\": np.nan,\n",
    "    \"Rice\":np.nan\n",
    "}\n",
    "\n",
    "a_data[\"ralated\"] = a_data[\"Food\"].map(meat_to_animal)\n",
    "\n",
    "a_data"
   ]
  },
  {
   "cell_type": "code",
   "execution_count": 128,
   "id": "a3de2929-72db-4825-b109-c38749d30183",
   "metadata": {},
   "outputs": [],
   "source": [
    "import pandas as pd\n",
    "import numpy as np"
   ]
  },
  {
   "cell_type": "markdown",
   "id": "c72da8f2-0368-427e-a8ae-87dd4750e2fc",
   "metadata": {},
   "source": [
    "#### **Replacing Values**"
   ]
  },
  {
   "cell_type": "code",
   "execution_count": 129,
   "id": "11917af5-776a-485a-b08b-56d93a8089c0",
   "metadata": {},
   "outputs": [
    {
     "name": "stdout",
     "output_type": "stream",
     "text": [
      "0      1\n",
      "1      2\n",
      "2      3\n",
      "3      7\n",
      "4   -334\n",
      "dtype: int64\n",
      "0    1.0\n",
      "1    2.0\n",
      "2    3.0\n",
      "3    7.0\n",
      "4    NaN\n",
      "dtype: float64\n"
     ]
    }
   ],
   "source": [
    "data = pd.Series([1,2,3,7,-334])\n",
    "print(data)\n",
    "# in here the value -334 seems unusual, so we can replace it with NA\n",
    "altered_data = data.replace(-334,np.nan)\n",
    "print(altered_data) # see in here, the new altered_data series has that -334 value replaced to NA"
   ]
  },
  {
   "cell_type": "code",
   "execution_count": 130,
   "id": "d2309bc6-540f-4260-a66f-cf182e1fa37f",
   "metadata": {},
   "outputs": [
    {
     "name": "stdout",
     "output_type": "stream",
     "text": [
      "0    1.0\n",
      "1    2.0\n",
      "2    3.0\n",
      "3    4.0\n",
      "4    NaN\n",
      "dtype: float64\n"
     ]
    }
   ],
   "source": [
    "# now we can alos replace multiple values from the series like this\n",
    "\n",
    "a_data = data.replace([-334,7],[np.nan,4])\n",
    "# a_data = a_data.astype(int) # this won't work becuase we have a NA value\n",
    "print(a_data) # this replaced the values"
   ]
  },
  {
   "cell_type": "code",
   "execution_count": 131,
   "id": "13bcbaa2-d52f-4cf9-a84d-14fde821dcec",
   "metadata": {},
   "outputs": [
    {
     "name": "stdout",
     "output_type": "stream",
     "text": [
      "0    1\n",
      "1    2\n",
      "2    3\n",
      "3    4\n",
      "4    5\n",
      "dtype: int64\n"
     ]
    }
   ],
   "source": [
    "# interestingly the argument passed can also be a dictionary\n",
    "s = data.replace({-334:5, 7:4})\n",
    "print(s) # see the changes made"
   ]
  },
  {
   "cell_type": "markdown",
   "id": "005a2b60-b585-414d-95b8-6b14eda18dcb",
   "metadata": {},
   "source": [
    "*The data.replace method is unique from the data.str.replace which does element-sise string substitution*"
   ]
  },
  {
   "cell_type": "markdown",
   "id": "36cd15cc-bdf0-40a9-a62a-7e63b5c7c583",
   "metadata": {},
   "source": [
    "#### **Renaming Axis Indexes**"
   ]
  },
  {
   "cell_type": "code",
   "execution_count": 132,
   "id": "f55afecb-784a-45fb-a3ac-e4ee5636f227",
   "metadata": {},
   "outputs": [
    {
     "name": "stdout",
     "output_type": "stream",
     "text": [
      "          one  two  three  four\n",
      "Ohio        0    1      2     3\n",
      "Colorado    4    5      6     7\n",
      "New York    8    9     10    11\n"
     ]
    }
   ],
   "source": [
    "data = pd.DataFrame(np.arange(12).reshape((3,4)),\n",
    "                    index = ['Ohio','Colorado','New York'],\n",
    "                    columns = ['one','two','three','four'])\n",
    "\n",
    "print(data)"
   ]
  },
  {
   "cell_type": "markdown",
   "id": "51f16ac0-ab79-4c21-bf48-cc9dd15b0aec",
   "metadata": {},
   "source": [
    "##### **Like a Series, the axis indexes have a map method:**"
   ]
  },
  {
   "cell_type": "code",
   "execution_count": 133,
   "id": "ed85c4be-dbb0-4ffe-b6c8-2b7eb4990eed",
   "metadata": {},
   "outputs": [
    {
     "name": "stdout",
     "output_type": "stream",
     "text": [
      "      one  two  three  four\n",
      "OHIO    0    1      2     3\n",
      "COLO    4    5      6     7\n",
      "NEW     8    9     10    11\n"
     ]
    }
   ],
   "source": [
    "def transform(x):\n",
    "    return x[:4].upper()\n",
    "\n",
    "data.index = data.index.map(transform) # see this changes the indexes to look a bit different\n",
    "\n",
    "print(data) \n"
   ]
  },
  {
   "cell_type": "code",
   "execution_count": 134,
   "id": "41cfa7bb-f02d-4c7a-a24f-ce2b9cfce620",
   "metadata": {},
   "outputs": [
    {
     "data": {
      "text/html": [
       "<div>\n",
       "<style scoped>\n",
       "    .dataframe tbody tr th:only-of-type {\n",
       "        vertical-align: middle;\n",
       "    }\n",
       "\n",
       "    .dataframe tbody tr th {\n",
       "        vertical-align: top;\n",
       "    }\n",
       "\n",
       "    .dataframe thead th {\n",
       "        text-align: right;\n",
       "    }\n",
       "</style>\n",
       "<table border=\"1\" class=\"dataframe\">\n",
       "  <thead>\n",
       "    <tr style=\"text-align: right;\">\n",
       "      <th></th>\n",
       "      <th>ONE</th>\n",
       "      <th>TWO</th>\n",
       "      <th>THREE</th>\n",
       "      <th>FOUR</th>\n",
       "    </tr>\n",
       "  </thead>\n",
       "  <tbody>\n",
       "    <tr>\n",
       "      <th>Ohio</th>\n",
       "      <td>0</td>\n",
       "      <td>1</td>\n",
       "      <td>2</td>\n",
       "      <td>3</td>\n",
       "    </tr>\n",
       "    <tr>\n",
       "      <th>Colo</th>\n",
       "      <td>4</td>\n",
       "      <td>5</td>\n",
       "      <td>6</td>\n",
       "      <td>7</td>\n",
       "    </tr>\n",
       "    <tr>\n",
       "      <th>New</th>\n",
       "      <td>8</td>\n",
       "      <td>9</td>\n",
       "      <td>10</td>\n",
       "      <td>11</td>\n",
       "    </tr>\n",
       "  </tbody>\n",
       "</table>\n",
       "</div>"
      ],
      "text/plain": [
       "      ONE  TWO  THREE  FOUR\n",
       "Ohio    0    1      2     3\n",
       "Colo    4    5      6     7\n",
       "New     8    9     10    11"
      ]
     },
     "execution_count": 134,
     "metadata": {},
     "output_type": "execute_result"
    }
   ],
   "source": [
    "# if you wish to create a transformed version of a dataset without modifying the original, a useful method is rename:\n",
    "data.rename(index = str.title, columns = str.upper)\n",
    "# this directkly returns the desired output\n"
   ]
  },
  {
   "cell_type": "code",
   "execution_count": 135,
   "id": "1dfc4be5-cb94-4ae0-ae26-75e74f03381e",
   "metadata": {},
   "outputs": [
    {
     "data": {
      "text/html": [
       "<div>\n",
       "<style scoped>\n",
       "    .dataframe tbody tr th:only-of-type {\n",
       "        vertical-align: middle;\n",
       "    }\n",
       "\n",
       "    .dataframe tbody tr th {\n",
       "        vertical-align: top;\n",
       "    }\n",
       "\n",
       "    .dataframe thead th {\n",
       "        text-align: right;\n",
       "    }\n",
       "</style>\n",
       "<table border=\"1\" class=\"dataframe\">\n",
       "  <thead>\n",
       "    <tr style=\"text-align: right;\">\n",
       "      <th></th>\n",
       "      <th>one</th>\n",
       "      <th>two</th>\n",
       "      <th>lokatora</th>\n",
       "      <th>four</th>\n",
       "    </tr>\n",
       "  </thead>\n",
       "  <tbody>\n",
       "    <tr>\n",
       "      <th>INDIANA</th>\n",
       "      <td>0</td>\n",
       "      <td>1</td>\n",
       "      <td>2</td>\n",
       "      <td>3</td>\n",
       "    </tr>\n",
       "    <tr>\n",
       "      <th>MEXICO</th>\n",
       "      <td>4</td>\n",
       "      <td>5</td>\n",
       "      <td>6</td>\n",
       "      <td>7</td>\n",
       "    </tr>\n",
       "    <tr>\n",
       "      <th>NEW</th>\n",
       "      <td>8</td>\n",
       "      <td>9</td>\n",
       "      <td>10</td>\n",
       "      <td>11</td>\n",
       "    </tr>\n",
       "  </tbody>\n",
       "</table>\n",
       "</div>"
      ],
      "text/plain": [
       "         one  two  lokatora  four\n",
       "INDIANA    0    1         2     3\n",
       "MEXICO     4    5         6     7\n",
       "NEW        8    9        10    11"
      ]
     },
     "execution_count": 135,
     "metadata": {},
     "output_type": "execute_result"
    }
   ],
   "source": [
    "# We can chbange the names of the indexes like this:\n",
    "data.rename(index = {'OHIO':'INDIANA','COLO':'MEXICO'},\n",
    "            columns = {'three':'lokatora'})\n",
    "\n",
    "# now see the changed version, like this you can't update the same pointer but you can use data = data.rename(..) or create a new pointer"
   ]
  },
  {
   "cell_type": "markdown",
   "id": "fce1379a-45cd-4303-81f2-2991318ac093",
   "metadata": {},
   "source": [
    "#### **Discretization and Binning**"
   ]
  },
  {
   "cell_type": "markdown",
   "id": "3ce4767e-7190-4f91-997e-4d37690a707c",
   "metadata": {},
   "source": [
    "*Continious data is often discretized or otherwise seperated into \"bins\" for analysis.*\n",
    "\n",
    "Suppose you have data about a group of people in a study, and you want to group them into discrete age buckets "
   ]
  },
  {
   "cell_type": "code",
   "execution_count": 136,
   "id": "571544f4-d689-4ec6-9e66-512266913861",
   "metadata": {},
   "outputs": [
    {
     "data": {
      "text/plain": [
       "[(1, 11], (1, 11], (1, 11], (1, 11], (1, 11], ..., (11, 21], (21, 31], (21, 31], (21, 31], (31, 40]]\n",
       "Length: 16\n",
       "Categories (4, interval[int64, right]): [(1, 11] < (11, 21] < (21, 31] < (31, 40]]"
      ]
     },
     "execution_count": 136,
     "metadata": {},
     "output_type": "execute_result"
    }
   ],
   "source": [
    "ages = [2,4,6,4,7,1,8,9,12,15,14,16,23,25,28,32]\n",
    "\n",
    "# we can divide these into bins of 1 to 10, 11 to 20, 21 to 30, 31 to 40\n",
    "\n",
    "bins = [1,11,21,31,40]\n",
    "age_categories = pd.cut(ages,bins)\n",
    "age_categories # see we now have 4 categories, based on the values"
   ]
  },
  {
   "cell_type": "code",
   "execution_count": 137,
   "id": "a142b738-af48-4b02-bb23-125dee7d7feb",
   "metadata": {},
   "outputs": [
    {
     "data": {
      "text/plain": [
       "array([ 0,  0,  0,  0,  0, -1,  0,  0,  1,  1,  1,  1,  2,  2,  2,  3],\n",
       "      dtype=int8)"
      ]
     },
     "execution_count": 137,
     "metadata": {},
     "output_type": "execute_result"
    }
   ],
   "source": [
    "# Each bin is identified by a special interval value type containing the lower and upper limit of each bin:\n",
    "age_categories.codes"
   ]
  },
  {
   "cell_type": "code",
   "execution_count": 138,
   "id": "ab29bb21-4e21-4894-86fe-35f3b92c4c41",
   "metadata": {},
   "outputs": [
    {
     "name": "stdout",
     "output_type": "stream",
     "text": [
      "(1, 11]\n",
      "(11, 21]\n"
     ]
    }
   ],
   "source": [
    "print(age_categories.categories[0]) # this is the first interval\n",
    "print(age_categories.categories[1]) # this is the second interval\n",
    "\n",
    "# notice the way they represent themselvs, its a unique way, almost like set theory"
   ]
  },
  {
   "cell_type": "markdown",
   "id": "e5c0c91a-1ab1-4e85-964d-df8855e2d00a",
   "metadata": {},
   "source": [
    "**Now lets say you want to find out how many values lies within a particular bin**\n",
    "\n",
    "for that use this"
   ]
  },
  {
   "cell_type": "code",
   "execution_count": 139,
   "id": "39f92cb4-4651-43b4-84e5-a55350c84798",
   "metadata": {},
   "outputs": [
    {
     "data": {
      "text/plain": [
       "(1, 11]     7\n",
       "(11, 21]    4\n",
       "(21, 31]    3\n",
       "(31, 40]    1\n",
       "Name: count, dtype: int64"
      ]
     },
     "execution_count": 139,
     "metadata": {},
     "output_type": "execute_result"
    }
   ],
   "source": [
    "pd.Series(age_categories).value_counts() # this get you the desired output"
   ]
  },
  {
   "cell_type": "code",
   "execution_count": 140,
   "id": "09675492-ba03-40d6-9cd9-a2bdbd263788",
   "metadata": {},
   "outputs": [],
   "source": [
    "# In the string representation of an interval, a parenthesis means that the side is open(exclusive), while the square bracket means it is closed\n",
    "# (inclusive). You can change which side is closed by passing right = False"
   ]
  },
  {
   "cell_type": "code",
   "execution_count": 141,
   "id": "e7d13aed-279d-4cd5-8a3a-1bd4069aab9d",
   "metadata": {},
   "outputs": [
    {
     "data": {
      "text/plain": [
       "[[1, 11), [1, 11), [1, 11), [1, 11), [1, 11), ..., [11, 21), [21, 31), [21, 31), [21, 31), [31, 40)]\n",
       "Length: 16\n",
       "Categories (4, interval[int64, left]): [[1, 11) < [11, 21) < [21, 31) < [31, 40)]"
      ]
     },
     "execution_count": 141,
     "metadata": {},
     "output_type": "execute_result"
    }
   ],
   "source": [
    "pd.cut(ages, bins, right = False) # this time on the right side "
   ]
  },
  {
   "cell_type": "markdown",
   "id": "d0c7268a-6a43-4d6c-a04d-da66743a7db4",
   "metadata": {},
   "source": [
    "*Now interestingly we can override the default interval-based bin labeling by passing a list of array*"
   ]
  },
  {
   "cell_type": "code",
   "execution_count": 142,
   "id": "e6dcdb94-615b-47ee-8a86-54944fffb02f",
   "metadata": {},
   "outputs": [
    {
     "data": {
      "text/plain": [
       "['Kid', 'Kid', 'Kid', 'Kid', 'Kid', ..., 'Teen', 'Adult', 'Adult', 'Adult', 'Old Hag']\n",
       "Length: 16\n",
       "Categories (4, object): ['Kid' < 'Teen' < 'Adult' < 'Old Hag']"
      ]
     },
     "execution_count": 142,
     "metadata": {},
     "output_type": "execute_result"
    }
   ],
   "source": [
    "# Like this: \n",
    "group_names = ['Kid','Teen','Adult','Old Hag']\n",
    "pd.cut(ages, bins, labels = group_names)"
   ]
  },
  {
   "cell_type": "code",
   "execution_count": 143,
   "id": "63cfab13-28ac-40cb-81a2-b7675605e733",
   "metadata": {},
   "outputs": [
    {
     "data": {
      "text/plain": [
       "[(0.6284, 0.8094], (0.2664, 0.4474], (0.0845, 0.2664], (0.8094, 0.9904], (0.8094, 0.9904], ..., (0.4474, 0.6284], (0.6284, 0.8094], (0.4474, 0.6284], (0.0845, 0.2664], (0.8094, 0.9904]]\n",
       "Length: 40\n",
       "Categories (5, interval[float64, right]): [(0.0845, 0.2664] < (0.2664, 0.4474] < (0.4474, 0.6284] < (0.6284, 0.8094] < (0.8094, 0.9904]]"
      ]
     },
     "execution_count": 143,
     "metadata": {},
     "output_type": "execute_result"
    }
   ],
   "source": [
    "# if you pass an integer number of bins to pandas.cut instead of explicit bin edges, it will compute equal-length bins based on the minimum\n",
    "# and maximum values in the data. Consider the case of some uniformly distributed data chopped into fourths.\n",
    "\n",
    "data = np.random.uniform(size = 40)\n",
    "pd.cut(data, 5, precision = 4)"
   ]
  },
  {
   "cell_type": "code",
   "execution_count": 144,
   "id": "fcb9ed1c-abe8-42ab-92ee-ec76bb50fe6d",
   "metadata": {},
   "outputs": [],
   "source": [
    "power_levels = ['Low','Mid','High','Extreme','Divine']\n",
    "\n",
    "data_n = np.random.uniform(size = 40)\n",
    "binned = pd.cut(data, bins = 5, labels = power_levels)\n",
    "\n",
    "# print(binned)\n"
   ]
  },
  {
   "cell_type": "code",
   "execution_count": 145,
   "id": "f618fcca-d1c4-46de-b082-5028e09651fc",
   "metadata": {},
   "outputs": [
    {
     "data": {
      "text/plain": [
       "Divine     10\n",
       "Low         9\n",
       "High        9\n",
       "Mid         6\n",
       "Extreme     6\n",
       "Name: count, dtype: int64"
      ]
     },
     "execution_count": 145,
     "metadata": {},
     "output_type": "execute_result"
    }
   ],
   "source": [
    "pd.Series(binned).value_counts()"
   ]
  },
  {
   "cell_type": "markdown",
   "id": "91329f8a-6eb1-45a5-8718-f6301c8a65f5",
   "metadata": {},
   "source": [
    "#### **Detecting and Filtering Outliers**\n",
    "\n",
    "Filtering or transforming outliers is largly a matter applying array operations. \n",
    "Consider a DataFrame with some normally distributed data:"
   ]
  },
  {
   "cell_type": "code",
   "execution_count": 146,
   "id": "f9d04842-29c2-43b7-bb1a-71fb16aa58fe",
   "metadata": {},
   "outputs": [
    {
     "data": {
      "text/html": [
       "<div>\n",
       "<style scoped>\n",
       "    .dataframe tbody tr th:only-of-type {\n",
       "        vertical-align: middle;\n",
       "    }\n",
       "\n",
       "    .dataframe tbody tr th {\n",
       "        vertical-align: top;\n",
       "    }\n",
       "\n",
       "    .dataframe thead th {\n",
       "        text-align: right;\n",
       "    }\n",
       "</style>\n",
       "<table border=\"1\" class=\"dataframe\">\n",
       "  <thead>\n",
       "    <tr style=\"text-align: right;\">\n",
       "      <th></th>\n",
       "      <th>0</th>\n",
       "      <th>1</th>\n",
       "      <th>2</th>\n",
       "      <th>3</th>\n",
       "    </tr>\n",
       "  </thead>\n",
       "  <tbody>\n",
       "    <tr>\n",
       "      <th>count</th>\n",
       "      <td>1000.000000</td>\n",
       "      <td>1000.000000</td>\n",
       "      <td>1000.000000</td>\n",
       "      <td>1000.000000</td>\n",
       "    </tr>\n",
       "    <tr>\n",
       "      <th>mean</th>\n",
       "      <td>0.014954</td>\n",
       "      <td>0.001238</td>\n",
       "      <td>0.032433</td>\n",
       "      <td>-0.051363</td>\n",
       "    </tr>\n",
       "    <tr>\n",
       "      <th>std</th>\n",
       "      <td>0.973618</td>\n",
       "      <td>0.977115</td>\n",
       "      <td>0.978530</td>\n",
       "      <td>1.005709</td>\n",
       "    </tr>\n",
       "    <tr>\n",
       "      <th>min</th>\n",
       "      <td>-3.176963</td>\n",
       "      <td>-2.935723</td>\n",
       "      <td>-2.866198</td>\n",
       "      <td>-3.169061</td>\n",
       "    </tr>\n",
       "    <tr>\n",
       "      <th>25%</th>\n",
       "      <td>-0.626921</td>\n",
       "      <td>-0.672556</td>\n",
       "      <td>-0.632429</td>\n",
       "      <td>-0.773358</td>\n",
       "    </tr>\n",
       "    <tr>\n",
       "      <th>50%</th>\n",
       "      <td>-0.010758</td>\n",
       "      <td>0.000610</td>\n",
       "      <td>0.021175</td>\n",
       "      <td>-0.028658</td>\n",
       "    </tr>\n",
       "    <tr>\n",
       "      <th>75%</th>\n",
       "      <td>0.649446</td>\n",
       "      <td>0.704499</td>\n",
       "      <td>0.697163</td>\n",
       "      <td>0.636409</td>\n",
       "    </tr>\n",
       "    <tr>\n",
       "      <th>max</th>\n",
       "      <td>3.272648</td>\n",
       "      <td>3.636410</td>\n",
       "      <td>3.531057</td>\n",
       "      <td>3.288254</td>\n",
       "    </tr>\n",
       "  </tbody>\n",
       "</table>\n",
       "</div>"
      ],
      "text/plain": [
       "                 0            1            2            3\n",
       "count  1000.000000  1000.000000  1000.000000  1000.000000\n",
       "mean      0.014954     0.001238     0.032433    -0.051363\n",
       "std       0.973618     0.977115     0.978530     1.005709\n",
       "min      -3.176963    -2.935723    -2.866198    -3.169061\n",
       "25%      -0.626921    -0.672556    -0.632429    -0.773358\n",
       "50%      -0.010758     0.000610     0.021175    -0.028658\n",
       "75%       0.649446     0.704499     0.697163     0.636409\n",
       "max       3.272648     3.636410     3.531057     3.288254"
      ]
     },
     "execution_count": 146,
     "metadata": {},
     "output_type": "execute_result"
    }
   ],
   "source": [
    "data = pd.DataFrame(np.random.standard_normal((1000,4)))\n",
    "data.describe()"
   ]
  },
  {
   "cell_type": "code",
   "execution_count": 147,
   "id": "c6b684f9-0f69-49b0-b611-259e1959e70e",
   "metadata": {},
   "outputs": [
    {
     "data": {
      "text/plain": [
       "5     3.531057\n",
       "31    3.058319\n",
       "Name: 2, dtype: float64"
      ]
     },
     "execution_count": 147,
     "metadata": {},
     "output_type": "execute_result"
    }
   ],
   "source": [
    "# Suppose you anted to find values in one of the columns exceeding 3 in absolute value:\n",
    "col = data[2]\n",
    "col\n",
    "\n",
    "col[col.abs() > 3]"
   ]
  },
  {
   "cell_type": "code",
   "execution_count": 148,
   "id": "14c57cc5-8e1d-4c7c-b2fa-f8cf687a6cec",
   "metadata": {},
   "outputs": [
    {
     "data": {
      "text/html": [
       "<div>\n",
       "<style scoped>\n",
       "    .dataframe tbody tr th:only-of-type {\n",
       "        vertical-align: middle;\n",
       "    }\n",
       "\n",
       "    .dataframe tbody tr th {\n",
       "        vertical-align: top;\n",
       "    }\n",
       "\n",
       "    .dataframe thead th {\n",
       "        text-align: right;\n",
       "    }\n",
       "</style>\n",
       "<table border=\"1\" class=\"dataframe\">\n",
       "  <thead>\n",
       "    <tr style=\"text-align: right;\">\n",
       "      <th></th>\n",
       "      <th>0</th>\n",
       "      <th>1</th>\n",
       "      <th>2</th>\n",
       "      <th>3</th>\n",
       "    </tr>\n",
       "  </thead>\n",
       "  <tbody>\n",
       "    <tr>\n",
       "      <th>5</th>\n",
       "      <td>2.497503</td>\n",
       "      <td>0.199730</td>\n",
       "      <td>3.531057</td>\n",
       "      <td>-0.604662</td>\n",
       "    </tr>\n",
       "    <tr>\n",
       "      <th>31</th>\n",
       "      <td>-0.802150</td>\n",
       "      <td>1.124830</td>\n",
       "      <td>3.058319</td>\n",
       "      <td>1.390477</td>\n",
       "    </tr>\n",
       "    <tr>\n",
       "      <th>36</th>\n",
       "      <td>-0.606584</td>\n",
       "      <td>3.365242</td>\n",
       "      <td>-0.324746</td>\n",
       "      <td>1.876810</td>\n",
       "    </tr>\n",
       "    <tr>\n",
       "      <th>163</th>\n",
       "      <td>3.272648</td>\n",
       "      <td>1.201230</td>\n",
       "      <td>0.585889</td>\n",
       "      <td>-0.531406</td>\n",
       "    </tr>\n",
       "    <tr>\n",
       "      <th>166</th>\n",
       "      <td>-0.862286</td>\n",
       "      <td>3.636410</td>\n",
       "      <td>0.565906</td>\n",
       "      <td>0.817792</td>\n",
       "    </tr>\n",
       "    <tr>\n",
       "      <th>775</th>\n",
       "      <td>-0.346793</td>\n",
       "      <td>0.376907</td>\n",
       "      <td>-0.418282</td>\n",
       "      <td>3.288254</td>\n",
       "    </tr>\n",
       "    <tr>\n",
       "      <th>978</th>\n",
       "      <td>-3.176963</td>\n",
       "      <td>-1.212071</td>\n",
       "      <td>0.505038</td>\n",
       "      <td>0.624510</td>\n",
       "    </tr>\n",
       "    <tr>\n",
       "      <th>990</th>\n",
       "      <td>-1.214528</td>\n",
       "      <td>-0.620153</td>\n",
       "      <td>1.484378</td>\n",
       "      <td>-3.169061</td>\n",
       "    </tr>\n",
       "  </tbody>\n",
       "</table>\n",
       "</div>"
      ],
      "text/plain": [
       "            0         1         2         3\n",
       "5    2.497503  0.199730  3.531057 -0.604662\n",
       "31  -0.802150  1.124830  3.058319  1.390477\n",
       "36  -0.606584  3.365242 -0.324746  1.876810\n",
       "163  3.272648  1.201230  0.585889 -0.531406\n",
       "166 -0.862286  3.636410  0.565906  0.817792\n",
       "775 -0.346793  0.376907 -0.418282  3.288254\n",
       "978 -3.176963 -1.212071  0.505038  0.624510\n",
       "990 -1.214528 -0.620153  1.484378 -3.169061"
      ]
     },
     "execution_count": 148,
     "metadata": {},
     "output_type": "execute_result"
    }
   ],
   "source": [
    "# to select all rows having a value exceeding 3 or -3, you can use the any method on a Boolean DataFrame\n",
    "data[(data.abs()> 3).any(axis = \"columns\")]"
   ]
  },
  {
   "cell_type": "code",
   "execution_count": 149,
   "id": "1b3f6097-de07-4b17-9121-b4c4a62dbc8c",
   "metadata": {},
   "outputs": [],
   "source": [
    "# to select all columns having a value exceeding 3 or -3, you can use the any method on a Boolean DataFrame\n",
    "# data[(data.abs()>2).any(axis =0)] # can not do this because we have used a dataframe"
   ]
  },
  {
   "cell_type": "code",
   "execution_count": 150,
   "id": "6743cb76-3175-4dbd-9617-1fceda50c7a9",
   "metadata": {},
   "outputs": [
    {
     "name": "stdout",
     "output_type": "stream",
     "text": [
      "       0    1    2    3\n",
      "0    NaN  NaN -6.0  NaN\n",
      "1    NaN  NaN  NaN  6.0\n",
      "2    NaN  NaN  NaN -6.0\n",
      "3    NaN  NaN  NaN  NaN\n",
      "4    NaN -6.0  NaN  NaN\n",
      "..   ...  ...  ...  ...\n",
      "995  NaN  NaN -6.0 -6.0\n",
      "996  6.0 -6.0  NaN  NaN\n",
      "997  NaN  NaN -6.0  NaN\n",
      "998  NaN  6.0  NaN  6.0\n",
      "999 -6.0  NaN  NaN  NaN\n",
      "\n",
      "[1000 rows x 4 columns]\n"
     ]
    }
   ],
   "source": [
    "mask = data.abs() > 1\n",
    "data[mask] = np.sign(data[mask]) * 6\n",
    "\n",
    "print(data[data.abs() > 4])"
   ]
  },
  {
   "cell_type": "markdown",
   "id": "02899593-c38e-471a-bcc0-33f71b38cea0",
   "metadata": {},
   "source": [
    "#### **Permutation and Random Sampling**\n",
    "\n",
    "Permuting a Series or the rows in a DataFrame is possible using the numpy.random.permutation function. Calling permutation with the length of the axis you want to permute produces an array of integers indicating the new ordering."
   ]
  },
  {
   "cell_type": "code",
   "execution_count": 151,
   "id": "59b752ee-6683-435c-872e-028ea7d52924",
   "metadata": {},
   "outputs": [
    {
     "data": {
      "text/html": [
       "<div>\n",
       "<style scoped>\n",
       "    .dataframe tbody tr th:only-of-type {\n",
       "        vertical-align: middle;\n",
       "    }\n",
       "\n",
       "    .dataframe tbody tr th {\n",
       "        vertical-align: top;\n",
       "    }\n",
       "\n",
       "    .dataframe thead th {\n",
       "        text-align: right;\n",
       "    }\n",
       "</style>\n",
       "<table border=\"1\" class=\"dataframe\">\n",
       "  <thead>\n",
       "    <tr style=\"text-align: right;\">\n",
       "      <th></th>\n",
       "      <th>0</th>\n",
       "      <th>1</th>\n",
       "      <th>2</th>\n",
       "      <th>3</th>\n",
       "      <th>4</th>\n",
       "      <th>5</th>\n",
       "      <th>6</th>\n",
       "    </tr>\n",
       "  </thead>\n",
       "  <tbody>\n",
       "    <tr>\n",
       "      <th>0</th>\n",
       "      <td>0</td>\n",
       "      <td>1</td>\n",
       "      <td>2</td>\n",
       "      <td>3</td>\n",
       "      <td>4</td>\n",
       "      <td>5</td>\n",
       "      <td>6</td>\n",
       "    </tr>\n",
       "    <tr>\n",
       "      <th>1</th>\n",
       "      <td>7</td>\n",
       "      <td>8</td>\n",
       "      <td>9</td>\n",
       "      <td>10</td>\n",
       "      <td>11</td>\n",
       "      <td>12</td>\n",
       "      <td>13</td>\n",
       "    </tr>\n",
       "    <tr>\n",
       "      <th>2</th>\n",
       "      <td>14</td>\n",
       "      <td>15</td>\n",
       "      <td>16</td>\n",
       "      <td>17</td>\n",
       "      <td>18</td>\n",
       "      <td>19</td>\n",
       "      <td>20</td>\n",
       "    </tr>\n",
       "    <tr>\n",
       "      <th>3</th>\n",
       "      <td>21</td>\n",
       "      <td>22</td>\n",
       "      <td>23</td>\n",
       "      <td>24</td>\n",
       "      <td>25</td>\n",
       "      <td>26</td>\n",
       "      <td>27</td>\n",
       "    </tr>\n",
       "    <tr>\n",
       "      <th>4</th>\n",
       "      <td>28</td>\n",
       "      <td>29</td>\n",
       "      <td>30</td>\n",
       "      <td>31</td>\n",
       "      <td>32</td>\n",
       "      <td>33</td>\n",
       "      <td>34</td>\n",
       "    </tr>\n",
       "  </tbody>\n",
       "</table>\n",
       "</div>"
      ],
      "text/plain": [
       "    0   1   2   3   4   5   6\n",
       "0   0   1   2   3   4   5   6\n",
       "1   7   8   9  10  11  12  13\n",
       "2  14  15  16  17  18  19  20\n",
       "3  21  22  23  24  25  26  27\n",
       "4  28  29  30  31  32  33  34"
      ]
     },
     "execution_count": 151,
     "metadata": {},
     "output_type": "execute_result"
    }
   ],
   "source": [
    "import pandas as pd\n",
    "import numpy as np\n",
    "df = pd.DataFrame(np.arange(5*7).reshape((5,7)))\n",
    "df"
   ]
  },
  {
   "cell_type": "code",
   "execution_count": 152,
   "id": "26edb658-5cc4-4b99-927a-dcb06c23bbb5",
   "metadata": {},
   "outputs": [
    {
     "name": "stdout",
     "output_type": "stream",
     "text": [
      "[3 0 1 2 4]\n"
     ]
    }
   ],
   "source": [
    "sampler = np.random.permutation(5)\n",
    "print(sampler) # this will give us a pandas Series having 5 elements in it"
   ]
  },
  {
   "cell_type": "code",
   "execution_count": 153,
   "id": "37fe39ac-7afa-4f98-9a9a-fd704bb5ca49",
   "metadata": {},
   "outputs": [
    {
     "data": {
      "text/html": [
       "<div>\n",
       "<style scoped>\n",
       "    .dataframe tbody tr th:only-of-type {\n",
       "        vertical-align: middle;\n",
       "    }\n",
       "\n",
       "    .dataframe tbody tr th {\n",
       "        vertical-align: top;\n",
       "    }\n",
       "\n",
       "    .dataframe thead th {\n",
       "        text-align: right;\n",
       "    }\n",
       "</style>\n",
       "<table border=\"1\" class=\"dataframe\">\n",
       "  <thead>\n",
       "    <tr style=\"text-align: right;\">\n",
       "      <th></th>\n",
       "      <th>0</th>\n",
       "      <th>1</th>\n",
       "      <th>2</th>\n",
       "      <th>3</th>\n",
       "      <th>4</th>\n",
       "      <th>5</th>\n",
       "      <th>6</th>\n",
       "    </tr>\n",
       "  </thead>\n",
       "  <tbody>\n",
       "    <tr>\n",
       "      <th>3</th>\n",
       "      <td>21</td>\n",
       "      <td>22</td>\n",
       "      <td>23</td>\n",
       "      <td>24</td>\n",
       "      <td>25</td>\n",
       "      <td>26</td>\n",
       "      <td>27</td>\n",
       "    </tr>\n",
       "    <tr>\n",
       "      <th>0</th>\n",
       "      <td>0</td>\n",
       "      <td>1</td>\n",
       "      <td>2</td>\n",
       "      <td>3</td>\n",
       "      <td>4</td>\n",
       "      <td>5</td>\n",
       "      <td>6</td>\n",
       "    </tr>\n",
       "    <tr>\n",
       "      <th>1</th>\n",
       "      <td>7</td>\n",
       "      <td>8</td>\n",
       "      <td>9</td>\n",
       "      <td>10</td>\n",
       "      <td>11</td>\n",
       "      <td>12</td>\n",
       "      <td>13</td>\n",
       "    </tr>\n",
       "    <tr>\n",
       "      <th>2</th>\n",
       "      <td>14</td>\n",
       "      <td>15</td>\n",
       "      <td>16</td>\n",
       "      <td>17</td>\n",
       "      <td>18</td>\n",
       "      <td>19</td>\n",
       "      <td>20</td>\n",
       "    </tr>\n",
       "    <tr>\n",
       "      <th>4</th>\n",
       "      <td>28</td>\n",
       "      <td>29</td>\n",
       "      <td>30</td>\n",
       "      <td>31</td>\n",
       "      <td>32</td>\n",
       "      <td>33</td>\n",
       "      <td>34</td>\n",
       "    </tr>\n",
       "  </tbody>\n",
       "</table>\n",
       "</div>"
      ],
      "text/plain": [
       "    0   1   2   3   4   5   6\n",
       "3  21  22  23  24  25  26  27\n",
       "0   0   1   2   3   4   5   6\n",
       "1   7   8   9  10  11  12  13\n",
       "2  14  15  16  17  18  19  20\n",
       "4  28  29  30  31  32  33  34"
      ]
     },
     "execution_count": 153,
     "metadata": {},
     "output_type": "execute_result"
    }
   ],
   "source": [
    "# The array can then be used in iloc-based indexing or the equivalent take function\n",
    "df.take(sampler) # interesting out-put [see that the Series that we got as the index of this new DataFrame that we got as our output]"
   ]
  },
  {
   "cell_type": "code",
   "execution_count": 154,
   "id": "924b01f6-c5a8-46d1-a8bc-ef8950768fa9",
   "metadata": {},
   "outputs": [
    {
     "data": {
      "text/html": [
       "<div>\n",
       "<style scoped>\n",
       "    .dataframe tbody tr th:only-of-type {\n",
       "        vertical-align: middle;\n",
       "    }\n",
       "\n",
       "    .dataframe tbody tr th {\n",
       "        vertical-align: top;\n",
       "    }\n",
       "\n",
       "    .dataframe thead th {\n",
       "        text-align: right;\n",
       "    }\n",
       "</style>\n",
       "<table border=\"1\" class=\"dataframe\">\n",
       "  <thead>\n",
       "    <tr style=\"text-align: right;\">\n",
       "      <th></th>\n",
       "      <th>0</th>\n",
       "      <th>1</th>\n",
       "      <th>2</th>\n",
       "      <th>3</th>\n",
       "      <th>4</th>\n",
       "      <th>5</th>\n",
       "      <th>6</th>\n",
       "    </tr>\n",
       "  </thead>\n",
       "  <tbody>\n",
       "    <tr>\n",
       "      <th>3</th>\n",
       "      <td>21</td>\n",
       "      <td>22</td>\n",
       "      <td>23</td>\n",
       "      <td>24</td>\n",
       "      <td>25</td>\n",
       "      <td>26</td>\n",
       "      <td>27</td>\n",
       "    </tr>\n",
       "    <tr>\n",
       "      <th>0</th>\n",
       "      <td>0</td>\n",
       "      <td>1</td>\n",
       "      <td>2</td>\n",
       "      <td>3</td>\n",
       "      <td>4</td>\n",
       "      <td>5</td>\n",
       "      <td>6</td>\n",
       "    </tr>\n",
       "    <tr>\n",
       "      <th>1</th>\n",
       "      <td>7</td>\n",
       "      <td>8</td>\n",
       "      <td>9</td>\n",
       "      <td>10</td>\n",
       "      <td>11</td>\n",
       "      <td>12</td>\n",
       "      <td>13</td>\n",
       "    </tr>\n",
       "    <tr>\n",
       "      <th>2</th>\n",
       "      <td>14</td>\n",
       "      <td>15</td>\n",
       "      <td>16</td>\n",
       "      <td>17</td>\n",
       "      <td>18</td>\n",
       "      <td>19</td>\n",
       "      <td>20</td>\n",
       "    </tr>\n",
       "    <tr>\n",
       "      <th>4</th>\n",
       "      <td>28</td>\n",
       "      <td>29</td>\n",
       "      <td>30</td>\n",
       "      <td>31</td>\n",
       "      <td>32</td>\n",
       "      <td>33</td>\n",
       "      <td>34</td>\n",
       "    </tr>\n",
       "  </tbody>\n",
       "</table>\n",
       "</div>"
      ],
      "text/plain": [
       "    0   1   2   3   4   5   6\n",
       "3  21  22  23  24  25  26  27\n",
       "0   0   1   2   3   4   5   6\n",
       "1   7   8   9  10  11  12  13\n",
       "2  14  15  16  17  18  19  20\n",
       "4  28  29  30  31  32  33  34"
      ]
     },
     "execution_count": 154,
     "metadata": {},
     "output_type": "execute_result"
    }
   ],
   "source": [
    "# lets see that iloc \n",
    "df.iloc[sampler] # interestingly you will notice the 0th and the 3rd index have \n",
    "# their corresponding values intact but the positions are now different"
   ]
  },
  {
   "cell_type": "code",
   "execution_count": 155,
   "id": "33f07079-1486-4fea-9d9c-d7a243e784ba",
   "metadata": {},
   "outputs": [
    {
     "data": {
      "text/plain": [
       "array([4, 6, 2, 1, 0, 5, 3], dtype=int32)"
      ]
     },
     "execution_count": 155,
     "metadata": {},
     "output_type": "execute_result"
    }
   ],
   "source": [
    "# by invoking take with axis = 'columns', we could also select a permutation of the columns\n",
    "columns_sampler = np.random.permutation(7)\n",
    "columns_sampler"
   ]
  },
  {
   "cell_type": "code",
   "execution_count": 156,
   "id": "6bd3699e-2552-4e2f-95ab-076c858da8b8",
   "metadata": {},
   "outputs": [
    {
     "data": {
      "text/html": [
       "<div>\n",
       "<style scoped>\n",
       "    .dataframe tbody tr th:only-of-type {\n",
       "        vertical-align: middle;\n",
       "    }\n",
       "\n",
       "    .dataframe tbody tr th {\n",
       "        vertical-align: top;\n",
       "    }\n",
       "\n",
       "    .dataframe thead th {\n",
       "        text-align: right;\n",
       "    }\n",
       "</style>\n",
       "<table border=\"1\" class=\"dataframe\">\n",
       "  <thead>\n",
       "    <tr style=\"text-align: right;\">\n",
       "      <th></th>\n",
       "      <th>4</th>\n",
       "      <th>6</th>\n",
       "      <th>2</th>\n",
       "      <th>1</th>\n",
       "      <th>0</th>\n",
       "      <th>5</th>\n",
       "      <th>3</th>\n",
       "    </tr>\n",
       "  </thead>\n",
       "  <tbody>\n",
       "    <tr>\n",
       "      <th>0</th>\n",
       "      <td>4</td>\n",
       "      <td>6</td>\n",
       "      <td>2</td>\n",
       "      <td>1</td>\n",
       "      <td>0</td>\n",
       "      <td>5</td>\n",
       "      <td>3</td>\n",
       "    </tr>\n",
       "    <tr>\n",
       "      <th>1</th>\n",
       "      <td>11</td>\n",
       "      <td>13</td>\n",
       "      <td>9</td>\n",
       "      <td>8</td>\n",
       "      <td>7</td>\n",
       "      <td>12</td>\n",
       "      <td>10</td>\n",
       "    </tr>\n",
       "    <tr>\n",
       "      <th>2</th>\n",
       "      <td>18</td>\n",
       "      <td>20</td>\n",
       "      <td>16</td>\n",
       "      <td>15</td>\n",
       "      <td>14</td>\n",
       "      <td>19</td>\n",
       "      <td>17</td>\n",
       "    </tr>\n",
       "    <tr>\n",
       "      <th>3</th>\n",
       "      <td>25</td>\n",
       "      <td>27</td>\n",
       "      <td>23</td>\n",
       "      <td>22</td>\n",
       "      <td>21</td>\n",
       "      <td>26</td>\n",
       "      <td>24</td>\n",
       "    </tr>\n",
       "    <tr>\n",
       "      <th>4</th>\n",
       "      <td>32</td>\n",
       "      <td>34</td>\n",
       "      <td>30</td>\n",
       "      <td>29</td>\n",
       "      <td>28</td>\n",
       "      <td>33</td>\n",
       "      <td>31</td>\n",
       "    </tr>\n",
       "  </tbody>\n",
       "</table>\n",
       "</div>"
      ],
      "text/plain": [
       "    4   6   2   1   0   5   3\n",
       "0   4   6   2   1   0   5   3\n",
       "1  11  13   9   8   7  12  10\n",
       "2  18  20  16  15  14  19  17\n",
       "3  25  27  23  22  21  26  24\n",
       "4  32  34  30  29  28  33  31"
      ]
     },
     "execution_count": 156,
     "metadata": {},
     "output_type": "execute_result"
    }
   ],
   "source": [
    "df.take(columns_sampler, axis = 'columns')\n",
    "# this one is extremely important, \n",
    "# see that the columns have been under the influence of permutation, the index seem intact but now, notice the first column has like 1,8,15 .. \n",
    "# the kind of way you'd have already fugired out"
   ]
  },
  {
   "cell_type": "markdown",
   "id": "829bddf6-173f-4e02-9377-795176b0f75d",
   "metadata": {},
   "source": [
    "##### *To select a random subset without replacement (the same row cannot appear twice), you can use the sample method on Series and DataFrame*"
   ]
  },
  {
   "cell_type": "code",
   "execution_count": 157,
   "id": "986ad4c6-3f4d-4b7a-b6c5-9bf156eb139b",
   "metadata": {},
   "outputs": [
    {
     "data": {
      "text/html": [
       "<div>\n",
       "<style scoped>\n",
       "    .dataframe tbody tr th:only-of-type {\n",
       "        vertical-align: middle;\n",
       "    }\n",
       "\n",
       "    .dataframe tbody tr th {\n",
       "        vertical-align: top;\n",
       "    }\n",
       "\n",
       "    .dataframe thead th {\n",
       "        text-align: right;\n",
       "    }\n",
       "</style>\n",
       "<table border=\"1\" class=\"dataframe\">\n",
       "  <thead>\n",
       "    <tr style=\"text-align: right;\">\n",
       "      <th></th>\n",
       "      <th>0</th>\n",
       "      <th>1</th>\n",
       "      <th>2</th>\n",
       "      <th>3</th>\n",
       "      <th>4</th>\n",
       "      <th>5</th>\n",
       "      <th>6</th>\n",
       "    </tr>\n",
       "  </thead>\n",
       "  <tbody>\n",
       "    <tr>\n",
       "      <th>3</th>\n",
       "      <td>21</td>\n",
       "      <td>22</td>\n",
       "      <td>23</td>\n",
       "      <td>24</td>\n",
       "      <td>25</td>\n",
       "      <td>26</td>\n",
       "      <td>27</td>\n",
       "    </tr>\n",
       "    <tr>\n",
       "      <th>2</th>\n",
       "      <td>14</td>\n",
       "      <td>15</td>\n",
       "      <td>16</td>\n",
       "      <td>17</td>\n",
       "      <td>18</td>\n",
       "      <td>19</td>\n",
       "      <td>20</td>\n",
       "    </tr>\n",
       "    <tr>\n",
       "      <th>0</th>\n",
       "      <td>0</td>\n",
       "      <td>1</td>\n",
       "      <td>2</td>\n",
       "      <td>3</td>\n",
       "      <td>4</td>\n",
       "      <td>5</td>\n",
       "      <td>6</td>\n",
       "    </tr>\n",
       "  </tbody>\n",
       "</table>\n",
       "</div>"
      ],
      "text/plain": [
       "    0   1   2   3   4   5   6\n",
       "3  21  22  23  24  25  26  27\n",
       "2  14  15  16  17  18  19  20\n",
       "0   0   1   2   3   4   5   6"
      ]
     },
     "execution_count": 157,
     "metadata": {},
     "output_type": "execute_result"
    }
   ],
   "source": [
    "df.sample(n=3) # this takes a sample from the main DataFrame which was under the influence of permutation and returns a"
   ]
  },
  {
   "cell_type": "code",
   "execution_count": 158,
   "id": "197f1aa8-c1f0-4cf4-ab37-15c2e39fe01a",
   "metadata": {},
   "outputs": [
    {
     "data": {
      "text/plain": [
       "4    1\n",
       "2    3\n",
       "3   -7\n",
       "4    1\n",
       "3   -7\n",
       "    ..\n",
       "5   -8\n",
       "1    5\n",
       "5   -8\n",
       "5   -8\n",
       "3   -7\n",
       "Length: 12, dtype: int64"
      ]
     },
     "execution_count": 158,
     "metadata": {},
     "output_type": "execute_result"
    }
   ],
   "source": [
    "# to generate a sample with replacement, pass replace = True\n",
    "choices = pd.Series([2,5,3,-7,1,-8])\n",
    "choices.sample(n = 12, replace = True)"
   ]
  },
  {
   "cell_type": "markdown",
   "id": "e476cdc9-be6b-47ac-b8a0-2dc23b71a75d",
   "metadata": {},
   "source": [
    "#### **Computing Indicator/Dummy Variables**"
   ]
  },
  {
   "cell_type": "code",
   "execution_count": 159,
   "id": "c40c62ad-a064-4d6e-9186-014d284129a2",
   "metadata": {},
   "outputs": [
    {
     "data": {
      "text/html": [
       "<div>\n",
       "<style scoped>\n",
       "    .dataframe tbody tr th:only-of-type {\n",
       "        vertical-align: middle;\n",
       "    }\n",
       "\n",
       "    .dataframe tbody tr th {\n",
       "        vertical-align: top;\n",
       "    }\n",
       "\n",
       "    .dataframe thead th {\n",
       "        text-align: right;\n",
       "    }\n",
       "</style>\n",
       "<table border=\"1\" class=\"dataframe\">\n",
       "  <thead>\n",
       "    <tr style=\"text-align: right;\">\n",
       "      <th></th>\n",
       "      <th>key</th>\n",
       "      <th>data1</th>\n",
       "    </tr>\n",
       "  </thead>\n",
       "  <tbody>\n",
       "    <tr>\n",
       "      <th>0</th>\n",
       "      <td>a</td>\n",
       "      <td>0</td>\n",
       "    </tr>\n",
       "    <tr>\n",
       "      <th>1</th>\n",
       "      <td>a</td>\n",
       "      <td>1</td>\n",
       "    </tr>\n",
       "    <tr>\n",
       "      <th>2</th>\n",
       "      <td>b</td>\n",
       "      <td>2</td>\n",
       "    </tr>\n",
       "    <tr>\n",
       "      <th>3</th>\n",
       "      <td>a</td>\n",
       "      <td>3</td>\n",
       "    </tr>\n",
       "    <tr>\n",
       "      <th>4</th>\n",
       "      <td>c</td>\n",
       "      <td>4</td>\n",
       "    </tr>\n",
       "    <tr>\n",
       "      <th>5</th>\n",
       "      <td>c</td>\n",
       "      <td>5</td>\n",
       "    </tr>\n",
       "    <tr>\n",
       "      <th>6</th>\n",
       "      <td>b</td>\n",
       "      <td>6</td>\n",
       "    </tr>\n",
       "    <tr>\n",
       "      <th>7</th>\n",
       "      <td>b</td>\n",
       "      <td>7</td>\n",
       "    </tr>\n",
       "  </tbody>\n",
       "</table>\n",
       "</div>"
      ],
      "text/plain": [
       "  key  data1\n",
       "0   a      0\n",
       "1   a      1\n",
       "2   b      2\n",
       "3   a      3\n",
       "4   c      4\n",
       "5   c      5\n",
       "6   b      6\n",
       "7   b      7"
      ]
     },
     "execution_count": 159,
     "metadata": {},
     "output_type": "execute_result"
    }
   ],
   "source": [
    "df = pd.DataFrame({\"key\": ['a','a','b','a','c','c','b','b'],\n",
    "                  \"data1\": range(8)})\n",
    "df"
   ]
  },
  {
   "cell_type": "markdown",
   "id": "4810ba3f-55c8-4dc9-a26e-1c07ec1aefac",
   "metadata": {},
   "source": [
    "##### what the dummy will do it that as the computer can't understand the difference between a/b/c directly,\n",
    "##### the dummy transforms it so that the computer is able to grasp it"
   ]
  },
  {
   "cell_type": "code",
   "execution_count": 160,
   "id": "3a50cd27-3ee3-430e-becd-03b41fc50e92",
   "metadata": {},
   "outputs": [
    {
     "data": {
      "text/html": [
       "<div>\n",
       "<style scoped>\n",
       "    .dataframe tbody tr th:only-of-type {\n",
       "        vertical-align: middle;\n",
       "    }\n",
       "\n",
       "    .dataframe tbody tr th {\n",
       "        vertical-align: top;\n",
       "    }\n",
       "\n",
       "    .dataframe thead th {\n",
       "        text-align: right;\n",
       "    }\n",
       "</style>\n",
       "<table border=\"1\" class=\"dataframe\">\n",
       "  <thead>\n",
       "    <tr style=\"text-align: right;\">\n",
       "      <th></th>\n",
       "      <th>data1</th>\n",
       "      <th>key_a</th>\n",
       "      <th>key_b</th>\n",
       "      <th>key_c</th>\n",
       "    </tr>\n",
       "  </thead>\n",
       "  <tbody>\n",
       "    <tr>\n",
       "      <th>0</th>\n",
       "      <td>0</td>\n",
       "      <td>True</td>\n",
       "      <td>False</td>\n",
       "      <td>False</td>\n",
       "    </tr>\n",
       "    <tr>\n",
       "      <th>1</th>\n",
       "      <td>1</td>\n",
       "      <td>True</td>\n",
       "      <td>False</td>\n",
       "      <td>False</td>\n",
       "    </tr>\n",
       "    <tr>\n",
       "      <th>2</th>\n",
       "      <td>2</td>\n",
       "      <td>False</td>\n",
       "      <td>True</td>\n",
       "      <td>False</td>\n",
       "    </tr>\n",
       "    <tr>\n",
       "      <th>3</th>\n",
       "      <td>3</td>\n",
       "      <td>True</td>\n",
       "      <td>False</td>\n",
       "      <td>False</td>\n",
       "    </tr>\n",
       "    <tr>\n",
       "      <th>4</th>\n",
       "      <td>4</td>\n",
       "      <td>False</td>\n",
       "      <td>False</td>\n",
       "      <td>True</td>\n",
       "    </tr>\n",
       "    <tr>\n",
       "      <th>5</th>\n",
       "      <td>5</td>\n",
       "      <td>False</td>\n",
       "      <td>False</td>\n",
       "      <td>True</td>\n",
       "    </tr>\n",
       "    <tr>\n",
       "      <th>6</th>\n",
       "      <td>6</td>\n",
       "      <td>False</td>\n",
       "      <td>True</td>\n",
       "      <td>False</td>\n",
       "    </tr>\n",
       "    <tr>\n",
       "      <th>7</th>\n",
       "      <td>7</td>\n",
       "      <td>False</td>\n",
       "      <td>True</td>\n",
       "      <td>False</td>\n",
       "    </tr>\n",
       "  </tbody>\n",
       "</table>\n",
       "</div>"
      ],
      "text/plain": [
       "   data1  key_a  key_b  key_c\n",
       "0      0   True  False  False\n",
       "1      1   True  False  False\n",
       "2      2  False   True  False\n",
       "3      3   True  False  False\n",
       "4      4  False  False   True\n",
       "5      5  False  False   True\n",
       "6      6  False   True  False\n",
       "7      7  False   True  False"
      ]
     },
     "execution_count": 160,
     "metadata": {},
     "output_type": "execute_result"
    }
   ],
   "source": [
    "dummies = pd.get_dummies(df['key'],prefix = 'key') # this adds key_ before a or b or c column\n",
    "# while flushing out values from the key column and making columns in this case 3\n",
    "df_with_dummy = df[[\"data1\"]].join(dummies)\n",
    "df_with_dummy"
   ]
  },
  {
   "cell_type": "code",
   "execution_count": 161,
   "id": "ee65d8e4-cc39-4cf8-8337-2c7b6e6962f6",
   "metadata": {},
   "outputs": [
    {
     "data": {
      "text/html": [
       "<div>\n",
       "<style scoped>\n",
       "    .dataframe tbody tr th:only-of-type {\n",
       "        vertical-align: middle;\n",
       "    }\n",
       "\n",
       "    .dataframe tbody tr th {\n",
       "        vertical-align: top;\n",
       "    }\n",
       "\n",
       "    .dataframe thead th {\n",
       "        text-align: right;\n",
       "    }\n",
       "</style>\n",
       "<table border=\"1\" class=\"dataframe\">\n",
       "  <thead>\n",
       "    <tr style=\"text-align: right;\">\n",
       "      <th></th>\n",
       "      <th>Console</th>\n",
       "      <th>GameName</th>\n",
       "      <th>Review</th>\n",
       "      <th>Score</th>\n",
       "    </tr>\n",
       "  </thead>\n",
       "  <tbody>\n",
       "    <tr>\n",
       "      <th>0</th>\n",
       "      <td>PC</td>\n",
       "      <td>Baldur's Gate 3 Early Access Review</td>\n",
       "      <td>Early Access</td>\n",
       "      <td>6</td>\n",
       "    </tr>\n",
       "    <tr>\n",
       "      <th>1</th>\n",
       "      <td>NS</td>\n",
       "      <td>Control: Ultimate Edition Cloud Version Review</td>\n",
       "      <td>Good</td>\n",
       "      <td>7</td>\n",
       "    </tr>\n",
       "    <tr>\n",
       "      <th>2</th>\n",
       "      <td>XONE, PC, PS4</td>\n",
       "      <td>Doom Eternal: The Ancient Gods Part 1 Review</td>\n",
       "      <td>Good</td>\n",
       "      <td>7</td>\n",
       "    </tr>\n",
       "    <tr>\n",
       "      <th>3</th>\n",
       "      <td>XONE, PC, PS4</td>\n",
       "      <td>Watch Dogs: Legion Review</td>\n",
       "      <td>Great</td>\n",
       "      <td>8</td>\n",
       "    </tr>\n",
       "    <tr>\n",
       "      <th>4</th>\n",
       "      <td>PC</td>\n",
       "      <td>Ring Of Pain Review</td>\n",
       "      <td>Great</td>\n",
       "      <td>8</td>\n",
       "    </tr>\n",
       "    <tr>\n",
       "      <th>...</th>\n",
       "      <td>...</td>\n",
       "      <td>...</td>\n",
       "      <td>...</td>\n",
       "      <td>...</td>\n",
       "    </tr>\n",
       "    <tr>\n",
       "      <th>10</th>\n",
       "      <td>PC</td>\n",
       "      <td>Amnesia: Rebirth Review</td>\n",
       "      <td>Great</td>\n",
       "      <td>8</td>\n",
       "    </tr>\n",
       "    <tr>\n",
       "      <th>11</th>\n",
       "      <td>PC, PS4</td>\n",
       "      <td>Genshin Impact Review – Direct Hit</td>\n",
       "      <td>Good</td>\n",
       "      <td>7</td>\n",
       "    </tr>\n",
       "    <tr>\n",
       "      <th>12</th>\n",
       "      <td>PC, XONE, PS4, NS</td>\n",
       "      <td>Ikenfell Review</td>\n",
       "      <td>Fair</td>\n",
       "      <td>6</td>\n",
       "    </tr>\n",
       "    <tr>\n",
       "      <th>13</th>\n",
       "      <td>NS</td>\n",
       "      <td>Ring Fit Adventure Review: One Year Later</td>\n",
       "      <td>Superb</td>\n",
       "      <td>9</td>\n",
       "    </tr>\n",
       "    <tr>\n",
       "      <th>14</th>\n",
       "      <td>XONE, PC, PS4</td>\n",
       "      <td>Star Wars: Squadrons Review – Catch Me If You Can</td>\n",
       "      <td>Good</td>\n",
       "      <td>7</td>\n",
       "    </tr>\n",
       "  </tbody>\n",
       "</table>\n",
       "<p>15 rows × 4 columns</p>\n",
       "</div>"
      ],
      "text/plain": [
       "              Console                                           GameName  \\\n",
       "0                  PC                Baldur's Gate 3 Early Access Review   \n",
       "1                  NS     Control: Ultimate Edition Cloud Version Review   \n",
       "2       XONE, PC, PS4       Doom Eternal: The Ancient Gods Part 1 Review   \n",
       "3       XONE, PC, PS4                          Watch Dogs: Legion Review   \n",
       "4                  PC                                Ring Of Pain Review   \n",
       "..                ...                                                ...   \n",
       "10                 PC                            Amnesia: Rebirth Review   \n",
       "11            PC, PS4                 Genshin Impact Review – Direct Hit   \n",
       "12  PC, XONE, PS4, NS                                    Ikenfell Review   \n",
       "13                 NS          Ring Fit Adventure Review: One Year Later   \n",
       "14      XONE, PC, PS4  Star Wars: Squadrons Review – Catch Me If You Can   \n",
       "\n",
       "          Review  Score  \n",
       "0   Early Access      6  \n",
       "1           Good      7  \n",
       "2           Good      7  \n",
       "3          Great      8  \n",
       "4          Great      8  \n",
       "..           ...    ...  \n",
       "10         Great      8  \n",
       "11          Good      7  \n",
       "12          Fair      6  \n",
       "13        Superb      9  \n",
       "14          Good      7  \n",
       "\n",
       "[15 rows x 4 columns]"
      ]
     },
     "execution_count": 161,
     "metadata": {},
     "output_type": "execute_result"
    }
   ],
   "source": [
    "the_file = pd.read_csv(\"C:\\\\Users\\\\GOGOL\\\\OneDrive\\\\Desktop\\\\Games.csv\")\n",
    "the_file.head(15)\n"
   ]
  },
  {
   "cell_type": "code",
   "execution_count": 162,
   "id": "af003916-7722-492a-b51d-7ecd2fc4c365",
   "metadata": {},
   "outputs": [],
   "source": [
    "# now that we have a good understanding of how there are categorical datas in row 1,2 and 3\n",
    "# its perfect for use to use the dummies to get a clear idea of how it would look like"
   ]
  },
  {
   "cell_type": "code",
   "execution_count": 163,
   "id": "60f43ccb-4a00-41d9-ae2b-81e291fc44ec",
   "metadata": {},
   "outputs": [
    {
     "data": {
      "text/html": [
       "<div>\n",
       "<style scoped>\n",
       "    .dataframe tbody tr th:only-of-type {\n",
       "        vertical-align: middle;\n",
       "    }\n",
       "\n",
       "    .dataframe tbody tr th {\n",
       "        vertical-align: top;\n",
       "    }\n",
       "\n",
       "    .dataframe thead th {\n",
       "        text-align: right;\n",
       "    }\n",
       "</style>\n",
       "<table border=\"1\" class=\"dataframe\">\n",
       "  <thead>\n",
       "    <tr style=\"text-align: right;\">\n",
       "      <th></th>\n",
       "      <th>GameName</th>\n",
       "      <th>Review</th>\n",
       "      <th>Score</th>\n",
       "    </tr>\n",
       "  </thead>\n",
       "  <tbody>\n",
       "    <tr>\n",
       "      <th>14798</th>\n",
       "      <td>Endorfun Review</td>\n",
       "      <td>Good</td>\n",
       "      <td>7</td>\n",
       "    </tr>\n",
       "    <tr>\n",
       "      <th>14799</th>\n",
       "      <td>FIFA Soccer 96 Review</td>\n",
       "      <td>Superb</td>\n",
       "      <td>9</td>\n",
       "    </tr>\n",
       "    <tr>\n",
       "      <th>14800</th>\n",
       "      <td>Full Throttle Review</td>\n",
       "      <td>Great</td>\n",
       "      <td>8</td>\n",
       "    </tr>\n",
       "  </tbody>\n",
       "</table>\n",
       "</div>"
      ],
      "text/plain": [
       "                    GameName  Review  Score\n",
       "14798        Endorfun Review    Good      7\n",
       "14799  FIFA Soccer 96 Review  Superb      9\n",
       "14800   Full Throttle Review   Great      8"
      ]
     },
     "execution_count": 163,
     "metadata": {},
     "output_type": "execute_result"
    }
   ],
   "source": [
    "# but because there are too many categorical data, let me cut off only the Review and the Score column from the dataset\n",
    "mod_file = the_file[['GameName','Review','Score']]\n",
    "mod_file.tail(3)"
   ]
  },
  {
   "cell_type": "code",
   "execution_count": 164,
   "id": "6a116b65-999a-4782-9e83-b30079a9a909",
   "metadata": {},
   "outputs": [
    {
     "data": {
      "text/html": [
       "<div>\n",
       "<style scoped>\n",
       "    .dataframe tbody tr th:only-of-type {\n",
       "        vertical-align: middle;\n",
       "    }\n",
       "\n",
       "    .dataframe tbody tr th {\n",
       "        vertical-align: top;\n",
       "    }\n",
       "\n",
       "    .dataframe thead th {\n",
       "        text-align: right;\n",
       "    }\n",
       "</style>\n",
       "<table border=\"1\" class=\"dataframe\">\n",
       "  <thead>\n",
       "    <tr style=\"text-align: right;\">\n",
       "      <th></th>\n",
       "      <th>Abysmal</th>\n",
       "      <th>Bad</th>\n",
       "      <th>Early Access</th>\n",
       "      <th>Essential</th>\n",
       "      <th>Fair</th>\n",
       "      <th>Good</th>\n",
       "      <th>Great</th>\n",
       "      <th>Mediocre</th>\n",
       "      <th>Poor</th>\n",
       "      <th>Superb</th>\n",
       "      <th>Terrible</th>\n",
       "    </tr>\n",
       "  </thead>\n",
       "  <tbody>\n",
       "    <tr>\n",
       "      <th>0</th>\n",
       "      <td>0</td>\n",
       "      <td>0</td>\n",
       "      <td>1</td>\n",
       "      <td>0</td>\n",
       "      <td>0</td>\n",
       "      <td>0</td>\n",
       "      <td>0</td>\n",
       "      <td>0</td>\n",
       "      <td>0</td>\n",
       "      <td>0</td>\n",
       "      <td>0</td>\n",
       "    </tr>\n",
       "    <tr>\n",
       "      <th>1</th>\n",
       "      <td>0</td>\n",
       "      <td>0</td>\n",
       "      <td>0</td>\n",
       "      <td>0</td>\n",
       "      <td>0</td>\n",
       "      <td>1</td>\n",
       "      <td>0</td>\n",
       "      <td>0</td>\n",
       "      <td>0</td>\n",
       "      <td>0</td>\n",
       "      <td>0</td>\n",
       "    </tr>\n",
       "    <tr>\n",
       "      <th>2</th>\n",
       "      <td>0</td>\n",
       "      <td>0</td>\n",
       "      <td>0</td>\n",
       "      <td>0</td>\n",
       "      <td>0</td>\n",
       "      <td>1</td>\n",
       "      <td>0</td>\n",
       "      <td>0</td>\n",
       "      <td>0</td>\n",
       "      <td>0</td>\n",
       "      <td>0</td>\n",
       "    </tr>\n",
       "    <tr>\n",
       "      <th>3</th>\n",
       "      <td>0</td>\n",
       "      <td>0</td>\n",
       "      <td>0</td>\n",
       "      <td>0</td>\n",
       "      <td>0</td>\n",
       "      <td>0</td>\n",
       "      <td>1</td>\n",
       "      <td>0</td>\n",
       "      <td>0</td>\n",
       "      <td>0</td>\n",
       "      <td>0</td>\n",
       "    </tr>\n",
       "    <tr>\n",
       "      <th>4</th>\n",
       "      <td>0</td>\n",
       "      <td>0</td>\n",
       "      <td>0</td>\n",
       "      <td>0</td>\n",
       "      <td>0</td>\n",
       "      <td>0</td>\n",
       "      <td>1</td>\n",
       "      <td>0</td>\n",
       "      <td>0</td>\n",
       "      <td>0</td>\n",
       "      <td>0</td>\n",
       "    </tr>\n",
       "    <tr>\n",
       "      <th>...</th>\n",
       "      <td>...</td>\n",
       "      <td>...</td>\n",
       "      <td>...</td>\n",
       "      <td>...</td>\n",
       "      <td>...</td>\n",
       "      <td>...</td>\n",
       "      <td>...</td>\n",
       "      <td>...</td>\n",
       "      <td>...</td>\n",
       "      <td>...</td>\n",
       "      <td>...</td>\n",
       "    </tr>\n",
       "    <tr>\n",
       "      <th>14796</th>\n",
       "      <td>0</td>\n",
       "      <td>0</td>\n",
       "      <td>0</td>\n",
       "      <td>0</td>\n",
       "      <td>0</td>\n",
       "      <td>0</td>\n",
       "      <td>1</td>\n",
       "      <td>0</td>\n",
       "      <td>0</td>\n",
       "      <td>0</td>\n",
       "      <td>0</td>\n",
       "    </tr>\n",
       "    <tr>\n",
       "      <th>14797</th>\n",
       "      <td>0</td>\n",
       "      <td>0</td>\n",
       "      <td>0</td>\n",
       "      <td>0</td>\n",
       "      <td>0</td>\n",
       "      <td>0</td>\n",
       "      <td>0</td>\n",
       "      <td>1</td>\n",
       "      <td>0</td>\n",
       "      <td>0</td>\n",
       "      <td>0</td>\n",
       "    </tr>\n",
       "    <tr>\n",
       "      <th>14798</th>\n",
       "      <td>0</td>\n",
       "      <td>0</td>\n",
       "      <td>0</td>\n",
       "      <td>0</td>\n",
       "      <td>0</td>\n",
       "      <td>1</td>\n",
       "      <td>0</td>\n",
       "      <td>0</td>\n",
       "      <td>0</td>\n",
       "      <td>0</td>\n",
       "      <td>0</td>\n",
       "    </tr>\n",
       "    <tr>\n",
       "      <th>14799</th>\n",
       "      <td>0</td>\n",
       "      <td>0</td>\n",
       "      <td>0</td>\n",
       "      <td>0</td>\n",
       "      <td>0</td>\n",
       "      <td>0</td>\n",
       "      <td>0</td>\n",
       "      <td>0</td>\n",
       "      <td>0</td>\n",
       "      <td>1</td>\n",
       "      <td>0</td>\n",
       "    </tr>\n",
       "    <tr>\n",
       "      <th>14800</th>\n",
       "      <td>0</td>\n",
       "      <td>0</td>\n",
       "      <td>0</td>\n",
       "      <td>0</td>\n",
       "      <td>0</td>\n",
       "      <td>0</td>\n",
       "      <td>1</td>\n",
       "      <td>0</td>\n",
       "      <td>0</td>\n",
       "      <td>0</td>\n",
       "      <td>0</td>\n",
       "    </tr>\n",
       "  </tbody>\n",
       "</table>\n",
       "<p>14801 rows × 11 columns</p>\n",
       "</div>"
      ],
      "text/plain": [
       "       Abysmal  Bad  Early Access  Essential  Fair  Good  Great  Mediocre  \\\n",
       "0            0    0             1          0     0     0      0         0   \n",
       "1            0    0             0          0     0     1      0         0   \n",
       "2            0    0             0          0     0     1      0         0   \n",
       "3            0    0             0          0     0     0      1         0   \n",
       "4            0    0             0          0     0     0      1         0   \n",
       "...        ...  ...           ...        ...   ...   ...    ...       ...   \n",
       "14796        0    0             0          0     0     0      1         0   \n",
       "14797        0    0             0          0     0     0      0         1   \n",
       "14798        0    0             0          0     0     1      0         0   \n",
       "14799        0    0             0          0     0     0      0         0   \n",
       "14800        0    0             0          0     0     0      1         0   \n",
       "\n",
       "       Poor  Superb  Terrible  \n",
       "0         0       0         0  \n",
       "1         0       0         0  \n",
       "2         0       0         0  \n",
       "3         0       0         0  \n",
       "4         0       0         0  \n",
       "...     ...     ...       ...  \n",
       "14796     0       0         0  \n",
       "14797     0       0         0  \n",
       "14798     0       0         0  \n",
       "14799     0       1         0  \n",
       "14800     0       0         0  \n",
       "\n",
       "[14801 rows x 11 columns]"
      ]
     },
     "execution_count": 164,
     "metadata": {},
     "output_type": "execute_result"
    }
   ],
   "source": [
    "dummies = mod_file['Review'].str.get_dummies()\n",
    "dummies # this returns the result in a dummies format containing 1's and 0's"
   ]
  },
  {
   "cell_type": "code",
   "execution_count": 165,
   "id": "be78e5a4-5099-4d0b-8c3d-21d18665617c",
   "metadata": {},
   "outputs": [
    {
     "data": {
      "text/html": [
       "<div>\n",
       "<style scoped>\n",
       "    .dataframe tbody tr th:only-of-type {\n",
       "        vertical-align: middle;\n",
       "    }\n",
       "\n",
       "    .dataframe tbody tr th {\n",
       "        vertical-align: top;\n",
       "    }\n",
       "\n",
       "    .dataframe thead th {\n",
       "        text-align: right;\n",
       "    }\n",
       "</style>\n",
       "<table border=\"1\" class=\"dataframe\">\n",
       "  <thead>\n",
       "    <tr style=\"text-align: right;\">\n",
       "      <th></th>\n",
       "      <th>GameName</th>\n",
       "      <th>Abysmal_Rating</th>\n",
       "      <th>Bad_Rating</th>\n",
       "      <th>Early Access_Rating</th>\n",
       "      <th>Essential_Rating</th>\n",
       "      <th>Fair_Rating</th>\n",
       "      <th>Good_Rating</th>\n",
       "      <th>Great_Rating</th>\n",
       "      <th>Mediocre_Rating</th>\n",
       "      <th>Poor_Rating</th>\n",
       "      <th>Superb_Rating</th>\n",
       "      <th>Terrible_Rating</th>\n",
       "    </tr>\n",
       "  </thead>\n",
       "  <tbody>\n",
       "    <tr>\n",
       "      <th>0</th>\n",
       "      <td>Baldur's Gate 3 Early Access Review</td>\n",
       "      <td>0</td>\n",
       "      <td>0</td>\n",
       "      <td>1</td>\n",
       "      <td>0</td>\n",
       "      <td>0</td>\n",
       "      <td>0</td>\n",
       "      <td>0</td>\n",
       "      <td>0</td>\n",
       "      <td>0</td>\n",
       "      <td>0</td>\n",
       "      <td>0</td>\n",
       "    </tr>\n",
       "    <tr>\n",
       "      <th>1</th>\n",
       "      <td>Control: Ultimate Edition Cloud Version Review</td>\n",
       "      <td>0</td>\n",
       "      <td>0</td>\n",
       "      <td>0</td>\n",
       "      <td>0</td>\n",
       "      <td>0</td>\n",
       "      <td>1</td>\n",
       "      <td>0</td>\n",
       "      <td>0</td>\n",
       "      <td>0</td>\n",
       "      <td>0</td>\n",
       "      <td>0</td>\n",
       "    </tr>\n",
       "    <tr>\n",
       "      <th>2</th>\n",
       "      <td>Doom Eternal: The Ancient Gods Part 1 Review</td>\n",
       "      <td>0</td>\n",
       "      <td>0</td>\n",
       "      <td>0</td>\n",
       "      <td>0</td>\n",
       "      <td>0</td>\n",
       "      <td>1</td>\n",
       "      <td>0</td>\n",
       "      <td>0</td>\n",
       "      <td>0</td>\n",
       "      <td>0</td>\n",
       "      <td>0</td>\n",
       "    </tr>\n",
       "    <tr>\n",
       "      <th>3</th>\n",
       "      <td>Watch Dogs: Legion Review</td>\n",
       "      <td>0</td>\n",
       "      <td>0</td>\n",
       "      <td>0</td>\n",
       "      <td>0</td>\n",
       "      <td>0</td>\n",
       "      <td>0</td>\n",
       "      <td>1</td>\n",
       "      <td>0</td>\n",
       "      <td>0</td>\n",
       "      <td>0</td>\n",
       "      <td>0</td>\n",
       "    </tr>\n",
       "  </tbody>\n",
       "</table>\n",
       "</div>"
      ],
      "text/plain": [
       "                                         GameName  Abysmal_Rating  Bad_Rating  \\\n",
       "0             Baldur's Gate 3 Early Access Review               0           0   \n",
       "1  Control: Ultimate Edition Cloud Version Review               0           0   \n",
       "2    Doom Eternal: The Ancient Gods Part 1 Review               0           0   \n",
       "3                       Watch Dogs: Legion Review               0           0   \n",
       "\n",
       "   Early Access_Rating  Essential_Rating  Fair_Rating  Good_Rating  \\\n",
       "0                    1                 0            0            0   \n",
       "1                    0                 0            0            1   \n",
       "2                    0                 0            0            1   \n",
       "3                    0                 0            0            0   \n",
       "\n",
       "   Great_Rating  Mediocre_Rating  Poor_Rating  Superb_Rating  Terrible_Rating  \n",
       "0             0                0            0              0                0  \n",
       "1             0                0            0              0                0  \n",
       "2             0                0            0              0                0  \n",
       "3             1                0            0              0                0  "
      ]
     },
     "execution_count": 165,
     "metadata": {},
     "output_type": "execute_result"
    }
   ],
   "source": [
    "# now its time for use to merge this file with the real data\n",
    "# lets try merging this with Gamename\n",
    "\n",
    "desired_result = mod_file[['GameName']].join(dummies.add_suffix('_Rating'))\n",
    "desired_result.head(4)"
   ]
  },
  {
   "cell_type": "markdown",
   "id": "77ac0164-5c1c-4dcb-b307-74b17c9ef380",
   "metadata": {},
   "source": [
    "##### ***Now this rating is not excactly like from low to high se wea can create our custom arranged list of categorization***"
   ]
  },
  {
   "cell_type": "code",
   "execution_count": 166,
   "id": "e1e17447-10f9-43fb-9f2a-2474f21676db",
   "metadata": {},
   "outputs": [
    {
     "data": {
      "text/html": [
       "<div>\n",
       "<style scoped>\n",
       "    .dataframe tbody tr th:only-of-type {\n",
       "        vertical-align: middle;\n",
       "    }\n",
       "\n",
       "    .dataframe tbody tr th {\n",
       "        vertical-align: top;\n",
       "    }\n",
       "\n",
       "    .dataframe thead th {\n",
       "        text-align: right;\n",
       "    }\n",
       "</style>\n",
       "<table border=\"1\" class=\"dataframe\">\n",
       "  <thead>\n",
       "    <tr style=\"text-align: right;\">\n",
       "      <th></th>\n",
       "      <th>Abysmal_Rating</th>\n",
       "      <th>Terrible_Rating</th>\n",
       "      <th>Bad_Rating</th>\n",
       "      <th>Poor_Rating</th>\n",
       "      <th>Essential_Rating</th>\n",
       "      <th>Early Access_Rating</th>\n",
       "      <th>Fair_Rating</th>\n",
       "      <th>Mediocre_Rating</th>\n",
       "      <th>Good_Rating</th>\n",
       "      <th>Great_Rating</th>\n",
       "      <th>Superb_Rating</th>\n",
       "    </tr>\n",
       "  </thead>\n",
       "  <tbody>\n",
       "    <tr>\n",
       "      <th>0</th>\n",
       "      <td>0</td>\n",
       "      <td>0</td>\n",
       "      <td>0</td>\n",
       "      <td>0</td>\n",
       "      <td>0</td>\n",
       "      <td>1</td>\n",
       "      <td>0</td>\n",
       "      <td>0</td>\n",
       "      <td>0</td>\n",
       "      <td>0</td>\n",
       "      <td>0</td>\n",
       "    </tr>\n",
       "    <tr>\n",
       "      <th>1</th>\n",
       "      <td>0</td>\n",
       "      <td>0</td>\n",
       "      <td>0</td>\n",
       "      <td>0</td>\n",
       "      <td>0</td>\n",
       "      <td>0</td>\n",
       "      <td>0</td>\n",
       "      <td>0</td>\n",
       "      <td>1</td>\n",
       "      <td>0</td>\n",
       "      <td>0</td>\n",
       "    </tr>\n",
       "    <tr>\n",
       "      <th>2</th>\n",
       "      <td>0</td>\n",
       "      <td>0</td>\n",
       "      <td>0</td>\n",
       "      <td>0</td>\n",
       "      <td>0</td>\n",
       "      <td>0</td>\n",
       "      <td>0</td>\n",
       "      <td>0</td>\n",
       "      <td>1</td>\n",
       "      <td>0</td>\n",
       "      <td>0</td>\n",
       "    </tr>\n",
       "    <tr>\n",
       "      <th>3</th>\n",
       "      <td>0</td>\n",
       "      <td>0</td>\n",
       "      <td>0</td>\n",
       "      <td>0</td>\n",
       "      <td>0</td>\n",
       "      <td>0</td>\n",
       "      <td>0</td>\n",
       "      <td>0</td>\n",
       "      <td>0</td>\n",
       "      <td>1</td>\n",
       "      <td>0</td>\n",
       "    </tr>\n",
       "    <tr>\n",
       "      <th>4</th>\n",
       "      <td>0</td>\n",
       "      <td>0</td>\n",
       "      <td>0</td>\n",
       "      <td>0</td>\n",
       "      <td>0</td>\n",
       "      <td>0</td>\n",
       "      <td>0</td>\n",
       "      <td>0</td>\n",
       "      <td>0</td>\n",
       "      <td>1</td>\n",
       "      <td>0</td>\n",
       "    </tr>\n",
       "    <tr>\n",
       "      <th>5</th>\n",
       "      <td>0</td>\n",
       "      <td>0</td>\n",
       "      <td>0</td>\n",
       "      <td>0</td>\n",
       "      <td>0</td>\n",
       "      <td>0</td>\n",
       "      <td>0</td>\n",
       "      <td>0</td>\n",
       "      <td>0</td>\n",
       "      <td>1</td>\n",
       "      <td>0</td>\n",
       "    </tr>\n",
       "  </tbody>\n",
       "</table>\n",
       "</div>"
      ],
      "text/plain": [
       "   Abysmal_Rating  Terrible_Rating  Bad_Rating  Poor_Rating  Essential_Rating  \\\n",
       "0               0                0           0            0                 0   \n",
       "1               0                0           0            0                 0   \n",
       "2               0                0           0            0                 0   \n",
       "3               0                0           0            0                 0   \n",
       "4               0                0           0            0                 0   \n",
       "5               0                0           0            0                 0   \n",
       "\n",
       "   Early Access_Rating  Fair_Rating  Mediocre_Rating  Good_Rating  \\\n",
       "0                    1            0                0            0   \n",
       "1                    0            0                0            1   \n",
       "2                    0            0                0            1   \n",
       "3                    0            0                0            0   \n",
       "4                    0            0                0            0   \n",
       "5                    0            0                0            0   \n",
       "\n",
       "   Great_Rating  Superb_Rating  \n",
       "0             0              0  \n",
       "1             0              0  \n",
       "2             0              0  \n",
       "3             1              0  \n",
       "4             1              0  \n",
       "5             1              0  "
      ]
     },
     "execution_count": 166,
     "metadata": {},
     "output_type": "execute_result"
    }
   ],
   "source": [
    "rating_order = ['Abysmal_Rating','Terrible_Rating','Bad_Rating','Poor_Rating','Essential_Rating','Early Access_Rating','Fair_Rating','Mediocre_Rating','Good_Rating','Great_Rating','Superb_Rating']\n",
    "desired_results = desired_result[rating_order]\n",
    "desired_results.head(6)"
   ]
  },
  {
   "cell_type": "markdown",
   "id": "819d8de5-0028-4a23-bb29-d568866fa329",
   "metadata": {},
   "source": [
    "### **This was the real gamechanger here** take a great look"
   ]
  },
  {
   "cell_type": "code",
   "execution_count": 171,
   "id": "059fd3bc-39b3-447d-8b50-aad2275ff423",
   "metadata": {},
   "outputs": [
    {
     "data": {
      "text/html": [
       "<div>\n",
       "<style scoped>\n",
       "    .dataframe tbody tr th:only-of-type {\n",
       "        vertical-align: middle;\n",
       "    }\n",
       "\n",
       "    .dataframe tbody tr th {\n",
       "        vertical-align: top;\n",
       "    }\n",
       "\n",
       "    .dataframe thead th {\n",
       "        text-align: right;\n",
       "    }\n",
       "</style>\n",
       "<table border=\"1\" class=\"dataframe\">\n",
       "  <thead>\n",
       "    <tr style=\"text-align: right;\">\n",
       "      <th></th>\n",
       "      <th>GameName</th>\n",
       "      <th>Abysmal_Rating</th>\n",
       "      <th>Terrible_Rating</th>\n",
       "      <th>Bad_Rating</th>\n",
       "      <th>Poor_Rating</th>\n",
       "      <th>Essential_Rating</th>\n",
       "      <th>Early Access_Rating</th>\n",
       "      <th>Fair_Rating</th>\n",
       "      <th>Mediocre_Rating</th>\n",
       "      <th>Good_Rating</th>\n",
       "      <th>Great_Rating</th>\n",
       "      <th>Superb_Rating</th>\n",
       "    </tr>\n",
       "  </thead>\n",
       "  <tbody>\n",
       "    <tr>\n",
       "      <th>0</th>\n",
       "      <td>Baldur's Gate 3 Early Access Review</td>\n",
       "      <td>0</td>\n",
       "      <td>0</td>\n",
       "      <td>0</td>\n",
       "      <td>0</td>\n",
       "      <td>0</td>\n",
       "      <td>1</td>\n",
       "      <td>0</td>\n",
       "      <td>0</td>\n",
       "      <td>0</td>\n",
       "      <td>0</td>\n",
       "      <td>0</td>\n",
       "    </tr>\n",
       "    <tr>\n",
       "      <th>1</th>\n",
       "      <td>Control: Ultimate Edition Cloud Version Review</td>\n",
       "      <td>0</td>\n",
       "      <td>0</td>\n",
       "      <td>0</td>\n",
       "      <td>0</td>\n",
       "      <td>0</td>\n",
       "      <td>0</td>\n",
       "      <td>0</td>\n",
       "      <td>0</td>\n",
       "      <td>1</td>\n",
       "      <td>0</td>\n",
       "      <td>0</td>\n",
       "    </tr>\n",
       "    <tr>\n",
       "      <th>2</th>\n",
       "      <td>Doom Eternal: The Ancient Gods Part 1 Review</td>\n",
       "      <td>0</td>\n",
       "      <td>0</td>\n",
       "      <td>0</td>\n",
       "      <td>0</td>\n",
       "      <td>0</td>\n",
       "      <td>0</td>\n",
       "      <td>0</td>\n",
       "      <td>0</td>\n",
       "      <td>1</td>\n",
       "      <td>0</td>\n",
       "      <td>0</td>\n",
       "    </tr>\n",
       "    <tr>\n",
       "      <th>3</th>\n",
       "      <td>Watch Dogs: Legion Review</td>\n",
       "      <td>0</td>\n",
       "      <td>0</td>\n",
       "      <td>0</td>\n",
       "      <td>0</td>\n",
       "      <td>0</td>\n",
       "      <td>0</td>\n",
       "      <td>0</td>\n",
       "      <td>0</td>\n",
       "      <td>0</td>\n",
       "      <td>1</td>\n",
       "      <td>0</td>\n",
       "    </tr>\n",
       "    <tr>\n",
       "      <th>4</th>\n",
       "      <td>Ring Of Pain Review</td>\n",
       "      <td>0</td>\n",
       "      <td>0</td>\n",
       "      <td>0</td>\n",
       "      <td>0</td>\n",
       "      <td>0</td>\n",
       "      <td>0</td>\n",
       "      <td>0</td>\n",
       "      <td>0</td>\n",
       "      <td>0</td>\n",
       "      <td>1</td>\n",
       "      <td>0</td>\n",
       "    </tr>\n",
       "    <tr>\n",
       "      <th>5</th>\n",
       "      <td>Pikmin 3 Deluxe Review</td>\n",
       "      <td>0</td>\n",
       "      <td>0</td>\n",
       "      <td>0</td>\n",
       "      <td>0</td>\n",
       "      <td>0</td>\n",
       "      <td>0</td>\n",
       "      <td>0</td>\n",
       "      <td>0</td>\n",
       "      <td>0</td>\n",
       "      <td>1</td>\n",
       "      <td>0</td>\n",
       "    </tr>\n",
       "    <tr>\n",
       "      <th>6</th>\n",
       "      <td>Ghostrunner Review</td>\n",
       "      <td>0</td>\n",
       "      <td>0</td>\n",
       "      <td>0</td>\n",
       "      <td>0</td>\n",
       "      <td>0</td>\n",
       "      <td>0</td>\n",
       "      <td>0</td>\n",
       "      <td>0</td>\n",
       "      <td>1</td>\n",
       "      <td>0</td>\n",
       "      <td>0</td>\n",
       "    </tr>\n",
       "  </tbody>\n",
       "</table>\n",
       "</div>"
      ],
      "text/plain": [
       "                                         GameName  Abysmal_Rating  \\\n",
       "0             Baldur's Gate 3 Early Access Review               0   \n",
       "1  Control: Ultimate Edition Cloud Version Review               0   \n",
       "2    Doom Eternal: The Ancient Gods Part 1 Review               0   \n",
       "3                       Watch Dogs: Legion Review               0   \n",
       "4                             Ring Of Pain Review               0   \n",
       "5                          Pikmin 3 Deluxe Review               0   \n",
       "6                              Ghostrunner Review               0   \n",
       "\n",
       "   Terrible_Rating  Bad_Rating  Poor_Rating  Essential_Rating  \\\n",
       "0                0           0            0                 0   \n",
       "1                0           0            0                 0   \n",
       "2                0           0            0                 0   \n",
       "3                0           0            0                 0   \n",
       "4                0           0            0                 0   \n",
       "5                0           0            0                 0   \n",
       "6                0           0            0                 0   \n",
       "\n",
       "   Early Access_Rating  Fair_Rating  Mediocre_Rating  Good_Rating  \\\n",
       "0                    1            0                0            0   \n",
       "1                    0            0                0            1   \n",
       "2                    0            0                0            1   \n",
       "3                    0            0                0            0   \n",
       "4                    0            0                0            0   \n",
       "5                    0            0                0            0   \n",
       "6                    0            0                0            1   \n",
       "\n",
       "   Great_Rating  Superb_Rating  \n",
       "0             0              0  \n",
       "1             0              0  \n",
       "2             0              0  \n",
       "3             1              0  \n",
       "4             1              0  \n",
       "5             1              0  \n",
       "6             0              0  "
      ]
     },
     "execution_count": 171,
     "metadata": {},
     "output_type": "execute_result"
    }
   ],
   "source": [
    "final_col = ['GameName'] + rating_order # remapping the original 'GameName' column with our own custom ordered values\n",
    "desired_results = desired_result[final_col] # here we are making the modification with the placements of the binary values while\n",
    "# keeping out targetef column in the forst place\n",
    "desired_results.head(7)"
   ]
  },
  {
   "cell_type": "code",
   "execution_count": null,
   "id": "a0ce9b4c-ecbe-4da3-8765-19bbca5ebb35",
   "metadata": {},
   "outputs": [],
   "source": [
    "### A quick tip in case the column where you want to apply the dumnmies function, there seems to be a writting convention difference say for example\n",
    "### the table has values like - Action,Drama,Thriller\n",
    "#### in the str.pd.get_dummies(\"mention one symbol you want to remove here\") -> \".\" / '?', '\\' etc and so on\n",
    "\n",
    "# Here This is even a better alternative\n",
    "\n",
    "# import pandas as pd\n",
    "\n",
    "# # Example DataFrame\n",
    "# df = pd.DataFrame({'Genres': ['Action/\\\\,Drama[/,Thriller']})\n",
    "\n",
    "# # Clean unwanted symbols: / \\ [ , ]\n",
    "# df['Genres_clean'] = df['Genres'].str.replace(r'[\\/\\\\\\[\\],]', '', regex=True)\n"
   ]
  },
  {
   "cell_type": "code",
   "execution_count": 174,
   "id": "23c617ad-9302-4df2-9103-cb04fc0d7713",
   "metadata": {},
   "outputs": [
    {
     "data": {
      "text/plain": [
       "array([0.92961609, 0.31637555, 0.18391881, 0.20456028, 0.56772503,\n",
       "       0.5955447 , 0.96451452, 0.6531771 , 0.74890664, 0.65356987,\n",
       "       0.74771481, 0.96130674])"
      ]
     },
     "execution_count": 174,
     "metadata": {},
     "output_type": "execute_result"
    }
   ],
   "source": [
    "# Lets talk a bit about randomization,\n",
    "# if you want your random values to to be repeatable again use this\n",
    "np.random.seed(12345) # the use of seed makes sure that next time if you use 12345 as a seed you will get the same randomization\n",
    "\n",
    "values = np.random.uniform(size = 12)\n",
    "values # this out puts an array of randoms, notice no matter how many time you run this, the values won't change"
   ]
  },
  {
   "cell_type": "code",
   "execution_count": 175,
   "id": "8b76ca75-654e-4009-8769-5a3879ffdf74",
   "metadata": {},
   "outputs": [
    {
     "data": {
      "text/html": [
       "<div>\n",
       "<style scoped>\n",
       "    .dataframe tbody tr th:only-of-type {\n",
       "        vertical-align: middle;\n",
       "    }\n",
       "\n",
       "    .dataframe tbody tr th {\n",
       "        vertical-align: top;\n",
       "    }\n",
       "\n",
       "    .dataframe thead th {\n",
       "        text-align: right;\n",
       "    }\n",
       "</style>\n",
       "<table border=\"1\" class=\"dataframe\">\n",
       "  <thead>\n",
       "    <tr style=\"text-align: right;\">\n",
       "      <th></th>\n",
       "      <th>(0.0, 0.2]</th>\n",
       "      <th>(0.2, 0.4]</th>\n",
       "      <th>(0.4, 0.6]</th>\n",
       "      <th>(0.6, 0.8]</th>\n",
       "      <th>(0.8, 1.0]</th>\n",
       "    </tr>\n",
       "  </thead>\n",
       "  <tbody>\n",
       "    <tr>\n",
       "      <th>0</th>\n",
       "      <td>False</td>\n",
       "      <td>False</td>\n",
       "      <td>False</td>\n",
       "      <td>False</td>\n",
       "      <td>True</td>\n",
       "    </tr>\n",
       "    <tr>\n",
       "      <th>1</th>\n",
       "      <td>False</td>\n",
       "      <td>True</td>\n",
       "      <td>False</td>\n",
       "      <td>False</td>\n",
       "      <td>False</td>\n",
       "    </tr>\n",
       "    <tr>\n",
       "      <th>2</th>\n",
       "      <td>True</td>\n",
       "      <td>False</td>\n",
       "      <td>False</td>\n",
       "      <td>False</td>\n",
       "      <td>False</td>\n",
       "    </tr>\n",
       "    <tr>\n",
       "      <th>3</th>\n",
       "      <td>False</td>\n",
       "      <td>True</td>\n",
       "      <td>False</td>\n",
       "      <td>False</td>\n",
       "      <td>False</td>\n",
       "    </tr>\n",
       "    <tr>\n",
       "      <th>4</th>\n",
       "      <td>False</td>\n",
       "      <td>False</td>\n",
       "      <td>True</td>\n",
       "      <td>False</td>\n",
       "      <td>False</td>\n",
       "    </tr>\n",
       "    <tr>\n",
       "      <th>...</th>\n",
       "      <td>...</td>\n",
       "      <td>...</td>\n",
       "      <td>...</td>\n",
       "      <td>...</td>\n",
       "      <td>...</td>\n",
       "    </tr>\n",
       "    <tr>\n",
       "      <th>7</th>\n",
       "      <td>False</td>\n",
       "      <td>False</td>\n",
       "      <td>False</td>\n",
       "      <td>True</td>\n",
       "      <td>False</td>\n",
       "    </tr>\n",
       "    <tr>\n",
       "      <th>8</th>\n",
       "      <td>False</td>\n",
       "      <td>False</td>\n",
       "      <td>False</td>\n",
       "      <td>True</td>\n",
       "      <td>False</td>\n",
       "    </tr>\n",
       "    <tr>\n",
       "      <th>9</th>\n",
       "      <td>False</td>\n",
       "      <td>False</td>\n",
       "      <td>False</td>\n",
       "      <td>True</td>\n",
       "      <td>False</td>\n",
       "    </tr>\n",
       "    <tr>\n",
       "      <th>10</th>\n",
       "      <td>False</td>\n",
       "      <td>False</td>\n",
       "      <td>False</td>\n",
       "      <td>True</td>\n",
       "      <td>False</td>\n",
       "    </tr>\n",
       "    <tr>\n",
       "      <th>11</th>\n",
       "      <td>False</td>\n",
       "      <td>False</td>\n",
       "      <td>False</td>\n",
       "      <td>False</td>\n",
       "      <td>True</td>\n",
       "    </tr>\n",
       "  </tbody>\n",
       "</table>\n",
       "<p>12 rows × 5 columns</p>\n",
       "</div>"
      ],
      "text/plain": [
       "    (0.0, 0.2]  (0.2, 0.4]  (0.4, 0.6]  (0.6, 0.8]  (0.8, 1.0]\n",
       "0        False       False       False       False        True\n",
       "1        False        True       False       False       False\n",
       "2         True       False       False       False       False\n",
       "3        False        True       False       False       False\n",
       "4        False       False        True       False       False\n",
       "..         ...         ...         ...         ...         ...\n",
       "7        False       False       False        True       False\n",
       "8        False       False       False        True       False\n",
       "9        False       False       False        True       False\n",
       "10       False       False       False        True       False\n",
       "11       False       False       False       False        True\n",
       "\n",
       "[12 rows x 5 columns]"
      ]
     },
     "execution_count": 175,
     "metadata": {},
     "output_type": "execute_result"
    }
   ],
   "source": [
    "# Now lets do some bins as well, \n",
    "bins = [0.0,0.2,0.4,0.6,0.8,1.0]\n",
    "pd.get_dummies(pd.cut(values, bins)) # running this will return a DataFrame with the bins woking in place"
   ]
  },
  {
   "cell_type": "code",
   "execution_count": 178,
   "id": "b6223159-bc99-45ae-808c-13fa1287c0e1",
   "metadata": {},
   "outputs": [
    {
     "data": {
      "text/html": [
       "<div>\n",
       "<style scoped>\n",
       "    .dataframe tbody tr th:only-of-type {\n",
       "        vertical-align: middle;\n",
       "    }\n",
       "\n",
       "    .dataframe tbody tr th {\n",
       "        vertical-align: top;\n",
       "    }\n",
       "\n",
       "    .dataframe thead th {\n",
       "        text-align: right;\n",
       "    }\n",
       "</style>\n",
       "<table border=\"1\" class=\"dataframe\">\n",
       "  <thead>\n",
       "    <tr style=\"text-align: right;\">\n",
       "      <th></th>\n",
       "      <th>(0.0, 0.2]</th>\n",
       "      <th>(0.2, 0.4]</th>\n",
       "      <th>(0.4, 0.6]</th>\n",
       "      <th>(0.6, 0.8]</th>\n",
       "      <th>(0.8, 1.0]</th>\n",
       "    </tr>\n",
       "  </thead>\n",
       "  <tbody>\n",
       "    <tr>\n",
       "      <th>0</th>\n",
       "      <td>0</td>\n",
       "      <td>0</td>\n",
       "      <td>0</td>\n",
       "      <td>0</td>\n",
       "      <td>1</td>\n",
       "    </tr>\n",
       "    <tr>\n",
       "      <th>1</th>\n",
       "      <td>0</td>\n",
       "      <td>1</td>\n",
       "      <td>0</td>\n",
       "      <td>0</td>\n",
       "      <td>0</td>\n",
       "    </tr>\n",
       "    <tr>\n",
       "      <th>2</th>\n",
       "      <td>1</td>\n",
       "      <td>0</td>\n",
       "      <td>0</td>\n",
       "      <td>0</td>\n",
       "      <td>0</td>\n",
       "    </tr>\n",
       "    <tr>\n",
       "      <th>3</th>\n",
       "      <td>0</td>\n",
       "      <td>1</td>\n",
       "      <td>0</td>\n",
       "      <td>0</td>\n",
       "      <td>0</td>\n",
       "    </tr>\n",
       "    <tr>\n",
       "      <th>4</th>\n",
       "      <td>0</td>\n",
       "      <td>0</td>\n",
       "      <td>1</td>\n",
       "      <td>0</td>\n",
       "      <td>0</td>\n",
       "    </tr>\n",
       "    <tr>\n",
       "      <th>...</th>\n",
       "      <td>...</td>\n",
       "      <td>...</td>\n",
       "      <td>...</td>\n",
       "      <td>...</td>\n",
       "      <td>...</td>\n",
       "    </tr>\n",
       "    <tr>\n",
       "      <th>7</th>\n",
       "      <td>0</td>\n",
       "      <td>0</td>\n",
       "      <td>0</td>\n",
       "      <td>1</td>\n",
       "      <td>0</td>\n",
       "    </tr>\n",
       "    <tr>\n",
       "      <th>8</th>\n",
       "      <td>0</td>\n",
       "      <td>0</td>\n",
       "      <td>0</td>\n",
       "      <td>1</td>\n",
       "      <td>0</td>\n",
       "    </tr>\n",
       "    <tr>\n",
       "      <th>9</th>\n",
       "      <td>0</td>\n",
       "      <td>0</td>\n",
       "      <td>0</td>\n",
       "      <td>1</td>\n",
       "      <td>0</td>\n",
       "    </tr>\n",
       "    <tr>\n",
       "      <th>10</th>\n",
       "      <td>0</td>\n",
       "      <td>0</td>\n",
       "      <td>0</td>\n",
       "      <td>1</td>\n",
       "      <td>0</td>\n",
       "    </tr>\n",
       "    <tr>\n",
       "      <th>11</th>\n",
       "      <td>0</td>\n",
       "      <td>0</td>\n",
       "      <td>0</td>\n",
       "      <td>0</td>\n",
       "      <td>1</td>\n",
       "    </tr>\n",
       "  </tbody>\n",
       "</table>\n",
       "<p>12 rows × 5 columns</p>\n",
       "</div>"
      ],
      "text/plain": [
       "    (0.0, 0.2]  (0.2, 0.4]  (0.4, 0.6]  (0.6, 0.8]  (0.8, 1.0]\n",
       "0            0           0           0           0           1\n",
       "1            0           1           0           0           0\n",
       "2            1           0           0           0           0\n",
       "3            0           1           0           0           0\n",
       "4            0           0           1           0           0\n",
       "..         ...         ...         ...         ...         ...\n",
       "7            0           0           0           1           0\n",
       "8            0           0           0           1           0\n",
       "9            0           0           0           1           0\n",
       "10           0           0           0           1           0\n",
       "11           0           0           0           0           1\n",
       "\n",
       "[12 rows x 5 columns]"
      ]
     },
     "execution_count": 178,
     "metadata": {},
     "output_type": "execute_result"
    }
   ],
   "source": [
    "# Lets try getting binary instead of getting booleans\n",
    "binned = pd.cut(values,bins)\n",
    "dummies = pd.get_dummies(binned).astype(int) # as they were boolans, just a simple astype did the trick\n",
    "dummies"
   ]
  },
  {
   "cell_type": "markdown",
   "id": "d08c0e4f-3984-49a2-8401-b487189d585e",
   "metadata": {},
   "source": [
    "#### **Extension Data Types**"
   ]
  },
  {
   "cell_type": "markdown",
   "id": "54f96cbd-ef52-4564-bd52-44eb0d368296",
   "metadata": {},
   "source": [
    "Pandas was originally built upon the capabilities present in Numpy. \n",
    "Many Pandas concepts, such as missing data, were implemented using what was available in NumPy while trying to maximize compatibility between libraries that used Numpy and Pandas."
   ]
  },
  {
   "cell_type": "code",
   "execution_count": 182,
   "id": "01dded11-6755-44ef-8f77-ce1083964fa7",
   "metadata": {},
   "outputs": [
    {
     "data": {
      "text/plain": [
       "0       1\n",
       "1       2\n",
       "2       3\n",
       "3       4\n",
       "4    <NA>\n",
       "dtype: Int64"
      ]
     },
     "execution_count": 182,
     "metadata": {},
     "output_type": "execute_result"
    }
   ],
   "source": [
    "s = pd.Series([1,2,3,None])\n",
    "# print(s.astype(int)) # it won't work because None does not fall under any specific data types\n",
    "# print(s.asptyp(float)) # it won't work because None does not fall under any specific data types\n",
    "\n",
    "# Now there is a way we could get some out-put in some sort of desired way\n",
    "v = pd.Series([1.0,2,3.0,4,np.nan], dtype = pd.Int64Dtype())\n",
    "v # this will convert the non-ints to int and return a proper series even if there is a None value, make sure that the float is changable like \n",
    "# eg. 1.0 will work but 1.1 will throw an error"
   ]
  },
  {
   "cell_type": "code",
   "execution_count": 185,
   "id": "9bc2521a-54fb-4733-9dcf-449ce17ca98e",
   "metadata": {},
   "outputs": [
    {
     "name": "stdout",
     "output_type": "stream",
     "text": [
      "float64   Int64\n",
      "0      One\n",
      "1      Two\n",
      "2     <NA>\n",
      "3    Three\n",
      "4     <NA>\n",
      "dtype: string\n"
     ]
    }
   ],
   "source": [
    "# check the dype of both s and v\n",
    "print(s.dtype,\" \",v.dtype) # there se the difference?\n",
    "# say we want some string stuff, this is the way to do it\n",
    "s = pd.Series(['One','Two',None,'Three',np.nan], dtype = pd.StringDtype())\n",
    "print(s) # when you do this, in the output the representation of NA is quite different which you might have noticed earlier"
   ]
  },
  {
   "cell_type": "code",
   "execution_count": 186,
   "id": "7ed5f15c-16b7-4fc4-9ae3-e4677655d04a",
   "metadata": {},
   "outputs": [
    {
     "data": {
      "text/html": [
       "<div>\n",
       "<style scoped>\n",
       "    .dataframe tbody tr th:only-of-type {\n",
       "        vertical-align: middle;\n",
       "    }\n",
       "\n",
       "    .dataframe tbody tr th {\n",
       "        vertical-align: top;\n",
       "    }\n",
       "\n",
       "    .dataframe thead th {\n",
       "        text-align: right;\n",
       "    }\n",
       "</style>\n",
       "<table border=\"1\" class=\"dataframe\">\n",
       "  <thead>\n",
       "    <tr style=\"text-align: right;\">\n",
       "      <th></th>\n",
       "      <th>A</th>\n",
       "      <th>B</th>\n",
       "      <th>C</th>\n",
       "    </tr>\n",
       "  </thead>\n",
       "  <tbody>\n",
       "    <tr>\n",
       "      <th>0</th>\n",
       "      <td>1.0</td>\n",
       "      <td>one</td>\n",
       "      <td>False</td>\n",
       "    </tr>\n",
       "    <tr>\n",
       "      <th>1</th>\n",
       "      <td>2.0</td>\n",
       "      <td>four</td>\n",
       "      <td>False</td>\n",
       "    </tr>\n",
       "    <tr>\n",
       "      <th>2</th>\n",
       "      <td>NaN</td>\n",
       "      <td>three</td>\n",
       "      <td>None</td>\n",
       "    </tr>\n",
       "    <tr>\n",
       "      <th>3</th>\n",
       "      <td>3.0</td>\n",
       "      <td>None</td>\n",
       "      <td>NaN</td>\n",
       "    </tr>\n",
       "  </tbody>\n",
       "</table>\n",
       "</div>"
      ],
      "text/plain": [
       "     A      B      C\n",
       "0  1.0    one  False\n",
       "1  2.0   four  False\n",
       "2  NaN  three   None\n",
       "3  3.0   None    NaN"
      ]
     },
     "execution_count": 186,
     "metadata": {},
     "output_type": "execute_result"
    }
   ],
   "source": [
    "# Interestingly you can alter dtypes after you have created your DataFrame, here is how you could do it\n",
    "\n",
    "df = pd.DataFrame({'A':[1,2,np.nan,3],\n",
    "                   'B':['one','four','three',None],\n",
    "                   'C':[False, False, None, np.nan]})\n",
    "df"
   ]
  },
  {
   "cell_type": "markdown",
   "id": "0b4463e4-44ab-4956-8424-3951e639cfa6",
   "metadata": {},
   "source": [
    "##### ***Follow Along***"
   ]
  },
  {
   "cell_type": "code",
   "execution_count": 187,
   "id": "175ebc69-9dfd-4edd-8037-f5713b637ca2",
   "metadata": {},
   "outputs": [],
   "source": [
    "df['A'] = df['A'].astype('Int64') # changes all the types to int\n",
    "df['B'] = df['B'].astype('string') # changes all the types to str\n",
    "df['C'] = df['C'].astype('boolean') # changes all the types to Boolean"
   ]
  },
  {
   "cell_type": "code",
   "execution_count": 188,
   "id": "d788a114-9ec5-43e9-b0a9-62ced4d547f7",
   "metadata": {},
   "outputs": [
    {
     "data": {
      "text/html": [
       "<div>\n",
       "<style scoped>\n",
       "    .dataframe tbody tr th:only-of-type {\n",
       "        vertical-align: middle;\n",
       "    }\n",
       "\n",
       "    .dataframe tbody tr th {\n",
       "        vertical-align: top;\n",
       "    }\n",
       "\n",
       "    .dataframe thead th {\n",
       "        text-align: right;\n",
       "    }\n",
       "</style>\n",
       "<table border=\"1\" class=\"dataframe\">\n",
       "  <thead>\n",
       "    <tr style=\"text-align: right;\">\n",
       "      <th></th>\n",
       "      <th>A</th>\n",
       "      <th>B</th>\n",
       "      <th>C</th>\n",
       "    </tr>\n",
       "  </thead>\n",
       "  <tbody>\n",
       "    <tr>\n",
       "      <th>0</th>\n",
       "      <td>1</td>\n",
       "      <td>one</td>\n",
       "      <td>False</td>\n",
       "    </tr>\n",
       "    <tr>\n",
       "      <th>1</th>\n",
       "      <td>2</td>\n",
       "      <td>four</td>\n",
       "      <td>False</td>\n",
       "    </tr>\n",
       "    <tr>\n",
       "      <th>2</th>\n",
       "      <td>&lt;NA&gt;</td>\n",
       "      <td>three</td>\n",
       "      <td>&lt;NA&gt;</td>\n",
       "    </tr>\n",
       "    <tr>\n",
       "      <th>3</th>\n",
       "      <td>3</td>\n",
       "      <td>&lt;NA&gt;</td>\n",
       "      <td>&lt;NA&gt;</td>\n",
       "    </tr>\n",
       "  </tbody>\n",
       "</table>\n",
       "</div>"
      ],
      "text/plain": [
       "      A      B      C\n",
       "0     1    one  False\n",
       "1     2   four  False\n",
       "2  <NA>  three   <NA>\n",
       "3     3   <NA>   <NA>"
      ]
     },
     "execution_count": 188,
     "metadata": {},
     "output_type": "execute_result"
    }
   ],
   "source": [
    "df # interestingly we didn't have to use the whole dtype = pd.StringDtype() ---> this thing the astype did the shadow work swiftly"
   ]
  },
  {
   "cell_type": "markdown",
   "id": "f1020085-7724-4950-ba9f-27916fa01b16",
   "metadata": {},
   "source": [
    "####  *String Maniupulation*"
   ]
  },
  {
   "cell_type": "code",
   "execution_count": 189,
   "id": "988d723d-5310-4820-8919-34e8aeca942a",
   "metadata": {},
   "outputs": [
    {
     "data": {
      "text/plain": [
       "['a', 'b', '  guidolo']"
      ]
     },
     "execution_count": 189,
     "metadata": {},
     "output_type": "execute_result"
    }
   ],
   "source": [
    "# some python built-in String object Methods\n",
    "val = \"a,b,  guidolo\"\n",
    "val.split(\",\") # acted more like a csv thing"
   ]
  },
  {
   "cell_type": "code",
   "execution_count": 190,
   "id": "a2f5c1af-bf52-440e-a49f-206b6eb3fb63",
   "metadata": {},
   "outputs": [
    {
     "data": {
      "text/plain": [
       "['a', 'b', 'guidolo']"
      ]
     },
     "execution_count": 190,
     "metadata": {},
     "output_type": "execute_result"
    }
   ],
   "source": [
    "#split is often combined with strip to trim whitespace(including breaks):\n",
    "pieces = [s.strip() for s in val.split(',')]\n",
    "pieces # what this does is that because we needed that extra space to go away this s.strip(removes any leading or trailing spaces)"
   ]
  },
  {
   "cell_type": "code",
   "execution_count": 191,
   "id": "51b7dc80-b96b-45ad-b722-538422a9071d",
   "metadata": {},
   "outputs": [
    {
     "data": {
      "text/plain": [
       "'a%b%guidolo'"
      ]
     },
     "execution_count": 191,
     "metadata": {},
     "output_type": "execute_result"
    }
   ],
   "source": [
    "# lets say you want to jointhe pieces with a specific symbol, here's how you'd do it\n",
    "'%'.join(pieces)"
   ]
  },
  {
   "cell_type": "code",
   "execution_count": 193,
   "id": "9ed92d7b-5252-4efb-8743-f69a01d95898",
   "metadata": {},
   "outputs": [
    {
     "data": {
      "text/plain": [
       "True"
      ]
     },
     "execution_count": 193,
     "metadata": {},
     "output_type": "execute_result"
    }
   ],
   "source": [
    "# you could also search for a substr wihtin a str,\n",
    "'guidolo' in pieces # returns True"
   ]
  },
  {
   "cell_type": "code",
   "execution_count": 195,
   "id": "c477ec63-5b04-4ad0-b88a-56792b87fcb6",
   "metadata": {},
   "outputs": [
    {
     "data": {
      "text/plain": [
       "4"
      ]
     },
     "execution_count": 195,
     "metadata": {},
     "output_type": "execute_result"
    }
   ],
   "source": [
    "# if you want to find the index of a string, here is how you'd do it\n",
    "a_str = 'Calloc'\n",
    "a_str.find('o')\n",
    "# returns the 4th index"
   ]
  },
  {
   "cell_type": "code",
   "execution_count": 198,
   "id": "fda25d4c-3fb6-48d4-a9e1-4d028d15e664",
   "metadata": {},
   "outputs": [
    {
     "data": {
      "text/plain": [
       "'a::b::  guidolo'"
      ]
     },
     "execution_count": 198,
     "metadata": {},
     "output_type": "execute_result"
    }
   ],
   "source": [
    "# Replace will substitute occurences of one pattern for another. It is commonly used to delete patterns, too, by passing an empty string:\n",
    "val.replace(\",\",\"::\")"
   ]
  },
  {
   "cell_type": "markdown",
   "id": "dd94fd73-ea32-4586-85e4-d54194fa47ca",
   "metadata": {},
   "source": [
    "### 🔑 Important Python String Methods\n",
    "\n",
    "#### 🔍 Searching & Counting\n",
    "- `count(sub)` – Counts non-overlapping occurrences of `sub`\n",
    "- `find(sub)` – Returns Index of first `sub`; `-1` if not found\n",
    "- `rfind(sub)` – Returns Index of last `sub`; `-1` if not found\n",
    "- `index(sub)` – Like `find()`, but raises `ValueError` if not found\n",
    "\n",
    "#### ✅ Start/End Checks\n",
    "- `startswith(prefix)` – `True` if string starts with `prefix`\n",
    "- `endswith(suffix)` – `True` if string ends with `suffix`\n",
    "\n",
    "#### ✂️ Trimming\n",
    "- `strip()` – Removes leading & trailing whitespace\n",
    "- `lstrip()` – Removes leading whitespace\n",
    "- `rstrip()` – Removes trailing whitespace\n",
    "\n",
    "#### 🔤 Case Conversion\n",
    "- `lower()` – Converts to lowercase\n",
    "- `upper()` – Converts to uppercase\n",
    "- `casefold()` – Aggressive lowercase (for comparisons)\n",
    "\n",
    "#### 🔁 Replace & Split\n",
    "- `replace(old, new)` – Replace `old` with `new`\n",
    "- `split(delim)` – Splits string into list by `delim`\n",
    "\n",
    "#### 🔗 Joining\n",
    "- `join(iterable)` – Joins elements using the string as a delimiter\n",
    "\n",
    "#### ⬅️ Justifying\n",
    "- `ljust(width, fill=' ')` – Left justify with padding\n",
    "- `rjust(width, fill=' ')` – Right justify with padding\n"
   ]
  },
  {
   "cell_type": "markdown",
   "id": "ce54bd75-ffe5-4d18-a038-c546bac43e58",
   "metadata": {},
   "source": [
    "#### ***Regular Expressions***\n",
    "\n",
    "Regular Expressions provide a flexible way to search or match(often more complex) string patterns in text. A Single expression , commonly called regex, is a string formed according to the regular expression language. Python's built-in re module is responsible for applying regular expressionss to strings.\n",
    "\n",
    "**Re-Module**\n",
    "\n",
    "1. Pattern matching\n",
    "2. Substitution\n",
    "3. Splitting"
   ]
  },
  {
   "cell_type": "code",
   "execution_count": 5,
   "id": "c774e9b0-1a95-4141-972b-1121d1e896c4",
   "metadata": {},
   "outputs": [
    {
     "name": "stdout",
     "output_type": "stream",
     "text": [
      "foo bar baz qux\n"
     ]
    }
   ],
   "source": [
    "# Lets see some examples\n",
    "import re # imports the regex module from our python library\n",
    "\n",
    "text = \"foo    bar\\t  baz \\tqux\"\n",
    "seka = re.split(r\"\\s+\",text)\n",
    "# this has taken care of the extra spaces and unwanted symbols, now let use join them\n",
    "print(\" \".join(seka)) # boom here it is"
   ]
  },
  {
   "cell_type": "code",
   "execution_count": null,
   "id": "5d2aed09-9c81-4f4b-9444-53ba90d12047",
   "metadata": {},
   "outputs": [],
   "source": []
  },
  {
   "cell_type": "code",
   "execution_count": null,
   "id": "b62a0ec8-37dc-49f2-9b2e-d2c4264ca86c",
   "metadata": {},
   "outputs": [],
   "source": []
  },
  {
   "cell_type": "code",
   "execution_count": null,
   "id": "08ff84ca-a612-4018-9329-463eaa0cb54c",
   "metadata": {},
   "outputs": [],
   "source": []
  },
  {
   "cell_type": "code",
   "execution_count": null,
   "id": "220d84c0-19fb-41fb-82b8-08d32b347122",
   "metadata": {},
   "outputs": [],
   "source": []
  },
  {
   "cell_type": "code",
   "execution_count": null,
   "id": "ca9f5b80-93d7-45bb-a8ce-b11c9358b32b",
   "metadata": {},
   "outputs": [],
   "source": []
  },
  {
   "cell_type": "code",
   "execution_count": null,
   "id": "b74f06d6-549b-4a11-a030-eab9bd823e08",
   "metadata": {},
   "outputs": [],
   "source": []
  }
 ],
 "metadata": {
  "kernelspec": {
   "display_name": "Python 3 (ipykernel)",
   "language": "python",
   "name": "python3"
  },
  "language_info": {
   "codemirror_mode": {
    "name": "ipython",
    "version": 3
   },
   "file_extension": ".py",
   "mimetype": "text/x-python",
   "name": "python",
   "nbconvert_exporter": "python",
   "pygments_lexer": "ipython3",
   "version": "3.13.1"
  }
 },
 "nbformat": 4,
 "nbformat_minor": 5
}
